{
 "cells": [
  {
   "cell_type": "markdown",
   "metadata": {},
   "source": [
    "**Externally Visible Server:**"
   ]
  },
  {
   "cell_type": "markdown",
   "metadata": {},
   "source": [
    "set the Flask environment in windows"
   ]
  },
  {
   "cell_type": "markdown",
   "metadata": {},
   "source": [
    "set FLASK_APP=Flaskblog.py"
   ]
  },
  {
   "cell_type": "raw",
   "metadata": {},
   "source": [
    "Run the Flask web application "
   ]
  },
  {
   "cell_type": "code",
   "execution_count": null,
   "metadata": {},
   "outputs": [],
   "source": [
    "set FLASK_APP=Flaskblog.py"
   ]
  },
  {
   "cell_type": "markdown",
   "metadata": {},
   "source": [
    "**Server show changes without restrat**"
   ]
  },
  {
   "cell_type": "code",
   "execution_count": null,
   "metadata": {},
   "outputs": [],
   "source": []
  }
 ],
 "metadata": {
  "kernelspec": {
   "display_name": "Python 3",
   "language": "python",
   "name": "python3"
  },
  "language_info": {
   "codemirror_mode": {
    "name": "ipython",
    "version": 3
   },
   "file_extension": ".py",
   "mimetype": "text/x-python",
   "name": "python",
   "nbconvert_exporter": "python",
   "pygments_lexer": "ipython3",
   "version": "3.6.4"
  }
 },
 "nbformat": 4,
 "nbformat_minor": 2
}
