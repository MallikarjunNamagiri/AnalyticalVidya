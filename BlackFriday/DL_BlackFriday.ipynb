{
  "nbformat": 4,
  "nbformat_minor": 0,
  "metadata": {
    "colab": {
      "name": "DL_BlackFriday.ipynb",
      "version": "0.3.2",
      "views": {},
      "default_view": {},
      "provenance": [],
      "collapsed_sections": []
    },
    "kernelspec": {
      "name": "python2",
      "display_name": "Python 2"
    }
  },
  "cells": [
    {
      "metadata": {
        "id": "0ZXhHtoROYjJ",
        "colab_type": "code",
        "colab": {
          "autoexec": {
            "startup": false,
            "wait_interval": 0
          },
          "output_extras": [
            {
              "item_id": 1
            }
          ],
          "base_uri": "https://localhost:8080/",
          "height": 34
        },
        "outputId": "67226420-0ff7-4e8b-a95c-162a4db81555",
        "executionInfo": {
          "status": "ok",
          "timestamp": 1515261316254,
          "user_tz": -330,
          "elapsed": 2730,
          "user": {
            "displayName": "MalliKarjun Namagiri",
            "photoUrl": "//lh6.googleusercontent.com/-P9BYex3S098/AAAAAAAAAAI/AAAAAAAAAb8/1pQ09fHEnoo/s50-c-k-no/photo.jpg",
            "userId": "105053389068996960187"
          }
        }
      },
      "source": [
        "!ls"
      ],
      "cell_type": "code",
      "execution_count": 1,
      "outputs": [
        {
          "output_type": "stream",
          "text": [
            "datalab\r\n"
          ],
          "name": "stdout"
        }
      ]
    },
    {
      "metadata": {
        "id": "IlHa4sZ0nTzz",
        "colab_type": "code",
        "colab": {
          "autoexec": {
            "startup": false,
            "wait_interval": 0
          },
          "output_extras": [
            {
              "item_id": 1
            }
          ],
          "resources": {
            "http://localhost:8080/nbextensions/google.colab/files.js": {
              "data": "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",
              "ok": true,
              "headers": [
                [
                  "content-type",
                  "application/javascript"
                ]
              ],
              "status": 200,
              "status_text": ""
            }
          },
          "base_uri": "https://localhost:8080/",
          "height": 55
        },
        "outputId": "d3e68b0d-7d15-4d43-f87b-bda9f5c8a5e1",
        "executionInfo": {
          "status": "ok",
          "timestamp": 1515261750688,
          "user_tz": -330,
          "elapsed": 374014,
          "user": {
            "displayName": "MalliKarjun Namagiri",
            "photoUrl": "//lh6.googleusercontent.com/-P9BYex3S098/AAAAAAAAAAI/AAAAAAAAAb8/1pQ09fHEnoo/s50-c-k-no/photo.jpg",
            "userId": "105053389068996960187"
          }
        }
      },
      "source": [
        "#Uploading the Dataset \n",
        "from google.colab import files\n",
        "uploaded = files.upload()\n",
        "\n",
        "#Save uploaded file on the Virtual Machine's \n",
        "\n",
        "with open(\"train.csv\", 'w') as f:\n",
        "    f.write(uploaded[uploaded.keys()[0]])"
      ],
      "cell_type": "code",
      "execution_count": 4,
      "outputs": [
        {
          "output_type": "display_data",
          "data": {
            "text/plain": [
              "<IPython.core.display.HTML object>"
            ],
            "text/html": [
              "\n",
              "     <input type=\"file\" id=\"files-1edd797c-ef5d-46f3-99af-6c576bebba13\" name=\"files[]\" multiple disabled />\n",
              "     <output id=\"result-1edd797c-ef5d-46f3-99af-6c576bebba13\">\n",
              "      Upload widget is only available when the cell has been executed in the\n",
              "      current browser session. Please rerun this cell to enable.\n",
              "      </output>\n",
              "      <script src=\"/nbextensions/google.colab/files.js\"</script> "
            ]
          },
          "metadata": {
            "tags": []
          }
        }
      ]
    },
    {
      "metadata": {
        "id": "GIeMMLn5pSUv",
        "colab_type": "code",
        "colab": {
          "autoexec": {
            "startup": false,
            "wait_interval": 0
          },
          "output_extras": [
            {
              "item_id": 1
            }
          ],
          "resources": {
            "http://localhost:8080/nbextensions/google.colab/files.js": {
              "data": "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",
              "ok": true,
              "headers": [
                [
                  "content-type",
                  "application/javascript"
                ]
              ],
              "status": 200,
              "status_text": ""
            }
          },
          "base_uri": "https://localhost:8080/",
          "height": 55
        },
        "outputId": "8666b84e-1ef4-4320-c3fb-f3fa2f649661",
        "executionInfo": {
          "status": "ok",
          "timestamp": 1515262020780,
          "user_tz": -330,
          "elapsed": 138314,
          "user": {
            "displayName": "MalliKarjun Namagiri",
            "photoUrl": "//lh6.googleusercontent.com/-P9BYex3S098/AAAAAAAAAAI/AAAAAAAAAb8/1pQ09fHEnoo/s50-c-k-no/photo.jpg",
            "userId": "105053389068996960187"
          }
        }
      },
      "source": [
        "#Uploading the Dataset \n",
        "from google.colab import files\n",
        "uploaded = files.upload()\n",
        "\n",
        "#Save uploaded file on the Virtual Machine's \n",
        "\n",
        "with open(\"test.csv\", 'w') as f:\n",
        "    f.write(uploaded[uploaded.keys()[0]])"
      ],
      "cell_type": "code",
      "execution_count": 5,
      "outputs": [
        {
          "output_type": "display_data",
          "data": {
            "text/plain": [
              "<IPython.core.display.HTML object>"
            ],
            "text/html": [
              "\n",
              "     <input type=\"file\" id=\"files-49e68728-6817-49f4-91e1-e6c571c5103d\" name=\"files[]\" multiple disabled />\n",
              "     <output id=\"result-49e68728-6817-49f4-91e1-e6c571c5103d\">\n",
              "      Upload widget is only available when the cell has been executed in the\n",
              "      current browser session. Please rerun this cell to enable.\n",
              "      </output>\n",
              "      <script src=\"/nbextensions/google.colab/files.js\"</script> "
            ]
          },
          "metadata": {
            "tags": []
          }
        }
      ]
    },
    {
      "metadata": {
        "id": "KeFGl6TGk1ig",
        "colab_type": "code",
        "colab": {
          "autoexec": {
            "startup": false,
            "wait_interval": 0
          }
        }
      },
      "source": [
        "import pandas as pd\n",
        "import numpy as np\n",
        "import matplotlib.pyplot as plt\n",
        "import seaborn as sns"
      ],
      "cell_type": "code",
      "execution_count": 0,
      "outputs": []
    },
    {
      "metadata": {
        "id": "59oy4iGHTlDi",
        "colab_type": "code",
        "colab": {
          "autoexec": {
            "startup": false,
            "wait_interval": 0
          }
        }
      },
      "source": [
        "train_df = pd.read_csv('train.csv')\n",
        "test = pd.read_csv('test.csv')"
      ],
      "cell_type": "code",
      "execution_count": 0,
      "outputs": []
    },
    {
      "metadata": {
        "id": "PpK87PVNmHBB",
        "colab_type": "code",
        "colab": {
          "autoexec": {
            "startup": false,
            "wait_interval": 0
          },
          "output_extras": [
            {}
          ],
          "base_uri": "https://localhost:8080/",
          "height": 238
        },
        "outputId": "0fdf33d0-f975-491f-8db8-a7621f80f612",
        "executionInfo": {
          "status": "ok",
          "timestamp": 1515009444225,
          "user_tz": -330,
          "elapsed": 1073,
          "user": {
            "displayName": "MalliKarjun Namagiri",
            "photoUrl": "//lh6.googleusercontent.com/-P9BYex3S098/AAAAAAAAAAI/AAAAAAAAAb8/1pQ09fHEnoo/s50-c-k-no/photo.jpg",
            "userId": "105053389068996960187"
          }
        }
      },
      "source": [
        "train_df.isnull().any()"
      ],
      "cell_type": "code",
      "execution_count": 0,
      "outputs": [
        {
          "output_type": "execute_result",
          "data": {
            "text/plain": [
              "User_ID                       False\n",
              "Product_ID                    False\n",
              "Gender                        False\n",
              "Age                           False\n",
              "Occupation                    False\n",
              "City_Category                 False\n",
              "Stay_In_Current_City_Years    False\n",
              "Marital_Status                False\n",
              "Product_Category_1            False\n",
              "Product_Category_2             True\n",
              "Product_Category_3             True\n",
              "Purchase                      False\n",
              "dtype: bool"
            ]
          },
          "metadata": {
            "tags": []
          },
          "execution_count": 18
        }
      ]
    },
    {
      "metadata": {
        "id": "9MdgSFJYmZEY",
        "colab_type": "code",
        "colab": {
          "autoexec": {
            "startup": false,
            "wait_interval": 0
          },
          "output_extras": [
            {}
          ],
          "base_uri": "https://localhost:8080/",
          "height": 221
        },
        "outputId": "6ceb8e33-2361-490d-d0dc-364501936752",
        "executionInfo": {
          "status": "ok",
          "timestamp": 1515009457929,
          "user_tz": -330,
          "elapsed": 896,
          "user": {
            "displayName": "MalliKarjun Namagiri",
            "photoUrl": "//lh6.googleusercontent.com/-P9BYex3S098/AAAAAAAAAAI/AAAAAAAAAb8/1pQ09fHEnoo/s50-c-k-no/photo.jpg",
            "userId": "105053389068996960187"
          }
        }
      },
      "source": [
        "test.isnull().any()"
      ],
      "cell_type": "code",
      "execution_count": 0,
      "outputs": [
        {
          "output_type": "execute_result",
          "data": {
            "text/plain": [
              "User_ID                       False\n",
              "Product_ID                    False\n",
              "Gender                        False\n",
              "Age                           False\n",
              "Occupation                    False\n",
              "City_Category                 False\n",
              "Stay_In_Current_City_Years    False\n",
              "Marital_Status                False\n",
              "Product_Category_1            False\n",
              "Product_Category_2             True\n",
              "Product_Category_3             True\n",
              "dtype: bool"
            ]
          },
          "metadata": {
            "tags": []
          },
          "execution_count": 19
        }
      ]
    },
    {
      "metadata": {
        "id": "Q89mHh7xzF-d",
        "colab_type": "code",
        "colab": {
          "autoexec": {
            "startup": false,
            "wait_interval": 0
          },
          "output_extras": [
            {
              "item_id": 1
            }
          ],
          "base_uri": "https://localhost:8080/",
          "height": 34
        },
        "outputId": "1712f9f7-52b5-4e30-d6e2-8a65b9ea6a72",
        "executionInfo": {
          "status": "ok",
          "timestamp": 1515264453623,
          "user_tz": -330,
          "elapsed": 880,
          "user": {
            "displayName": "MalliKarjun Namagiri",
            "photoUrl": "//lh6.googleusercontent.com/-P9BYex3S098/AAAAAAAAAAI/AAAAAAAAAb8/1pQ09fHEnoo/s50-c-k-no/photo.jpg",
            "userId": "105053389068996960187"
          }
        }
      },
      "source": [
        "print(len(train_df))"
      ],
      "cell_type": "code",
      "execution_count": 43,
      "outputs": [
        {
          "output_type": "stream",
          "text": [
            "550068\n"
          ],
          "name": "stdout"
        }
      ]
    },
    {
      "metadata": {
        "id": "II_mPLcDnuWR",
        "colab_type": "code",
        "colab": {
          "autoexec": {
            "startup": false,
            "wait_interval": 0
          }
        }
      },
      "source": [
        "#handling the missing values in Product_Category_2 &3 variables\n",
        "train_df['Product_Category_2'] = train_df['Product_Category_2'].fillna(train_df['Product_Category_2'].mean())\n",
        "train_df['Product_Category_3'] = train_df['Product_Category_3'].fillna(train_df['Product_Category_3'].mean())\n",
        "\n",
        "test['Product_Category_2'] = test['Product_Category_2'].fillna(test['Product_Category_2'].mean())\n",
        "test['Product_Category_3'] = test['Product_Category_3'].fillna(test['Product_Category_3'].mean())"
      ],
      "cell_type": "code",
      "execution_count": 0,
      "outputs": []
    },
    {
      "metadata": {
        "id": "9bWxouMMoz0F",
        "colab_type": "code",
        "colab": {
          "autoexec": {
            "startup": false,
            "wait_interval": 0
          },
          "output_extras": [
            {
              "item_id": 1
            }
          ],
          "base_uri": "https://localhost:8080/",
          "height": 532
        },
        "outputId": "23a59fda-2e8e-4972-cf67-d6a2a088f3d8",
        "executionInfo": {
          "status": "ok",
          "timestamp": 1515264019893,
          "user_tz": -330,
          "elapsed": 1125,
          "user": {
            "displayName": "MalliKarjun Namagiri",
            "photoUrl": "//lh6.googleusercontent.com/-P9BYex3S098/AAAAAAAAAAI/AAAAAAAAAb8/1pQ09fHEnoo/s50-c-k-no/photo.jpg",
            "userId": "105053389068996960187"
          }
        }
      },
      "source": [
        "train_df.head(10)"
      ],
      "cell_type": "code",
      "execution_count": 37,
      "outputs": [
        {
          "output_type": "execute_result",
          "data": {
            "text/html": [
              "<div>\n",
              "<style>\n",
              "    .dataframe thead tr:only-child th {\n",
              "        text-align: right;\n",
              "    }\n",
              "\n",
              "    .dataframe thead th {\n",
              "        text-align: left;\n",
              "    }\n",
              "\n",
              "    .dataframe tbody tr th {\n",
              "        vertical-align: top;\n",
              "    }\n",
              "</style>\n",
              "<table border=\"1\" class=\"dataframe\">\n",
              "  <thead>\n",
              "    <tr style=\"text-align: right;\">\n",
              "      <th></th>\n",
              "      <th>User_ID</th>\n",
              "      <th>Product_ID</th>\n",
              "      <th>Gender</th>\n",
              "      <th>Age</th>\n",
              "      <th>Occupation</th>\n",
              "      <th>City_Category</th>\n",
              "      <th>Stay_In_Current_City_Years</th>\n",
              "      <th>Marital_Status</th>\n",
              "      <th>Product_Category_1</th>\n",
              "      <th>Product_Category_2</th>\n",
              "      <th>Product_Category_3</th>\n",
              "      <th>Purchase</th>\n",
              "    </tr>\n",
              "  </thead>\n",
              "  <tbody>\n",
              "    <tr>\n",
              "      <th>0</th>\n",
              "      <td>1000001</td>\n",
              "      <td>P00069042</td>\n",
              "      <td>F</td>\n",
              "      <td>0-17</td>\n",
              "      <td>10</td>\n",
              "      <td>A</td>\n",
              "      <td>2</td>\n",
              "      <td>0</td>\n",
              "      <td>3</td>\n",
              "      <td>9.842329</td>\n",
              "      <td>12.668243</td>\n",
              "      <td>8370</td>\n",
              "    </tr>\n",
              "    <tr>\n",
              "      <th>1</th>\n",
              "      <td>1000001</td>\n",
              "      <td>P00248942</td>\n",
              "      <td>F</td>\n",
              "      <td>0-17</td>\n",
              "      <td>10</td>\n",
              "      <td>A</td>\n",
              "      <td>2</td>\n",
              "      <td>0</td>\n",
              "      <td>1</td>\n",
              "      <td>6.000000</td>\n",
              "      <td>14.000000</td>\n",
              "      <td>15200</td>\n",
              "    </tr>\n",
              "    <tr>\n",
              "      <th>2</th>\n",
              "      <td>1000001</td>\n",
              "      <td>P00087842</td>\n",
              "      <td>F</td>\n",
              "      <td>0-17</td>\n",
              "      <td>10</td>\n",
              "      <td>A</td>\n",
              "      <td>2</td>\n",
              "      <td>0</td>\n",
              "      <td>12</td>\n",
              "      <td>9.842329</td>\n",
              "      <td>12.668243</td>\n",
              "      <td>1422</td>\n",
              "    </tr>\n",
              "    <tr>\n",
              "      <th>3</th>\n",
              "      <td>1000001</td>\n",
              "      <td>P00085442</td>\n",
              "      <td>F</td>\n",
              "      <td>0-17</td>\n",
              "      <td>10</td>\n",
              "      <td>A</td>\n",
              "      <td>2</td>\n",
              "      <td>0</td>\n",
              "      <td>12</td>\n",
              "      <td>14.000000</td>\n",
              "      <td>12.668243</td>\n",
              "      <td>1057</td>\n",
              "    </tr>\n",
              "    <tr>\n",
              "      <th>4</th>\n",
              "      <td>1000002</td>\n",
              "      <td>P00285442</td>\n",
              "      <td>M</td>\n",
              "      <td>55+</td>\n",
              "      <td>16</td>\n",
              "      <td>C</td>\n",
              "      <td>4+</td>\n",
              "      <td>0</td>\n",
              "      <td>8</td>\n",
              "      <td>9.842329</td>\n",
              "      <td>12.668243</td>\n",
              "      <td>7969</td>\n",
              "    </tr>\n",
              "    <tr>\n",
              "      <th>5</th>\n",
              "      <td>1000003</td>\n",
              "      <td>P00193542</td>\n",
              "      <td>M</td>\n",
              "      <td>26-35</td>\n",
              "      <td>15</td>\n",
              "      <td>A</td>\n",
              "      <td>3</td>\n",
              "      <td>0</td>\n",
              "      <td>1</td>\n",
              "      <td>2.000000</td>\n",
              "      <td>12.668243</td>\n",
              "      <td>15227</td>\n",
              "    </tr>\n",
              "    <tr>\n",
              "      <th>6</th>\n",
              "      <td>1000004</td>\n",
              "      <td>P00184942</td>\n",
              "      <td>M</td>\n",
              "      <td>46-50</td>\n",
              "      <td>7</td>\n",
              "      <td>B</td>\n",
              "      <td>2</td>\n",
              "      <td>1</td>\n",
              "      <td>1</td>\n",
              "      <td>8.000000</td>\n",
              "      <td>17.000000</td>\n",
              "      <td>19215</td>\n",
              "    </tr>\n",
              "    <tr>\n",
              "      <th>7</th>\n",
              "      <td>1000004</td>\n",
              "      <td>P00346142</td>\n",
              "      <td>M</td>\n",
              "      <td>46-50</td>\n",
              "      <td>7</td>\n",
              "      <td>B</td>\n",
              "      <td>2</td>\n",
              "      <td>1</td>\n",
              "      <td>1</td>\n",
              "      <td>15.000000</td>\n",
              "      <td>12.668243</td>\n",
              "      <td>15854</td>\n",
              "    </tr>\n",
              "    <tr>\n",
              "      <th>8</th>\n",
              "      <td>1000004</td>\n",
              "      <td>P0097242</td>\n",
              "      <td>M</td>\n",
              "      <td>46-50</td>\n",
              "      <td>7</td>\n",
              "      <td>B</td>\n",
              "      <td>2</td>\n",
              "      <td>1</td>\n",
              "      <td>1</td>\n",
              "      <td>16.000000</td>\n",
              "      <td>12.668243</td>\n",
              "      <td>15686</td>\n",
              "    </tr>\n",
              "    <tr>\n",
              "      <th>9</th>\n",
              "      <td>1000005</td>\n",
              "      <td>P00274942</td>\n",
              "      <td>M</td>\n",
              "      <td>26-35</td>\n",
              "      <td>20</td>\n",
              "      <td>A</td>\n",
              "      <td>1</td>\n",
              "      <td>1</td>\n",
              "      <td>8</td>\n",
              "      <td>9.842329</td>\n",
              "      <td>12.668243</td>\n",
              "      <td>7871</td>\n",
              "    </tr>\n",
              "  </tbody>\n",
              "</table>\n",
              "</div>"
            ],
            "text/plain": [
              "   User_ID Product_ID Gender    Age  Occupation City_Category  \\\n",
              "0  1000001  P00069042      F   0-17          10             A   \n",
              "1  1000001  P00248942      F   0-17          10             A   \n",
              "2  1000001  P00087842      F   0-17          10             A   \n",
              "3  1000001  P00085442      F   0-17          10             A   \n",
              "4  1000002  P00285442      M    55+          16             C   \n",
              "5  1000003  P00193542      M  26-35          15             A   \n",
              "6  1000004  P00184942      M  46-50           7             B   \n",
              "7  1000004  P00346142      M  46-50           7             B   \n",
              "8  1000004   P0097242      M  46-50           7             B   \n",
              "9  1000005  P00274942      M  26-35          20             A   \n",
              "\n",
              "  Stay_In_Current_City_Years  Marital_Status  Product_Category_1  \\\n",
              "0                          2               0                   3   \n",
              "1                          2               0                   1   \n",
              "2                          2               0                  12   \n",
              "3                          2               0                  12   \n",
              "4                         4+               0                   8   \n",
              "5                          3               0                   1   \n",
              "6                          2               1                   1   \n",
              "7                          2               1                   1   \n",
              "8                          2               1                   1   \n",
              "9                          1               1                   8   \n",
              "\n",
              "   Product_Category_2  Product_Category_3  Purchase  \n",
              "0            9.842329           12.668243      8370  \n",
              "1            6.000000           14.000000     15200  \n",
              "2            9.842329           12.668243      1422  \n",
              "3           14.000000           12.668243      1057  \n",
              "4            9.842329           12.668243      7969  \n",
              "5            2.000000           12.668243     15227  \n",
              "6            8.000000           17.000000     19215  \n",
              "7           15.000000           12.668243     15854  \n",
              "8           16.000000           12.668243     15686  \n",
              "9            9.842329           12.668243      7871  "
            ]
          },
          "metadata": {
            "tags": []
          },
          "execution_count": 37
        }
      ]
    },
    {
      "metadata": {
        "id": "pzJP-GOhs53r",
        "colab_type": "code",
        "colab": {
          "autoexec": {
            "startup": false,
            "wait_interval": 0
          },
          "output_extras": [
            {
              "item_id": 1
            }
          ],
          "base_uri": "https://localhost:8080/",
          "height": 309
        },
        "outputId": "bc486c3d-39c7-4d22-dda2-37aa253db4cc",
        "executionInfo": {
          "status": "ok",
          "timestamp": 1515262820162,
          "user_tz": -330,
          "elapsed": 717,
          "user": {
            "displayName": "MalliKarjun Namagiri",
            "photoUrl": "//lh6.googleusercontent.com/-P9BYex3S098/AAAAAAAAAAI/AAAAAAAAAb8/1pQ09fHEnoo/s50-c-k-no/photo.jpg",
            "userId": "105053389068996960187"
          }
        }
      },
      "source": [
        "test.head()"
      ],
      "cell_type": "code",
      "execution_count": 19,
      "outputs": [
        {
          "output_type": "execute_result",
          "data": {
            "text/html": [
              "<div>\n",
              "<style>\n",
              "    .dataframe thead tr:only-child th {\n",
              "        text-align: right;\n",
              "    }\n",
              "\n",
              "    .dataframe thead th {\n",
              "        text-align: left;\n",
              "    }\n",
              "\n",
              "    .dataframe tbody tr th {\n",
              "        vertical-align: top;\n",
              "    }\n",
              "</style>\n",
              "<table border=\"1\" class=\"dataframe\">\n",
              "  <thead>\n",
              "    <tr style=\"text-align: right;\">\n",
              "      <th></th>\n",
              "      <th>User_ID</th>\n",
              "      <th>Product_ID</th>\n",
              "      <th>Gender</th>\n",
              "      <th>Age</th>\n",
              "      <th>Occupation</th>\n",
              "      <th>City_Category</th>\n",
              "      <th>Stay_In_Current_City_Years</th>\n",
              "      <th>Marital_Status</th>\n",
              "      <th>Product_Category_1</th>\n",
              "      <th>Product_Category_2</th>\n",
              "      <th>Product_Category_3</th>\n",
              "    </tr>\n",
              "  </thead>\n",
              "  <tbody>\n",
              "    <tr>\n",
              "      <th>0</th>\n",
              "      <td>1000004</td>\n",
              "      <td>P00128942</td>\n",
              "      <td>M</td>\n",
              "      <td>46-50</td>\n",
              "      <td>7</td>\n",
              "      <td>B</td>\n",
              "      <td>2</td>\n",
              "      <td>1</td>\n",
              "      <td>1</td>\n",
              "      <td>11.0</td>\n",
              "      <td>12.669454</td>\n",
              "    </tr>\n",
              "    <tr>\n",
              "      <th>1</th>\n",
              "      <td>1000009</td>\n",
              "      <td>P00113442</td>\n",
              "      <td>M</td>\n",
              "      <td>26-35</td>\n",
              "      <td>17</td>\n",
              "      <td>C</td>\n",
              "      <td>0</td>\n",
              "      <td>0</td>\n",
              "      <td>3</td>\n",
              "      <td>5.0</td>\n",
              "      <td>12.669454</td>\n",
              "    </tr>\n",
              "    <tr>\n",
              "      <th>2</th>\n",
              "      <td>1000010</td>\n",
              "      <td>P00288442</td>\n",
              "      <td>F</td>\n",
              "      <td>36-45</td>\n",
              "      <td>1</td>\n",
              "      <td>B</td>\n",
              "      <td>4+</td>\n",
              "      <td>1</td>\n",
              "      <td>5</td>\n",
              "      <td>14.0</td>\n",
              "      <td>12.669454</td>\n",
              "    </tr>\n",
              "    <tr>\n",
              "      <th>3</th>\n",
              "      <td>1000010</td>\n",
              "      <td>P00145342</td>\n",
              "      <td>F</td>\n",
              "      <td>36-45</td>\n",
              "      <td>1</td>\n",
              "      <td>B</td>\n",
              "      <td>4+</td>\n",
              "      <td>1</td>\n",
              "      <td>4</td>\n",
              "      <td>9.0</td>\n",
              "      <td>12.669454</td>\n",
              "    </tr>\n",
              "    <tr>\n",
              "      <th>4</th>\n",
              "      <td>1000011</td>\n",
              "      <td>P00053842</td>\n",
              "      <td>F</td>\n",
              "      <td>26-35</td>\n",
              "      <td>1</td>\n",
              "      <td>C</td>\n",
              "      <td>1</td>\n",
              "      <td>0</td>\n",
              "      <td>4</td>\n",
              "      <td>5.0</td>\n",
              "      <td>12.000000</td>\n",
              "    </tr>\n",
              "  </tbody>\n",
              "</table>\n",
              "</div>"
            ],
            "text/plain": [
              "   User_ID Product_ID Gender    Age  Occupation City_Category  \\\n",
              "0  1000004  P00128942      M  46-50           7             B   \n",
              "1  1000009  P00113442      M  26-35          17             C   \n",
              "2  1000010  P00288442      F  36-45           1             B   \n",
              "3  1000010  P00145342      F  36-45           1             B   \n",
              "4  1000011  P00053842      F  26-35           1             C   \n",
              "\n",
              "  Stay_In_Current_City_Years  Marital_Status  Product_Category_1  \\\n",
              "0                          2               1                   1   \n",
              "1                          0               0                   3   \n",
              "2                         4+               1                   5   \n",
              "3                         4+               1                   4   \n",
              "4                          1               0                   4   \n",
              "\n",
              "   Product_Category_2  Product_Category_3  \n",
              "0                11.0           12.669454  \n",
              "1                 5.0           12.669454  \n",
              "2                14.0           12.669454  \n",
              "3                 9.0           12.669454  \n",
              "4                 5.0           12.000000  "
            ]
          },
          "metadata": {
            "tags": []
          },
          "execution_count": 19
        }
      ]
    },
    {
      "metadata": {
        "id": "BL3SDSQhme3V",
        "colab_type": "code",
        "colab": {
          "autoexec": {
            "startup": false,
            "wait_interval": 0
          },
          "output_extras": [
            {
              "item_id": 1
            }
          ],
          "base_uri": "https://localhost:8080/",
          "height": 102
        },
        "outputId": "2d054919-f9de-4416-af26-9205b1a5fde7",
        "executionInfo": {
          "status": "ok",
          "timestamp": 1515262182857,
          "user_tz": -330,
          "elapsed": 869,
          "user": {
            "displayName": "MalliKarjun Namagiri",
            "photoUrl": "//lh6.googleusercontent.com/-P9BYex3S098/AAAAAAAAAAI/AAAAAAAAAb8/1pQ09fHEnoo/s50-c-k-no/photo.jpg",
            "userId": "105053389068996960187"
          }
        }
      },
      "source": [
        "train_df.columns"
      ],
      "cell_type": "code",
      "execution_count": 9,
      "outputs": [
        {
          "output_type": "execute_result",
          "data": {
            "text/plain": [
              "Index([u'User_ID', u'Product_ID', u'Gender', u'Age', u'Occupation',\n",
              "       u'City_Category', u'Stay_In_Current_City_Years', u'Marital_Status',\n",
              "       u'Product_Category_1', u'Product_Category_2', u'Product_Category_3',\n",
              "       u'Purchase'],\n",
              "      dtype='object')"
            ]
          },
          "metadata": {
            "tags": []
          },
          "execution_count": 9
        }
      ]
    },
    {
      "metadata": {
        "id": "mePRnVqcro4p",
        "colab_type": "code",
        "colab": {
          "autoexec": {
            "startup": false,
            "wait_interval": 0
          },
          "output_extras": [
            {
              "item_id": 1
            }
          ],
          "base_uri": "https://localhost:8080/",
          "height": 153
        },
        "outputId": "54b30944-f556-40ed-adb0-88693ce72e10",
        "executionInfo": {
          "status": "ok",
          "timestamp": 1515262483391,
          "user_tz": -330,
          "elapsed": 1010,
          "user": {
            "displayName": "MalliKarjun Namagiri",
            "photoUrl": "//lh6.googleusercontent.com/-P9BYex3S098/AAAAAAAAAAI/AAAAAAAAAb8/1pQ09fHEnoo/s50-c-k-no/photo.jpg",
            "userId": "105053389068996960187"
          }
        }
      },
      "source": [
        "train_df['Age'].value_counts()"
      ],
      "cell_type": "code",
      "execution_count": 10,
      "outputs": [
        {
          "output_type": "execute_result",
          "data": {
            "text/plain": [
              "26-35    219587\n",
              "36-45    110013\n",
              "18-25     99660\n",
              "46-50     45701\n",
              "51-55     38501\n",
              "55+       21504\n",
              "0-17      15102\n",
              "Name: Age, dtype: int64"
            ]
          },
          "metadata": {
            "tags": []
          },
          "execution_count": 10
        }
      ]
    },
    {
      "metadata": {
        "id": "GOKHQcvbzhCP",
        "colab_type": "text"
      },
      "source": [
        ""
      ],
      "cell_type": "markdown"
    },
    {
      "metadata": {
        "id": "8mqoLMn7zh8n",
        "colab_type": "code",
        "colab": {
          "autoexec": {
            "startup": false,
            "wait_interval": 0
          },
          "output_extras": [
            {
              "item_id": 1
            }
          ],
          "base_uri": "https://localhost:8080/",
          "height": 159
        },
        "outputId": "0f97fbe1-84a8-41b5-e747-d63c882501c2",
        "executionInfo": {
          "status": "ok",
          "timestamp": 1515264556119,
          "user_tz": -330,
          "elapsed": 877,
          "user": {
            "displayName": "MalliKarjun Namagiri",
            "photoUrl": "//lh6.googleusercontent.com/-P9BYex3S098/AAAAAAAAAAI/AAAAAAAAAb8/1pQ09fHEnoo/s50-c-k-no/photo.jpg",
            "userId": "105053389068996960187"
          }
        }
      },
      "source": [
        "test['Age'].value_counts()"
      ],
      "cell_type": "code",
      "execution_count": 44,
      "outputs": [
        {
          "output_type": "execute_result",
          "data": {
            "text/plain": [
              "26-35    93428\n",
              "36-45    46711\n",
              "18-25    42293\n",
              "46-50    19577\n",
              "51-55    16283\n",
              "55+       9075\n",
              "0-17      6232\n",
              "Name: Age, dtype: int64"
            ]
          },
          "metadata": {
            "tags": []
          },
          "execution_count": 44
        }
      ]
    },
    {
      "metadata": {
        "id": "WKkqpNgyzoFz",
        "colab_type": "code",
        "colab": {
          "autoexec": {
            "startup": false,
            "wait_interval": 0
          },
          "output_extras": [
            {
              "item_id": 1
            }
          ],
          "base_uri": "https://localhost:8080/",
          "height": 88
        },
        "outputId": "e01bd9be-35a3-4786-8f93-fd0aca4bca97",
        "executionInfo": {
          "status": "ok",
          "timestamp": 1515264588856,
          "user_tz": -330,
          "elapsed": 859,
          "user": {
            "displayName": "MalliKarjun Namagiri",
            "photoUrl": "//lh6.googleusercontent.com/-P9BYex3S098/AAAAAAAAAAI/AAAAAAAAAb8/1pQ09fHEnoo/s50-c-k-no/photo.jpg",
            "userId": "105053389068996960187"
          }
        }
      },
      "source": [
        "train_df['City_Category'].value_counts()"
      ],
      "cell_type": "code",
      "execution_count": 45,
      "outputs": [
        {
          "output_type": "execute_result",
          "data": {
            "text/plain": [
              "B    231173\n",
              "C    171175\n",
              "A    147720\n",
              "Name: City_Category, dtype: int64"
            ]
          },
          "metadata": {
            "tags": []
          },
          "execution_count": 45
        }
      ]
    },
    {
      "metadata": {
        "id": "1wfkej3Szsmp",
        "colab_type": "code",
        "colab": {
          "autoexec": {
            "startup": false,
            "wait_interval": 0
          },
          "output_extras": [
            {
              "item_id": 1
            }
          ],
          "base_uri": "https://localhost:8080/",
          "height": 88
        },
        "outputId": "4e5186ac-dac5-4c04-deaa-a403ab41996b",
        "executionInfo": {
          "status": "ok",
          "timestamp": 1515264607966,
          "user_tz": -330,
          "elapsed": 1024,
          "user": {
            "displayName": "MalliKarjun Namagiri",
            "photoUrl": "//lh6.googleusercontent.com/-P9BYex3S098/AAAAAAAAAAI/AAAAAAAAAb8/1pQ09fHEnoo/s50-c-k-no/photo.jpg",
            "userId": "105053389068996960187"
          }
        }
      },
      "source": [
        "test['City_Category'].value_counts()"
      ],
      "cell_type": "code",
      "execution_count": 46,
      "outputs": [
        {
          "output_type": "execute_result",
          "data": {
            "text/plain": [
              "B    98566\n",
              "C    72509\n",
              "A    62524\n",
              "Name: City_Category, dtype: int64"
            ]
          },
          "metadata": {
            "tags": []
          },
          "execution_count": 46
        }
      ]
    },
    {
      "metadata": {
        "id": "zTuvbEUGr5Hx",
        "colab_type": "code",
        "colab": {
          "autoexec": {
            "startup": false,
            "wait_interval": 0
          }
        }
      },
      "source": [
        "X_train = train_df.iloc[:, 2:11].values\n",
        "y_train = train_df.iloc[:, 11].values\n",
        "X_test = test.iloc[:, 2:11].values"
      ],
      "cell_type": "code",
      "execution_count": 0,
      "outputs": []
    },
    {
      "metadata": {
        "id": "3d2ZiKw-ty0d",
        "colab_type": "code",
        "colab": {
          "autoexec": {
            "startup": false,
            "wait_interval": 0
          }
        }
      },
      "source": [
        "# Encoding categorical data\n",
        "from sklearn.preprocessing import LabelEncoder, OneHotEncoder\n",
        "labelencoder_X_train_1 = LabelEncoder()\n",
        "X_train[:, 0] = labelencoder_X_train_1.fit_transform(X_train[:, 0])\n",
        "labelencoder_X_train_2 = LabelEncoder()\n",
        "X_train[:, 1] = labelencoder_X_train_2.fit_transform(X_train[:, 2])\n",
        "labelencoder_X_train_3 = LabelEncoder()\n",
        "X_train[:, 3] = labelencoder_X_train_3.fit_transform(X_train[:, 3])\n",
        "labelencoder_X_train_4 = LabelEncoder()\n",
        "X_train[:, 4] = labelencoder_X_train_4.fit_transform(X_train[:, 4])\n",
        "onehotencoder = OneHotEncoder(categorical_features = [1])\n",
        "X_train = onehotencoder.fit_transform(X_train).toarray()"
      ],
      "cell_type": "code",
      "execution_count": 0,
      "outputs": []
    },
    {
      "metadata": {
        "id": "7xQohv9gvN8E",
        "colab_type": "code",
        "colab": {
          "autoexec": {
            "startup": false,
            "wait_interval": 0
          }
        }
      },
      "source": [
        "# Encoding categorical data\n",
        "from sklearn.preprocessing import LabelEncoder, OneHotEncoder\n",
        "labelencoder_X_test_1 = LabelEncoder()\n",
        "X_test[:, 0] = labelencoder_X_test_1.fit_transform(X_test[:, 0])\n",
        "labelencoder_X_test_2 = LabelEncoder()\n",
        "X_test[:, 1] = labelencoder_X_test_2.fit_transform(X_test[:, 2])\n",
        "labelencoder_X_test_3 = LabelEncoder()\n",
        "X_test[:, 3] = labelencoder_X_test_3.fit_transform(X_test[:, 3])\n",
        "labelencoder_X_test_4 = LabelEncoder()\n",
        "X_test[:, 4] = labelencoder_X_test_4.fit_transform(X_test[:, 4])\n",
        "onehotencoder = OneHotEncoder(categorical_features = [1])\n",
        "X_test = onehotencoder.fit_transform(X_test).toarray()"
      ],
      "cell_type": "code",
      "execution_count": 0,
      "outputs": []
    },
    {
      "metadata": {
        "id": "sT2vsJsMwWRV",
        "colab_type": "code",
        "colab": {
          "autoexec": {
            "startup": false,
            "wait_interval": 0
          }
        }
      },
      "source": [
        "X_train = X_train[:, 1:]\n",
        "X_test = X_test[:, 1:]"
      ],
      "cell_type": "code",
      "execution_count": 0,
      "outputs": []
    },
    {
      "metadata": {
        "id": "amK3buc2y3Cw",
        "colab_type": "code",
        "colab": {
          "autoexec": {
            "startup": false,
            "wait_interval": 0
          },
          "output_extras": [
            {
              "item_id": 1
            }
          ],
          "base_uri": "https://localhost:8080/",
          "height": 34
        },
        "outputId": "bc94608c-3f1a-4733-bc1d-db61b7047ecb",
        "executionInfo": {
          "status": "ok",
          "timestamp": 1515264378402,
          "user_tz": -330,
          "elapsed": 865,
          "user": {
            "displayName": "MalliKarjun Namagiri",
            "photoUrl": "//lh6.googleusercontent.com/-P9BYex3S098/AAAAAAAAAAI/AAAAAAAAAb8/1pQ09fHEnoo/s50-c-k-no/photo.jpg",
            "userId": "105053389068996960187"
          }
        }
      },
      "source": [
        "X_train.shape"
      ],
      "cell_type": "code",
      "execution_count": 42,
      "outputs": [
        {
          "output_type": "execute_result",
          "data": {
            "text/plain": [
              "(550068, 28)"
            ]
          },
          "metadata": {
            "tags": []
          },
          "execution_count": 42
        }
      ]
    },
    {
      "metadata": {
        "id": "eBCJZTTayyfH",
        "colab_type": "code",
        "colab": {
          "autoexec": {
            "startup": false,
            "wait_interval": 0
          },
          "output_extras": [
            {
              "item_id": 1
            }
          ],
          "base_uri": "https://localhost:8080/",
          "height": 34
        },
        "outputId": "2651a41a-622a-4c9f-8b6e-04b95bded29c",
        "executionInfo": {
          "status": "ok",
          "timestamp": 1515266593832,
          "user_tz": -330,
          "elapsed": 818,
          "user": {
            "displayName": "MalliKarjun Namagiri",
            "photoUrl": "//lh6.googleusercontent.com/-P9BYex3S098/AAAAAAAAAAI/AAAAAAAAAb8/1pQ09fHEnoo/s50-c-k-no/photo.jpg",
            "userId": "105053389068996960187"
          }
        }
      },
      "source": [
        "X_test.shape"
      ],
      "cell_type": "code",
      "execution_count": 63,
      "outputs": [
        {
          "output_type": "execute_result",
          "data": {
            "text/plain": [
              "(233599, 27)"
            ]
          },
          "metadata": {
            "tags": []
          },
          "execution_count": 63
        }
      ]
    },
    {
      "metadata": {
        "id": "iESKCnucwibY",
        "colab_type": "code",
        "colab": {
          "autoexec": {
            "startup": false,
            "wait_interval": 0
          }
        }
      },
      "source": [
        "from sklearn.preprocessing import StandardScaler\n",
        "sc_X = StandardScaler()\n",
        "X_train = sc_X.fit_transform(X_train)\n",
        "X_test = sc_X.fit_transform(X_test)"
      ],
      "cell_type": "code",
      "execution_count": 0,
      "outputs": []
    },
    {
      "metadata": {
        "id": "G--P4s_L0mB7",
        "colab_type": "text"
      },
      "source": [
        "      **Part 2:** Start with by using ANN to prepare Model"
      ],
      "cell_type": "markdown"
    },
    {
      "metadata": {
        "id": "QUfgerZ41ygy",
        "colab_type": "code",
        "colab": {
          "autoexec": {
            "startup": false,
            "wait_interval": 0
          },
          "output_extras": [
            {
              "item_id": 13
            },
            {
              "item_id": 34
            },
            {
              "item_id": 39
            }
          ],
          "base_uri": "https://localhost:8080/",
          "height": 1720
        },
        "outputId": "6ca393d3-6d9d-4d41-ff6b-8c7a254ad664",
        "executionInfo": {
          "status": "ok",
          "timestamp": 1515265195012,
          "user_tz": -330,
          "elapsed": 43197,
          "user": {
            "displayName": "MalliKarjun Namagiri",
            "photoUrl": "//lh6.googleusercontent.com/-P9BYex3S098/AAAAAAAAAAI/AAAAAAAAAb8/1pQ09fHEnoo/s50-c-k-no/photo.jpg",
            "userId": "105053389068996960187"
          }
        }
      },
      "source": [
        "# To determine which version you're using:\n",
        "!pip show tensorflow\n",
        "\n",
        "# For the current version: \n",
        "!pip install --upgrade tensorflow\n",
        "\n",
        "# For a specific version:\n",
        "!pip install tensorflow==1.2\n",
        "\n",
        "# For the latest nightly build:\n",
        "!pip install tf-nightly"
      ],
      "cell_type": "code",
      "execution_count": 52,
      "outputs": [
        {
          "output_type": "stream",
          "text": [
            "Name: tensorflow\r\n",
            "Version: 1.4.1\r\n",
            "Summary: TensorFlow helps the tensors flow\r\n",
            "Home-page: https://www.tensorflow.org/\r\n",
            "Author: Google Inc.\r\n",
            "Author-email: opensource@google.com\r\n",
            "License: Apache 2.0\r\n",
            "Location: /usr/local/lib/python2.7/dist-packages\r\n",
            "Requires: tensorflow-tensorboard, mock, enum34, protobuf, wheel, backports.weakref, six, numpy\n",
            "Requirement already up-to-date: tensorflow in /usr/local/lib/python2.7/dist-packages\n",
            "Requirement already up-to-date: tensorflow-tensorboard<0.5.0,>=0.4.0rc1 in /usr/local/lib/python2.7/dist-packages (from tensorflow)\n",
            "Requirement already up-to-date: mock>=2.0.0 in /usr/local/lib/python2.7/dist-packages (from tensorflow)\n",
            "Requirement already up-to-date: enum34>=1.1.6 in /usr/local/lib/python2.7/dist-packages (from tensorflow)\n",
            "Requirement already up-to-date: protobuf>=3.3.0 in /usr/local/lib/python2.7/dist-packages (from tensorflow)\n",
            "Requirement already up-to-date: wheel in /usr/local/lib/python2.7/dist-packages (from tensorflow)\n",
            "Requirement already up-to-date: backports.weakref>=1.0rc1 in /usr/local/lib/python2.7/dist-packages (from tensorflow)\n",
            "Requirement already up-to-date: six>=1.10.0 in /usr/local/lib/python2.7/dist-packages (from tensorflow)\n",
            "Requirement already up-to-date: numpy>=1.12.1 in /usr/local/lib/python2.7/dist-packages (from tensorflow)\n",
            "Requirement already up-to-date: bleach==1.5.0 in /usr/local/lib/python2.7/dist-packages (from tensorflow-tensorboard<0.5.0,>=0.4.0rc1->tensorflow)\n",
            "Requirement already up-to-date: futures>=3.1.1; python_version < \"3.2\" in /usr/local/lib/python2.7/dist-packages (from tensorflow-tensorboard<0.5.0,>=0.4.0rc1->tensorflow)\n",
            "Requirement already up-to-date: markdown>=2.6.8 in /usr/local/lib/python2.7/dist-packages (from tensorflow-tensorboard<0.5.0,>=0.4.0rc1->tensorflow)\n",
            "Requirement already up-to-date: werkzeug>=0.11.10 in /usr/local/lib/python2.7/dist-packages (from tensorflow-tensorboard<0.5.0,>=0.4.0rc1->tensorflow)\n",
            "Requirement already up-to-date: html5lib==0.9999999 in /usr/local/lib/python2.7/dist-packages (from tensorflow-tensorboard<0.5.0,>=0.4.0rc1->tensorflow)\n",
            "Requirement already up-to-date: funcsigs>=1; python_version < \"3.3\" in /usr/local/lib/python2.7/dist-packages (from mock>=2.0.0->tensorflow)\n",
            "Requirement already up-to-date: pbr>=0.11 in /usr/local/lib/python2.7/dist-packages (from mock>=2.0.0->tensorflow)\n",
            "Requirement already up-to-date: setuptools in /usr/local/lib/python2.7/dist-packages (from protobuf>=3.3.0->tensorflow)\n",
            "Collecting tensorflow==1.2\n",
            "  Downloading tensorflow-1.2.0-cp27-cp27mu-manylinux1_x86_64.whl (34.5MB)\n",
            "\u001b[K    100% |████████████████████████████████| 34.5MB 31kB/s \n",
            "\u001b[?25hRequirement already satisfied: numpy>=1.11.0 in /usr/local/lib/python2.7/dist-packages (from tensorflow==1.2)\n",
            "Requirement already satisfied: mock>=2.0.0 in /usr/local/lib/python2.7/dist-packages (from tensorflow==1.2)\n",
            "Requirement already satisfied: protobuf>=3.2.0 in /usr/local/lib/python2.7/dist-packages (from tensorflow==1.2)\n",
            "Collecting backports.weakref==1.0rc1 (from tensorflow==1.2)\n",
            "  Downloading backports.weakref-1.0rc1-py2-none-any.whl\n",
            "Requirement already satisfied: bleach==1.5.0 in /usr/local/lib/python2.7/dist-packages (from tensorflow==1.2)\n",
            "Requirement already satisfied: wheel in /usr/local/lib/python2.7/dist-packages (from tensorflow==1.2)\n",
            "Requirement already satisfied: six>=1.10.0 in /usr/local/lib/python2.7/dist-packages (from tensorflow==1.2)\n",
            "Collecting markdown==2.2.0 (from tensorflow==1.2)\n",
            "  Downloading Markdown-2.2.0.tar.gz (236kB)\n",
            "\u001b[K    100% |████████████████████████████████| 245kB 5.1MB/s \n"
          ],
          "name": "stdout"
        },
        {
          "output_type": "stream",
          "text": [
            "\u001b[?25hRequirement already satisfied: werkzeug>=0.11.10 in /usr/local/lib/python2.7/dist-packages (from tensorflow==1.2)\n",
            "Requirement already satisfied: html5lib==0.9999999 in /usr/local/lib/python2.7/dist-packages (from tensorflow==1.2)\n",
            "Requirement already satisfied: funcsigs>=1; python_version < \"3.3\" in /usr/local/lib/python2.7/dist-packages (from mock>=2.0.0->tensorflow==1.2)\n",
            "Requirement already satisfied: pbr>=0.11 in /usr/local/lib/python2.7/dist-packages (from mock>=2.0.0->tensorflow==1.2)\n",
            "Requirement already satisfied: setuptools in /usr/local/lib/python2.7/dist-packages (from protobuf>=3.2.0->tensorflow==1.2)\n",
            "Building wheels for collected packages: markdown\n",
            "  Running setup.py bdist_wheel for markdown ... \u001b[?25l-\b \b\\\b \b|\b \bdone\n",
            "\u001b[?25h  Stored in directory: /content/.cache/pip/wheels/b9/4f/6c/f4c1c5207c1d0eeaaf7005f7f736620c6ded6617c9d9b94096\n",
            "Successfully built markdown\n",
            "Installing collected packages: backports.weakref, markdown, tensorflow\n",
            "  Found existing installation: backports.weakref 1.0.post1\n",
            "    Uninstalling backports.weakref-1.0.post1:\n",
            "      Successfully uninstalled backports.weakref-1.0.post1\n",
            "  Found existing installation: Markdown 2.6.11\n",
            "    Uninstalling Markdown-2.6.11:\n",
            "      Successfully uninstalled Markdown-2.6.11\n",
            "  Found existing installation: tensorflow 1.4.1\n",
            "    Uninstalling tensorflow-1.4.1:\n",
            "      Successfully uninstalled tensorflow-1.4.1\n",
            "Successfully installed backports.weakref-1.0rc1 markdown-2.2.0 tensorflow-1.2.0\n",
            "Collecting tf-nightly\n",
            "  Downloading tf_nightly-1.6.0.dev20180105-cp27-cp27mu-manylinux1_x86_64.whl (43.8MB)\n",
            "\u001b[K    100% |████████████████████████████████| 43.8MB 26kB/s \n",
            "\u001b[?25hRequirement already satisfied: mock>=2.0.0 in /usr/local/lib/python2.7/dist-packages (from tf-nightly)\n",
            "Requirement already satisfied: protobuf>=3.4.0 in /usr/local/lib/python2.7/dist-packages (from tf-nightly)\n",
            "Collecting gast>=0.2.0 (from tf-nightly)\n",
            "  Downloading gast-0.2.0.tar.gz\n",
            "Requirement already satisfied: wheel in /usr/local/lib/python2.7/dist-packages (from tf-nightly)\n",
            "Collecting absl-py>=0.1.6 (from tf-nightly)\n",
            "  Downloading absl-py-0.1.7.tar.gz (78kB)\n",
            "\u001b[K    100% |████████████████████████████████| 81kB 4.9MB/s \n",
            "\u001b[?25hRequirement already satisfied: backports.weakref>=1.0rc1 in /usr/local/lib/python2.7/dist-packages (from tf-nightly)\n",
            "Requirement already satisfied: enum34>=1.1.6 in /usr/local/lib/python2.7/dist-packages (from tf-nightly)\n",
            "Requirement already satisfied: six>=1.10.0 in /usr/local/lib/python2.7/dist-packages (from tf-nightly)\n",
            "Collecting tb-nightly<1.6.0a0,>=1.5.0a0 (from tf-nightly)\n",
            "  Downloading tb_nightly-1.5.0a20180106-py2-none-any.whl (3.0MB)\n",
            "\u001b[K    100% |████████████████████████████████| 3.0MB 374kB/s \n",
            "\u001b[?25hRequirement already satisfied: numpy>=1.12.1 in /usr/local/lib/python2.7/dist-packages (from tf-nightly)\n",
            "Requirement already satisfied: funcsigs>=1; python_version < \"3.3\" in /usr/local/lib/python2.7/dist-packages (from mock>=2.0.0->tf-nightly)\n",
            "Requirement already satisfied: pbr>=0.11 in /usr/local/lib/python2.7/dist-packages (from mock>=2.0.0->tf-nightly)\n",
            "Requirement already satisfied: setuptools in /usr/local/lib/python2.7/dist-packages (from protobuf>=3.4.0->tf-nightly)\n",
            "Requirement already satisfied: bleach==1.5.0 in /usr/local/lib/python2.7/dist-packages (from tb-nightly<1.6.0a0,>=1.5.0a0->tf-nightly)\n",
            "Requirement already satisfied: futures>=3.1.1; python_version < \"3.2\" in /usr/local/lib/python2.7/dist-packages (from tb-nightly<1.6.0a0,>=1.5.0a0->tf-nightly)\n",
            "Requirement already satisfied: html5lib==0.9999999 in /usr/local/lib/python2.7/dist-packages (from tb-nightly<1.6.0a0,>=1.5.0a0->tf-nightly)\n",
            "Requirement already satisfied: werkzeug>=0.11.10 in /usr/local/lib/python2.7/dist-packages (from tb-nightly<1.6.0a0,>=1.5.0a0->tf-nightly)\n",
            "Collecting markdown>=2.6.8 (from tb-nightly<1.6.0a0,>=1.5.0a0->tf-nightly)\n"
          ],
          "name": "stdout"
        },
        {
          "output_type": "stream",
          "text": [
            "  Downloading Markdown-2.6.11-py2.py3-none-any.whl (78kB)\r\n",
            "\u001b[K    100% |████████████████████████████████| 81kB 9.8MB/s \n",
            "\u001b[?25hBuilding wheels for collected packages: gast, absl-py\n",
            "  Running setup.py bdist_wheel for gast ... \u001b[?25l-\b \bdone\n",
            "\u001b[?25h  Stored in directory: /content/.cache/pip/wheels/8e/fa/d6/77dd17d18ea23fd7b860e02623d27c1be451521af40dd4a13e\n",
            "  Running setup.py bdist_wheel for absl-py ... \u001b[?25l-\b \bdone\n",
            "\u001b[?25h  Stored in directory: /content/.cache/pip/wheels/c4/71/71/7bd70f858f062d3f99990dcbc3f45b795bde057a42f971537f\n",
            "Successfully built gast absl-py\n",
            "Installing collected packages: gast, absl-py, markdown, tb-nightly, tf-nightly\n",
            "  Found existing installation: Markdown 2.2.0\n",
            "    Uninstalling Markdown-2.2.0:\n",
            "      Successfully uninstalled Markdown-2.2.0\n",
            "Successfully installed absl-py-0.1.7 gast-0.2.0 markdown-2.6.11 tb-nightly-1.5.0a20180106 tf-nightly-1.6.0.dev20180105\n"
          ],
          "name": "stdout"
        }
      ]
    },
    {
      "metadata": {
        "id": "Of661DzX2HEF",
        "colab_type": "code",
        "colab": {
          "autoexec": {
            "startup": false,
            "wait_interval": 0
          },
          "output_extras": [
            {
              "item_id": 2
            }
          ],
          "base_uri": "https://localhost:8080/",
          "height": 102
        },
        "outputId": "b5d2ce81-e76c-49d6-f72d-cb91d92f13ed",
        "executionInfo": {
          "status": "ok",
          "timestamp": 1515266702023,
          "user_tz": -330,
          "elapsed": 3069,
          "user": {
            "displayName": "MalliKarjun Namagiri",
            "photoUrl": "//lh6.googleusercontent.com/-P9BYex3S098/AAAAAAAAAAI/AAAAAAAAAb8/1pQ09fHEnoo/s50-c-k-no/photo.jpg",
            "userId": "105053389068996960187"
          }
        }
      },
      "source": [
        "!pip install keras\n",
        "import keras"
      ],
      "cell_type": "code",
      "execution_count": 65,
      "outputs": [
        {
          "output_type": "stream",
          "text": [
            "Requirement already satisfied: keras in /usr/local/lib/python2.7/dist-packages\n",
            "Requirement already satisfied: pyyaml in /usr/local/lib/python2.7/dist-packages (from keras)\n",
            "Requirement already satisfied: six>=1.9.0 in /usr/local/lib/python2.7/dist-packages (from keras)\n",
            "Requirement already satisfied: numpy>=1.9.1 in /usr/local/lib/python2.7/dist-packages (from keras)\n",
            "Requirement already satisfied: scipy>=0.14 in /usr/local/lib/python2.7/dist-packages (from keras)\n"
          ],
          "name": "stdout"
        }
      ]
    },
    {
      "metadata": {
        "id": "W4WajsqC0isV",
        "colab_type": "code",
        "colab": {
          "autoexec": {
            "startup": false,
            "wait_interval": 0
          }
        }
      },
      "source": [
        "#importing Keras libraries and packages\n",
        "#import keras\n",
        "from keras.models import Sequential\n",
        "from keras.layers import Dense"
      ],
      "cell_type": "code",
      "execution_count": 0,
      "outputs": []
    },
    {
      "metadata": {
        "id": "PlP2YqOx2oUE",
        "colab_type": "code",
        "colab": {
          "autoexec": {
            "startup": false,
            "wait_interval": 0
          }
        }
      },
      "source": [
        "#initialising ANN\n",
        "classifier = Sequential()"
      ],
      "cell_type": "code",
      "execution_count": 0,
      "outputs": []
    },
    {
      "metadata": {
        "id": "jSOG5NlN28LE",
        "colab_type": "code",
        "colab": {
          "autoexec": {
            "startup": false,
            "wait_interval": 0
          },
          "output_extras": [
            {
              "item_id": 1
            }
          ],
          "base_uri": "https://localhost:8080/",
          "height": 71
        },
        "outputId": "5ed1092e-21e0-4bed-ca9b-aef9b1bf96cd",
        "executionInfo": {
          "status": "ok",
          "timestamp": 1515266837317,
          "user_tz": -330,
          "elapsed": 830,
          "user": {
            "displayName": "MalliKarjun Namagiri",
            "photoUrl": "//lh6.googleusercontent.com/-P9BYex3S098/AAAAAAAAAAI/AAAAAAAAAb8/1pQ09fHEnoo/s50-c-k-no/photo.jpg",
            "userId": "105053389068996960187"
          }
        }
      },
      "source": [
        "#Adding the input layer and first hidden layer\n",
        "classifier.add(Dense(output_dim = 14, kernel_initializer = 'uniform', activation = 'relu', input_dim = 28))"
      ],
      "cell_type": "code",
      "execution_count": 68,
      "outputs": [
        {
          "output_type": "stream",
          "text": [
            "/usr/local/lib/python2.7/dist-packages/ipykernel_launcher.py:1: UserWarning: Update your `Dense` call to the Keras 2 API: `Dense(units=14, activation=\"relu\", kernel_initializer=\"uniform\", input_dim=28)`\n",
            "  \"\"\"Entry point for launching an IPython kernel.\n"
          ],
          "name": "stderr"
        }
      ]
    },
    {
      "metadata": {
        "id": "P8Qy5DJy7ouD",
        "colab_type": "code",
        "colab": {
          "autoexec": {
            "startup": false,
            "wait_interval": 0
          },
          "output_extras": [
            {
              "item_id": 1
            }
          ],
          "base_uri": "https://localhost:8080/",
          "height": 71
        },
        "outputId": "5a19b223-05a6-41a0-8ec5-3b6ab7ae8573",
        "executionInfo": {
          "status": "ok",
          "timestamp": 1515266919072,
          "user_tz": -330,
          "elapsed": 829,
          "user": {
            "displayName": "MalliKarjun Namagiri",
            "photoUrl": "//lh6.googleusercontent.com/-P9BYex3S098/AAAAAAAAAAI/AAAAAAAAAb8/1pQ09fHEnoo/s50-c-k-no/photo.jpg",
            "userId": "105053389068996960187"
          }
        }
      },
      "source": [
        "#Adding the second hidden layer\n",
        "classifier.add(Dense(output_dim = 14, kernel_initializer = 'uniform', activation = 'relu'))"
      ],
      "cell_type": "code",
      "execution_count": 69,
      "outputs": [
        {
          "output_type": "stream",
          "text": [
            "/usr/local/lib/python2.7/dist-packages/ipykernel_launcher.py:1: UserWarning: Update your `Dense` call to the Keras 2 API: `Dense(units=14, activation=\"relu\", kernel_initializer=\"uniform\")`\n",
            "  \"\"\"Entry point for launching an IPython kernel.\n"
          ],
          "name": "stderr"
        }
      ]
    },
    {
      "metadata": {
        "id": "X_2qRdGA8z67",
        "colab_type": "code",
        "colab": {
          "autoexec": {
            "startup": false,
            "wait_interval": 0
          },
          "output_extras": [
            {
              "item_id": 1
            }
          ],
          "base_uri": "https://localhost:8080/",
          "height": 71
        },
        "outputId": "80cee2d9-bdf7-49a5-a396-6fedc4c7d031",
        "executionInfo": {
          "status": "ok",
          "timestamp": 1515267072349,
          "user_tz": -330,
          "elapsed": 841,
          "user": {
            "displayName": "MalliKarjun Namagiri",
            "photoUrl": "//lh6.googleusercontent.com/-P9BYex3S098/AAAAAAAAAAI/AAAAAAAAAb8/1pQ09fHEnoo/s50-c-k-no/photo.jpg",
            "userId": "105053389068996960187"
          }
        }
      },
      "source": [
        "#Adding the outpu layer\n",
        "classifier.add(Dense(output_dim = 1, kernel_initializer = 'uniform', activation = 'sigmoid'))"
      ],
      "cell_type": "code",
      "execution_count": 70,
      "outputs": [
        {
          "output_type": "stream",
          "text": [
            "/usr/local/lib/python2.7/dist-packages/ipykernel_launcher.py:1: UserWarning: Update your `Dense` call to the Keras 2 API: `Dense(units=1, activation=\"sigmoid\", kernel_initializer=\"uniform\")`\n",
            "  \"\"\"Entry point for launching an IPython kernel.\n"
          ],
          "name": "stderr"
        }
      ]
    },
    {
      "metadata": {
        "id": "fQZwMAP29Lwc",
        "colab_type": "code",
        "colab": {
          "autoexec": {
            "startup": false,
            "wait_interval": 0
          },
          "output_extras": [
            {
              "item_id": 1
            }
          ],
          "base_uri": "https://localhost:8080/",
          "height": 88
        },
        "outputId": "78116b26-ebaf-4c6e-c3ee-6c6464758b91",
        "executionInfo": {
          "status": "ok",
          "timestamp": 1515268382076,
          "user_tz": -330,
          "elapsed": 837,
          "user": {
            "displayName": "MalliKarjun Namagiri",
            "photoUrl": "//lh6.googleusercontent.com/-P9BYex3S098/AAAAAAAAAAI/AAAAAAAAAb8/1pQ09fHEnoo/s50-c-k-no/photo.jpg",
            "userId": "105053389068996960187"
          }
        }
      },
      "source": [
        "\n",
        "#Compiling the ANN\n",
        "from keras import backend as K\n",
        "def root_mean_squared_error(y_true, y_pred):\n",
        "        return K.sqrt(K.mean(K.square(y_pred - y_true), axis=-1)) \n",
        "\n",
        "classifier.compile(optimizer = \"rmsprop\", loss = root_mean_squared_error, metrics =[\"accuracy\"])\n"
      ],
      "cell_type": "code",
      "execution_count": 80,
      "outputs": [
        {
          "output_type": "stream",
          "text": [
            "WARNING:tensorflow:From /usr/local/lib/python2.7/dist-packages/keras/backend/tensorflow_backend.py:1349: calling reduce_mean (from tensorflow.python.ops.math_ops) with keep_dims is deprecated and will be removed in a future version.\n",
            "Instructions for updating:\n",
            "keep_dims is deprecated, use keepdims instead\n"
          ],
          "name": "stdout"
        }
      ]
    },
    {
      "metadata": {
        "id": "y1trftOAC0mp",
        "colab_type": "code",
        "colab": {
          "autoexec": {
            "startup": false,
            "wait_interval": 0
          },
          "output_extras": [
            {
              "item_id": 1
            },
            {
              "item_id": 146
            },
            {
              "item_id": 243
            },
            {
              "item_id": 387
            },
            {
              "item_id": 555
            },
            {
              "item_id": 701
            },
            {
              "item_id": 798
            },
            {
              "item_id": 944
            },
            {
              "item_id": 1114
            },
            {
              "item_id": 1260
            },
            {
              "item_id": 1364
            },
            {
              "item_id": 1516
            },
            {
              "item_id": 1689
            },
            {
              "item_id": 1840
            },
            {
              "item_id": 1941
            },
            {
              "item_id": 2093
            },
            {
              "item_id": 2271
            },
            {
              "item_id": 2419
            },
            {
              "item_id": 2521
            },
            {
              "item_id": 2673
            },
            {
              "item_id": 2849
            },
            {
              "item_id": 2999
            },
            {
              "item_id": 3102
            },
            {
              "item_id": 3255
            },
            {
              "item_id": 3429
            },
            {
              "item_id": 3511
            },
            {
              "item_id": 3656
            },
            {
              "item_id": 3821
            },
            {
              "item_id": 4007
            },
            {
              "item_id": 4153
            },
            {
              "item_id": 4250
            },
            {
              "item_id": 4396
            },
            {
              "item_id": 4537
            },
            {
              "item_id": 4680
            },
            {
              "item_id": 4777
            },
            {
              "item_id": 4925
            },
            {
              "item_id": 5091
            },
            {
              "item_id": 5235
            },
            {
              "item_id": 5333
            },
            {
              "item_id": 5480
            },
            {
              "item_id": 5641
            },
            {
              "item_id": 5690
            },
            {
              "item_id": 5781
            },
            {
              "item_id": 5926
            },
            {
              "item_id": 6095
            },
            {
              "item_id": 6240
            },
            {
              "item_id": 6336
            },
            {
              "item_id": 6482
            },
            {
              "item_id": 6650
            },
            {
              "item_id": 6794
            },
            {
              "item_id": 6882
            },
            {
              "item_id": 7027
            },
            {
              "item_id": 7198
            },
            {
              "item_id": 7351
            },
            {
              "item_id": 7452
            },
            {
              "item_id": 7596
            },
            {
              "item_id": 7766
            },
            {
              "item_id": 7846
            },
            {
              "item_id": 7988
            },
            {
              "item_id": 8159
            },
            {
              "item_id": 8346
            },
            {
              "item_id": 8490
            },
            {
              "item_id": 8588
            },
            {
              "item_id": 8735
            },
            {
              "item_id": 8909
            },
            {
              "item_id": 9056
            },
            {
              "item_id": 9156
            },
            {
              "item_id": 9307
            },
            {
              "item_id": 9482
            },
            {
              "item_id": 9626
            },
            {
              "item_id": 9726
            },
            {
              "item_id": 9875
            },
            {
              "item_id": 10048
            },
            {
              "item_id": 10194
            },
            {
              "item_id": 10293
            },
            {
              "item_id": 10439
            },
            {
              "item_id": 10612
            },
            {
              "item_id": 10756
            },
            {
              "item_id": 10854
            },
            {
              "item_id": 11000
            },
            {
              "item_id": 11172
            },
            {
              "item_id": 11315
            },
            {
              "item_id": 11412
            },
            {
              "item_id": 11555
            },
            {
              "item_id": 11724
            },
            {
              "item_id": 11863
            },
            {
              "item_id": 11960
            },
            {
              "item_id": 12102
            },
            {
              "item_id": 12267
            },
            {
              "item_id": 12407
            },
            {
              "item_id": 12501
            },
            {
              "item_id": 12641
            },
            {
              "item_id": 12803
            },
            {
              "item_id": 12941
            },
            {
              "item_id": 13032
            },
            {
              "item_id": 13168
            },
            {
              "item_id": 13330
            },
            {
              "item_id": 13466
            },
            {
              "item_id": 13557
            },
            {
              "item_id": 13695
            },
            {
              "item_id": 13857
            },
            {
              "item_id": 13992
            },
            {
              "item_id": 14082
            },
            {
              "item_id": 14217
            },
            {
              "item_id": 14373
            },
            {
              "item_id": 14506
            },
            {
              "item_id": 14596
            },
            {
              "item_id": 14729
            },
            {
              "item_id": 14884
            },
            {
              "item_id": 15016
            },
            {
              "item_id": 15100
            },
            {
              "item_id": 15226
            },
            {
              "item_id": 15380
            },
            {
              "item_id": 15511
            },
            {
              "item_id": 15597
            },
            {
              "item_id": 15728
            },
            {
              "item_id": 15879
            },
            {
              "item_id": 16008
            },
            {
              "item_id": 16094
            },
            {
              "item_id": 16223
            },
            {
              "item_id": 16374
            },
            {
              "item_id": 16501
            },
            {
              "item_id": 16587
            },
            {
              "item_id": 16714
            },
            {
              "item_id": 16861
            },
            {
              "item_id": 16982
            },
            {
              "item_id": 17066
            },
            {
              "item_id": 17193
            },
            {
              "item_id": 17342
            },
            {
              "item_id": 17466
            },
            {
              "item_id": 17550
            },
            {
              "item_id": 17676
            },
            {
              "item_id": 17821
            },
            {
              "item_id": 17942
            },
            {
              "item_id": 17980
            },
            {
              "item_id": 17981
            }
          ],
          "base_uri": "https://localhost:8080/",
          "height": 3488
        },
        "outputId": "a2f54f09-c73f-4e9c-ff65-1a7806f796ab",
        "executionInfo": {
          "status": "ok",
          "timestamp": 1515274842439,
          "user_tz": -330,
          "elapsed": 6099713,
          "user": {
            "displayName": "MalliKarjun Namagiri",
            "photoUrl": "//lh6.googleusercontent.com/-P9BYex3S098/AAAAAAAAAAI/AAAAAAAAAb8/1pQ09fHEnoo/s50-c-k-no/photo.jpg",
            "userId": "105053389068996960187"
          }
        }
      },
      "source": [
        "classifier.fit(X_train, y_train, batch_size = 10, nb_epoch = 100)"
      ],
      "cell_type": "code",
      "execution_count": 82,
      "outputs": [
        {
          "output_type": "stream",
          "text": [
            "/usr/local/lib/python2.7/dist-packages/keras/models.py:939: UserWarning: The `nb_epoch` argument in `fit` has been renamed `epochs`.\n",
            "  warnings.warn('The `nb_epoch` argument in `fit` '\n"
          ],
          "name": "stderr"
        },
        {
          "output_type": "stream",
          "text": [
            "Epoch 1/100\n",
            "428540/550068 [======================>.......] - ETA: 13s - loss: 9267.7436 - acc: 0.0000e+00"
          ],
          "name": "stdout"
        },
        {
          "output_type": "stream",
          "text": [
            "550068/550068 [==============================] - 61s 112us/step - loss: 9262.9694 - acc: 0.0000e+00\n",
            "Epoch 2/100\n",
            "157890/550068 [=======>......................] - ETA: 44s - loss: 9250.3534 - acc: 0.0000e+00"
          ],
          "name": "stdout"
        },
        {
          "output_type": "stream",
          "text": [
            "550068/550068 [==============================] - 61s 111us/step - loss: 9262.9687 - acc: 0.0000e+00\n",
            "Epoch 3/100\n",
            " 44130/550068 [=>............................] - ETA: 56s - loss: 9254.1274 - acc: 0.0000e+00"
          ],
          "name": "stdout"
        },
        {
          "output_type": "stream",
          "text": [
            "550068/550068 [==============================] - 61s 110us/step - loss: 9262.9687 - acc: 0.0000e+00\n"
          ],
          "name": "stdout"
        },
        {
          "output_type": "stream",
          "text": [
            "Epoch 4/100\n",
            "428230/550068 [======================>.......] - ETA: 13s - loss: 9261.1581 - acc: 0.0000e+00"
          ],
          "name": "stdout"
        },
        {
          "output_type": "stream",
          "text": [
            "550068/550068 [==============================] - 61s 112us/step - loss: 9262.9687 - acc: 0.0000e+00\n",
            "Epoch 5/100\n",
            "165870/550068 [========>.....................] - ETA: 42s - loss: 9270.7426 - acc: 0.0000e+00"
          ],
          "name": "stdout"
        },
        {
          "output_type": "stream",
          "text": [
            "550068/550068 [==============================] - 61s 111us/step - loss: 9262.9687 - acc: 0.0000e+00\n",
            "Epoch 6/100\n",
            " 44800/550068 [=>............................] - ETA: 56s - loss: 9251.2525 - acc: 0.0000e+00"
          ],
          "name": "stdout"
        },
        {
          "output_type": "stream",
          "text": [
            "550068/550068 [==============================] - 61s 111us/step - loss: 9262.9687 - acc: 0.0000e+00\n"
          ],
          "name": "stdout"
        },
        {
          "output_type": "stream",
          "text": [
            "Epoch 7/100\n",
            "421360/550068 [=====================>........] - ETA: 14s - loss: 9256.8286 - acc: 0.0000e+00"
          ],
          "name": "stdout"
        },
        {
          "output_type": "stream",
          "text": [
            "550068/550068 [==============================] - 62s 113us/step - loss: 9262.9687 - acc: 0.0000e+00\n",
            "Epoch 8/100\n",
            "163080/550068 [=======>......................] - ETA: 42s - loss: 9273.5481 - acc: 0.0000e+00"
          ],
          "name": "stdout"
        },
        {
          "output_type": "stream",
          "text": [
            "550068/550068 [==============================] - 61s 110us/step - loss: 9262.9687 - acc: 0.0000e+00\n",
            "Epoch 9/100\n",
            " 46610/550068 [=>............................] - ETA: 56s - loss: 9233.5680 - acc: 0.0000e+00"
          ],
          "name": "stdout"
        },
        {
          "output_type": "stream",
          "text": [
            "550068/550068 [==============================] - 61s 110us/step - loss: 9262.9687 - acc: 0.0000e+00\n"
          ],
          "name": "stdout"
        },
        {
          "output_type": "stream",
          "text": [
            "Epoch 10/100\n",
            "427940/550068 [======================>.......] - ETA: 13s - loss: 9260.0883 - acc: 0.0000e+00"
          ],
          "name": "stdout"
        },
        {
          "output_type": "stream",
          "text": [
            "550068/550068 [==============================] - 61s 110us/step - loss: 9262.9687 - acc: 0.0000e+00\n",
            "Epoch 11/100\n",
            "167080/550068 [========>.....................] - ETA: 42s - loss: 9248.8403 - acc: 0.0000e+00"
          ],
          "name": "stdout"
        },
        {
          "output_type": "stream",
          "text": [
            "550068/550068 [==============================] - 61s 110us/step - loss: 9262.9687 - acc: 0.0000e+00\n",
            "Epoch 12/100\n",
            " 46560/550068 [=>............................] - ETA: 56s - loss: 9301.5356 - acc: 0.0000e+00"
          ],
          "name": "stdout"
        },
        {
          "output_type": "stream",
          "text": [
            "550068/550068 [==============================] - 61s 110us/step - loss: 9262.9687 - acc: 0.0000e+00\n"
          ],
          "name": "stdout"
        },
        {
          "output_type": "stream",
          "text": [
            "Epoch 13/100\n",
            "426580/550068 [======================>.......] - ETA: 13s - loss: 9259.1216 - acc: 0.0000e+00"
          ],
          "name": "stdout"
        },
        {
          "output_type": "stream",
          "text": [
            "550068/550068 [==============================] - 61s 111us/step - loss: 9262.9687 - acc: 0.0000e+00\n",
            "Epoch 14/100\n",
            "164270/550068 [=======>......................] - ETA: 42s - loss: 9263.1033 - acc: 0.0000e+00"
          ],
          "name": "stdout"
        },
        {
          "output_type": "stream",
          "text": [
            "550068/550068 [==============================] - 61s 110us/step - loss: 9262.9687 - acc: 0.0000e+00\n",
            "Epoch 15/100\n",
            " 47410/550068 [=>............................] - ETA: 55s - loss: 9301.8092 - acc: 0.0000e+00"
          ],
          "name": "stdout"
        },
        {
          "output_type": "stream",
          "text": [
            "550068/550068 [==============================] - 60s 110us/step - loss: 9262.9687 - acc: 0.0000e+00\n"
          ],
          "name": "stdout"
        },
        {
          "output_type": "stream",
          "text": [
            "Epoch 16/100\n",
            "423620/550068 [======================>.......] - ETA: 14s - loss: 9259.2591 - acc: 0.0000e+00"
          ],
          "name": "stdout"
        },
        {
          "output_type": "stream",
          "text": [
            "550068/550068 [==============================] - 61s 111us/step - loss: 9262.9687 - acc: 0.0000e+00\n",
            "Epoch 17/100\n",
            "159870/550068 [=======>......................] - ETA: 44s - loss: 9277.8862 - acc: 0.0000e+00"
          ],
          "name": "stdout"
        },
        {
          "output_type": "stream",
          "text": [
            "550068/550068 [==============================] - 62s 112us/step - loss: 9262.9687 - acc: 0.0000e+00\n",
            "Epoch 18/100\n",
            " 39710/550068 [=>............................] - ETA: 58s - loss: 9241.5351 - acc: 0.0000e+00"
          ],
          "name": "stdout"
        },
        {
          "output_type": "stream",
          "text": [
            "528060/550068 [===========================>..] - ETA: 2s - loss: 9263.8424 - acc: 0.0000e+00"
          ],
          "name": "stdout"
        },
        {
          "output_type": "stream",
          "text": [
            "550068/550068 [==============================] - 62s 112us/step - loss: 9262.9687 - acc: 0.0000e+00\n",
            "Epoch 19/100\n",
            "207830/550068 [==========>...................] - ETA: 38s - loss: 9241.2682 - acc: 0.0000e+00"
          ],
          "name": "stdout"
        },
        {
          "output_type": "stream",
          "text": [
            "550068/550068 [==============================] - 61s 111us/step - loss: 9262.9687 - acc: 0.0000e+00\n",
            "Epoch 20/100\n",
            " 65880/550068 [==>...........................] - ETA: 53s - loss: 9265.0957 - acc: 0.0000e+00"
          ],
          "name": "stdout"
        },
        {
          "output_type": "stream",
          "text": [
            "550068/550068 [==============================] - 61s 111us/step - loss: 9262.9687 - acc: 0.0000e+00\n",
            "Epoch 21/100\n",
            "    10/550068 [..............................] - ETA: 45:07 - loss: 11437.7002 - acc: 0.0000e+00"
          ],
          "name": "stdout"
        },
        {
          "output_type": "stream",
          "text": [
            "550068/550068 [==============================] - 61s 110us/step - loss: 9262.9687 - acc: 0.0000e+00\n"
          ],
          "name": "stdout"
        },
        {
          "output_type": "stream",
          "text": [
            "Epoch 22/100\n",
            "428710/550068 [======================>.......] - ETA: 13s - loss: 9262.0586 - acc: 0.0000e+00"
          ],
          "name": "stdout"
        },
        {
          "output_type": "stream",
          "text": [
            "550068/550068 [==============================] - 61s 110us/step - loss: 9262.9687 - acc: 0.0000e+00\n",
            "Epoch 23/100\n",
            "165760/550068 [========>.....................] - ETA: 42s - loss: 9263.7836 - acc: 0.0000e+00"
          ],
          "name": "stdout"
        },
        {
          "output_type": "stream",
          "text": [
            "550068/550068 [==============================] - 61s 110us/step - loss: 9262.9687 - acc: 0.0000e+00\n",
            "Epoch 24/100\n",
            " 48900/550068 [=>............................] - ETA: 55s - loss: 9261.3891 - acc: 0.0000e+00"
          ],
          "name": "stdout"
        },
        {
          "output_type": "stream",
          "text": [
            "550068/550068 [==============================] - 60s 110us/step - loss: 9262.9687 - acc: 0.0000e+00\n"
          ],
          "name": "stdout"
        },
        {
          "output_type": "stream",
          "text": [
            "Epoch 25/100\n",
            "425490/550068 [======================>.......] - ETA: 13s - loss: 9257.5270 - acc: 0.0000e+00"
          ],
          "name": "stdout"
        },
        {
          "output_type": "stream",
          "text": [
            "550068/550068 [==============================] - 61s 111us/step - loss: 9262.9687 - acc: 0.0000e+00\n",
            "Epoch 26/100\n",
            "162800/550068 [=======>......................] - ETA: 42s - loss: 9258.0722 - acc: 0.0000e+00"
          ],
          "name": "stdout"
        },
        {
          "output_type": "stream",
          "text": [
            "550068/550068 [==============================] - 61s 111us/step - loss: 9262.9687 - acc: 0.0000e+00\n",
            "Epoch 27/100\n",
            " 44240/550068 [=>............................] - ETA: 55s - loss: 9242.4613 - acc: 0.0000e+00"
          ],
          "name": "stdout"
        },
        {
          "output_type": "stream",
          "text": [
            "550068/550068 [==============================] - 61s 111us/step - loss: 9262.9687 - acc: 0.0000e+00\n"
          ],
          "name": "stdout"
        },
        {
          "output_type": "stream",
          "text": [
            "Epoch 28/100\n",
            "425120/550068 [======================>.......] - ETA: 13s - loss: 9263.5694 - acc: 0.0000e+00"
          ],
          "name": "stdout"
        },
        {
          "output_type": "stream",
          "text": [
            "550068/550068 [==============================] - 61s 111us/step - loss: 9262.9687 - acc: 0.0000e+00\n",
            "Epoch 29/100\n",
            "163160/550068 [=======>......................] - ETA: 43s - loss: 9258.4940 - acc: 0.0000e+00"
          ],
          "name": "stdout"
        },
        {
          "output_type": "stream",
          "text": [
            "550068/550068 [==============================] - 61s 111us/step - loss: 9262.9687 - acc: 0.0000e+00\n",
            "Epoch 30/100\n",
            " 44890/550068 [=>............................] - ETA: 56s - loss: 9260.6857 - acc: 0.0000e+00"
          ],
          "name": "stdout"
        },
        {
          "output_type": "stream",
          "text": [
            "550068/550068 [==============================] - 61s 111us/step - loss: 9262.9687 - acc: 0.0000e+00\n"
          ],
          "name": "stdout"
        },
        {
          "output_type": "stream",
          "text": [
            "Epoch 31/100\n",
            "428510/550068 [======================>.......] - ETA: 13s - loss: 9263.6301 - acc: 0.0000e+00"
          ],
          "name": "stdout"
        },
        {
          "output_type": "stream",
          "text": [
            "550068/550068 [==============================] - 61s 111us/step - loss: 9262.9687 - acc: 0.0000e+00\n",
            "Epoch 32/100\n",
            "165380/550068 [========>.....................] - ETA: 42s - loss: 9258.6747 - acc: 0.0000e+00"
          ],
          "name": "stdout"
        },
        {
          "output_type": "stream",
          "text": [
            "550068/550068 [==============================] - 61s 110us/step - loss: 9262.9687 - acc: 0.0000e+00\n",
            "Epoch 33/100\n",
            " 46400/550068 [=>............................] - ETA: 56s - loss: 9272.8747 - acc: 0.0000e+00"
          ],
          "name": "stdout"
        },
        {
          "output_type": "stream",
          "text": [
            "550068/550068 [==============================] - 60s 110us/step - loss: 9262.9687 - acc: 0.0000e+00\n"
          ],
          "name": "stdout"
        },
        {
          "output_type": "stream",
          "text": [
            "Epoch 34/100\n",
            "429540/550068 [======================>.......] - ETA: 13s - loss: 9257.8763 - acc: 0.0000e+00"
          ],
          "name": "stdout"
        },
        {
          "output_type": "stream",
          "text": [
            "550068/550068 [==============================] - 61s 110us/step - loss: 9262.9687 - acc: 0.0000e+00\n",
            "Epoch 35/100\n",
            "167050/550068 [========>.....................]"
          ],
          "name": "stdout"
        },
        {
          "output_type": "stream",
          "text": [
            "550068/550068 [==============================] - 61s 110us/step - loss: 9262.9687 - acc: 0.0000e+00\n",
            "Epoch 36/100\n",
            " 47520/550068 [=>............................] - ETA: 56s - loss: 9263.2012 - acc: 0.0000e+00"
          ],
          "name": "stdout"
        },
        {
          "output_type": "stream",
          "text": [
            "550068/550068 [==============================] - 60s 110us/step - loss: 9262.9687 - acc: 0.0000e+00\n"
          ],
          "name": "stdout"
        },
        {
          "output_type": "stream",
          "text": [
            "Epoch 37/100\n",
            "431900/550068 [======================>.......] - ETA: 12s - loss: 9267.3015 - acc: 0.0000e+00"
          ],
          "name": "stdout"
        },
        {
          "output_type": "stream",
          "text": [
            "550068/550068 [==============================] - 61s 110us/step - loss: 9262.9687 - acc: 0.0000e+00\n",
            "Epoch 38/100\n",
            "169090/550068 [========>.....................] - ETA: 41s - loss: 9264.5111 - acc: 0.0000e+00"
          ],
          "name": "stdout"
        },
        {
          "output_type": "stream",
          "text": [
            "550068/550068 [==============================] - 61s 110us/step - loss: 9262.9687 - acc: 0.0000e+00\n",
            "Epoch 39/100\n",
            " 48290/550068 [=>............................] - ETA: 56s - loss: 9224.9404 - acc: 0.0000e+00"
          ],
          "name": "stdout"
        },
        {
          "output_type": "stream",
          "text": [
            "550068/550068 [==============================] - 61s 111us/step - loss: 9262.9687 - acc: 0.0000e+00\n"
          ],
          "name": "stdout"
        },
        {
          "output_type": "stream",
          "text": [
            "Epoch 40/100\n",
            "430290/550068 [======================>.......] - ETA: 13s - loss: 9261.7471 - acc: 0.0000e+00"
          ],
          "name": "stdout"
        },
        {
          "output_type": "stream",
          "text": [
            "550068/550068 [==============================] - 61s 110us/step - loss: 9262.9687 - acc: 0.0000e+00\n",
            "Epoch 41/100\n",
            "166450/550068 [========>.....................] - ETA: 42s - loss: 9244.8435 - acc: 0.0000e+00"
          ],
          "name": "stdout"
        },
        {
          "output_type": "stream",
          "text": [
            "550068/550068 [==============================] - 61s 110us/step - loss: 9262.9687 - acc: 0.0000e+00\n",
            "Epoch 42/100\n",
            " 46680/550068 [=>............................] - ETA: 55s - loss: 9251.1906 - acc: 0.0000e+00"
          ],
          "name": "stdout"
        },
        {
          "output_type": "stream",
          "text": [
            "541970/550068 [============================>.] - ETA: 0s - loss: 9263.2309 - acc: 0.0000e+00"
          ],
          "name": "stdout"
        },
        {
          "output_type": "stream",
          "text": [
            "550068/550068 [==============================] - 61s 110us/step - loss: 9262.9687 - acc: 0.0000e+00\n",
            "Epoch 43/100\n",
            "218230/550068 [==========>...................] - ETA: 36s - loss: 9270.0915 - acc: 0.0000e+00"
          ],
          "name": "stdout"
        },
        {
          "output_type": "stream",
          "text": [
            "550068/550068 [==============================] - 61s 110us/step - loss: 9262.9687 - acc: 0.0000e+00\n",
            "Epoch 44/100\n",
            " 71660/550068 [==>...........................] - ETA: 52s - loss: 9277.2708 - acc: 0.0000e+00"
          ],
          "name": "stdout"
        },
        {
          "output_type": "stream",
          "text": [
            "550068/550068 [==============================] - 61s 110us/step - loss: 9262.9687 - acc: 0.0000e+00\n",
            "Epoch 45/100\n",
            "  3600/550068 [..............................] - ETA: 1:09 - loss: 9345.8847 - acc: 0.0000e+00"
          ],
          "name": "stdout"
        },
        {
          "output_type": "stream",
          "text": [
            "550068/550068 [==============================] - 61s 111us/step - loss: 9262.9687 - acc: 0.0000e+00\n"
          ],
          "name": "stdout"
        },
        {
          "output_type": "stream",
          "text": [
            "Epoch 46/100\n",
            "429070/550068 [======================>.......] - ETA: 13s - loss: 9260.9712 - acc: 0.0000e+00"
          ],
          "name": "stdout"
        },
        {
          "output_type": "stream",
          "text": [
            "550068/550068 [==============================] - 61s 111us/step - loss: 9262.9687 - acc: 0.0000e+00\n",
            "Epoch 47/100\n",
            "164330/550068 [=======>......................] - ETA: 42s - loss: 9269.8010 - acc: 0.0000e+00"
          ],
          "name": "stdout"
        },
        {
          "output_type": "stream",
          "text": [
            "550068/550068 [==============================] - 61s 111us/step - loss: 9262.9687 - acc: 0.0000e+00\n",
            "Epoch 48/100\n",
            " 44020/550068 [=>............................] - ETA: 57s - loss: 9294.8895 - acc: 0.0000e+00"
          ],
          "name": "stdout"
        },
        {
          "output_type": "stream",
          "text": [
            "550068/550068 [==============================] - 62s 113us/step - loss: 9262.9687 - acc: 0.0000e+00\n"
          ],
          "name": "stdout"
        },
        {
          "output_type": "stream",
          "text": [
            "Epoch 49/100\n",
            "422660/550068 [======================>.......] - ETA: 14s - loss: 9269.4064 - acc: 0.0000e+00"
          ],
          "name": "stdout"
        },
        {
          "output_type": "stream",
          "text": [
            "550068/550068 [==============================] - 62s 112us/step - loss: 9262.9687 - acc: 0.0000e+00\n",
            "Epoch 50/100\n",
            "157180/550068 [=======>......................] - ETA: 44s - loss: 9273.8553 - acc: 0.0000e+00"
          ],
          "name": "stdout"
        },
        {
          "output_type": "stream",
          "text": [
            "550068/550068 [==============================] - 63s 114us/step - loss: 9262.9687 - acc: 0.0000e+00\n",
            "Epoch 51/100\n",
            " 35810/550068 [>.............................] - ETA: 58s - loss: 9263.3205 - acc: 0.0000e+00"
          ],
          "name": "stdout"
        },
        {
          "output_type": "stream",
          "text": [
            "550068/550068 [==============================] - 62s 112us/step - loss: 9262.9687 - acc: 0.0000e+00\n"
          ],
          "name": "stdout"
        },
        {
          "output_type": "stream",
          "text": [
            "Epoch 52/100\n",
            "422060/550068 [======================>.......] - ETA: 14s - loss: 9266.1800 - acc: 0.0000e+00"
          ],
          "name": "stdout"
        },
        {
          "output_type": "stream",
          "text": [
            "550068/550068 [==============================] - 61s 111us/step - loss: 9262.9687 - acc: 0.0000e+00\n",
            "Epoch 53/100\n",
            "160660/550068 [=======>......................] - ETA: 43s - loss: 9284.7849 - acc: 0.0000e+00"
          ],
          "name": "stdout"
        },
        {
          "output_type": "stream",
          "text": [
            "550068/550068 [==============================] - 61s 112us/step - loss: 9262.9687 - acc: 0.0000e+00\n",
            "Epoch 54/100\n",
            " 42390/550068 [=>............................] - ETA: 58s - loss: 9283.2127 - acc: 0.0000e+00"
          ],
          "name": "stdout"
        },
        {
          "output_type": "stream",
          "text": [
            "550068/550068 [==============================] - 61s 111us/step - loss: 9262.9687 - acc: 0.0000e+00\n"
          ],
          "name": "stdout"
        },
        {
          "output_type": "stream",
          "text": [
            "Epoch 55/100\n",
            "424360/550068 [======================>.......] - ETA: 14s - loss: 9260.4692 - acc: 0.0000e+00"
          ],
          "name": "stdout"
        },
        {
          "output_type": "stream",
          "text": [
            "550068/550068 [==============================] - 61s 112us/step - loss: 9262.9687 - acc: 0.0000e+00\n",
            "Epoch 56/100\n",
            "159970/550068 [=======>......................] - ETA: 43s - loss: 9259.5312 - acc: 0.0000e+00"
          ],
          "name": "stdout"
        },
        {
          "output_type": "stream",
          "text": [
            "550068/550068 [==============================] - 62s 112us/step - loss: 9262.9687 - acc: 0.0000e+00\n",
            "Epoch 57/100\n",
            " 41310/550068 [=>............................] - ETA: 58s - loss: 9255.7904 - acc: 0.0000e+00"
          ],
          "name": "stdout"
        },
        {
          "output_type": "stream",
          "text": [
            "550068/550068 [==============================] - 61s 112us/step - loss: 9262.9687 - acc: 0.0000e+00\n"
          ],
          "name": "stdout"
        },
        {
          "output_type": "stream",
          "text": [
            "Epoch 58/100\n",
            "420900/550068 [=====================>........] - ETA: 14s - loss: 9257.6951 - acc: 0.0000e+00"
          ],
          "name": "stdout"
        },
        {
          "output_type": "stream",
          "text": [
            "550068/550068 [==============================] - 62s 112us/step - loss: 9262.9687 - acc: 0.0000e+00\n",
            "Epoch 59/100\n",
            "159390/550068 [=======>......................] - ETA: 43s - loss: 9257.1492 - acc: 0.0000e+00"
          ],
          "name": "stdout"
        },
        {
          "output_type": "stream",
          "text": [
            "550068/550068 [==============================] - 61s 112us/step - loss: 9262.9687 - acc: 0.0000e+00\n",
            "Epoch 60/100\n",
            " 40310/550068 [=>............................] - ETA: 57s - loss: 9215.9956 - acc: 0.0000e+00"
          ],
          "name": "stdout"
        },
        {
          "output_type": "stream",
          "text": [
            "550068/550068 [==============================] - 61s 111us/step - loss: 9262.9687 - acc: 0.0000e+00\n"
          ],
          "name": "stdout"
        },
        {
          "output_type": "stream",
          "text": [
            "Epoch 61/100\n",
            "427130/550068 [======================>.......] - ETA: 13s - loss: 9263.5675 - acc: 0.0000e+00"
          ],
          "name": "stdout"
        },
        {
          "output_type": "stream",
          "text": [
            "550068/550068 [==============================] - 61s 111us/step - loss: 9262.9687 - acc: 0.0000e+00\n",
            "Epoch 62/100\n",
            "159900/550068 [=======>......................] - ETA: 44s - loss: 9268.3278 - acc: 0.0000e+00"
          ],
          "name": "stdout"
        },
        {
          "output_type": "stream",
          "text": [
            "550068/550068 [==============================] - 61s 112us/step - loss: 9262.9687 - acc: 0.0000e+00\n",
            "Epoch 63/100\n",
            " 43570/550068 [=>............................] - ETA: 55s - loss: 9240.3467 - acc: 0.0000e+00"
          ],
          "name": "stdout"
        },
        {
          "output_type": "stream",
          "text": [
            "550068/550068 [==============================] - 61s 112us/step - loss: 9262.9687 - acc: 0.0000e+00\n"
          ],
          "name": "stdout"
        },
        {
          "output_type": "stream",
          "text": [
            "Epoch 64/100\n",
            "418220/550068 [=====================>........] - ETA: 14s - loss: 9262.7514 - acc: 0.0000e+00"
          ],
          "name": "stdout"
        },
        {
          "output_type": "stream",
          "text": [
            "550068/550068 [==============================] - 62s 112us/step - loss: 9262.9687 - acc: 0.0000e+00\n",
            "Epoch 65/100\n",
            "157780/550068 [=======>......................] - ETA: 44s - loss: 9259.5688 - acc: 0.0000e+00"
          ],
          "name": "stdout"
        },
        {
          "output_type": "stream",
          "text": [
            "550068/550068 [==============================] - 61s 111us/step - loss: 9262.9687 - acc: 0.0000e+00\n",
            "Epoch 66/100\n",
            " 43890/550068 [=>............................] - ETA: 56s - loss: 9326.8145 - acc: 0.0000e+00"
          ],
          "name": "stdout"
        },
        {
          "output_type": "stream",
          "text": [
            "550068/550068 [==============================] - 61s 110us/step - loss: 9262.9687 - acc: 0.0000e+00\n"
          ],
          "name": "stdout"
        },
        {
          "output_type": "stream",
          "text": [
            "Epoch 67/100\n",
            "427370/550068 [======================>.......] - ETA: 13s - loss: 9259.8957 - acc: 0.0000e+00"
          ],
          "name": "stdout"
        },
        {
          "output_type": "stream",
          "text": [
            "550068/550068 [==============================] - 61s 111us/step - loss: 9262.9687 - acc: 0.0000e+00\n",
            "Epoch 68/100\n",
            "163010/550068 [=======>......................] - ETA: 43s - loss: 9287.6000 - acc: 0.0000e+00"
          ],
          "name": "stdout"
        },
        {
          "output_type": "stream",
          "text": [
            "550068/550068 [==============================] - 61s 110us/step - loss: 9262.9687 - acc: 0.0000e+00\n",
            "Epoch 69/100\n",
            " 47860/550068 [=>............................] - ETA: 55s - loss: 9287.7587 - acc: 0.0000e+00"
          ],
          "name": "stdout"
        },
        {
          "output_type": "stream",
          "text": [
            "550068/550068 [==============================] - 61s 110us/step - loss: 9262.9687 - acc: 0.0000e+00\n"
          ],
          "name": "stdout"
        },
        {
          "output_type": "stream",
          "text": [
            "Epoch 70/100\n",
            "429120/550068 [======================>.......] - ETA: 13s - loss: 9260.3780 - acc: 0.0000e+00"
          ],
          "name": "stdout"
        },
        {
          "output_type": "stream",
          "text": [
            "550068/550068 [==============================] - 61s 111us/step - loss: 9262.9687 - acc: 0.0000e+00\n",
            "Epoch 71/100\n",
            "166660/550068 [========>.....................] - ETA: 42s - loss: 9259.5003 - acc: 0.0000e+00"
          ],
          "name": "stdout"
        },
        {
          "output_type": "stream",
          "text": [
            "550068/550068 [==============================] - 61s 111us/step - loss: 9262.9687 - acc: 0.0000e+00\n",
            "Epoch 72/100\n",
            " 46150/550068 [=>............................] - ETA: 56s - loss: 9270.7979 - acc: 0.0000e+00"
          ],
          "name": "stdout"
        },
        {
          "output_type": "stream",
          "text": [
            "550068/550068 [==============================] - 61s 111us/step - loss: 9262.9687 - acc: 0.0000e+00\n"
          ],
          "name": "stdout"
        },
        {
          "output_type": "stream",
          "text": [
            "Epoch 73/100\n",
            "427430/550068 [======================>.......] - ETA: 13s - loss: 9264.7028 - acc: 0.0000e+00"
          ],
          "name": "stdout"
        },
        {
          "output_type": "stream",
          "text": [
            "550068/550068 [==============================] - 61s 111us/step - loss: 9262.9687 - acc: 0.0000e+00\n",
            "Epoch 74/100\n",
            "161430/550068 [=======>......................] - ETA: 43s - loss: 9274.2314 - acc: 0.0000e+00"
          ],
          "name": "stdout"
        },
        {
          "output_type": "stream",
          "text": [
            "550068/550068 [==============================] - 61s 111us/step - loss: 9262.9687 - acc: 0.0000e+00\n",
            "Epoch 75/100\n",
            " 43500/550068 [=>............................] - ETA: 56s - loss: 9280.3759 - acc: 0.0000e+00"
          ],
          "name": "stdout"
        },
        {
          "output_type": "stream",
          "text": [
            "550068/550068 [==============================] - 61s 112us/step - loss: 9262.9687 - acc: 0.0000e+00\n"
          ],
          "name": "stdout"
        },
        {
          "output_type": "stream",
          "text": [
            "Epoch 76/100\n",
            "428040/550068 [======================>.......] - ETA: 13s - loss: 9262.2637 - acc: 0.0000e+00"
          ],
          "name": "stdout"
        },
        {
          "output_type": "stream",
          "text": [
            "550068/550068 [==============================] - 61s 111us/step - loss: 9262.9687 - acc: 0.0000e+00\n",
            "Epoch 77/100\n",
            "165050/550068 [========>.....................] - ETA: 42s - loss: 9261.0735 - acc: 0.0000e+00"
          ],
          "name": "stdout"
        },
        {
          "output_type": "stream",
          "text": [
            "550068/550068 [==============================] - 61s 110us/step - loss: 9262.9687 - acc: 0.0000e+00\n",
            "Epoch 78/100\n",
            " 47320/550068 [=>............................] - ETA: 56s - loss: 9259.7965 - acc: 0.0000e+00"
          ],
          "name": "stdout"
        },
        {
          "output_type": "stream",
          "text": [
            "550068/550068 [==============================] - 61s 110us/step - loss: 9262.9687 - acc: 0.0000e+00\n"
          ],
          "name": "stdout"
        },
        {
          "output_type": "stream",
          "text": [
            "Epoch 79/100\n",
            "427860/550068 [======================>.......] - ETA: 13s - loss: 9260.0350 - acc: 0.0000e+00"
          ],
          "name": "stdout"
        },
        {
          "output_type": "stream",
          "text": [
            "550068/550068 [==============================] - 60s 110us/step - loss: 9262.9687 - acc: 0.0000e+00\n",
            "Epoch 80/100\n",
            "165260/550068 [========>.....................] - ETA: 42s - loss: 9273.2677 - acc: 0.0000e+00"
          ],
          "name": "stdout"
        },
        {
          "output_type": "stream",
          "text": [
            "550068/550068 [==============================] - 61s 110us/step - loss: 9262.9687 - acc: 0.0000e+00\n",
            "Epoch 81/100\n",
            " 46950/550068 [=>............................] - ETA: 55s - loss: 9269.8243 - acc: 0.0000e+00"
          ],
          "name": "stdout"
        },
        {
          "output_type": "stream",
          "text": [
            "550068/550068 [==============================] - 61s 111us/step - loss: 9262.9687 - acc: 0.0000e+00\n"
          ],
          "name": "stdout"
        },
        {
          "output_type": "stream",
          "text": [
            "Epoch 82/100\n",
            "432010/550068 [======================>.......] - ETA: 12s - loss: 9263.1022 - acc: 0.0000e+00"
          ],
          "name": "stdout"
        },
        {
          "output_type": "stream",
          "text": [
            "550068/550068 [==============================] - 61s 110us/step - loss: 9262.9687 - acc: 0.0000e+00\n",
            "Epoch 83/100\n",
            "165860/550068 [========>.....................] - ETA: 42s - loss: 9242.9428 - acc: 0.0000e+00"
          ],
          "name": "stdout"
        },
        {
          "output_type": "stream",
          "text": [
            "550068/550068 [==============================] - 61s 110us/step - loss: 9262.9687 - acc: 0.0000e+00\n",
            "Epoch 84/100\n",
            " 45330/550068 [=>............................] - ETA: 55s - loss: 9237.5668 - acc: 0.0000e+00"
          ],
          "name": "stdout"
        },
        {
          "output_type": "stream",
          "text": [
            "550068/550068 [==============================] - 60s 110us/step - loss: 9262.9687 - acc: 0.0000e+00\n"
          ],
          "name": "stdout"
        },
        {
          "output_type": "stream",
          "text": [
            "Epoch 85/100\n",
            "430250/550068 [======================>.......] - ETA: 13s - loss: 9265.7479 - acc: 0.0000e+00"
          ],
          "name": "stdout"
        },
        {
          "output_type": "stream",
          "text": [
            "550068/550068 [==============================] - 60s 110us/step - loss: 9262.9687 - acc: 0.0000e+00\n",
            "Epoch 86/100\n",
            "167610/550068 [========>.....................] - ETA: 42s - loss: 9266.7545 - acc: 0.0000e+00"
          ],
          "name": "stdout"
        },
        {
          "output_type": "stream",
          "text": [
            "550068/550068 [==============================] - 61s 111us/step - loss: 9262.9687 - acc: 0.0000e+00\n",
            "Epoch 87/100\n",
            " 45270/550068 [=>............................] - ETA: 57s - loss: 9272.5210 - acc: 0.0000e+00"
          ],
          "name": "stdout"
        },
        {
          "output_type": "stream",
          "text": [
            "550068/550068 [==============================] - 61s 111us/step - loss: 9262.9687 - acc: 0.0000e+00\n"
          ],
          "name": "stdout"
        },
        {
          "output_type": "stream",
          "text": [
            "Epoch 88/100\n",
            "428430/550068 [======================>.......] - ETA: 13s - loss: 9265.1288 - acc: 0.0000e+00"
          ],
          "name": "stdout"
        },
        {
          "output_type": "stream",
          "text": [
            "550068/550068 [==============================] - 61s 110us/step - loss: 9262.9687 - acc: 0.0000e+00\n",
            "Epoch 89/100\n",
            "162950/550068 [=======>......................] - ETA: 43s - loss: 9267.0021 - acc: 0.0000e+00"
          ],
          "name": "stdout"
        },
        {
          "output_type": "stream",
          "text": [
            "550068/550068 [==============================] - 61s 111us/step - loss: 9262.9687 - acc: 0.0000e+00\n",
            "Epoch 90/100\n",
            " 45510/550068 [=>............................] - ETA: 55s - loss: 9258.2865 - acc: 0.0000e+00"
          ],
          "name": "stdout"
        },
        {
          "output_type": "stream",
          "text": [
            "550068/550068 [==============================] - 61s 111us/step - loss: 9262.9687 - acc: 0.0000e+00\n"
          ],
          "name": "stdout"
        },
        {
          "output_type": "stream",
          "text": [
            "Epoch 91/100\n",
            "426690/550068 [======================>.......] - ETA: 13s - loss: 9266.4164 - acc: 0.0000e+00"
          ],
          "name": "stdout"
        },
        {
          "output_type": "stream",
          "text": [
            "550068/550068 [==============================] - 61s 110us/step - loss: 9262.9687 - acc: 0.0000e+00\n",
            "Epoch 92/100\n",
            "165990/550068 [========>.....................] - ETA: 42s - loss: 9263.8386 - acc: 0.0000e+00"
          ],
          "name": "stdout"
        },
        {
          "output_type": "stream",
          "text": [
            "550068/550068 [==============================] - 61s 110us/step - loss: 9262.9687 - acc: 0.0000e+00\n",
            "Epoch 93/100\n",
            " 48610/550068 [=>............................] - ETA: 55s - loss: 9262.4832 - acc: 0.0000e+00"
          ],
          "name": "stdout"
        },
        {
          "output_type": "stream",
          "text": [
            "550068/550068 [==============================] - 60s 110us/step - loss: 9262.9687 - acc: 0.0000e+00\n"
          ],
          "name": "stdout"
        },
        {
          "output_type": "stream",
          "text": [
            "Epoch 94/100\n",
            "426130/550068 [======================>.......] - ETA: 13s - loss: 9263.2590 - acc: 0.0000e+00"
          ],
          "name": "stdout"
        },
        {
          "output_type": "stream",
          "text": [
            "550068/550068 [==============================] - 61s 110us/step - loss: 9262.9687 - acc: 0.0000e+00\n",
            "Epoch 95/100\n",
            "164050/550068 [=======>......................] - ETA: 42s - loss: 9255.9357 - acc: 0.0000e+00"
          ],
          "name": "stdout"
        },
        {
          "output_type": "stream",
          "text": [
            "550068/550068 [==============================] - 61s 111us/step - loss: 9262.9687 - acc: 0.0000e+00\n",
            "Epoch 96/100\n",
            " 44570/550068 [=>............................] - ETA: 56s - loss: 9258.2063 - acc: 0.0000e+00"
          ],
          "name": "stdout"
        },
        {
          "output_type": "stream",
          "text": [
            "550068/550068 [==============================] - 61s 112us/step - loss: 9262.9687 - acc: 0.0000e+00\n"
          ],
          "name": "stdout"
        },
        {
          "output_type": "stream",
          "text": [
            "Epoch 97/100\n",
            "427220/550068 [======================>.......] - ETA: 13s - loss: 9265.4906 - acc: 0.0000e+00"
          ],
          "name": "stdout"
        },
        {
          "output_type": "stream",
          "text": [
            "550068/550068 [==============================] - 61s 110us/step - loss: 9262.9687 - acc: 0.0000e+00\n",
            "Epoch 98/100\n",
            "165170/550068 [========>.....................] - ETA: 42s - loss: 9250.6149 - acc: 0.0000e+00"
          ],
          "name": "stdout"
        },
        {
          "output_type": "stream",
          "text": [
            "550068/550068 [==============================] - 61s 110us/step - loss: 9262.9687 - acc: 0.0000e+00\n",
            "Epoch 99/100\n",
            " 46840/550068 [=>............................] - ETA: 57s - loss: 9245.7813 - acc: 0.0000e+00"
          ],
          "name": "stdout"
        },
        {
          "output_type": "stream",
          "text": [
            "550068/550068 [==============================] - 61s 111us/step - loss: 9262.9687 - acc: 0.0000e+00\n"
          ],
          "name": "stdout"
        },
        {
          "output_type": "stream",
          "text": [
            "Epoch 100/100\n",
            "418770/550068 [=====================>........] - ETA: 14s - loss: 9260.8666 - acc: 0.0000e+00"
          ],
          "name": "stdout"
        },
        {
          "output_type": "stream",
          "text": [
            "550068/550068 [==============================] - 61s 111us/step - loss: 9262.9687 - acc: 0.0000e+00\n"
          ],
          "name": "stdout"
        },
        {
          "output_type": "execute_result",
          "data": {
            "text/plain": [
              "<keras.callbacks.History at 0x7f66d0307d90>"
            ]
          },
          "metadata": {
            "tags": []
          },
          "execution_count": 82
        }
      ]
    },
    {
      "metadata": {
        "id": "j_cHuNFUa6lw",
        "colab_type": "code",
        "colab": {
          "autoexec": {
            "startup": false,
            "wait_interval": 0
          },
          "output_extras": [
            {
              "item_id": 1
            }
          ],
          "base_uri": "https://localhost:8080/",
          "height": 520
        },
        "outputId": "6f970586-7c08-46ef-fc9d-2836f5f3680a",
        "executionInfo": {
          "status": "error",
          "timestamp": 1515275828043,
          "user_tz": -330,
          "elapsed": 868,
          "user": {
            "displayName": "MalliKarjun Namagiri",
            "photoUrl": "//lh6.googleusercontent.com/-P9BYex3S098/AAAAAAAAAAI/AAAAAAAAAb8/1pQ09fHEnoo/s50-c-k-no/photo.jpg",
            "userId": "105053389068996960187"
          }
        }
      },
      "source": [
        "classifier.predict(sc_X.fit_transform(X_test))"
      ],
      "cell_type": "code",
      "execution_count": 90,
      "outputs": [
        {
          "output_type": "error",
          "ename": "ValueError",
          "evalue": "ignored",
          "traceback": [
            "\u001b[0;31m\u001b[0m",
            "\u001b[0;31mValueError\u001b[0mTraceback (most recent call last)",
            "\u001b[0;32m<ipython-input-90-8b148b5c30be>\u001b[0m in \u001b[0;36m<module>\u001b[0;34m()\u001b[0m\n\u001b[0;32m----> 1\u001b[0;31m \u001b[0mclassifier\u001b[0m\u001b[0;34m.\u001b[0m\u001b[0mpredict\u001b[0m\u001b[0;34m(\u001b[0m\u001b[0msc_X\u001b[0m\u001b[0;34m.\u001b[0m\u001b[0mfit_transform\u001b[0m\u001b[0;34m(\u001b[0m\u001b[0mX_test\u001b[0m\u001b[0;34m)\u001b[0m\u001b[0;34m)\u001b[0m\u001b[0;34m\u001b[0m\u001b[0m\n\u001b[0m",
            "\u001b[0;32m/usr/local/lib/python2.7/dist-packages/keras/models.pyc\u001b[0m in \u001b[0;36mpredict\u001b[0;34m(self, x, batch_size, verbose)\u001b[0m\n\u001b[1;32m   1004\u001b[0m         \u001b[0;32mif\u001b[0m \u001b[0;32mnot\u001b[0m \u001b[0mself\u001b[0m\u001b[0;34m.\u001b[0m\u001b[0mbuilt\u001b[0m\u001b[0;34m:\u001b[0m\u001b[0;34m\u001b[0m\u001b[0m\n\u001b[1;32m   1005\u001b[0m             \u001b[0mself\u001b[0m\u001b[0;34m.\u001b[0m\u001b[0mbuild\u001b[0m\u001b[0;34m(\u001b[0m\u001b[0;34m)\u001b[0m\u001b[0;34m\u001b[0m\u001b[0m\n\u001b[0;32m-> 1006\u001b[0;31m         \u001b[0;32mreturn\u001b[0m \u001b[0mself\u001b[0m\u001b[0;34m.\u001b[0m\u001b[0mmodel\u001b[0m\u001b[0;34m.\u001b[0m\u001b[0mpredict\u001b[0m\u001b[0;34m(\u001b[0m\u001b[0mx\u001b[0m\u001b[0;34m,\u001b[0m \u001b[0mbatch_size\u001b[0m\u001b[0;34m=\u001b[0m\u001b[0mbatch_size\u001b[0m\u001b[0;34m,\u001b[0m \u001b[0mverbose\u001b[0m\u001b[0;34m=\u001b[0m\u001b[0mverbose\u001b[0m\u001b[0;34m)\u001b[0m\u001b[0;34m\u001b[0m\u001b[0m\n\u001b[0m\u001b[1;32m   1007\u001b[0m \u001b[0;34m\u001b[0m\u001b[0m\n\u001b[1;32m   1008\u001b[0m     \u001b[0;32mdef\u001b[0m \u001b[0mpredict_on_batch\u001b[0m\u001b[0;34m(\u001b[0m\u001b[0mself\u001b[0m\u001b[0;34m,\u001b[0m \u001b[0mx\u001b[0m\u001b[0;34m)\u001b[0m\u001b[0;34m:\u001b[0m\u001b[0;34m\u001b[0m\u001b[0m\n",
            "\u001b[0;32m/usr/local/lib/python2.7/dist-packages/keras/engine/training.pyc\u001b[0m in \u001b[0;36mpredict\u001b[0;34m(self, x, batch_size, verbose, steps)\u001b[0m\n\u001b[1;32m   1770\u001b[0m         x = _standardize_input_data(x, self._feed_input_names,\n\u001b[1;32m   1771\u001b[0m                                     \u001b[0mself\u001b[0m\u001b[0;34m.\u001b[0m\u001b[0m_feed_input_shapes\u001b[0m\u001b[0;34m,\u001b[0m\u001b[0;34m\u001b[0m\u001b[0m\n\u001b[0;32m-> 1772\u001b[0;31m                                     check_batch_axis=False)\n\u001b[0m\u001b[1;32m   1773\u001b[0m         \u001b[0;32mif\u001b[0m \u001b[0mself\u001b[0m\u001b[0;34m.\u001b[0m\u001b[0mstateful\u001b[0m\u001b[0;34m:\u001b[0m\u001b[0;34m\u001b[0m\u001b[0m\n\u001b[1;32m   1774\u001b[0m             \u001b[0;32mif\u001b[0m \u001b[0mx\u001b[0m\u001b[0;34m[\u001b[0m\u001b[0;36m0\u001b[0m\u001b[0;34m]\u001b[0m\u001b[0;34m.\u001b[0m\u001b[0mshape\u001b[0m\u001b[0;34m[\u001b[0m\u001b[0;36m0\u001b[0m\u001b[0;34m]\u001b[0m \u001b[0;34m>\u001b[0m \u001b[0mbatch_size\u001b[0m \u001b[0;32mand\u001b[0m \u001b[0mx\u001b[0m\u001b[0;34m[\u001b[0m\u001b[0;36m0\u001b[0m\u001b[0;34m]\u001b[0m\u001b[0;34m.\u001b[0m\u001b[0mshape\u001b[0m\u001b[0;34m[\u001b[0m\u001b[0;36m0\u001b[0m\u001b[0;34m]\u001b[0m \u001b[0;34m%\u001b[0m \u001b[0mbatch_size\u001b[0m \u001b[0;34m!=\u001b[0m \u001b[0;36m0\u001b[0m\u001b[0;34m:\u001b[0m\u001b[0;34m\u001b[0m\u001b[0m\n",
            "\u001b[0;32m/usr/local/lib/python2.7/dist-packages/keras/engine/training.pyc\u001b[0m in \u001b[0;36m_standardize_input_data\u001b[0;34m(data, names, shapes, check_batch_axis, exception_prefix)\u001b[0m\n\u001b[1;32m    151\u001b[0m                             \u001b[0;34m' to have shape '\u001b[0m \u001b[0;34m+\u001b[0m \u001b[0mstr\u001b[0m\u001b[0;34m(\u001b[0m\u001b[0mshapes\u001b[0m\u001b[0;34m[\u001b[0m\u001b[0mi\u001b[0m\u001b[0;34m]\u001b[0m\u001b[0;34m)\u001b[0m \u001b[0;34m+\u001b[0m\u001b[0;34m\u001b[0m\u001b[0m\n\u001b[1;32m    152\u001b[0m                             \u001b[0;34m' but got array with shape '\u001b[0m \u001b[0;34m+\u001b[0m\u001b[0;34m\u001b[0m\u001b[0m\n\u001b[0;32m--> 153\u001b[0;31m                             str(array.shape))\n\u001b[0m\u001b[1;32m    154\u001b[0m     \u001b[0;32mreturn\u001b[0m \u001b[0marrays\u001b[0m\u001b[0;34m\u001b[0m\u001b[0m\n\u001b[1;32m    155\u001b[0m \u001b[0;34m\u001b[0m\u001b[0m\n",
            "\u001b[0;31mValueError\u001b[0m: Error when checking : expected dense_1_input to have shape (None, 28) but got array with shape (233599, 27)"
          ]
        }
      ]
    },
    {
      "metadata": {
        "id": "NL1mZJPreWuu",
        "colab_type": "code",
        "colab": {
          "autoexec": {
            "startup": false,
            "wait_interval": 0
          },
          "output_extras": [
            {
              "item_id": 1
            }
          ],
          "base_uri": "https://localhost:8080/",
          "height": 520
        },
        "outputId": "3ba18757-8b6a-4382-98b0-61363ade4071",
        "executionInfo": {
          "status": "error",
          "timestamp": 1515276463595,
          "user_tz": -330,
          "elapsed": 829,
          "user": {
            "displayName": "MalliKarjun Namagiri",
            "photoUrl": "//lh6.googleusercontent.com/-P9BYex3S098/AAAAAAAAAAI/AAAAAAAAAb8/1pQ09fHEnoo/s50-c-k-no/photo.jpg",
            "userId": "105053389068996960187"
          }
        }
      },
      "source": [
        "y_pred = classifier.predict(X_test)"
      ],
      "cell_type": "code",
      "execution_count": 99,
      "outputs": [
        {
          "output_type": "error",
          "ename": "ValueError",
          "evalue": "ignored",
          "traceback": [
            "\u001b[0;31m\u001b[0m",
            "\u001b[0;31mValueError\u001b[0mTraceback (most recent call last)",
            "\u001b[0;32m<ipython-input-99-20469ee708c2>\u001b[0m in \u001b[0;36m<module>\u001b[0;34m()\u001b[0m\n\u001b[0;32m----> 1\u001b[0;31m \u001b[0my_pred\u001b[0m \u001b[0;34m=\u001b[0m \u001b[0mclassifier\u001b[0m\u001b[0;34m.\u001b[0m\u001b[0mpredict\u001b[0m\u001b[0;34m(\u001b[0m\u001b[0mX_test\u001b[0m\u001b[0;34m)\u001b[0m\u001b[0;34m\u001b[0m\u001b[0m\n\u001b[0m",
            "\u001b[0;32m/usr/local/lib/python2.7/dist-packages/keras/models.pyc\u001b[0m in \u001b[0;36mpredict\u001b[0;34m(self, x, batch_size, verbose)\u001b[0m\n\u001b[1;32m   1004\u001b[0m         \u001b[0;32mif\u001b[0m \u001b[0;32mnot\u001b[0m \u001b[0mself\u001b[0m\u001b[0;34m.\u001b[0m\u001b[0mbuilt\u001b[0m\u001b[0;34m:\u001b[0m\u001b[0;34m\u001b[0m\u001b[0m\n\u001b[1;32m   1005\u001b[0m             \u001b[0mself\u001b[0m\u001b[0;34m.\u001b[0m\u001b[0mbuild\u001b[0m\u001b[0;34m(\u001b[0m\u001b[0;34m)\u001b[0m\u001b[0;34m\u001b[0m\u001b[0m\n\u001b[0;32m-> 1006\u001b[0;31m         \u001b[0;32mreturn\u001b[0m \u001b[0mself\u001b[0m\u001b[0;34m.\u001b[0m\u001b[0mmodel\u001b[0m\u001b[0;34m.\u001b[0m\u001b[0mpredict\u001b[0m\u001b[0;34m(\u001b[0m\u001b[0mx\u001b[0m\u001b[0;34m,\u001b[0m \u001b[0mbatch_size\u001b[0m\u001b[0;34m=\u001b[0m\u001b[0mbatch_size\u001b[0m\u001b[0;34m,\u001b[0m \u001b[0mverbose\u001b[0m\u001b[0;34m=\u001b[0m\u001b[0mverbose\u001b[0m\u001b[0;34m)\u001b[0m\u001b[0;34m\u001b[0m\u001b[0m\n\u001b[0m\u001b[1;32m   1007\u001b[0m \u001b[0;34m\u001b[0m\u001b[0m\n\u001b[1;32m   1008\u001b[0m     \u001b[0;32mdef\u001b[0m \u001b[0mpredict_on_batch\u001b[0m\u001b[0;34m(\u001b[0m\u001b[0mself\u001b[0m\u001b[0;34m,\u001b[0m \u001b[0mx\u001b[0m\u001b[0;34m)\u001b[0m\u001b[0;34m:\u001b[0m\u001b[0;34m\u001b[0m\u001b[0m\n",
            "\u001b[0;32m/usr/local/lib/python2.7/dist-packages/keras/engine/training.pyc\u001b[0m in \u001b[0;36mpredict\u001b[0;34m(self, x, batch_size, verbose, steps)\u001b[0m\n\u001b[1;32m   1770\u001b[0m         x = _standardize_input_data(x, self._feed_input_names,\n\u001b[1;32m   1771\u001b[0m                                     \u001b[0mself\u001b[0m\u001b[0;34m.\u001b[0m\u001b[0m_feed_input_shapes\u001b[0m\u001b[0;34m,\u001b[0m\u001b[0;34m\u001b[0m\u001b[0m\n\u001b[0;32m-> 1772\u001b[0;31m                                     check_batch_axis=False)\n\u001b[0m\u001b[1;32m   1773\u001b[0m         \u001b[0;32mif\u001b[0m \u001b[0mself\u001b[0m\u001b[0;34m.\u001b[0m\u001b[0mstateful\u001b[0m\u001b[0;34m:\u001b[0m\u001b[0;34m\u001b[0m\u001b[0m\n\u001b[1;32m   1774\u001b[0m             \u001b[0;32mif\u001b[0m \u001b[0mx\u001b[0m\u001b[0;34m[\u001b[0m\u001b[0;36m0\u001b[0m\u001b[0;34m]\u001b[0m\u001b[0;34m.\u001b[0m\u001b[0mshape\u001b[0m\u001b[0;34m[\u001b[0m\u001b[0;36m0\u001b[0m\u001b[0;34m]\u001b[0m \u001b[0;34m>\u001b[0m \u001b[0mbatch_size\u001b[0m \u001b[0;32mand\u001b[0m \u001b[0mx\u001b[0m\u001b[0;34m[\u001b[0m\u001b[0;36m0\u001b[0m\u001b[0;34m]\u001b[0m\u001b[0;34m.\u001b[0m\u001b[0mshape\u001b[0m\u001b[0;34m[\u001b[0m\u001b[0;36m0\u001b[0m\u001b[0;34m]\u001b[0m \u001b[0;34m%\u001b[0m \u001b[0mbatch_size\u001b[0m \u001b[0;34m!=\u001b[0m \u001b[0;36m0\u001b[0m\u001b[0;34m:\u001b[0m\u001b[0;34m\u001b[0m\u001b[0m\n",
            "\u001b[0;32m/usr/local/lib/python2.7/dist-packages/keras/engine/training.pyc\u001b[0m in \u001b[0;36m_standardize_input_data\u001b[0;34m(data, names, shapes, check_batch_axis, exception_prefix)\u001b[0m\n\u001b[1;32m    151\u001b[0m                             \u001b[0;34m' to have shape '\u001b[0m \u001b[0;34m+\u001b[0m \u001b[0mstr\u001b[0m\u001b[0;34m(\u001b[0m\u001b[0mshapes\u001b[0m\u001b[0;34m[\u001b[0m\u001b[0mi\u001b[0m\u001b[0;34m]\u001b[0m\u001b[0;34m)\u001b[0m \u001b[0;34m+\u001b[0m\u001b[0;34m\u001b[0m\u001b[0m\n\u001b[1;32m    152\u001b[0m                             \u001b[0;34m' but got array with shape '\u001b[0m \u001b[0;34m+\u001b[0m\u001b[0;34m\u001b[0m\u001b[0m\n\u001b[0;32m--> 153\u001b[0;31m                             str(array.shape))\n\u001b[0m\u001b[1;32m    154\u001b[0m     \u001b[0;32mreturn\u001b[0m \u001b[0marrays\u001b[0m\u001b[0;34m\u001b[0m\u001b[0m\n\u001b[1;32m    155\u001b[0m \u001b[0;34m\u001b[0m\u001b[0m\n",
            "\u001b[0;31mValueError\u001b[0m: Error when checking : expected dense_1_input to have shape (None, 28) but got array with shape (233599, 27)"
          ]
        }
      ]
    }
  ]
}