{
 "cells": [
  {
   "cell_type": "code",
   "execution_count": 0,
   "metadata": {
    "colab": {
     "autoexec": {
      "startup": false,
      "wait_interval": 0
     }
    },
    "colab_type": "code",
    "collapsed": true,
    "id": "KeFGl6TGk1ig"
   },
   "outputs": [],
   "source": [
    "import pandas as pd\n",
    "import numpy as np\n",
    "import matplotlib.pyplot as plt\n",
    "import seaborn as sns"
   ]
  },
  {
   "cell_type": "code",
   "execution_count": 0,
   "metadata": {
    "colab": {
     "autoexec": {
      "startup": false,
      "wait_interval": 0
     }
    },
    "colab_type": "code",
    "collapsed": true,
    "id": "59oy4iGHTlDi"
   },
   "outputs": [],
   "source": [
    "train_df = pd.read_csv('train.csv')\n",
    "test = pd.read_csv('test.csv')"
   ]
  },
  {
   "cell_type": "code",
   "execution_count": 3,
   "metadata": {
    "colab": {
     "autoexec": {
      "startup": false,
      "wait_interval": 0
     },
     "base_uri": "https://localhost:8080/",
     "height": 238,
     "output_extras": [
      {
       "item_id": 1
      }
     ]
    },
    "colab_type": "code",
    "executionInfo": {
     "elapsed": 824,
     "status": "ok",
     "timestamp": 1515344994163,
     "user": {
      "displayName": "MalliKarjun Namagiri",
      "photoUrl": "//lh6.googleusercontent.com/-P9BYex3S098/AAAAAAAAAAI/AAAAAAAAAb8/1pQ09fHEnoo/s50-c-k-no/photo.jpg",
      "userId": "105053389068996960187"
     },
     "user_tz": -330
    },
    "id": "PpK87PVNmHBB",
    "outputId": "367b6475-6c18-4ac2-86d9-a2432a645254"
   },
   "outputs": [
    {
     "data": {
      "text/plain": [
       "User_ID                       False\n",
       "Product_ID                    False\n",
       "Gender                        False\n",
       "Age                           False\n",
       "Occupation                    False\n",
       "City_Category                 False\n",
       "Stay_In_Current_City_Years    False\n",
       "Marital_Status                False\n",
       "Product_Category_1            False\n",
       "Product_Category_2             True\n",
       "Product_Category_3             True\n",
       "Purchase                      False\n",
       "dtype: bool"
      ]
     },
     "execution_count": 3,
     "metadata": {
      "tags": []
     },
     "output_type": "execute_result"
    }
   ],
   "source": [
    "train_df.isnull().any()"
   ]
  },
  {
   "cell_type": "code",
   "execution_count": 0,
   "metadata": {
    "colab": {
     "autoexec": {
      "startup": false,
      "wait_interval": 0
     },
     "base_uri": "https://localhost:8080/",
     "height": 221,
     "output_extras": [
      {}
     ]
    },
    "colab_type": "code",
    "executionInfo": {
     "elapsed": 896,
     "status": "ok",
     "timestamp": 1515009457929,
     "user": {
      "displayName": "MalliKarjun Namagiri",
      "photoUrl": "//lh6.googleusercontent.com/-P9BYex3S098/AAAAAAAAAAI/AAAAAAAAAb8/1pQ09fHEnoo/s50-c-k-no/photo.jpg",
      "userId": "105053389068996960187"
     },
     "user_tz": -330
    },
    "id": "9MdgSFJYmZEY",
    "outputId": "6ceb8e33-2361-490d-d0dc-364501936752"
   },
   "outputs": [
    {
     "data": {
      "text/plain": [
       "User_ID                       False\n",
       "Product_ID                    False\n",
       "Gender                        False\n",
       "Age                           False\n",
       "Occupation                    False\n",
       "City_Category                 False\n",
       "Stay_In_Current_City_Years    False\n",
       "Marital_Status                False\n",
       "Product_Category_1            False\n",
       "Product_Category_2             True\n",
       "Product_Category_3             True\n",
       "dtype: bool"
      ]
     },
     "execution_count": 19,
     "metadata": {
      "tags": []
     },
     "output_type": "execute_result"
    }
   ],
   "source": [
    "test.isnull().any()"
   ]
  },
  {
   "cell_type": "code",
   "execution_count": 0,
   "metadata": {
    "colab": {
     "autoexec": {
      "startup": false,
      "wait_interval": 0
     },
     "base_uri": "https://localhost:8080/",
     "height": 34,
     "output_extras": [
      {}
     ]
    },
    "colab_type": "code",
    "executionInfo": {
     "elapsed": 880,
     "status": "ok",
     "timestamp": 1515264453623,
     "user": {
      "displayName": "MalliKarjun Namagiri",
      "photoUrl": "//lh6.googleusercontent.com/-P9BYex3S098/AAAAAAAAAAI/AAAAAAAAAb8/1pQ09fHEnoo/s50-c-k-no/photo.jpg",
      "userId": "105053389068996960187"
     },
     "user_tz": -330
    },
    "id": "Q89mHh7xzF-d",
    "outputId": "1712f9f7-52b5-4e30-d6e2-8a65b9ea6a72"
   },
   "outputs": [
    {
     "name": "stdout",
     "output_type": "stream",
     "text": [
      "550068\n"
     ]
    }
   ],
   "source": [
    "print(len(train_df))"
   ]
  },
  {
   "cell_type": "code",
   "execution_count": 0,
   "metadata": {
    "colab": {
     "autoexec": {
      "startup": false,
      "wait_interval": 0
     }
    },
    "colab_type": "code",
    "collapsed": true,
    "id": "II_mPLcDnuWR"
   },
   "outputs": [],
   "source": [
    "#handling the missing values in Product_Category_2 &3 variables\n",
    "train_df['Product_Category_2'] = train_df['Product_Category_2'].fillna(train_df['Product_Category_2'].mean())\n",
    "train_df['Product_Category_3'] = train_df['Product_Category_3'].fillna(train_df['Product_Category_3'].mean())\n",
    "\n",
    "test['Product_Category_2'] = test['Product_Category_2'].fillna(test['Product_Category_2'].mean())\n",
    "test['Product_Category_3'] = test['Product_Category_3'].fillna(test['Product_Category_3'].mean())"
   ]
  },
  {
   "cell_type": "code",
   "execution_count": 0,
   "metadata": {
    "colab": {
     "autoexec": {
      "startup": false,
      "wait_interval": 0
     },
     "base_uri": "https://localhost:8080/",
     "height": 532,
     "output_extras": [
      {}
     ]
    },
    "colab_type": "code",
    "executionInfo": {
     "elapsed": 1125,
     "status": "ok",
     "timestamp": 1515264019893,
     "user": {
      "displayName": "MalliKarjun Namagiri",
      "photoUrl": "//lh6.googleusercontent.com/-P9BYex3S098/AAAAAAAAAAI/AAAAAAAAAb8/1pQ09fHEnoo/s50-c-k-no/photo.jpg",
      "userId": "105053389068996960187"
     },
     "user_tz": -330
    },
    "id": "9bWxouMMoz0F",
    "outputId": "23a59fda-2e8e-4972-cf67-d6a2a088f3d8"
   },
   "outputs": [
    {
     "data": {
      "text/html": [
       "<div>\n",
       "<style>\n",
       "    .dataframe thead tr:only-child th {\n",
       "        text-align: right;\n",
       "    }\n",
       "\n",
       "    .dataframe thead th {\n",
       "        text-align: left;\n",
       "    }\n",
       "\n",
       "    .dataframe tbody tr th {\n",
       "        vertical-align: top;\n",
       "    }\n",
       "</style>\n",
       "<table border=\"1\" class=\"dataframe\">\n",
       "  <thead>\n",
       "    <tr style=\"text-align: right;\">\n",
       "      <th></th>\n",
       "      <th>User_ID</th>\n",
       "      <th>Product_ID</th>\n",
       "      <th>Gender</th>\n",
       "      <th>Age</th>\n",
       "      <th>Occupation</th>\n",
       "      <th>City_Category</th>\n",
       "      <th>Stay_In_Current_City_Years</th>\n",
       "      <th>Marital_Status</th>\n",
       "      <th>Product_Category_1</th>\n",
       "      <th>Product_Category_2</th>\n",
       "      <th>Product_Category_3</th>\n",
       "      <th>Purchase</th>\n",
       "    </tr>\n",
       "  </thead>\n",
       "  <tbody>\n",
       "    <tr>\n",
       "      <th>0</th>\n",
       "      <td>1000001</td>\n",
       "      <td>P00069042</td>\n",
       "      <td>F</td>\n",
       "      <td>0-17</td>\n",
       "      <td>10</td>\n",
       "      <td>A</td>\n",
       "      <td>2</td>\n",
       "      <td>0</td>\n",
       "      <td>3</td>\n",
       "      <td>9.842329</td>\n",
       "      <td>12.668243</td>\n",
       "      <td>8370</td>\n",
       "    </tr>\n",
       "    <tr>\n",
       "      <th>1</th>\n",
       "      <td>1000001</td>\n",
       "      <td>P00248942</td>\n",
       "      <td>F</td>\n",
       "      <td>0-17</td>\n",
       "      <td>10</td>\n",
       "      <td>A</td>\n",
       "      <td>2</td>\n",
       "      <td>0</td>\n",
       "      <td>1</td>\n",
       "      <td>6.000000</td>\n",
       "      <td>14.000000</td>\n",
       "      <td>15200</td>\n",
       "    </tr>\n",
       "    <tr>\n",
       "      <th>2</th>\n",
       "      <td>1000001</td>\n",
       "      <td>P00087842</td>\n",
       "      <td>F</td>\n",
       "      <td>0-17</td>\n",
       "      <td>10</td>\n",
       "      <td>A</td>\n",
       "      <td>2</td>\n",
       "      <td>0</td>\n",
       "      <td>12</td>\n",
       "      <td>9.842329</td>\n",
       "      <td>12.668243</td>\n",
       "      <td>1422</td>\n",
       "    </tr>\n",
       "    <tr>\n",
       "      <th>3</th>\n",
       "      <td>1000001</td>\n",
       "      <td>P00085442</td>\n",
       "      <td>F</td>\n",
       "      <td>0-17</td>\n",
       "      <td>10</td>\n",
       "      <td>A</td>\n",
       "      <td>2</td>\n",
       "      <td>0</td>\n",
       "      <td>12</td>\n",
       "      <td>14.000000</td>\n",
       "      <td>12.668243</td>\n",
       "      <td>1057</td>\n",
       "    </tr>\n",
       "    <tr>\n",
       "      <th>4</th>\n",
       "      <td>1000002</td>\n",
       "      <td>P00285442</td>\n",
       "      <td>M</td>\n",
       "      <td>55+</td>\n",
       "      <td>16</td>\n",
       "      <td>C</td>\n",
       "      <td>4+</td>\n",
       "      <td>0</td>\n",
       "      <td>8</td>\n",
       "      <td>9.842329</td>\n",
       "      <td>12.668243</td>\n",
       "      <td>7969</td>\n",
       "    </tr>\n",
       "    <tr>\n",
       "      <th>5</th>\n",
       "      <td>1000003</td>\n",
       "      <td>P00193542</td>\n",
       "      <td>M</td>\n",
       "      <td>26-35</td>\n",
       "      <td>15</td>\n",
       "      <td>A</td>\n",
       "      <td>3</td>\n",
       "      <td>0</td>\n",
       "      <td>1</td>\n",
       "      <td>2.000000</td>\n",
       "      <td>12.668243</td>\n",
       "      <td>15227</td>\n",
       "    </tr>\n",
       "    <tr>\n",
       "      <th>6</th>\n",
       "      <td>1000004</td>\n",
       "      <td>P00184942</td>\n",
       "      <td>M</td>\n",
       "      <td>46-50</td>\n",
       "      <td>7</td>\n",
       "      <td>B</td>\n",
       "      <td>2</td>\n",
       "      <td>1</td>\n",
       "      <td>1</td>\n",
       "      <td>8.000000</td>\n",
       "      <td>17.000000</td>\n",
       "      <td>19215</td>\n",
       "    </tr>\n",
       "    <tr>\n",
       "      <th>7</th>\n",
       "      <td>1000004</td>\n",
       "      <td>P00346142</td>\n",
       "      <td>M</td>\n",
       "      <td>46-50</td>\n",
       "      <td>7</td>\n",
       "      <td>B</td>\n",
       "      <td>2</td>\n",
       "      <td>1</td>\n",
       "      <td>1</td>\n",
       "      <td>15.000000</td>\n",
       "      <td>12.668243</td>\n",
       "      <td>15854</td>\n",
       "    </tr>\n",
       "    <tr>\n",
       "      <th>8</th>\n",
       "      <td>1000004</td>\n",
       "      <td>P0097242</td>\n",
       "      <td>M</td>\n",
       "      <td>46-50</td>\n",
       "      <td>7</td>\n",
       "      <td>B</td>\n",
       "      <td>2</td>\n",
       "      <td>1</td>\n",
       "      <td>1</td>\n",
       "      <td>16.000000</td>\n",
       "      <td>12.668243</td>\n",
       "      <td>15686</td>\n",
       "    </tr>\n",
       "    <tr>\n",
       "      <th>9</th>\n",
       "      <td>1000005</td>\n",
       "      <td>P00274942</td>\n",
       "      <td>M</td>\n",
       "      <td>26-35</td>\n",
       "      <td>20</td>\n",
       "      <td>A</td>\n",
       "      <td>1</td>\n",
       "      <td>1</td>\n",
       "      <td>8</td>\n",
       "      <td>9.842329</td>\n",
       "      <td>12.668243</td>\n",
       "      <td>7871</td>\n",
       "    </tr>\n",
       "  </tbody>\n",
       "</table>\n",
       "</div>"
      ],
      "text/plain": [
       "   User_ID Product_ID Gender    Age  Occupation City_Category  \\\n",
       "0  1000001  P00069042      F   0-17          10             A   \n",
       "1  1000001  P00248942      F   0-17          10             A   \n",
       "2  1000001  P00087842      F   0-17          10             A   \n",
       "3  1000001  P00085442      F   0-17          10             A   \n",
       "4  1000002  P00285442      M    55+          16             C   \n",
       "5  1000003  P00193542      M  26-35          15             A   \n",
       "6  1000004  P00184942      M  46-50           7             B   \n",
       "7  1000004  P00346142      M  46-50           7             B   \n",
       "8  1000004   P0097242      M  46-50           7             B   \n",
       "9  1000005  P00274942      M  26-35          20             A   \n",
       "\n",
       "  Stay_In_Current_City_Years  Marital_Status  Product_Category_1  \\\n",
       "0                          2               0                   3   \n",
       "1                          2               0                   1   \n",
       "2                          2               0                  12   \n",
       "3                          2               0                  12   \n",
       "4                         4+               0                   8   \n",
       "5                          3               0                   1   \n",
       "6                          2               1                   1   \n",
       "7                          2               1                   1   \n",
       "8                          2               1                   1   \n",
       "9                          1               1                   8   \n",
       "\n",
       "   Product_Category_2  Product_Category_3  Purchase  \n",
       "0            9.842329           12.668243      8370  \n",
       "1            6.000000           14.000000     15200  \n",
       "2            9.842329           12.668243      1422  \n",
       "3           14.000000           12.668243      1057  \n",
       "4            9.842329           12.668243      7969  \n",
       "5            2.000000           12.668243     15227  \n",
       "6            8.000000           17.000000     19215  \n",
       "7           15.000000           12.668243     15854  \n",
       "8           16.000000           12.668243     15686  \n",
       "9            9.842329           12.668243      7871  "
      ]
     },
     "execution_count": 37,
     "metadata": {
      "tags": []
     },
     "output_type": "execute_result"
    }
   ],
   "source": [
    "train_df.head(10)"
   ]
  },
  {
   "cell_type": "code",
   "execution_count": 0,
   "metadata": {
    "colab": {
     "autoexec": {
      "startup": false,
      "wait_interval": 0
     },
     "base_uri": "https://localhost:8080/",
     "height": 309,
     "output_extras": [
      {}
     ]
    },
    "colab_type": "code",
    "executionInfo": {
     "elapsed": 717,
     "status": "ok",
     "timestamp": 1515262820162,
     "user": {
      "displayName": "MalliKarjun Namagiri",
      "photoUrl": "//lh6.googleusercontent.com/-P9BYex3S098/AAAAAAAAAAI/AAAAAAAAAb8/1pQ09fHEnoo/s50-c-k-no/photo.jpg",
      "userId": "105053389068996960187"
     },
     "user_tz": -330
    },
    "id": "pzJP-GOhs53r",
    "outputId": "bc486c3d-39c7-4d22-dda2-37aa253db4cc"
   },
   "outputs": [
    {
     "data": {
      "text/html": [
       "<div>\n",
       "<style>\n",
       "    .dataframe thead tr:only-child th {\n",
       "        text-align: right;\n",
       "    }\n",
       "\n",
       "    .dataframe thead th {\n",
       "        text-align: left;\n",
       "    }\n",
       "\n",
       "    .dataframe tbody tr th {\n",
       "        vertical-align: top;\n",
       "    }\n",
       "</style>\n",
       "<table border=\"1\" class=\"dataframe\">\n",
       "  <thead>\n",
       "    <tr style=\"text-align: right;\">\n",
       "      <th></th>\n",
       "      <th>User_ID</th>\n",
       "      <th>Product_ID</th>\n",
       "      <th>Gender</th>\n",
       "      <th>Age</th>\n",
       "      <th>Occupation</th>\n",
       "      <th>City_Category</th>\n",
       "      <th>Stay_In_Current_City_Years</th>\n",
       "      <th>Marital_Status</th>\n",
       "      <th>Product_Category_1</th>\n",
       "      <th>Product_Category_2</th>\n",
       "      <th>Product_Category_3</th>\n",
       "    </tr>\n",
       "  </thead>\n",
       "  <tbody>\n",
       "    <tr>\n",
       "      <th>0</th>\n",
       "      <td>1000004</td>\n",
       "      <td>P00128942</td>\n",
       "      <td>M</td>\n",
       "      <td>46-50</td>\n",
       "      <td>7</td>\n",
       "      <td>B</td>\n",
       "      <td>2</td>\n",
       "      <td>1</td>\n",
       "      <td>1</td>\n",
       "      <td>11.0</td>\n",
       "      <td>12.669454</td>\n",
       "    </tr>\n",
       "    <tr>\n",
       "      <th>1</th>\n",
       "      <td>1000009</td>\n",
       "      <td>P00113442</td>\n",
       "      <td>M</td>\n",
       "      <td>26-35</td>\n",
       "      <td>17</td>\n",
       "      <td>C</td>\n",
       "      <td>0</td>\n",
       "      <td>0</td>\n",
       "      <td>3</td>\n",
       "      <td>5.0</td>\n",
       "      <td>12.669454</td>\n",
       "    </tr>\n",
       "    <tr>\n",
       "      <th>2</th>\n",
       "      <td>1000010</td>\n",
       "      <td>P00288442</td>\n",
       "      <td>F</td>\n",
       "      <td>36-45</td>\n",
       "      <td>1</td>\n",
       "      <td>B</td>\n",
       "      <td>4+</td>\n",
       "      <td>1</td>\n",
       "      <td>5</td>\n",
       "      <td>14.0</td>\n",
       "      <td>12.669454</td>\n",
       "    </tr>\n",
       "    <tr>\n",
       "      <th>3</th>\n",
       "      <td>1000010</td>\n",
       "      <td>P00145342</td>\n",
       "      <td>F</td>\n",
       "      <td>36-45</td>\n",
       "      <td>1</td>\n",
       "      <td>B</td>\n",
       "      <td>4+</td>\n",
       "      <td>1</td>\n",
       "      <td>4</td>\n",
       "      <td>9.0</td>\n",
       "      <td>12.669454</td>\n",
       "    </tr>\n",
       "    <tr>\n",
       "      <th>4</th>\n",
       "      <td>1000011</td>\n",
       "      <td>P00053842</td>\n",
       "      <td>F</td>\n",
       "      <td>26-35</td>\n",
       "      <td>1</td>\n",
       "      <td>C</td>\n",
       "      <td>1</td>\n",
       "      <td>0</td>\n",
       "      <td>4</td>\n",
       "      <td>5.0</td>\n",
       "      <td>12.000000</td>\n",
       "    </tr>\n",
       "  </tbody>\n",
       "</table>\n",
       "</div>"
      ],
      "text/plain": [
       "   User_ID Product_ID Gender    Age  Occupation City_Category  \\\n",
       "0  1000004  P00128942      M  46-50           7             B   \n",
       "1  1000009  P00113442      M  26-35          17             C   \n",
       "2  1000010  P00288442      F  36-45           1             B   \n",
       "3  1000010  P00145342      F  36-45           1             B   \n",
       "4  1000011  P00053842      F  26-35           1             C   \n",
       "\n",
       "  Stay_In_Current_City_Years  Marital_Status  Product_Category_1  \\\n",
       "0                          2               1                   1   \n",
       "1                          0               0                   3   \n",
       "2                         4+               1                   5   \n",
       "3                         4+               1                   4   \n",
       "4                          1               0                   4   \n",
       "\n",
       "   Product_Category_2  Product_Category_3  \n",
       "0                11.0           12.669454  \n",
       "1                 5.0           12.669454  \n",
       "2                14.0           12.669454  \n",
       "3                 9.0           12.669454  \n",
       "4                 5.0           12.000000  "
      ]
     },
     "execution_count": 19,
     "metadata": {
      "tags": []
     },
     "output_type": "execute_result"
    }
   ],
   "source": [
    "test.head()"
   ]
  },
  {
   "cell_type": "code",
   "execution_count": 0,
   "metadata": {
    "colab": {
     "autoexec": {
      "startup": false,
      "wait_interval": 0
     },
     "base_uri": "https://localhost:8080/",
     "height": 102,
     "output_extras": [
      {}
     ]
    },
    "colab_type": "code",
    "executionInfo": {
     "elapsed": 869,
     "status": "ok",
     "timestamp": 1515262182857,
     "user": {
      "displayName": "MalliKarjun Namagiri",
      "photoUrl": "//lh6.googleusercontent.com/-P9BYex3S098/AAAAAAAAAAI/AAAAAAAAAb8/1pQ09fHEnoo/s50-c-k-no/photo.jpg",
      "userId": "105053389068996960187"
     },
     "user_tz": -330
    },
    "id": "BL3SDSQhme3V",
    "outputId": "2d054919-f9de-4416-af26-9205b1a5fde7"
   },
   "outputs": [
    {
     "data": {
      "text/plain": [
       "Index([u'User_ID', u'Product_ID', u'Gender', u'Age', u'Occupation',\n",
       "       u'City_Category', u'Stay_In_Current_City_Years', u'Marital_Status',\n",
       "       u'Product_Category_1', u'Product_Category_2', u'Product_Category_3',\n",
       "       u'Purchase'],\n",
       "      dtype='object')"
      ]
     },
     "execution_count": 9,
     "metadata": {
      "tags": []
     },
     "output_type": "execute_result"
    }
   ],
   "source": [
    "train_df.columns"
   ]
  },
  {
   "cell_type": "code",
   "execution_count": 0,
   "metadata": {
    "colab": {
     "autoexec": {
      "startup": false,
      "wait_interval": 0
     },
     "base_uri": "https://localhost:8080/",
     "height": 153,
     "output_extras": [
      {}
     ]
    },
    "colab_type": "code",
    "executionInfo": {
     "elapsed": 1010,
     "status": "ok",
     "timestamp": 1515262483391,
     "user": {
      "displayName": "MalliKarjun Namagiri",
      "photoUrl": "//lh6.googleusercontent.com/-P9BYex3S098/AAAAAAAAAAI/AAAAAAAAAb8/1pQ09fHEnoo/s50-c-k-no/photo.jpg",
      "userId": "105053389068996960187"
     },
     "user_tz": -330
    },
    "id": "mePRnVqcro4p",
    "outputId": "54b30944-f556-40ed-adb0-88693ce72e10"
   },
   "outputs": [
    {
     "data": {
      "text/plain": [
       "26-35    219587\n",
       "36-45    110013\n",
       "18-25     99660\n",
       "46-50     45701\n",
       "51-55     38501\n",
       "55+       21504\n",
       "0-17      15102\n",
       "Name: Age, dtype: int64"
      ]
     },
     "execution_count": 10,
     "metadata": {
      "tags": []
     },
     "output_type": "execute_result"
    }
   ],
   "source": [
    "train_df['Age'].value_counts()"
   ]
  },
  {
   "cell_type": "markdown",
   "metadata": {
    "colab_type": "text",
    "id": "GOKHQcvbzhCP"
   },
   "source": []
  },
  {
   "cell_type": "code",
   "execution_count": 0,
   "metadata": {
    "colab": {
     "autoexec": {
      "startup": false,
      "wait_interval": 0
     },
     "base_uri": "https://localhost:8080/",
     "height": 159,
     "output_extras": [
      {}
     ]
    },
    "colab_type": "code",
    "executionInfo": {
     "elapsed": 877,
     "status": "ok",
     "timestamp": 1515264556119,
     "user": {
      "displayName": "MalliKarjun Namagiri",
      "photoUrl": "//lh6.googleusercontent.com/-P9BYex3S098/AAAAAAAAAAI/AAAAAAAAAb8/1pQ09fHEnoo/s50-c-k-no/photo.jpg",
      "userId": "105053389068996960187"
     },
     "user_tz": -330
    },
    "id": "8mqoLMn7zh8n",
    "outputId": "0f97fbe1-84a8-41b5-e747-d63c882501c2"
   },
   "outputs": [
    {
     "data": {
      "text/plain": [
       "26-35    93428\n",
       "36-45    46711\n",
       "18-25    42293\n",
       "46-50    19577\n",
       "51-55    16283\n",
       "55+       9075\n",
       "0-17      6232\n",
       "Name: Age, dtype: int64"
      ]
     },
     "execution_count": 44,
     "metadata": {
      "tags": []
     },
     "output_type": "execute_result"
    }
   ],
   "source": [
    "test['Age'].value_counts()"
   ]
  },
  {
   "cell_type": "code",
   "execution_count": 0,
   "metadata": {
    "colab": {
     "autoexec": {
      "startup": false,
      "wait_interval": 0
     },
     "base_uri": "https://localhost:8080/",
     "height": 88,
     "output_extras": [
      {}
     ]
    },
    "colab_type": "code",
    "executionInfo": {
     "elapsed": 859,
     "status": "ok",
     "timestamp": 1515264588856,
     "user": {
      "displayName": "MalliKarjun Namagiri",
      "photoUrl": "//lh6.googleusercontent.com/-P9BYex3S098/AAAAAAAAAAI/AAAAAAAAAb8/1pQ09fHEnoo/s50-c-k-no/photo.jpg",
      "userId": "105053389068996960187"
     },
     "user_tz": -330
    },
    "id": "WKkqpNgyzoFz",
    "outputId": "e01bd9be-35a3-4786-8f93-fd0aca4bca97"
   },
   "outputs": [
    {
     "data": {
      "text/plain": [
       "B    231173\n",
       "C    171175\n",
       "A    147720\n",
       "Name: City_Category, dtype: int64"
      ]
     },
     "execution_count": 45,
     "metadata": {
      "tags": []
     },
     "output_type": "execute_result"
    }
   ],
   "source": [
    "train_df['City_Category'].value_counts()"
   ]
  },
  {
   "cell_type": "code",
   "execution_count": 0,
   "metadata": {
    "colab": {
     "autoexec": {
      "startup": false,
      "wait_interval": 0
     },
     "base_uri": "https://localhost:8080/",
     "height": 88,
     "output_extras": [
      {}
     ]
    },
    "colab_type": "code",
    "executionInfo": {
     "elapsed": 1024,
     "status": "ok",
     "timestamp": 1515264607966,
     "user": {
      "displayName": "MalliKarjun Namagiri",
      "photoUrl": "//lh6.googleusercontent.com/-P9BYex3S098/AAAAAAAAAAI/AAAAAAAAAb8/1pQ09fHEnoo/s50-c-k-no/photo.jpg",
      "userId": "105053389068996960187"
     },
     "user_tz": -330
    },
    "id": "1wfkej3Szsmp",
    "outputId": "4e5186ac-dac5-4c04-deaa-a403ab41996b"
   },
   "outputs": [
    {
     "data": {
      "text/plain": [
       "B    98566\n",
       "C    72509\n",
       "A    62524\n",
       "Name: City_Category, dtype: int64"
      ]
     },
     "execution_count": 46,
     "metadata": {
      "tags": []
     },
     "output_type": "execute_result"
    }
   ],
   "source": [
    "test['City_Category'].value_counts()"
   ]
  },
  {
   "cell_type": "code",
   "execution_count": 0,
   "metadata": {
    "colab": {
     "autoexec": {
      "startup": false,
      "wait_interval": 0
     }
    },
    "colab_type": "code",
    "collapsed": true,
    "id": "zTuvbEUGr5Hx"
   },
   "outputs": [],
   "source": [
    "X_train = train_df.iloc[:, 2:11].values\n",
    "y_train = train_df.iloc[:, 11].values\n",
    "X_test = test.iloc[:, 2:11].values"
   ]
  },
  {
   "cell_type": "code",
   "execution_count": 6,
   "metadata": {
    "colab": {
     "autoexec": {
      "startup": false,
      "wait_interval": 0
     },
     "base_uri": "https://localhost:8080/",
     "height": 34,
     "output_extras": [
      {
       "item_id": 1
      }
     ]
    },
    "colab_type": "code",
    "executionInfo": {
     "elapsed": 855,
     "status": "ok",
     "timestamp": 1515345051708,
     "user": {
      "displayName": "MalliKarjun Namagiri",
      "photoUrl": "//lh6.googleusercontent.com/-P9BYex3S098/AAAAAAAAAAI/AAAAAAAAAb8/1pQ09fHEnoo/s50-c-k-no/photo.jpg",
      "userId": "105053389068996960187"
     },
     "user_tz": -330
    },
    "id": "C6agkN4amefa",
    "outputId": "bd8d2912-b52b-4f98-eee0-4618df363355"
   },
   "outputs": [
    {
     "data": {
      "text/plain": [
       "(550068, 9)"
      ]
     },
     "execution_count": 6,
     "metadata": {
      "tags": []
     },
     "output_type": "execute_result"
    }
   ],
   "source": [
    "X_train.shape"
   ]
  },
  {
   "cell_type": "code",
   "execution_count": 7,
   "metadata": {
    "colab": {
     "autoexec": {
      "startup": false,
      "wait_interval": 0
     },
     "base_uri": "https://localhost:8080/",
     "height": 34,
     "output_extras": [
      {
       "item_id": 1
      }
     ]
    },
    "colab_type": "code",
    "executionInfo": {
     "elapsed": 860,
     "status": "ok",
     "timestamp": 1515345067227,
     "user": {
      "displayName": "MalliKarjun Namagiri",
      "photoUrl": "//lh6.googleusercontent.com/-P9BYex3S098/AAAAAAAAAAI/AAAAAAAAAb8/1pQ09fHEnoo/s50-c-k-no/photo.jpg",
      "userId": "105053389068996960187"
     },
     "user_tz": -330
    },
    "id": "lJj1IhjGmo2A",
    "outputId": "4c835158-56fc-4c2c-a6ac-ff3a3b3d6cb4"
   },
   "outputs": [
    {
     "data": {
      "text/plain": [
       "(233599, 9)"
      ]
     },
     "execution_count": 7,
     "metadata": {
      "tags": []
     },
     "output_type": "execute_result"
    }
   ],
   "source": [
    "X_test.shape"
   ]
  },
  {
   "cell_type": "code",
   "execution_count": 0,
   "metadata": {
    "colab": {
     "autoexec": {
      "startup": false,
      "wait_interval": 0
     }
    },
    "colab_type": "code",
    "collapsed": true,
    "id": "3d2ZiKw-ty0d"
   },
   "outputs": [],
   "source": [
    "# Encoding categorical data\n",
    "from sklearn.preprocessing import LabelEncoder, OneHotEncoder\n",
    "labelencoder_X_train_1 = LabelEncoder()\n",
    "X_train[:, 0] = labelencoder_X_train_1.fit_transform(X_train[:, 0])\n",
    "labelencoder_X_train_2 = LabelEncoder()\n",
    "X_train[:, 1] = labelencoder_X_train_2.fit_transform(X_train[:, 2])\n",
    "labelencoder_X_train_3 = LabelEncoder()\n",
    "X_train[:, 3] = labelencoder_X_train_3.fit_transform(X_train[:, 3])\n",
    "labelencoder_X_train_4 = LabelEncoder()\n",
    "X_train[:, 4] = labelencoder_X_train_4.fit_transform(X_train[:, 4])\n",
    "onehotencoder = OneHotEncoder(categorical_features = [1])\n",
    "X_train = onehotencoder.fit_transform(X_train).toarray()"
   ]
  },
  {
   "cell_type": "code",
   "execution_count": 9,
   "metadata": {
    "colab": {
     "autoexec": {
      "startup": false,
      "wait_interval": 0
     },
     "base_uri": "https://localhost:8080/",
     "height": 34,
     "output_extras": [
      {
       "item_id": 1
      }
     ]
    },
    "colab_type": "code",
    "executionInfo": {
     "elapsed": 1025,
     "status": "ok",
     "timestamp": 1515345087740,
     "user": {
      "displayName": "MalliKarjun Namagiri",
      "photoUrl": "//lh6.googleusercontent.com/-P9BYex3S098/AAAAAAAAAAI/AAAAAAAAAb8/1pQ09fHEnoo/s50-c-k-no/photo.jpg",
      "userId": "105053389068996960187"
     },
     "user_tz": -330
    },
    "id": "mPn4Qh8fmvv_",
    "outputId": "db603f8b-fd75-4743-c0d9-0cfa8e7220a2"
   },
   "outputs": [
    {
     "data": {
      "text/plain": [
       "(550068, 29)"
      ]
     },
     "execution_count": 9,
     "metadata": {
      "tags": []
     },
     "output_type": "execute_result"
    }
   ],
   "source": [
    "X_train.shape"
   ]
  },
  {
   "cell_type": "code",
   "execution_count": 0,
   "metadata": {
    "colab": {
     "autoexec": {
      "startup": false,
      "wait_interval": 0
     }
    },
    "colab_type": "code",
    "collapsed": true,
    "id": "7xQohv9gvN8E"
   },
   "outputs": [],
   "source": [
    "# Encoding categorical data\n",
    "from sklearn.preprocessing import LabelEncoder, OneHotEncoder\n",
    "labelencoder_X_test_1 = LabelEncoder()\n",
    "X_test[:, 0] = labelencoder_X_test_1.fit_transform(X_test[:, 0])\n",
    "labelencoder_X_test_2 = LabelEncoder()\n",
    "X_test[:, 1] = labelencoder_X_test_2.fit_transform(X_test[:, 2])\n",
    "labelencoder_X_test_3 = LabelEncoder()\n",
    "X_test[:, 3] = labelencoder_X_test_3.fit_transform(X_test[:, 3])\n",
    "labelencoder_X_test_4 = LabelEncoder()\n",
    "X_test[:, 4] = labelencoder_X_test_4.fit_transform(X_test[:, 4])\n",
    "onehotencoder = OneHotEncoder(categorical_features = [1])\n",
    "X_test = onehotencoder.fit_transform(X_test).toarray()"
   ]
  },
  {
   "cell_type": "code",
   "execution_count": 11,
   "metadata": {
    "colab": {
     "autoexec": {
      "startup": false,
      "wait_interval": 0
     },
     "base_uri": "https://localhost:8080/",
     "height": 34,
     "output_extras": [
      {
       "item_id": 1
      }
     ]
    },
    "colab_type": "code",
    "executionInfo": {
     "elapsed": 1058,
     "status": "ok",
     "timestamp": 1515345106744,
     "user": {
      "displayName": "MalliKarjun Namagiri",
      "photoUrl": "//lh6.googleusercontent.com/-P9BYex3S098/AAAAAAAAAAI/AAAAAAAAAb8/1pQ09fHEnoo/s50-c-k-no/photo.jpg",
      "userId": "105053389068996960187"
     },
     "user_tz": -330
    },
    "id": "04_7A0ZWm0Xe",
    "outputId": "f9473bfc-5171-4639-895a-18dfb55496ff"
   },
   "outputs": [
    {
     "data": {
      "text/plain": [
       "(233599, 29)"
      ]
     },
     "execution_count": 11,
     "metadata": {
      "tags": []
     },
     "output_type": "execute_result"
    }
   ],
   "source": [
    "X_test.shape"
   ]
  },
  {
   "cell_type": "code",
   "execution_count": 0,
   "metadata": {
    "colab": {
     "autoexec": {
      "startup": false,
      "wait_interval": 0
     }
    },
    "colab_type": "code",
    "collapsed": true,
    "id": "sT2vsJsMwWRV"
   },
   "outputs": [],
   "source": [
    "X_train = X_train[:, 1:]\n",
    "X_test = X_test[:, 1:]"
   ]
  },
  {
   "cell_type": "code",
   "execution_count": 13,
   "metadata": {
    "colab": {
     "autoexec": {
      "startup": false,
      "wait_interval": 0
     },
     "base_uri": "https://localhost:8080/",
     "height": 34,
     "output_extras": [
      {
       "item_id": 1
      }
     ]
    },
    "colab_type": "code",
    "executionInfo": {
     "elapsed": 822,
     "status": "ok",
     "timestamp": 1515345113252,
     "user": {
      "displayName": "MalliKarjun Namagiri",
      "photoUrl": "//lh6.googleusercontent.com/-P9BYex3S098/AAAAAAAAAAI/AAAAAAAAAb8/1pQ09fHEnoo/s50-c-k-no/photo.jpg",
      "userId": "105053389068996960187"
     },
     "user_tz": -330
    },
    "id": "amK3buc2y3Cw",
    "outputId": "a507d52b-e943-4a4b-e60b-df3caa84dd8d"
   },
   "outputs": [
    {
     "data": {
      "text/plain": [
       "(550068, 28)"
      ]
     },
     "execution_count": 13,
     "metadata": {
      "tags": []
     },
     "output_type": "execute_result"
    }
   ],
   "source": [
    "X_train.shape"
   ]
  },
  {
   "cell_type": "code",
   "execution_count": 14,
   "metadata": {
    "colab": {
     "autoexec": {
      "startup": false,
      "wait_interval": 0
     },
     "base_uri": "https://localhost:8080/",
     "height": 34,
     "output_extras": [
      {
       "item_id": 1
      }
     ]
    },
    "colab_type": "code",
    "executionInfo": {
     "elapsed": 827,
     "status": "ok",
     "timestamp": 1515345117013,
     "user": {
      "displayName": "MalliKarjun Namagiri",
      "photoUrl": "//lh6.googleusercontent.com/-P9BYex3S098/AAAAAAAAAAI/AAAAAAAAAb8/1pQ09fHEnoo/s50-c-k-no/photo.jpg",
      "userId": "105053389068996960187"
     },
     "user_tz": -330
    },
    "id": "eBCJZTTayyfH",
    "outputId": "5ca43afb-ee26-4d39-f3e3-40556384503c"
   },
   "outputs": [
    {
     "data": {
      "text/plain": [
       "(233599, 28)"
      ]
     },
     "execution_count": 14,
     "metadata": {
      "tags": []
     },
     "output_type": "execute_result"
    }
   ],
   "source": [
    "X_test.shape"
   ]
  },
  {
   "cell_type": "code",
   "execution_count": 0,
   "metadata": {
    "colab": {
     "autoexec": {
      "startup": false,
      "wait_interval": 0
     }
    },
    "colab_type": "code",
    "collapsed": true,
    "id": "iESKCnucwibY"
   },
   "outputs": [],
   "source": [
    "from sklearn.preprocessing import StandardScaler\n",
    "sc_X = StandardScaler()\n",
    "X_train = sc_X.fit_transform(X_train)\n",
    "X_test = sc_X.transform(X_test)"
   ]
  },
  {
   "cell_type": "markdown",
   "metadata": {
    "colab_type": "text",
    "id": "G--P4s_L0mB7"
   },
   "source": [
    "      **Part 2:** Start with by using ANN to prepare Model"
   ]
  },
  {
   "cell_type": "code",
   "execution_count": 0,
   "metadata": {
    "colab": {
     "autoexec": {
      "startup": false,
      "wait_interval": 0
     }
    },
    "colab_type": "code",
    "collapsed": true,
    "id": "W4WajsqC0isV"
   },
   "outputs": [],
   "source": [
    "#importing Keras libraries and packages\n",
    "import keras\n",
    "from keras.models import Sequential\n",
    "from keras.layers import Dense"
   ]
  },
  {
   "cell_type": "code",
   "execution_count": 0,
   "metadata": {
    "colab": {
     "autoexec": {
      "startup": false,
      "wait_interval": 0
     }
    },
    "colab_type": "code",
    "collapsed": true,
    "id": "PlP2YqOx2oUE"
   },
   "outputs": [],
   "source": [
    "#initialising ANN\n",
    "classifier = Sequential()"
   ]
  },
  {
   "cell_type": "code",
   "execution_count": 20,
   "metadata": {
    "colab": {
     "autoexec": {
      "startup": false,
      "wait_interval": 0
     },
     "base_uri": "https://localhost:8080/",
     "height": 71,
     "output_extras": [
      {
       "item_id": 1
      }
     ]
    },
    "colab_type": "code",
    "executionInfo": {
     "elapsed": 826,
     "status": "ok",
     "timestamp": 1515345261627,
     "user": {
      "displayName": "MalliKarjun Namagiri",
      "photoUrl": "//lh6.googleusercontent.com/-P9BYex3S098/AAAAAAAAAAI/AAAAAAAAAb8/1pQ09fHEnoo/s50-c-k-no/photo.jpg",
      "userId": "105053389068996960187"
     },
     "user_tz": -330
    },
    "id": "jSOG5NlN28LE",
    "outputId": "30fff0a6-9b34-43f1-8c38-b6500b151de9"
   },
   "outputs": [
    {
     "name": "stderr",
     "output_type": "stream",
     "text": [
      "/usr/local/lib/python3.6/dist-packages/ipykernel_launcher.py:1: UserWarning: Update your `Dense` call to the Keras 2 API: `Dense(kernel_initializer=\"uniform\", activation=\"relu\", input_dim=28, units=14)`\n",
      "  \"\"\"Entry point for launching an IPython kernel.\n"
     ]
    }
   ],
   "source": [
    "#Adding the input layer and first hidden layer\n",
    "classifier.add(Dense(output_dim = 14, kernel_initializer = 'uniform', activation = 'relu', input_dim = 28))"
   ]
  },
  {
   "cell_type": "code",
   "execution_count": 22,
   "metadata": {
    "colab": {
     "autoexec": {
      "startup": false,
      "wait_interval": 0
     },
     "base_uri": "https://localhost:8080/",
     "height": 71,
     "output_extras": [
      {
       "item_id": 1
      }
     ]
    },
    "colab_type": "code",
    "executionInfo": {
     "elapsed": 819,
     "status": "ok",
     "timestamp": 1515345308346,
     "user": {
      "displayName": "MalliKarjun Namagiri",
      "photoUrl": "//lh6.googleusercontent.com/-P9BYex3S098/AAAAAAAAAAI/AAAAAAAAAb8/1pQ09fHEnoo/s50-c-k-no/photo.jpg",
      "userId": "105053389068996960187"
     },
     "user_tz": -330
    },
    "id": "P8Qy5DJy7ouD",
    "outputId": "44356ae8-da9a-45b8-de8e-17eaacc7a27c"
   },
   "outputs": [
    {
     "name": "stderr",
     "output_type": "stream",
     "text": [
      "/usr/local/lib/python3.6/dist-packages/ipykernel_launcher.py:1: UserWarning: Update your `Dense` call to the Keras 2 API: `Dense(kernel_initializer=\"uniform\", activation=\"relu\", units=14)`\n",
      "  \"\"\"Entry point for launching an IPython kernel.\n"
     ]
    }
   ],
   "source": [
    "#Adding the second hidden layer\n",
    "classifier.add(Dense(output_dim = 14, kernel_initializer = 'uniform', activation = 'relu'))"
   ]
  },
  {
   "cell_type": "code",
   "execution_count": 23,
   "metadata": {
    "colab": {
     "autoexec": {
      "startup": false,
      "wait_interval": 0
     },
     "base_uri": "https://localhost:8080/",
     "height": 71,
     "output_extras": [
      {
       "item_id": 1
      }
     ]
    },
    "colab_type": "code",
    "executionInfo": {
     "elapsed": 1022,
     "status": "ok",
     "timestamp": 1515345311521,
     "user": {
      "displayName": "MalliKarjun Namagiri",
      "photoUrl": "//lh6.googleusercontent.com/-P9BYex3S098/AAAAAAAAAAI/AAAAAAAAAb8/1pQ09fHEnoo/s50-c-k-no/photo.jpg",
      "userId": "105053389068996960187"
     },
     "user_tz": -330
    },
    "id": "X_2qRdGA8z67",
    "outputId": "9d75a731-7a80-4e2c-f2af-92d053d79e23"
   },
   "outputs": [
    {
     "name": "stderr",
     "output_type": "stream",
     "text": [
      "/usr/local/lib/python3.6/dist-packages/ipykernel_launcher.py:1: UserWarning: Update your `Dense` call to the Keras 2 API: `Dense(kernel_initializer=\"uniform\", activation=\"sigmoid\", units=1)`\n",
      "  \"\"\"Entry point for launching an IPython kernel.\n"
     ]
    }
   ],
   "source": [
    "#Adding the outpu layer\n",
    "classifier.add(Dense(output_dim = 1, kernel_initializer = 'uniform', activation = 'sigmoid'))"
   ]
  },
  {
   "cell_type": "code",
   "execution_count": 0,
   "metadata": {
    "colab": {
     "autoexec": {
      "startup": false,
      "wait_interval": 0
     }
    },
    "colab_type": "code",
    "collapsed": true,
    "id": "fQZwMAP29Lwc"
   },
   "outputs": [],
   "source": [
    "\n",
    "#Compiling the ANN\n",
    "from keras import backend as K\n",
    "def root_mean_squared_error(y_true, y_pred):\n",
    "        return K.sqrt(K.mean(K.square(y_pred - y_true), axis=-1)) \n",
    "\n",
    "classifier.compile(optimizer = \"rmsprop\", loss = root_mean_squared_error, metrics =[\"accuracy\", root_mean_squared_error])\n"
   ]
  },
  {
   "cell_type": "code",
   "execution_count": 34,
   "metadata": {
    "colab": {
     "autoexec": {
      "startup": false,
      "wait_interval": 0
     },
     "base_uri": "https://localhost:8080/",
     "height": 10288,
     "output_extras": [
      {
       "item_id": 1
      },
      {
       "item_id": 100
      },
      {
       "item_id": 181
      },
      {
       "item_id": 283
      },
      {
       "item_id": 367
      },
      {
       "item_id": 468
      },
      {
       "item_id": 542
      },
      {
       "item_id": 645
      },
      {
       "item_id": 721
      },
      {
       "item_id": 829
      },
      {
       "item_id": 907
      },
      {
       "item_id": 1015
      },
      {
       "item_id": 1091
      },
      {
       "item_id": 1200
      },
      {
       "item_id": 1276
      },
      {
       "item_id": 1384
      },
      {
       "item_id": 1460
      },
      {
       "item_id": 1569
      },
      {
       "item_id": 1643
      },
      {
       "item_id": 1752
      },
      {
       "item_id": 1827
      },
      {
       "item_id": 1935
      },
      {
       "item_id": 2010
      },
      {
       "item_id": 2119
      },
      {
       "item_id": 2193
      },
      {
       "item_id": 2299
      },
      {
       "item_id": 2375
      },
      {
       "item_id": 2478
      },
      {
       "item_id": 2549
      },
      {
       "item_id": 2658
      },
      {
       "item_id": 2733
      },
      {
       "item_id": 2834
      },
      {
       "item_id": 2907
      },
      {
       "item_id": 3010
      },
      {
       "item_id": 3087
      },
      {
       "item_id": 3196
      },
      {
       "item_id": 3265
      },
      {
       "item_id": 3366
      },
      {
       "item_id": 3441
      },
      {
       "item_id": 3551
      },
      {
       "item_id": 3626
      },
      {
       "item_id": 3734
      },
      {
       "item_id": 3809
      },
      {
       "item_id": 3918
      },
      {
       "item_id": 3992
      },
      {
       "item_id": 4102
      },
      {
       "item_id": 4178
      },
      {
       "item_id": 4287
      },
      {
       "item_id": 4363
      },
      {
       "item_id": 4473
      },
      {
       "item_id": 4550
      },
      {
       "item_id": 4660
      },
      {
       "item_id": 4736
      },
      {
       "item_id": 4845
      },
      {
       "item_id": 4920
      },
      {
       "item_id": 5029
      },
      {
       "item_id": 5105
      },
      {
       "item_id": 5214
      },
      {
       "item_id": 5292
      },
      {
       "item_id": 5401
      },
      {
       "item_id": 5476
      },
      {
       "item_id": 5584
      },
      {
       "item_id": 5662
      },
      {
       "item_id": 5771
      },
      {
       "item_id": 5847
      },
      {
       "item_id": 5956
      },
      {
       "item_id": 6033
      },
      {
       "item_id": 6142
      },
      {
       "item_id": 6219
      },
      {
       "item_id": 6328
      },
      {
       "item_id": 6405
      },
      {
       "item_id": 6514
      },
      {
       "item_id": 6590
      },
      {
       "item_id": 6699
      },
      {
       "item_id": 6777
      },
      {
       "item_id": 6882
      },
      {
       "item_id": 6958
      },
      {
       "item_id": 7067
      },
      {
       "item_id": 7145
      },
      {
       "item_id": 7253
      },
      {
       "item_id": 7329
      },
      {
       "item_id": 7439
      },
      {
       "item_id": 7516
      },
      {
       "item_id": 7624
      },
      {
       "item_id": 7701
      },
      {
       "item_id": 7809
      },
      {
       "item_id": 7885
      },
      {
       "item_id": 7994
      },
      {
       "item_id": 8069
      },
      {
       "item_id": 8177
      },
      {
       "item_id": 8255
      },
      {
       "item_id": 8363
      },
      {
       "item_id": 8439
      },
      {
       "item_id": 8547
      },
      {
       "item_id": 8625
      },
      {
       "item_id": 8734
      },
      {
       "item_id": 8811
      },
      {
       "item_id": 8920
      },
      {
       "item_id": 8998
      },
      {
       "item_id": 9107
      },
      {
       "item_id": 9185
      },
      {
       "item_id": 9294
      },
      {
       "item_id": 9371
      },
      {
       "item_id": 9480
      },
      {
       "item_id": 9558
      },
      {
       "item_id": 9667
      },
      {
       "item_id": 9744
      },
      {
       "item_id": 9851
      },
      {
       "item_id": 9928
      },
      {
       "item_id": 10035
      },
      {
       "item_id": 10112
      },
      {
       "item_id": 10218
      },
      {
       "item_id": 10294
      },
      {
       "item_id": 10399
      },
      {
       "item_id": 10477
      },
      {
       "item_id": 10580
      },
      {
       "item_id": 10657
      },
      {
       "item_id": 10762
      },
      {
       "item_id": 10837
      },
      {
       "item_id": 10940
      },
      {
       "item_id": 11013
      },
      {
       "item_id": 11117
      },
      {
       "item_id": 11189
      },
      {
       "item_id": 11292
      },
      {
       "item_id": 11365
      },
      {
       "item_id": 11469
      },
      {
       "item_id": 11540
      },
      {
       "item_id": 11643
      },
      {
       "item_id": 11714
      },
      {
       "item_id": 11816
      },
      {
       "item_id": 11886
      },
      {
       "item_id": 11986
      },
      {
       "item_id": 12058
      },
      {
       "item_id": 12158
      },
      {
       "item_id": 12229
      },
      {
       "item_id": 12329
      },
      {
       "item_id": 12400
      },
      {
       "item_id": 12500
      },
      {
       "item_id": 12570
      },
      {
       "item_id": 12669
      },
      {
       "item_id": 12738
      },
      {
       "item_id": 12837
      },
      {
       "item_id": 12906
      },
      {
       "item_id": 13002
      },
      {
       "item_id": 13072
      },
      {
       "item_id": 13170
      },
      {
       "item_id": 13240
      },
      {
       "item_id": 13337
      },
      {
       "item_id": 13407
      },
      {
       "item_id": 13504
      },
      {
       "item_id": 13572
      },
      {
       "item_id": 13669
      },
      {
       "item_id": 13737
      },
      {
       "item_id": 13833
      },
      {
       "item_id": 13901
      },
      {
       "item_id": 13996
      },
      {
       "item_id": 14065
      },
      {
       "item_id": 14159
      },
      {
       "item_id": 14227
      },
      {
       "item_id": 14323
      },
      {
       "item_id": 14390
      },
      {
       "item_id": 14484
      },
      {
       "item_id": 14551
      },
      {
       "item_id": 14645
      },
      {
       "item_id": 14711
      },
      {
       "item_id": 14804
      },
      {
       "item_id": 14872
      },
      {
       "item_id": 14965
      },
      {
       "item_id": 15030
      },
      {
       "item_id": 15122
      },
      {
       "item_id": 15189
      },
      {
       "item_id": 15280
      },
      {
       "item_id": 15346
      },
      {
       "item_id": 15438
      },
      {
       "item_id": 15504
      },
      {
       "item_id": 15594
      },
      {
       "item_id": 15661
      },
      {
       "item_id": 15751
      },
      {
       "item_id": 15817
      },
      {
       "item_id": 15908
      },
      {
       "item_id": 15972
      },
      {
       "item_id": 16061
      },
      {
       "item_id": 16126
      },
      {
       "item_id": 16215
      },
      {
       "item_id": 16276
      },
      {
       "item_id": 16365
      },
      {
       "item_id": 16428
      },
      {
       "item_id": 16516
      },
      {
       "item_id": 16579
      },
      {
       "item_id": 16668
      },
      {
       "item_id": 16729
      },
      {
       "item_id": 16816
      },
      {
       "item_id": 16880
      },
      {
       "item_id": 16967
      },
      {
       "item_id": 17029
      },
      {
       "item_id": 17116
      },
      {
       "item_id": 17177
      },
      {
       "item_id": 17263
      },
      {
       "item_id": 17325
      },
      {
       "item_id": 17412
      },
      {
       "item_id": 17473
      },
      {
       "item_id": 17560
      },
      {
       "item_id": 17620
      },
      {
       "item_id": 17706
      },
      {
       "item_id": 17767
      },
      {
       "item_id": 17852
      },
      {
       "item_id": 17913
      },
      {
       "item_id": 17997
      },
      {
       "item_id": 18059
      },
      {
       "item_id": 18145
      },
      {
       "item_id": 18205
      },
      {
       "item_id": 18289
      },
      {
       "item_id": 18348
      },
      {
       "item_id": 18432
      },
      {
       "item_id": 18491
      },
      {
       "item_id": 18574
      },
      {
       "item_id": 18634
      },
      {
       "item_id": 18718
      },
      {
       "item_id": 18776
      },
      {
       "item_id": 18859
      },
      {
       "item_id": 18917
      },
      {
       "item_id": 19000
      },
      {
       "item_id": 19057
      },
      {
       "item_id": 19139
      },
      {
       "item_id": 19196
      },
      {
       "item_id": 19278
      },
      {
       "item_id": 19335
      },
      {
       "item_id": 19417
      },
      {
       "item_id": 19475
      },
      {
       "item_id": 19555
      },
      {
       "item_id": 19612
      },
      {
       "item_id": 19693
      },
      {
       "item_id": 19750
      },
      {
       "item_id": 19830
      },
      {
       "item_id": 19887
      },
      {
       "item_id": 19966
      },
      {
       "item_id": 20022
      },
      {
       "item_id": 20102
      },
      {
       "item_id": 20158
      },
      {
       "item_id": 20238
      },
      {
       "item_id": 20295
      },
      {
       "item_id": 20373
      },
      {
       "item_id": 20428
      },
      {
       "item_id": 20507
      },
      {
       "item_id": 20563
      },
      {
       "item_id": 20641
      },
      {
       "item_id": 20697
      },
      {
       "item_id": 20776
      },
      {
       "item_id": 20831
      },
      {
       "item_id": 20909
      },
      {
       "item_id": 20964
      },
      {
       "item_id": 21041
      },
      {
       "item_id": 21098
      },
      {
       "item_id": 21175
      },
      {
       "item_id": 21230
      },
      {
       "item_id": 21307
      },
      {
       "item_id": 21362
      },
      {
       "item_id": 21439
      },
      {
       "item_id": 21493
      },
      {
       "item_id": 21570
      },
      {
       "item_id": 21625
      },
      {
       "item_id": 21700
      },
      {
       "item_id": 21754
      },
      {
       "item_id": 21830
      },
      {
       "item_id": 21884
      },
      {
       "item_id": 21960
      },
      {
       "item_id": 22014
      },
      {
       "item_id": 22089
      },
      {
       "item_id": 22142
      },
      {
       "item_id": 22217
      },
      {
       "item_id": 22269
      },
      {
       "item_id": 22344
      },
      {
       "item_id": 22396
      },
      {
       "item_id": 22471
      },
      {
       "item_id": 22523
      },
      {
       "item_id": 22597
      },
      {
       "item_id": 22648
      },
      {
       "item_id": 22722
      },
      {
       "item_id": 22774
      },
      {
       "item_id": 22847
      },
      {
       "item_id": 22899
      },
      {
       "item_id": 22972
      },
      {
       "item_id": 23023
      },
      {
       "item_id": 23095
      },
      {
       "item_id": 23146
      },
      {
       "item_id": 23219
      },
      {
       "item_id": 23270
      },
      {
       "item_id": 23343
      },
      {
       "item_id": 23394
      },
      {
       "item_id": 23467
      },
      {
       "item_id": 23518
      },
      {
       "item_id": 23591
      },
      {
       "item_id": 23641
      },
      {
       "item_id": 23713
      },
      {
       "item_id": 23763
      },
      {
       "item_id": 23834
      },
      {
       "item_id": 23885
      },
      {
       "item_id": 23957
      },
      {
       "item_id": 24007
      },
      {
       "item_id": 24078
      },
      {
       "item_id": 24129
      },
      {
       "item_id": 24200
      },
      {
       "item_id": 24249
      },
      {
       "item_id": 24319
      },
      {
       "item_id": 24368
      },
      {
       "item_id": 24438
      },
      {
       "item_id": 24487
      },
      {
       "item_id": 24557
      },
      {
       "item_id": 24607
      },
      {
       "item_id": 24677
      },
      {
       "item_id": 24726
      },
      {
       "item_id": 24796
      },
      {
       "item_id": 24845
      },
      {
       "item_id": 24913
      },
      {
       "item_id": 24963
      },
      {
       "item_id": 25032
      },
      {
       "item_id": 25081
      },
      {
       "item_id": 25150
      },
      {
       "item_id": 25197
      },
      {
       "item_id": 25265
      },
      {
       "item_id": 25312
      },
      {
       "item_id": 25380
      },
      {
       "item_id": 25427
      },
      {
       "item_id": 25495
      },
      {
       "item_id": 25541
      },
      {
       "item_id": 25608
      },
      {
       "item_id": 25655
      },
      {
       "item_id": 25722
      },
      {
       "item_id": 25769
      },
      {
       "item_id": 25836
      },
      {
       "item_id": 25883
      },
      {
       "item_id": 25950
      },
      {
       "item_id": 25996
      },
      {
       "item_id": 26063
      },
      {
       "item_id": 26110
      },
      {
       "item_id": 26176
      },
      {
       "item_id": 26224
      },
      {
       "item_id": 26290
      },
      {
       "item_id": 26337
      },
      {
       "item_id": 26404
      },
      {
       "item_id": 26451
      },
      {
       "item_id": 26516
      },
      {
       "item_id": 26562
      },
      {
       "item_id": 26628
      },
      {
       "item_id": 26675
      },
      {
       "item_id": 26740
      },
      {
       "item_id": 26784
      },
      {
       "item_id": 26850
      },
      {
       "item_id": 26895
      },
      {
       "item_id": 26960
      },
      {
       "item_id": 27004
      },
      {
       "item_id": 27069
      },
      {
       "item_id": 27113
      },
      {
       "item_id": 27178
      },
      {
       "item_id": 27222
      },
      {
       "item_id": 27286
      },
      {
       "item_id": 27330
      },
      {
       "item_id": 27395
      },
      {
       "item_id": 27438
      },
      {
       "item_id": 27502
      },
      {
       "item_id": 27546
      },
      {
       "item_id": 27610
      },
      {
       "item_id": 27654
      },
      {
       "item_id": 27718
      },
      {
       "item_id": 27762
      },
      {
       "item_id": 27826
      },
      {
       "item_id": 27870
      },
      {
       "item_id": 27933
      },
      {
       "item_id": 27976
      },
      {
       "item_id": 28040
      },
      {
       "item_id": 28084
      },
      {
       "item_id": 28147
      },
      {
       "item_id": 28190
      },
      {
       "item_id": 28252
      },
      {
       "item_id": 28295
      },
      {
       "item_id": 28358
      },
      {
       "item_id": 28403
      },
      {
       "item_id": 28465
      },
      {
       "item_id": 28509
      },
      {
       "item_id": 28572
      },
      {
       "item_id": 28616
      },
      {
       "item_id": 28677
      },
      {
       "item_id": 28721
      },
      {
       "item_id": 28782
      },
      {
       "item_id": 28826
      },
      {
       "item_id": 28888
      },
      {
       "item_id": 28932
      },
      {
       "item_id": 28993
      },
      {
       "item_id": 29037
      },
      {
       "item_id": 29097
      },
      {
       "item_id": 29141
      },
      {
       "item_id": 29202
      },
      {
       "item_id": 29246
      },
      {
       "item_id": 29307
      },
      {
       "item_id": 29351
      },
      {
       "item_id": 29413
      },
      {
       "item_id": 29456
      },
      {
       "item_id": 29517
      },
      {
       "item_id": 29561
      },
      {
       "item_id": 29621
      },
      {
       "item_id": 29663
      },
      {
       "item_id": 29722
      },
      {
       "item_id": 29766
      },
      {
       "item_id": 29826
      },
      {
       "item_id": 29869
      },
      {
       "item_id": 29928
      },
      {
       "item_id": 29971
      },
      {
       "item_id": 30030
      },
      {
       "item_id": 30073
      },
      {
       "item_id": 30132
      },
      {
       "item_id": 30176
      },
      {
       "item_id": 30234
      },
      {
       "item_id": 30277
      },
      {
       "item_id": 30336
      },
      {
       "item_id": 30379
      },
      {
       "item_id": 30438
      },
      {
       "item_id": 30480
      },
      {
       "item_id": 30539
      },
      {
       "item_id": 30581
      },
      {
       "item_id": 30640
      },
      {
       "item_id": 30681
      },
      {
       "item_id": 30740
      },
      {
       "item_id": 30782
      },
      {
       "item_id": 30840
      },
      {
       "item_id": 30882
      },
      {
       "item_id": 30940
      },
      {
       "item_id": 30982
      },
      {
       "item_id": 31039
      },
      {
       "item_id": 31080
      },
      {
       "item_id": 31138
      },
      {
       "item_id": 31180
      },
      {
       "item_id": 31238
      },
      {
       "item_id": 31281
      },
      {
       "item_id": 31338
      },
      {
       "item_id": 31379
      },
      {
       "item_id": 31436
      },
      {
       "item_id": 31477
      },
      {
       "item_id": 31534
      },
      {
       "item_id": 31576
      },
      {
       "item_id": 31633
      },
      {
       "item_id": 31674
      },
      {
       "item_id": 31730
      },
      {
       "item_id": 31771
      },
      {
       "item_id": 31828
      },
      {
       "item_id": 31868
      },
      {
       "item_id": 31925
      },
      {
       "item_id": 31965
      },
      {
       "item_id": 32021
      },
      {
       "item_id": 32062
      },
      {
       "item_id": 32118
      },
      {
       "item_id": 32159
      },
      {
       "item_id": 32214
      },
      {
       "item_id": 32254
      },
      {
       "item_id": 32309
      },
      {
       "item_id": 32350
      },
      {
       "item_id": 32405
      },
      {
       "item_id": 32446
      },
      {
       "item_id": 32501
      },
      {
       "item_id": 32540
      },
      {
       "item_id": 32595
      },
      {
       "item_id": 32634
      },
      {
       "item_id": 32690
      },
      {
       "item_id": 32730
      },
      {
       "item_id": 32784
      },
      {
       "item_id": 32823
      },
      {
       "item_id": 32878
      },
      {
       "item_id": 32918
      },
      {
       "item_id": 32973
      },
      {
       "item_id": 33012
      },
      {
       "item_id": 33067
      },
      {
       "item_id": 33105
      },
      {
       "item_id": 33159
      },
      {
       "item_id": 33198
      },
      {
       "item_id": 33252
      },
      {
       "item_id": 33291
      },
      {
       "item_id": 33345
      },
      {
       "item_id": 33384
      },
      {
       "item_id": 33438
      },
      {
       "item_id": 33475
      },
      {
       "item_id": 33529
      },
      {
       "item_id": 33567
      },
      {
       "item_id": 33620
      },
      {
       "item_id": 33659
      },
      {
       "item_id": 33712
      },
      {
       "item_id": 33750
      },
      {
       "item_id": 33803
      },
      {
       "item_id": 33841
      },
      {
       "item_id": 33894
      },
      {
       "item_id": 33931
      },
      {
       "item_id": 33984
      },
      {
       "item_id": 34022
      },
      {
       "item_id": 34075
      },
      {
       "item_id": 34113
      },
      {
       "item_id": 34166
      },
      {
       "item_id": 34205
      },
      {
       "item_id": 34257
      },
      {
       "item_id": 34295
      },
      {
       "item_id": 34348
      },
      {
       "item_id": 34386
      },
      {
       "item_id": 34437
      },
      {
       "item_id": 34476
      },
      {
       "item_id": 34528
      },
      {
       "item_id": 34566
      },
      {
       "item_id": 34617
      },
      {
       "item_id": 34655
      },
      {
       "item_id": 34706
      },
      {
       "item_id": 34744
      },
      {
       "item_id": 34796
      },
      {
       "item_id": 34833
      },
      {
       "item_id": 34885
      },
      {
       "item_id": 34922
      },
      {
       "item_id": 34974
      },
      {
       "item_id": 35011
      },
      {
       "item_id": 35063
      },
      {
       "item_id": 35100
      },
      {
       "item_id": 35151
      },
      {
       "item_id": 35188
      },
      {
       "item_id": 35239
      },
      {
       "item_id": 35276
      },
      {
       "item_id": 35327
      },
      {
       "item_id": 35364
      },
      {
       "item_id": 35415
      },
      {
       "item_id": 35451
      },
      {
       "item_id": 35502
      },
      {
       "item_id": 35538
      },
      {
       "item_id": 35589
      },
      {
       "item_id": 35625
      },
      {
       "item_id": 35675
      },
      {
       "item_id": 35711
      },
      {
       "item_id": 35762
      },
      {
       "item_id": 35798
      },
      {
       "item_id": 35848
      },
      {
       "item_id": 35884
      },
      {
       "item_id": 35934
      },
      {
       "item_id": 35970
      },
      {
       "item_id": 36020
      },
      {
       "item_id": 36055
      },
      {
       "item_id": 36105
      },
      {
       "item_id": 36140
      },
      {
       "item_id": 36190
      },
      {
       "item_id": 36225
      },
      {
       "item_id": 36274
      },
      {
       "item_id": 36309
      },
      {
       "item_id": 36358
      },
      {
       "item_id": 36394
      },
      {
       "item_id": 36443
      },
      {
       "item_id": 36479
      },
      {
       "item_id": 36528
      },
      {
       "item_id": 36564
      },
      {
       "item_id": 36614
      },
      {
       "item_id": 36649
      },
      {
       "item_id": 36698
      },
      {
       "item_id": 36733
      },
      {
       "item_id": 36782
      },
      {
       "item_id": 36817
      },
      {
       "item_id": 36865
      },
      {
       "item_id": 36899
      },
      {
       "item_id": 36947
      },
      {
       "item_id": 36983
      },
      {
       "item_id": 37031
      },
      {
       "item_id": 37066
      },
      {
       "item_id": 37115
      },
      {
       "item_id": 37149
      },
      {
       "item_id": 37197
      },
      {
       "item_id": 37232
      },
      {
       "item_id": 37280
      },
      {
       "item_id": 37315
      },
      {
       "item_id": 37363
      },
      {
       "item_id": 37398
      },
      {
       "item_id": 37446
      },
      {
       "item_id": 37480
      },
      {
       "item_id": 37528
      },
      {
       "item_id": 37563
      },
      {
       "item_id": 37610
      },
      {
       "item_id": 37645
      },
      {
       "item_id": 37692
      },
      {
       "item_id": 37727
      },
      {
       "item_id": 37774
      },
      {
       "item_id": 37808
      },
      {
       "item_id": 37856
      },
      {
       "item_id": 37890
      },
      {
       "item_id": 37937
      },
      {
       "item_id": 37970
      },
      {
       "item_id": 38018
      },
      {
       "item_id": 38051
      },
      {
       "item_id": 38098
      },
      {
       "item_id": 38131
      },
      {
       "item_id": 38177
      },
      {
       "item_id": 38211
      },
      {
       "item_id": 38257
      },
      {
       "item_id": 38291
      },
      {
       "item_id": 38338
      },
      {
       "item_id": 38371
      },
      {
       "item_id": 38418
      },
      {
       "item_id": 38452
      },
      {
       "item_id": 38498
      },
      {
       "item_id": 38532
      },
      {
       "item_id": 38578
      },
      {
       "item_id": 38611
      },
      {
       "item_id": 38658
      },
      {
       "item_id": 38678
      },
      {
       "item_id": 38679
      }
     ]
    },
    "colab_type": "code",
    "executionInfo": {
     "elapsed": 19745276,
     "status": "ok",
     "timestamp": 1515366300349,
     "user": {
      "displayName": "MalliKarjun Namagiri",
      "photoUrl": "//lh6.googleusercontent.com/-P9BYex3S098/AAAAAAAAAAI/AAAAAAAAAb8/1pQ09fHEnoo/s50-c-k-no/photo.jpg",
      "userId": "105053389068996960187"
     },
     "user_tz": -330
    },
    "id": "y1trftOAC0mp",
    "outputId": "3d54ac4b-13ac-4985-8c46-67fbdf65da2e"
   },
   "outputs": [
    {
     "name": "stderr",
     "output_type": "stream",
     "text": [
      "/usr/local/lib/python3.6/dist-packages/keras/models.py:939: UserWarning: The `nb_epoch` argument in `fit` has been renamed `epochs`.\n",
      "  warnings.warn('The `nb_epoch` argument in `fit` '\n"
     ]
    },
    {
     "name": "stdout",
     "output_type": "stream",
     "text": [
      "Epoch 1/300\n",
      "297930/550068 [===============>..............] - ETA: 29s - loss: 9261.0980 - acc: 0.0000e+00 - root_mean_squared_error: 9261.0980550068/550068 [==============================] - 65s 118us/step - loss: 9262.9687 - acc: 0.0000e+00 - root_mean_squared_error: 9262.9687\n",
      "Epoch 2/300\n",
      " 33510/550068 [>.............................] - ETA: 1:01 - loss: 9315.3290 - acc: 0.0000e+00 - root_mean_squared_error: 9315.3290359520/550068 [==================>...........] - ETA: 22s - loss: 9272.1165 - acc: 0.0000e+00 - root_mean_squared_error: 9272.1165550068/550068 [==============================] - 65s 118us/step - loss: 9262.9687 - acc: 0.0000e+00 - root_mean_squared_error: 9262.9687\n",
      "Epoch 3/300\n",
      " 63780/550068 [==>...........................] - ETA: 58s - loss: 9249.4699 - acc: 0.0000e+00 - root_mean_squared_error: 9249.4699392690/550068 [====================>.........] - ETA: 18s - loss: 9270.9514 - acc: 0.0000e+00 - root_mean_squared_error: 9270.9514550068/550068 [==============================] - 65s 118us/step - loss: 9262.9687 - acc: 0.0000e+00 - root_mean_squared_error: 9262.9687\n",
      "Epoch 4/300\n",
      " 78050/550068 [===>..........................] - ETA: 55s - loss: 9296.5557 - acc: 0.0000e+00 - root_mean_squared_error: 9296.5557400080/550068 [====================>.........] - ETA: 17s - loss: 9267.8117 - acc: 0.0000e+00 - root_mean_squared_error: 9267.8117550068/550068 [==============================] - 65s 119us/step - loss: 9262.9687 - acc: 0.0000e+00 - root_mean_squared_error: 9262.9687\n",
      "Epoch 5/300\n",
      " 80870/550068 [===>..........................] - ETA: 56s - loss: 9279.7554 - acc: 0.0000e+00 - root_mean_squared_error: 9279.7554405380/550068 [=====================>........] - ETA: 17s - loss: 9268.7139 - acc: 0.0000e+00 - root_mean_squared_error: 9268.7139550068/550068 [==============================] - 66s 120us/step - loss: 9262.9687 - acc: 0.0000e+00 - root_mean_squared_error: 9262.9687\n",
      "Epoch 6/300\n",
      " 81770/550068 [===>..........................] - ETA: 56s - loss: 9259.4142 - acc: 0.0000e+00 - root_mean_squared_error: 9259.4142406290/550068 [=====================>........] - ETA: 17s - loss: 9264.3127 - acc: 0.0000e+00 - root_mean_squared_error: 9264.3127550068/550068 [==============================] - 65s 119us/step - loss: 9262.9687 - acc: 0.0000e+00 - root_mean_squared_error: 9262.9687\n",
      "Epoch 7/300\n",
      " 83650/550068 [===>..........................] - ETA: 55s - loss: 9274.3079 - acc: 0.0000e+00 - root_mean_squared_error: 9274.3079409730/550068 [=====================>........] - ETA: 16s - loss: 9267.4134 - acc: 0.0000e+00 - root_mean_squared_error: 9267.4134550068/550068 [==============================] - 65s 118us/step - loss: 9262.9687 - acc: 0.0000e+00 - root_mean_squared_error: 9262.9687\n",
      "Epoch 8/300\n",
      " 86750/550068 [===>..........................] - ETA: 55s - loss: 9258.1421 - acc: 0.0000e+00 - root_mean_squared_error: 9258.1421413860/550068 [=====================>........] - ETA: 16s - loss: 9260.1164 - acc: 0.0000e+00 - root_mean_squared_error: 9260.1164550068/550068 [==============================] - 65s 118us/step - loss: 9262.9687 - acc: 0.0000e+00 - root_mean_squared_error: 9262.9687\n",
      "Epoch 9/300\n",
      " 86500/550068 [===>..........................] - ETA: 55s - loss: 9269.7758 - acc: 0.0000e+00 - root_mean_squared_error: 9269.7758412250/550068 [=====================>........] - ETA: 16s - loss: 9264.9924 - acc: 0.0000e+00 - root_mean_squared_error: 9264.9924550068/550068 [==============================] - 65s 119us/step - loss: 9262.9687 - acc: 0.0000e+00 - root_mean_squared_error: 9262.9687\n",
      "Epoch 10/300\n",
      " 87450/550068 [===>..........................] - ETA: 54s - loss: 9256.5320 - acc: 0.0000e+00 - root_mean_squared_error: 9256.5320415180/550068 [=====================>........] - ETA: 15s - loss: 9262.7743 - acc: 0.0000e+00 - root_mean_squared_error: 9262.7743550068/550068 [==============================] - 65s 118us/step - loss: 9262.9687 - acc: 0.0000e+00 - root_mean_squared_error: 9262.9687\n",
      "Epoch 11/300\n",
      " 88650/550068 [===>..........................] - ETA: 54s - loss: 9301.6906 - acc: 0.0000e+00 - root_mean_squared_error: 9301.6906411070/550068 [=====================>........] - ETA: 16s - loss: 9270.0135 - acc: 0.0000e+00 - root_mean_squared_error: 9270.0135550068/550068 [==============================] - 65s 119us/step - loss: 9262.9687 - acc: 0.0000e+00 - root_mean_squared_error: 9262.9687\n",
      "Epoch 12/300\n",
      " 85000/550068 [===>..........................] - ETA: 56s - loss: 9273.4107 - acc: 0.0000e+00 - root_mean_squared_error: 9273.4107411730/550068 [=====================>........] - ETA: 16s - loss: 9269.7393 - acc: 0.0000e+00 - root_mean_squared_error: 9269.7393550068/550068 [==============================] - 66s 119us/step - loss: 9262.9687 - acc: 0.0000e+00 - root_mean_squared_error: 9262.9687\n",
      "Epoch 13/300\n",
      " 86340/550068 [===>..........................] - ETA: 55s - loss: 9248.1127 - acc: 0.0000e+00 - root_mean_squared_error: 9248.1127409270/550068 [=====================>........] - ETA: 16s - loss: 9269.7774 - acc: 0.0000e+00 - root_mean_squared_error: 9269.7774550068/550068 [==============================] - 66s 119us/step - loss: 9262.9687 - acc: 0.0000e+00 - root_mean_squared_error: 9262.9687\n",
      "Epoch 14/300\n",
      " 83140/550068 [===>..........................] - ETA: 55s - loss: 9275.6750 - acc: 0.0000e+00 - root_mean_squared_error: 9275.6750408550/550068 [=====================>........] - ETA: 16s - loss: 9263.1634 - acc: 0.0000e+00 - root_mean_squared_error: 9263.1634550068/550068 [==============================] - 65s 118us/step - loss: 9262.9687 - acc: 0.0000e+00 - root_mean_squared_error: 9262.9687\n",
      "Epoch 15/300\n",
      " 86360/550068 [===>..........................] - ETA: 55s - loss: 9266.6736 - acc: 0.0000e+00 - root_mean_squared_error: 9266.6736410210/550068 [=====================>........] - ETA: 16s - loss: 9260.5065 - acc: 0.0000e+00 - root_mean_squared_error: 9260.5065550068/550068 [==============================] - 66s 120us/step - loss: 9262.9687 - acc: 0.0000e+00 - root_mean_squared_error: 9262.9687\n",
      "Epoch 16/300\n",
      " 80650/550068 [===>..........................] - ETA: 58s - loss: 9255.4486 - acc: 0.0000e+00 - root_mean_squared_error: 9255.4486398030/550068 [====================>.........] - ETA: 18s - loss: 9256.2195 - acc: 0.0000e+00 - root_mean_squared_error: 9256.2195550068/550068 [==============================] - 66s 121us/step - loss: 9262.9687 - acc: 0.0000e+00 - root_mean_squared_error: 9262.9687\n",
      "Epoch 17/300\n",
      " 79270/550068 [===>..........................] - ETA: 57s - loss: 9283.9341 - acc: 0.0000e+00 - root_mean_squared_error: 9283.9341403090/550068 [====================>.........] - ETA: 17s - loss: 9267.1467 - acc: 0.0000e+00 - root_mean_squared_error: 9267.1467550068/550068 [==============================] - 65s 119us/step - loss: 9262.9687 - acc: 0.0000e+00 - root_mean_squared_error: 9262.9687\n",
      "Epoch 18/300\n",
      " 83360/550068 [===>..........................] - ETA: 55s - loss: 9265.2608 - acc: 0.0000e+00 - root_mean_squared_error: 9265.2608410830/550068 [=====================>........] - ETA: 16s - loss: 9262.1653 - acc: 0.0000e+00 - root_mean_squared_error: 9262.1653550068/550068 [==============================] - 65s 119us/step - loss: 9262.9687 - acc: 0.0000e+00 - root_mean_squared_error: 9262.9687\n",
      "Epoch 19/300\n",
      " 84000/550068 [===>..........................] - ETA: 55s - loss: 9251.2607 - acc: 0.0000e+00 - root_mean_squared_error: 9251.2607413780/550068 [=====================>........] - ETA: 16s - loss: 9257.6495 - acc: 0.0000e+00 - root_mean_squared_error: 9257.6495550068/550068 [==============================] - 65s 118us/step - loss: 9262.9687 - acc: 0.0000e+00 - root_mean_squared_error: 9262.9687\n",
      "Epoch 20/300\n",
      " 88780/550068 [===>..........................] - ETA: 54s - loss: 9250.8424 - acc: 0.0000e+00 - root_mean_squared_error: 9250.8424417820/550068 [=====================>........] - ETA: 15s - loss: 9261.5429 - acc: 0.0000e+00 - root_mean_squared_error: 9261.5429550068/550068 [==============================] - 65s 118us/step - loss: 9262.9687 - acc: 0.0000e+00 - root_mean_squared_error: 9262.9687\n",
      "Epoch 21/300\n"
     ]
    },
    {
     "name": "stdout",
     "output_type": "stream",
     "text": [
      " 88600/550068 [===>..........................] - ETA: 55s - loss: 9256.0256 - acc: 0.0000e+00 - root_mean_squared_error: 9256.0256415150/550068 [=====================>........] - ETA: 16s - loss: 9264.1531 - acc: 0.0000e+00 - root_mean_squared_error: 9264.1531550068/550068 [==============================] - 65s 119us/step - loss: 9262.9687 - acc: 0.0000e+00 - root_mean_squared_error: 9262.9687\n",
      "Epoch 22/300\n",
      " 88770/550068 [===>..........................] - ETA: 54s - loss: 9273.6353 - acc: 0.0000e+00 - root_mean_squared_error: 9273.6353417630/550068 [=====================>........] - ETA: 15s - loss: 9269.6818 - acc: 0.0000e+00 - root_mean_squared_error: 9269.6818550068/550068 [==============================] - 65s 118us/step - loss: 9262.9687 - acc: 0.0000e+00 - root_mean_squared_error: 9262.9687\n",
      "Epoch 23/300\n",
      " 85090/550068 [===>..........................] - ETA: 56s - loss: 9267.9016 - acc: 0.0000e+00 - root_mean_squared_error: 9267.9016407720/550068 [=====================>........] - ETA: 17s - loss: 9259.7339 - acc: 0.0000e+00 - root_mean_squared_error: 9259.7339550068/550068 [==============================] - 66s 119us/step - loss: 9262.9687 - acc: 0.0000e+00 - root_mean_squared_error: 9262.9687\n",
      "Epoch 24/300\n",
      " 84780/550068 [===>..........................] - ETA: 55s - loss: 9265.6045 - acc: 0.0000e+00 - root_mean_squared_error: 9265.6045407060/550068 [=====================>........] - ETA: 17s - loss: 9259.7923 - acc: 0.0000e+00 - root_mean_squared_error: 9259.7923550068/550068 [==============================] - 66s 120us/step - loss: 9262.9687 - acc: 0.0000e+00 - root_mean_squared_error: 9262.9687\n",
      "Epoch 25/300\n",
      " 81430/550068 [===>..........................] - ETA: 56s - loss: 9239.0871 - acc: 0.0000e+00 - root_mean_squared_error: 9239.0871401650/550068 [====================>.........] - ETA: 17s - loss: 9266.4142 - acc: 0.0000e+00 - root_mean_squared_error: 9266.4142550068/550068 [==============================] - 66s 120us/step - loss: 9262.9687 - acc: 0.0000e+00 - root_mean_squared_error: 9262.9687\n",
      "Epoch 26/300\n",
      " 81940/550068 [===>..........................] - ETA: 55s - loss: 9264.1796 - acc: 0.0000e+00 - root_mean_squared_error: 9264.1796403630/550068 [=====================>........] - ETA: 17s - loss: 9257.4912 - acc: 0.0000e+00 - root_mean_squared_error: 9257.4912550068/550068 [==============================] - 65s 119us/step - loss: 9262.9687 - acc: 0.0000e+00 - root_mean_squared_error: 9262.9687\n",
      "Epoch 27/300\n",
      " 82780/550068 [===>..........................] - ETA: 55s - loss: 9273.2117 - acc: 0.0000e+00 - root_mean_squared_error: 9273.2117406910/550068 [=====================>........] - ETA: 17s - loss: 9261.7384 - acc: 0.0000e+00 - root_mean_squared_error: 9261.7384550068/550068 [==============================] - 65s 119us/step - loss: 9262.9687 - acc: 0.0000e+00 - root_mean_squared_error: 9262.9687\n",
      "Epoch 28/300\n",
      " 81350/550068 [===>..........................] - ETA: 56s - loss: 9276.5893 - acc: 0.0000e+00 - root_mean_squared_error: 9276.5893404060/550068 [=====================>........] - ETA: 17s - loss: 9270.8372 - acc: 0.0000e+00 - root_mean_squared_error: 9270.8372550068/550068 [==============================] - 66s 119us/step - loss: 9262.9687 - acc: 0.0000e+00 - root_mean_squared_error: 9262.9687\n",
      "Epoch 29/300\n",
      " 79480/550068 [===>..........................] - ETA: 56s - loss: 9253.6890 - acc: 0.0000e+00 - root_mean_squared_error: 9253.6890401110/550068 [====================>.........] - ETA: 17s - loss: 9267.9130 - acc: 0.0000e+00 - root_mean_squared_error: 9267.9130550068/550068 [==============================] - 66s 119us/step - loss: 9262.9687 - acc: 0.0000e+00 - root_mean_squared_error: 9262.9687\n",
      "Epoch 30/300\n",
      " 80700/550068 [===>..........................] - ETA: 55s - loss: 9254.7796 - acc: 0.0000e+00 - root_mean_squared_error: 9254.7796405130/550068 [=====================>........] - ETA: 17s - loss: 9258.5211 - acc: 0.0000e+00 - root_mean_squared_error: 9258.5211550068/550068 [==============================] - 65s 119us/step - loss: 9262.9687 - acc: 0.0000e+00 - root_mean_squared_error: 9262.9687\n",
      "Epoch 31/300\n",
      " 83440/550068 [===>..........................] - ETA: 55s - loss: 9267.5098 - acc: 0.0000e+00 - root_mean_squared_error: 9267.5098404460/550068 [=====================>........] - ETA: 17s - loss: 9257.6107 - acc: 0.0000e+00 - root_mean_squared_error: 9257.6107550068/550068 [==============================] - 66s 120us/step - loss: 9262.9687 - acc: 0.0000e+00 - root_mean_squared_error: 9262.9687\n",
      "Epoch 32/300\n",
      " 83010/550068 [===>..........................] - ETA: 55s - loss: 9257.5692 - acc: 0.0000e+00 - root_mean_squared_error: 9257.5692405580/550068 [=====================>........] - ETA: 17s - loss: 9259.3296 - acc: 0.0000e+00 - root_mean_squared_error: 9259.3296550068/550068 [==============================] - 66s 120us/step - loss: 9262.9687 - acc: 0.0000e+00 - root_mean_squared_error: 9262.9687\n",
      "Epoch 33/300\n",
      " 80580/550068 [===>..........................] - ETA: 56s - loss: 9255.2470 - acc: 0.0000e+00 - root_mean_squared_error: 9255.2470404040/550068 [=====================>........] - ETA: 17s - loss: 9263.7957 - acc: 0.0000e+00 - root_mean_squared_error: 9263.7957550068/550068 [==============================] - 65s 119us/step - loss: 9262.9687 - acc: 0.0000e+00 - root_mean_squared_error: 9262.9687\n",
      "Epoch 34/300\n",
      " 83060/550068 [===>..........................] - ETA: 55s - loss: 9280.5931 - acc: 0.0000e+00 - root_mean_squared_error: 9280.5931407340/550068 [=====================>........] - ETA: 16s - loss: 9262.0774 - acc: 0.0000e+00 - root_mean_squared_error: 9262.0774550068/550068 [==============================] - 65s 119us/step - loss: 9262.9687 - acc: 0.0000e+00 - root_mean_squared_error: 9262.9687\n",
      "Epoch 35/300\n",
      " 84160/550068 [===>..........................] - ETA: 55s - loss: 9251.4201 - acc: 0.0000e+00 - root_mean_squared_error: 9251.4201407660/550068 [=====================>........] - ETA: 16s - loss: 9262.8943 - acc: 0.0000e+00 - root_mean_squared_error: 9262.8943550068/550068 [==============================] - 65s 119us/step - loss: 9262.9687 - acc: 0.0000e+00 - root_mean_squared_error: 9262.9687\n",
      "Epoch 36/300\n",
      " 83500/550068 [===>..........................] - ETA: 55s - loss: 9266.8649 - acc: 0.0000e+00 - root_mean_squared_error: 9266.8649409040/550068 [=====================>........] - ETA: 16s - loss: 9265.6699 - acc: 0.0000e+00 - root_mean_squared_error: 9265.6699550068/550068 [==============================] - 65s 119us/step - loss: 9262.9687 - acc: 0.0000e+00 - root_mean_squared_error: 9262.9687\n",
      "Epoch 37/300\n",
      " 81700/550068 [===>..........................] - ETA: 56s - loss: 9279.1684 - acc: 0.0000e+00 - root_mean_squared_error: 9279.1684403340/550068 [====================>.........] - ETA: 17s - loss: 9263.4526 - acc: 0.0000e+00 - root_mean_squared_error: 9263.4526550068/550068 [==============================] - 66s 120us/step - loss: 9262.9687 - acc: 0.0000e+00 - root_mean_squared_error: 9262.9687\n",
      "Epoch 38/300\n",
      " 82290/550068 [===>..........................] - ETA: 55s - loss: 9260.9372 - acc: 0.0000e+00 - root_mean_squared_error: 9260.9372405740/550068 [=====================>........] - ETA: 17s - loss: 9258.5425 - acc: 0.0000e+00 - root_mean_squared_error: 9258.5425550068/550068 [==============================] - 66s 120us/step - loss: 9262.9687 - acc: 0.0000e+00 - root_mean_squared_error: 9262.9687\n",
      "Epoch 39/300\n",
      " 81400/550068 [===>..........................] - ETA: 56s - loss: 9243.2735 - acc: 0.0000e+00 - root_mean_squared_error: 9243.2735400210/550068 [====================>.........] - ETA: 18s - loss: 9261.8449 - acc: 0.0000e+00 - root_mean_squared_error: 9261.8449550068/550068 [==============================] - 67s 121us/step - loss: 9262.9687 - acc: 0.0000e+00 - root_mean_squared_error: 9262.9687\n",
      "Epoch 40/300\n",
      " 78740/550068 [===>..........................] - ETA: 57s - loss: 9280.8667 - acc: 0.0000e+00 - root_mean_squared_error: 9280.8667402960/550068 [====================>.........] - ETA: 17s - loss: 9259.1299 - acc: 0.0000e+00 - root_mean_squared_error: 9259.1299550068/550068 [==============================] - 66s 119us/step - loss: 9262.9687 - acc: 0.0000e+00 - root_mean_squared_error: 9262.9687\n",
      "Epoch 41/300\n"
     ]
    },
    {
     "name": "stdout",
     "output_type": "stream",
     "text": [
      " 82310/550068 [===>..........................] - ETA: 55s - loss: 9284.1586 - acc: 0.0000e+00 - root_mean_squared_error: 9284.1586402830/550068 [====================>.........] - ETA: 17s - loss: 9265.2849 - acc: 0.0000e+00 - root_mean_squared_error: 9265.2849550068/550068 [==============================] - 66s 120us/step - loss: 9262.9687 - acc: 0.0000e+00 - root_mean_squared_error: 9262.9687\n",
      "Epoch 42/300\n",
      " 80630/550068 [===>..........................] - ETA: 56s - loss: 9293.5713 - acc: 0.0000e+00 - root_mean_squared_error: 9293.5713405850/550068 [=====================>........] - ETA: 17s - loss: 9268.8814 - acc: 0.0000e+00 - root_mean_squared_error: 9268.8814550068/550068 [==============================] - 65s 119us/step - loss: 9262.9687 - acc: 0.0000e+00 - root_mean_squared_error: 9262.9687\n",
      "Epoch 43/300\n",
      " 83130/550068 [===>..........................] - ETA: 55s - loss: 9290.9969 - acc: 0.0000e+00 - root_mean_squared_error: 9290.9969410200/550068 [=====================>........] - ETA: 16s - loss: 9260.7465 - acc: 0.0000e+00 - root_mean_squared_error: 9260.7465550068/550068 [==============================] - 65s 118us/step - loss: 9262.9687 - acc: 0.0000e+00 - root_mean_squared_error: 9262.9687\n",
      "Epoch 44/300\n",
      " 85860/550068 [===>..........................] - ETA: 55s - loss: 9258.0160 - acc: 0.0000e+00 - root_mean_squared_error: 9258.0160410830/550068 [=====================>........] - ETA: 16s - loss: 9262.3303 - acc: 0.0000e+00 - root_mean_squared_error: 9262.3303550068/550068 [==============================] - 66s 120us/step - loss: 9262.9687 - acc: 0.0000e+00 - root_mean_squared_error: 9262.9687\n",
      "Epoch 45/300\n",
      " 81990/550068 [===>..........................] - ETA: 56s - loss: 9286.4416 - acc: 0.0000e+00 - root_mean_squared_error: 9286.4416403660/550068 [=====================>........] - ETA: 17s - loss: 9257.9752 - acc: 0.0000e+00 - root_mean_squared_error: 9257.9752550068/550068 [==============================] - 66s 120us/step - loss: 9262.9687 - acc: 0.0000e+00 - root_mean_squared_error: 9262.9687\n",
      "Epoch 46/300\n",
      " 82170/550068 [===>..........................] - ETA: 55s - loss: 9268.7325 - acc: 0.0000e+00 - root_mean_squared_error: 9268.7325402760/550068 [====================>.........] - ETA: 17s - loss: 9262.6095 - acc: 0.0000e+00 - root_mean_squared_error: 9262.6095550068/550068 [==============================] - 66s 120us/step - loss: 9262.9687 - acc: 0.0000e+00 - root_mean_squared_error: 9262.9687\n",
      "Epoch 47/300\n",
      " 79730/550068 [===>..........................] - ETA: 56s - loss: 9263.7086 - acc: 0.0000e+00 - root_mean_squared_error: 9263.7086399730/550068 [====================>.........] - ETA: 18s - loss: 9258.2447 - acc: 0.0000e+00 - root_mean_squared_error: 9258.2447550068/550068 [==============================] - 66s 120us/step - loss: 9262.9687 - acc: 0.0000e+00 - root_mean_squared_error: 9262.9687\n",
      "Epoch 48/300\n",
      " 80860/550068 [===>..........................] - ETA: 56s - loss: 9277.6989 - acc: 0.0000e+00 - root_mean_squared_error: 9277.6989401070/550068 [====================>.........] - ETA: 17s - loss: 9259.2613 - acc: 0.0000e+00 - root_mean_squared_error: 9259.2613550068/550068 [==============================] - 66s 120us/step - loss: 9262.9687 - acc: 0.0000e+00 - root_mean_squared_error: 9262.9687\n",
      "Epoch 49/300\n",
      " 79000/550068 [===>..........................] - ETA: 56s - loss: 9243.2606 - acc: 0.0000e+00 - root_mean_squared_error: 9243.2606399250/550068 [====================>.........] - ETA: 18s - loss: 9257.7123 - acc: 0.0000e+00 - root_mean_squared_error: 9257.7123550068/550068 [==============================] - 66s 120us/step - loss: 9262.9687 - acc: 0.0000e+00 - root_mean_squared_error: 9262.9687\n",
      "Epoch 50/300\n",
      " 79290/550068 [===>..........................] - ETA: 56s - loss: 9267.8660 - acc: 0.0000e+00 - root_mean_squared_error: 9267.8660404520/550068 [=====================>........] - ETA: 17s - loss: 9264.4377 - acc: 0.0000e+00 - root_mean_squared_error: 9264.4377550068/550068 [==============================] - 66s 120us/step - loss: 9262.9687 - acc: 0.0000e+00 - root_mean_squared_error: 9262.9687\n",
      "Epoch 51/300\n",
      " 81510/550068 [===>..........................] - ETA: 56s - loss: 9232.4077 - acc: 0.0000e+00 - root_mean_squared_error: 9232.4077405920/550068 [=====================>........] - ETA: 17s - loss: 9258.3177 - acc: 0.0000e+00 - root_mean_squared_error: 9258.3177550068/550068 [==============================] - 66s 120us/step - loss: 9262.9687 - acc: 0.0000e+00 - root_mean_squared_error: 9262.9687\n",
      "Epoch 52/300\n",
      " 82730/550068 [===>..........................] - ETA: 56s - loss: 9257.3327 - acc: 0.0000e+00 - root_mean_squared_error: 9257.3327402840/550068 [====================>.........] - ETA: 17s - loss: 9256.2915 - acc: 0.0000e+00 - root_mean_squared_error: 9256.2915550068/550068 [==============================] - 66s 120us/step - loss: 9262.9687 - acc: 0.0000e+00 - root_mean_squared_error: 9262.9687\n",
      "Epoch 53/300\n",
      " 82210/550068 [===>..........................] - ETA: 55s - loss: 9255.5872 - acc: 0.0000e+00 - root_mean_squared_error: 9255.5872401820/550068 [====================>.........] - ETA: 17s - loss: 9265.2396 - acc: 0.0000e+00 - root_mean_squared_error: 9265.2396550068/550068 [==============================] - 66s 120us/step - loss: 9262.9687 - acc: 0.0000e+00 - root_mean_squared_error: 9262.9687\n",
      "Epoch 54/300\n",
      " 79900/550068 [===>..........................] - ETA: 56s - loss: 9267.0908 - acc: 0.0000e+00 - root_mean_squared_error: 9267.0908402070/550068 [====================>.........] - ETA: 17s - loss: 9264.6717 - acc: 0.0000e+00 - root_mean_squared_error: 9264.6717550068/550068 [==============================] - 66s 120us/step - loss: 9262.9687 - acc: 0.0000e+00 - root_mean_squared_error: 9262.9687\n",
      "Epoch 55/300\n",
      " 79250/550068 [===>..........................] - ETA: 56s - loss: 9269.7771 - acc: 0.0000e+00 - root_mean_squared_error: 9269.7771402810/550068 [====================>.........] - ETA: 17s - loss: 9263.7271 - acc: 0.0000e+00 - root_mean_squared_error: 9263.7271550068/550068 [==============================] - 66s 119us/step - loss: 9262.9687 - acc: 0.0000e+00 - root_mean_squared_error: 9262.9687\n",
      "Epoch 56/300\n",
      " 76720/550068 [===>..........................] - ETA: 58s - loss: 9265.8703 - acc: 0.0000e+00 - root_mean_squared_error: 9265.8703392450/550068 [====================>.........] - ETA: 19s - loss: 9271.1962 - acc: 0.0000e+00 - root_mean_squared_error: 9271.1962550068/550068 [==============================] - 66s 121us/step - loss: 9262.9687 - acc: 0.0000e+00 - root_mean_squared_error: 9262.9687\n",
      "Epoch 57/300\n",
      " 77490/550068 [===>..........................] - ETA: 56s - loss: 9258.7124 - acc: 0.0000e+00 - root_mean_squared_error: 9258.7124392150/550068 [====================>.........] - ETA: 19s - loss: 9258.5434 - acc: 0.0000e+00 - root_mean_squared_error: 9258.5434550068/550068 [==============================] - 66s 121us/step - loss: 9262.9687 - acc: 0.0000e+00 - root_mean_squared_error: 9262.9687\n",
      "Epoch 58/300\n",
      " 74690/550068 [===>..........................] - ETA: 57s - loss: 9254.6763 - acc: 0.0000e+00 - root_mean_squared_error: 9254.6763392620/550068 [====================>.........] - ETA: 18s - loss: 9257.9302 - acc: 0.0000e+00 - root_mean_squared_error: 9257.9302550068/550068 [==============================] - 66s 120us/step - loss: 9262.9687 - acc: 0.0000e+00 - root_mean_squared_error: 9262.9687\n",
      "Epoch 59/300\n",
      " 76090/550068 [===>..........................] - ETA: 56s - loss: 9239.4466 - acc: 0.0000e+00 - root_mean_squared_error: 9239.4466400710/550068 [====================>.........] - ETA: 17s - loss: 9261.5655 - acc: 0.0000e+00 - root_mean_squared_error: 9261.5655550068/550068 [==============================] - 66s 120us/step - loss: 9262.9687 - acc: 0.0000e+00 - root_mean_squared_error: 9262.9687\n",
      "Epoch 60/300\n",
      " 80620/550068 [===>..........................] - ETA: 55s - loss: 9281.5710 - acc: 0.0000e+00 - root_mean_squared_error: 9281.5710406520/550068 [=====================>........] - ETA: 17s - loss: 9270.0308 - acc: 0.0000e+00 - root_mean_squared_error: 9270.0308550068/550068 [==============================] - 65s 119us/step - loss: 9262.9687 - acc: 0.0000e+00 - root_mean_squared_error: 9262.9687\n",
      "Epoch 61/300\n"
     ]
    },
    {
     "name": "stdout",
     "output_type": "stream",
     "text": [
      " 84460/550068 [===>..........................] - ETA: 55s - loss: 9250.5178 - acc: 0.0000e+00 - root_mean_squared_error: 9250.5178411020/550068 [=====================>........] - ETA: 16s - loss: 9265.2749 - acc: 0.0000e+00 - root_mean_squared_error: 9265.2749550068/550068 [==============================] - 65s 119us/step - loss: 9262.9687 - acc: 0.0000e+00 - root_mean_squared_error: 9262.9687\n",
      "Epoch 62/300\n",
      " 83400/550068 [===>..........................] - ETA: 56s - loss: 9255.9856 - acc: 0.0000e+00 - root_mean_squared_error: 9255.9856409950/550068 [=====================>........] - ETA: 16s - loss: 9263.0748 - acc: 0.0000e+00 - root_mean_squared_error: 9263.0748550068/550068 [==============================] - 66s 119us/step - loss: 9262.9687 - acc: 0.0000e+00 - root_mean_squared_error: 9262.9687\n",
      "Epoch 63/300\n",
      " 86040/550068 [===>..........................] - ETA: 55s - loss: 9258.7350 - acc: 0.0000e+00 - root_mean_squared_error: 9258.7350413100/550068 [=====================>........] - ETA: 16s - loss: 9262.8443 - acc: 0.0000e+00 - root_mean_squared_error: 9262.8443550068/550068 [==============================] - 66s 119us/step - loss: 9262.9687 - acc: 0.0000e+00 - root_mean_squared_error: 9262.9687\n",
      "Epoch 64/300\n",
      " 85440/550068 [===>..........................] - ETA: 55s - loss: 9258.2298 - acc: 0.0000e+00 - root_mean_squared_error: 9258.2298410740/550068 [=====================>........] - ETA: 16s - loss: 9262.5986 - acc: 0.0000e+00 - root_mean_squared_error: 9262.5986550068/550068 [==============================] - 65s 119us/step - loss: 9262.9687 - acc: 0.0000e+00 - root_mean_squared_error: 9262.9687\n",
      "Epoch 65/300\n",
      " 87320/550068 [===>..........................] - ETA: 54s - loss: 9255.9489 - acc: 0.0000e+00 - root_mean_squared_error: 9255.9489412840/550068 [=====================>........] - ETA: 16s - loss: 9252.4796 - acc: 0.0000e+00 - root_mean_squared_error: 9252.4796550068/550068 [==============================] - 65s 118us/step - loss: 9262.9687 - acc: 0.0000e+00 - root_mean_squared_error: 9262.9687\n",
      "Epoch 66/300\n",
      " 84880/550068 [===>..........................] - ETA: 55s - loss: 9263.2147 - acc: 0.0000e+00 - root_mean_squared_error: 9263.2147401380/550068 [====================>.........] - ETA: 17s - loss: 9256.2140 - acc: 0.0000e+00 - root_mean_squared_error: 9256.2140550068/550068 [==============================] - 66s 121us/step - loss: 9262.9687 - acc: 0.0000e+00 - root_mean_squared_error: 9262.9687\n",
      "Epoch 67/300\n",
      " 79410/550068 [===>..........................] - ETA: 56s - loss: 9248.6559 - acc: 0.0000e+00 - root_mean_squared_error: 9248.6559403170/550068 [====================>.........] - ETA: 17s - loss: 9265.9961 - acc: 0.0000e+00 - root_mean_squared_error: 9265.9961550068/550068 [==============================] - 65s 119us/step - loss: 9262.9687 - acc: 0.0000e+00 - root_mean_squared_error: 9262.9687\n",
      "Epoch 68/300\n",
      " 83500/550068 [===>..........................] - ETA: 55s - loss: 9264.0708 - acc: 0.0000e+00 - root_mean_squared_error: 9264.0708404220/550068 [=====================>........] - ETA: 17s - loss: 9262.9962 - acc: 0.0000e+00 - root_mean_squared_error: 9262.9962550068/550068 [==============================] - 66s 119us/step - loss: 9262.9687 - acc: 0.0000e+00 - root_mean_squared_error: 9262.9687\n",
      "Epoch 69/300\n",
      " 82700/550068 [===>..........................] - ETA: 55s - loss: 9250.8901 - acc: 0.0000e+00 - root_mean_squared_error: 9250.8901408500/550068 [=====================>........] - ETA: 16s - loss: 9264.7816 - acc: 0.0000e+00 - root_mean_squared_error: 9264.7816550068/550068 [==============================] - 65s 119us/step - loss: 9262.9687 - acc: 0.0000e+00 - root_mean_squared_error: 9262.9687\n",
      "Epoch 70/300\n",
      " 84760/550068 [===>..........................] - ETA: 56s - loss: 9257.1017 - acc: 0.0000e+00 - root_mean_squared_error: 9257.1017409240/550068 [=====================>........] - ETA: 16s - loss: 9267.0593 - acc: 0.0000e+00 - root_mean_squared_error: 9267.0593550068/550068 [==============================] - 65s 119us/step - loss: 9262.9687 - acc: 0.0000e+00 - root_mean_squared_error: 9262.9687\n",
      "Epoch 71/300\n",
      " 85640/550068 [===>..........................] - ETA: 55s - loss: 9263.2243 - acc: 0.0000e+00 - root_mean_squared_error: 9263.2243412240/550068 [=====================>........] - ETA: 16s - loss: 9263.9228 - acc: 0.0000e+00 - root_mean_squared_error: 9263.9228550068/550068 [==============================] - 65s 118us/step - loss: 9262.9687 - acc: 0.0000e+00 - root_mean_squared_error: 9262.9687\n",
      "Epoch 72/300\n",
      " 86780/550068 [===>..........................] - ETA: 55s - loss: 9258.1076 - acc: 0.0000e+00 - root_mean_squared_error: 9258.10404550/550068 [=====================>........] - ETA: 17s - loss: 9263.8589 - acc: 0.0000e+00 - root_mean_squared_error: 9263.8589550068/550068 [==============================] - 66s 121us/step - loss: 9262.9687 - acc: 0.0000e+00 - root_mean_squared_error: 9262.9687\n",
      "Epoch 73/300\n",
      " 82520/550068 [===>..........................] - ETA: 55s - loss: 9253.6532 - acc: 0.0000e+00 - root_mean_squared_error: 9253.6532406230/550068 [=====================>........] - ETA: 17s - loss: 9262.9752 - acc: 0.0000e+00 - root_mean_squared_error: 9262.9752550068/550068 [==============================] - 66s 119us/step - loss: 9262.9687 - acc: 0.0000e+00 - root_mean_squared_error: 9262.9687\n",
      "Epoch 74/300\n",
      " 82210/550068 [===>..........................] - ETA: 56s - loss: 9275.2359 - acc: 0.0000e+00 - root_mean_squared_error: 9275.2359400160/550068 [====================>.........] - ETA: 18s - loss: 9263.1160 - acc: 0.0000e+00 - root_mean_squared_error: 9263.1160550068/550068 [==============================] - 67s 121us/step - loss: 9262.9687 - acc: 0.0000e+00 - root_mean_squared_error: 9262.9687\n",
      "Epoch 75/300\n",
      " 79610/550068 [===>..........................] - ETA: 55s - loss: 9251.3727 - acc: 0.0000e+00 - root_mean_squared_error: 9251.3727404550/550068 [=====================>........] - ETA: 17s - loss: 9275.1722 - acc: 0.0000e+00 - root_mean_squared_error: 9275.1722550068/550068 [==============================] - 65s 119us/step - loss: 9262.9687 - acc: 0.0000e+00 - root_mean_squared_error: 9262.9687\n",
      "Epoch 76/300\n",
      " 81510/550068 [===>..........................] - ETA: 56s - loss: 9261.2108 - acc: 0.0000e+00 - root_mean_squared_error: 9261.2108405130/550068 [=====================>........] - ETA: 17s - loss: 9267.6212 - acc: 0.0000e+00 - root_mean_squared_error: 9267.6212550068/550068 [==============================] - 66s 119us/step - loss: 9262.9687 - acc: 0.0000e+00 - root_mean_squared_error: 9262.9687\n",
      "Epoch 77/300\n",
      " 81380/550068 [===>..........................] - ETA: 57s - loss: 9302.1888 - acc: 0.0000e+00 - root_mean_squared_error: 9302.1888407040/550068 [=====================>........] - ETA: 17s - loss: 9258.9500 - acc: 0.0000e+00 - root_mean_squared_error: 9258.9500550068/550068 [==============================] - 66s 119us/step - loss: 9262.9687 - acc: 0.0000e+00 - root_mean_squared_error: 9262.9687\n",
      "Epoch 78/300\n",
      " 82970/550068 [===>..........................] - ETA: 56s - loss: 9249.5249 - acc: 0.0000e+00 - root_mean_squared_error: 9249.5249398720/550068 [====================>.........] - ETA: 18s - loss: 9258.4211 - acc: 0.0000e+00 - root_mean_squared_error: 9258.4211550068/550068 [==============================] - 67s 122us/step - loss: 9262.9687 - acc: 0.0000e+00 - root_mean_squared_error: 9262.9687\n",
      "Epoch 79/300\n",
      " 78160/550068 [===>..........................] - ETA: 56s - loss: 9244.6481 - acc: 0.0000e+00 - root_mean_squared_error: 9244.6481399890/550068 [====================>.........] - ETA: 17s - loss: 9259.8546 - acc: 0.0000e+00 - root_mean_squared_error: 9259.8546550068/550068 [==============================] - 66s 120us/step - loss: 9262.9687 - acc: 0.0000e+00 - root_mean_squared_error: 9262.9687\n",
      "Epoch 80/300\n",
      " 80840/550068 [===>..........................] - ETA: 56s - loss: 9299.3595 - acc: 0.0000e+00 - root_mean_squared_error: 9299.3595405770/550068 [=====================>........] - ETA: 17s - loss: 9259.9437 - acc: 0.0000e+00 - root_mean_squared_error: 9259.9437550068/550068 [==============================] - 66s 120us/step - loss: 9262.9687 - acc: 0.0000e+00 - root_mean_squared_error: 9262.9687\n",
      "Epoch 81/300\n"
     ]
    },
    {
     "name": "stdout",
     "output_type": "stream",
     "text": [
      " 80240/550068 [===>..........................] - ETA: 57s - loss: 9272.9721 - acc: 0.0000e+00 - root_mean_squared_error: 9272.9721402790/550068 [====================>.........] - ETA: 17s - loss: 9270.9292 - acc: 0.0000e+00 - root_mean_squared_error: 9270.9292550068/550068 [==============================] - 66s 120us/step - loss: 9262.9687 - acc: 0.0000e+00 - root_mean_squared_error: 9262.9687\n",
      "Epoch 82/300\n",
      " 81880/550068 [===>..........................] - ETA: 56s - loss: 9245.1367 - acc: 0.0000e+00 - root_mean_squared_error: 9245.1367402890/550068 [====================>.........] - ETA: 17s - loss: 9263.8301 - acc: 0.0000e+00 - root_mean_squared_error: 9263.8301550068/550068 [==============================] - 66s 120us/step - loss: 9262.9687 - acc: 0.0000e+00 - root_mean_squared_error: 9262.9687\n",
      "Epoch 83/300\n",
      " 78990/550068 [===>..........................] - ETA: 56s - loss: 9278.3375 - acc: 0.0000e+00 - root_mean_squared_error: 9278.3375402120/550068 [====================>.........] - ETA: 17s - loss: 9268.3463 - acc: 0.0000e+00 - root_mean_squared_error: 9268.3463550068/550068 [==============================] - 66s 120us/step - loss: 9262.9687 - acc: 0.0000e+00 - root_mean_squared_error: 9262.9687\n",
      "Epoch 84/300\n",
      " 81540/550068 [===>..........................] - ETA: 56s - loss: 9264.9408 - acc: 0.0000e+00 - root_mean_squared_error: 9264.9408404510/550068 [=====================>........] - ETA: 17s - loss: 9267.0553 - acc: 0.0000e+00 - root_mean_squared_error: 9267.0553550068/550068 [==============================] - 66s 119us/step - loss: 9262.9687 - acc: 0.0000e+00 - root_mean_squared_error: 9262.9687\n",
      "Epoch 85/300\n",
      " 81270/550068 [===>..........................] - ETA: 56s - loss: 9276.3699 - acc: 0.0000e+00 - root_mean_squared_error: 9276.3699403790/550068 [=====================>........] - ETA: 17s - loss: 9261.2660 - acc: 0.0000e+00 - root_mean_squared_error: 9261.2660550068/550068 [==============================] - 66s 120us/step - loss: 9262.9687 - acc: 0.0000e+00 - root_mean_squared_error: 9262.9687\n",
      "Epoch 86/300\n",
      " 81400/550068 [===>..........................] - ETA: 56s - loss: 9279.7808 - acc: 0.0000e+00 - root_mean_squared_error: 9279.7808399320/550068 [====================>.........] - ETA: 18s - loss: 9266.7505 - acc: 0.0000e+00 - root_mean_squared_error: 9266.7505550068/550068 [==============================] - 66s 120us/step - loss: 9262.9687 - acc: 0.0000e+00 - root_mean_squared_error: 9262.9687\n",
      "Epoch 87/300\n",
      " 78980/550068 [===>..........................] - ETA: 56s - loss: 9262.8734 - acc: 0.0000e+00 - root_mean_squared_error: 9262.8734397640/550068 [====================>.........] - ETA: 18s - loss: 9257.0136 - acc: 0.0000e+00 - root_mean_squared_error: 9257.0136550068/550068 [==============================] - 67s 121us/step - loss: 9262.9687 - acc: 0.0000e+00 - root_mean_squared_error: 9262.9687\n",
      "Epoch 88/300\n",
      " 75750/550068 [===>..........................] - ETA: 57s - loss: 9251.8500 - acc: 0.0000e+00 - root_mean_squared_error: 9251.8500393800/550068 [====================>.........] - ETA: 19s - loss: 9258.8632 - acc: 0.0000e+00 - root_mean_squared_error: 9258.8632550068/550068 [==============================] - 67s 121us/step - loss: 9262.9687 - acc: 0.0000e+00 - root_mean_squared_error: 9262.9687\n",
      "Epoch 89/300\n",
      " 76960/550068 [===>..........................] - ETA: 56s - loss: 9269.0741 - acc: 0.0000e+00 - root_mean_squared_error: 9269.0741398090/550068 [====================>.........] - ETA: 18s - loss: 9259.5832 - acc: 0.0000e+00 - root_mean_squared_error: 9259.5832550068/550068 [==============================] - 66s 120us/step - loss: 9262.9687 - acc: 0.0000e+00 - root_mean_squared_error: 9262.9687\n",
      "Epoch 90/300\n",
      " 79770/550068 [===>..........................] - ETA: 56s - loss: 9271.3191 - acc: 0.0000e+00 - root_mean_squared_error: 9271.3191405000/550068 [=====================>........] - ETA: 17s - loss: 9259.0386 - acc: 0.0000e+00 - root_mean_squared_error: 9259.0386550068/550068 [==============================] - 66s 119us/step - loss: 9262.9687 - acc: 0.0000e+00 - root_mean_squared_error: 9262.9687\n",
      "Epoch 91/300\n",
      " 81310/550068 [===>..........................] - ETA: 56s - loss: 9262.1751 - acc: 0.0000e+00 - root_mean_squared_error: 9262.1751402380/550068 [====================>.........] - ETA: 17s - loss: 9259.1204 - acc: 0.0000e+00 - root_mean_squared_error: 9259.1204550068/550068 [==============================] - 66s 120us/step - loss: 9262.9687 - acc: 0.0000e+00 - root_mean_squared_error: 9262.9687\n",
      "Epoch 92/300\n",
      " 80720/550068 [===>..........................] - ETA: 56s - loss: 9256.0353 - acc: 0.0000e+00 - root_mean_squared_error: 9256.0353404900/550068 [=====================>........] - ETA: 17s - loss: 9259.5648 - acc: 0.0000e+00 - root_mean_squared_error: 9259.5648550068/550068 [==============================] - 65s 119us/step - loss: 9262.9687 - acc: 0.0000e+00 - root_mean_squared_error: 9262.9687\n",
      "Epoch 93/300\n",
      " 83420/550068 [===>..........................] - ETA: 55s - loss: 9263.4916 - acc: 0.0000e+00 - root_mean_squared_error: 9263.4916410240/550068 [=====================>........] - ETA: 16s - loss: 9266.0817 - acc: 0.0000e+00 - root_mean_squared_error: 9266.0817550068/550068 [==============================] - 65s 118us/step - loss: 9262.9687 - acc: 0.0000e+00 - root_mean_squared_error: 9262.9687\n",
      "Epoch 94/300\n",
      " 86340/550068 [===>..........................] - ETA: 55s - loss: 9268.7246 - acc: 0.0000e+00 - root_mean_squared_error: 9268.7246406030/550068 [=====================>........] - ETA: 17s - loss: 9268.4908 - acc: 0.0000e+00 - root_mean_squared_error: 9268.4908550068/550068 [==============================] - 66s 120us/step - loss: 9262.9687 - acc: 0.0000e+00 - root_mean_squared_error: 9262.9687\n",
      "Epoch 95/300\n",
      " 84150/550068 [===>..........................] - ETA: 55s - loss: 9244.1244 - acc: 0.0000e+00 - root_mean_squared_error: 9244.1244408460/550068 [=====================>........] - ETA: 16s - loss: 9258.5429 - acc: 0.0000e+00 - root_mean_squared_error: 9258.5429550068/550068 [==============================] - 65s 119us/step - loss: 9262.9687 - acc: 0.0000e+00 - root_mean_squared_error: 9262.9687\n",
      "Epoch 96/300\n",
      " 82710/550068 [===>..........................] - ETA: 57s - loss: 9248.1583 - acc: 0.0000e+00 - root_mean_squared_error: 9248.1583401030/550068 [====================>.........] - ETA: 17s - loss: 9261.5372 - acc: 0.0000e+00 - root_mean_squared_error: 9261.5372550068/550068 [==============================] - 66s 120us/step - loss: 9262.9687 - acc: 0.0000e+00 - root_mean_squared_error: 9262.9687\n",
      "Epoch 97/300\n",
      " 79840/550068 [===>..........................] - ETA: 56s - loss: 9240.3451 - acc: 0.0000e+00 - root_mean_squared_error: 9240.3451403920/550068 [=====================>........] - ETA: 17s - loss: 9256.6532 - acc: 0.0000e+00 - root_mean_squared_error: 9256.6532550068/550068 [==============================] - 65s 119us/step - loss: 9262.9687 - acc: 0.0000e+00 - root_mean_squared_error: 9262.9687\n",
      "Epoch 98/300\n",
      " 82180/550068 [===>..........................] - ETA: 56s - loss: 9252.5361 - acc: 0.0000e+00 - root_mean_squared_error: 9252.5361404640/550068 [=====================>........] - ETA: 17s - loss: 9262.0903 - acc: 0.0000e+00 - root_mean_squared_error: 9262.0903550068/550068 [==============================] - 66s 119us/step - loss: 9262.9687 - acc: 0.0000e+00 - root_mean_squared_error: 9262.9687\n",
      "Epoch 99/300\n",
      " 83740/550068 [===>..........................] - ETA: 55s - loss: 9268.7680 - acc: 0.0000e+00 - root_mean_squared_error: 9268.7680401050/550068 [====================>.........] - ETA: 17s - loss: 9261.4753 - acc: 0.0000e+00 - root_mean_squared_error: 9261.4753550068/550068 [==============================] - 66s 120us/step - loss: 9262.9687 - acc: 0.0000e+00 - root_mean_squared_error: 9262.9687\n",
      "Epoch 100/300\n",
      " 78230/550068 [===>..........................] - ETA: 57s - loss: 9263.0258 - acc: 0.0000e+00 - root_mean_squared_error: 9263.0258401090/550068 [====================>.........] - ETA: 17s - loss: 9255.3375 - acc: 0.0000e+00 - root_mean_squared_error: 9255.3375550068/550068 [==============================] - 66s 120us/step - loss: 9262.9687 - acc: 0.0000e+00 - root_mean_squared_error: 9262.9687\n",
      "Epoch 101/300\n"
     ]
    },
    {
     "name": "stdout",
     "output_type": "stream",
     "text": [
      " 80170/550068 [===>..........................] - ETA: 56s - loss: 9255.9807 - acc: 0.0000e+00 - root_mean_squared_error: 9255.9807404040/550068 [=====================>........] - ETA: 17s - loss: 9258.5621 - acc: 0.0000e+00 - root_mean_squared_error: 9258.5621550068/550068 [==============================] - 66s 119us/step - loss: 9262.9687 - acc: 0.0000e+00 - root_mean_squared_error: 9262.9687\n",
      "Epoch 102/300\n",
      " 82460/550068 [===>..........................] - ETA: 55s - loss: 9261.1131 - acc: 0.0000e+00 - root_mean_squared_error: 9261.1131399320/550068 [====================>.........] - ETA: 18s - loss: 9249.2696 - acc: 0.0000e+00 - root_mean_squared_error: 9249.2696550068/550068 [==============================] - 66s 121us/step - loss: 9262.9687 - acc: 0.0000e+00 - root_mean_squared_error: 9262.9687\n",
      "Epoch 103/300\n",
      " 79980/550068 [===>..........................] - ETA: 56s - loss: 9280.7524 - acc: 0.0000e+00 - root_mean_squared_error: 9280.7524401970/550068 [====================>.........] - ETA: 17s - loss: 9263.9616 - acc: 0.0000e+00 - root_mean_squared_error: 9263.9616550068/550068 [==============================] - 66s 121us/step - loss: 9262.9687 - acc: 0.0000e+00 - root_mean_squared_error: 9262.9687\n",
      "Epoch 104/300\n",
      " 75900/550068 [===>..........................] - ETA: 58s - loss: 9242.9767 - acc: 0.0000e+00 - root_mean_squared_error: 9242.9767391990/550068 [====================>.........] - ETA: 19s - loss: 9258.2173 - acc: 0.0000e+00 - root_mean_squared_error: 9258.2173550068/550068 [==============================] - 67s 121us/step - loss: 9262.9687 - acc: 0.0000e+00 - root_mean_squared_error: 9262.9687\n",
      "Epoch 105/300\n",
      " 75340/550068 [===>..........................] - ETA: 57s - loss: 9233.2085 - acc: 0.0000e+00 - root_mean_squared_error: 9233.2085400940/550068 [====================>.........] - ETA: 17s - loss: 9258.4601 - acc: 0.0000e+00 - root_mean_squared_error: 9258.4601550068/550068 [==============================] - 66s 119us/step - loss: 9262.9687 - acc: 0.0000e+00 - root_mean_squared_error: 9262.9687\n",
      "Epoch 106/300\n",
      " 80750/550068 [===>..........................] - ETA: 56s - loss: 9288.6330 - acc: 0.0000e+00 - root_mean_squared_error: 9288.6330403150/550068 [====================>.........] - ETA: 17s - loss: 9265.5026 - acc: 0.0000e+00 - root_mean_squared_error: 9265.5026550068/550068 [==============================] - 65s 119us/step - loss: 9262.9687 - acc: 0.0000e+00 - root_mean_squared_error: 9262.9687\n",
      "Epoch 107/300\n",
      " 82490/550068 [===>..........................] - ETA: 55s - loss: 9270.5614 - acc: 0.0000e+00 - root_mean_squared_error: 9270.5614399400/550068 [====================>.........] - ETA: 18s - loss: 9258.4148 - acc: 0.0000e+00 - root_mean_squared_error: 9258.4148550068/550068 [==============================] - 66s 121us/step - loss: 9262.9687 - acc: 0.0000e+00 - root_mean_squared_error: 9262.9687\n",
      "Epoch 108/300\n",
      " 78890/550068 [===>..........................] - ETA: 56s - loss: 9283.2148 - acc: 0.0000e+00 - root_mean_squared_error: 9283.2148399410/550068 [====================>.........] - ETA: 18s - loss: 9264.9319 - acc: 0.0000e+00 - root_mean_squared_error: 9264.9319550068/550068 [==============================] - 66s 120us/step - loss: 9262.9687 - acc: 0.0000e+00 - root_mean_squared_error: 9262.9687\n",
      "Epoch 109/300\n",
      " 80400/550068 [===>..........................] - ETA: 56s - loss: 9252.0214 - acc: 0.0000e+00 - root_mean_squared_error: 9252.0214407980/550068 [=====================>........] - ETA: 16s - loss: 9258.4330 - acc: 0.0000e+00 - root_mean_squared_error: 9258.4330550068/550068 [==============================] - 65s 119us/step - loss: 9262.9687 - acc: 0.0000e+00 - root_mean_squared_error: 9262.9687\n",
      "Epoch 110/300\n",
      " 83730/550068 [===>..........................] - ETA: 55s - loss: 9285.9374 - acc: 0.0000e+00 - root_mean_squared_error: 9285.9374410480/550068 [=====================>........] - ETA: 16s - loss: 9258.2580 - acc: 0.0000e+00 - root_mean_squared_error: 9258.2580550068/550068 [==============================] - 65s 119us/step - loss: 9262.9687 - acc: 0.0000e+00 - root_mean_squared_error: 9262.9687\n",
      "Epoch 111/300\n",
      " 84760/550068 [===>..........................] - ETA: 55s - loss: 9277.4458 - acc: 0.0000e+00 - root_mean_squared_error: 9277.4458411770/550068 [=====================>........] - ETA: 16s - loss: 9264.9856 - acc: 0.0000e+00 - root_mean_squared_error: 9264.9856550068/550068 [==============================] - 65s 119us/step - loss: 9262.9687 - acc: 0.0000e+00 - root_mean_squared_error: 9262.9687\n",
      "Epoch 112/300\n",
      " 84000/550068 [===>..........................] - ETA: 55s - loss: 9269.8654 - acc: 0.0000e+00 - root_mean_squared_error: 9269.8654410260/550068 [=====================>........] - ETA: 16s - loss: 9261.3674 - acc: 0.0000e+00 - root_mean_squared_error: 9261.3674550068/550068 [==============================] - 65s 119us/step - loss: 9262.9687 - acc: 0.0000e+00 - root_mean_squared_error: 9262.9687\n",
      "Epoch 113/300\n",
      " 85620/550068 [===>..........................] - ETA: 55s - loss: 9234.0681 - acc: 0.0000e+00 - root_mean_squared_error: 9234.0681408830/550068 [=====================>........] - ETA: 16s - loss: 9262.4909 - acc: 0.0000e+00 - root_mean_squared_error: 9262.4909550068/550068 [==============================] - 65s 118us/step - loss: 9262.9687 - acc: 0.0000e+00 - root_mean_squared_error: 9262.9687\n",
      "Epoch 114/300\n",
      " 84750/550068 [===>..........................] - ETA: 55s - loss: 9288.9844 - acc: 0.0000e+00 - root_mean_squared_error: 9288.9844404900/550068 [=====================>........] - ETA: 17s - loss: 9268.0603 - acc: 0.0000e+00 - root_mean_squared_error: 9268.0603550068/550068 [==============================] - 66s 121us/step - loss: 9262.9687 - acc: 0.0000e+00 - root_mean_squared_error: 9262.9687\n",
      "Epoch 115/300\n",
      " 81440/550068 [===>..........................] - ETA: 55s - loss: 9250.0693 - acc: 0.0000e+00 - root_mean_squared_error: 9250.0693403430/550068 [=====================>........] - ETA: 17s - loss: 9258.9202 - acc: 0.0000e+00 - root_mean_squared_error: 9258.9202550068/550068 [==============================] - 65s 119us/step - loss: 9262.9687 - acc: 0.0000e+00 - root_mean_squared_error: 9262.9687\n",
      "Epoch 116/300\n",
      " 82190/550068 [===>..........................] - ETA: 56s - loss: 9279.8195 - acc: 0.0000e+00 - root_mean_squared_error: 9279.8195405830/550068 [=====================>........] - ETA: 17s - loss: 9255.6829 - acc: 0.0000e+00 - root_mean_squared_error: 9255.6829550068/550068 [==============================] - 65s 119us/step - loss: 9262.9687 - acc: 0.0000e+00 - root_mean_squared_error: 9262.9687\n",
      "Epoch 117/300\n",
      " 83890/550068 [===>..........................] - ETA: 55s - loss: 9292.2498 - acc: 0.0000e+00 - root_mean_squared_error: 9292.2498410040/550068 [=====================>........] - ETA: 16s - loss: 9265.0926 - acc: 0.0000e+00 - root_mean_squared_error: 9265.0926550068/550068 [==============================] - 65s 118us/step - loss: 9262.9687 - acc: 0.0000e+00 - root_mean_squared_error: 9262.9687\n",
      "Epoch 118/300\n",
      " 85360/550068 [===>..........................] - ETA: 55s - loss: 9274.5429 - acc: 0.0000e+00 - root_mean_squared_error: 9274.5429406280/550068 [=====================>........] - ETA: 17s - loss: 9265.4918 - acc: 0.0000e+00 - root_mean_squared_error: 9265.4918550068/550068 [==============================] - 66s 119us/step - loss: 9262.9687 - acc: 0.0000e+00 - root_mean_squared_error: 9262.9687\n",
      "Epoch 119/300\n",
      " 81940/550068 [===>..........................] - ETA: 56s - loss: 9279.3581 - acc: 0.0000e+00 - root_mean_squared_error: 9279.35405040/550068 [=====================>........] - ETA: 17s - loss: 9260.3171 - acc: 0.0000e+00 - root_mean_squared_error: 9260.3171550068/550068 [==============================] - 66s 120us/step - loss: 9262.9687 - acc: 0.0000e+00 - root_mean_squared_error: 9262.9687\n",
      "Epoch 120/300\n",
      " 81450/550068 [===>..........................] - ETA: 55s - loss: 9265.4809 - acc: 0.0000e+00 - root_mean_squared_error: 9265.4809403330/550068 [====================>.........] - ETA: 17s - loss: 9260.6511 - acc: 0.0000e+00 - root_mean_squared_error: 9260.6511550068/550068 [==============================] - 66s 120us/step - loss: 9262.9687 - acc: 0.0000e+00 - root_mean_squared_error: 9262.9687\n",
      "Epoch 121/300\n"
     ]
    },
    {
     "name": "stdout",
     "output_type": "stream",
     "text": [
      " 81950/550068 [===>..........................] - ETA: 55s - loss: 9264.1004 - acc: 0.0000e+00 - root_mean_squared_error: 9264.1004406950/550068 [=====================>........] - ETA: 16s - loss: 9259.6157 - acc: 0.0000e+00 - root_mean_squared_error: 9259.6157550068/550068 [==============================] - 65s 119us/step - loss: 9262.9687 - acc: 0.0000e+00 - root_mean_squared_error: 9262.9687\n",
      "Epoch 122/300\n",
      " 81910/550068 [===>..........................] - ETA: 56s - loss: 9255.3434 - acc: 0.0000e+00 - root_mean_squared_error: 9255.3434402000/550068 [====================>.........] - ETA: 17s - loss: 9259.3065 - acc: 0.0000e+00 - root_mean_squared_error: 9259.3065550068/550068 [==============================] - 66s 120us/step - loss: 9262.9687 - acc: 0.0000e+00 - root_mean_squared_error: 9262.9687\n",
      "Epoch 123/300\n",
      " 79930/550068 [===>..........................] - ETA: 56s - loss: 9301.3880 - acc: 0.0000e+00 - root_mean_squared_error: 9301.3880402500/550068 [====================>.........] - ETA: 17s - loss: 9262.7694 - acc: 0.0000e+00 - root_mean_squared_error: 9262.7694550068/550068 [==============================] - 66s 119us/step - loss: 9262.9687 - acc: 0.0000e+00 - root_mean_squared_error: 9262.9687\n",
      "Epoch 124/300\n",
      " 79390/550068 [===>..........................] - ETA: 56s - loss: 9253.9205 - acc: 0.0000e+00 - root_mean_squared_error: 9253.9205403840/550068 [=====================>........] - ETA: 17s - loss: 9263.2784 - acc: 0.0000e+00 - root_mean_squared_error: 9263.2784550068/550068 [==============================] - 66s 119us/step - loss: 9262.9687 - acc: 0.0000e+00 - root_mean_squared_error: 9262.9687\n",
      "Epoch 125/300\n",
      " 82890/550068 [===>..........................] - ETA: 55s - loss: 9244.9933 - acc: 0.0000e+00 - root_mean_squared_error: 9244.9933406230/550068 [=====================>........] - ETA: 17s - loss: 9269.2653 - acc: 0.0000e+00 - root_mean_squared_error: 9269.2653550068/550068 [==============================] - 66s 119us/step - loss: 9262.9687 - acc: 0.0000e+00 - root_mean_squared_error: 9262.9687\n",
      "Epoch 126/300\n",
      " 82630/550068 [===>..........................] - ETA: 56s - loss: 9279.9430 - acc: 0.0000e+00 - root_mean_squared_error: 9279.9430396470/550068 [====================>.........] - ETA: 18s - loss: 9267.1555 - acc: 0.0000e+00 - root_mean_squared_error: 9267.1555550068/550068 [==============================] - 67s 122us/step - loss: 9262.9687 - acc: 0.0000e+00 - root_mean_squared_error: 9262.9687\n",
      "Epoch 127/300\n",
      " 77400/550068 [===>..........................] - ETA: 56s - loss: 9257.0351 - acc: 0.0000e+00 - root_mean_squared_error: 9257.0351401540/550068 [====================>.........] - ETA: 17s - loss: 9262.8526 - acc: 0.0000e+00 - root_mean_squared_error: 9262.8526550068/550068 [==============================] - 66s 120us/step - loss: 9262.9687 - acc: 0.0000e+00 - root_mean_squared_error: 9262.9687\n",
      "Epoch 128/300\n",
      " 76420/550068 [===>..........................] - ETA: 57s - loss: 9277.6319 - acc: 0.0000e+00 - root_mean_squared_error: 9277.6319398540/550068 [====================>.........] - ETA: 18s - loss: 9264.3628 - acc: 0.0000e+00 - root_mean_squared_error: 9264.3628550068/550068 [==============================] - 66s 120us/step - loss: 9262.9687 - acc: 0.0000e+00 - root_mean_squared_error: 9262.9687\n",
      "Epoch 129/300\n",
      " 79610/550068 [===>..........................] - ETA: 56s - loss: 9262.2315 - acc: 0.0000e+00 - root_mean_squared_error: 9262.2315400780/550068 [====================>.........] - ETA: 17s - loss: 9262.6610 - acc: 0.0000e+00 - root_mean_squared_error: 9262.6610550068/550068 [==============================] - 66s 119us/step - loss: 9262.9687 - acc: 0.0000e+00 - root_mean_squared_error: 9262.9687\n",
      "Epoch 130/300\n",
      " 77790/550068 [===>..........................] - ETA: 57s - loss: 9260.5206 - acc: 0.0000e+00 - root_mean_squared_error: 9260.5206397110/550068 [====================>.........] - ETA: 18s - loss: 9263.9682 - acc: 0.0000e+00 - root_mean_squared_error: 9263.9682550068/550068 [==============================] - 66s 120us/step - loss: 9262.9687 - acc: 0.0000e+00 - root_mean_squared_error: 9262.9687\n",
      "Epoch 131/300\n",
      " 79160/550068 [===>..........................] - ETA: 56s - loss: 9242.4878 - acc: 0.0000e+00 - root_mean_squared_error: 9242.4878400480/550068 [====================>.........] - ETA: 17s - loss: 9264.9777 - acc: 0.0000e+00 - root_mean_squared_error: 9264.9777550068/550068 [==============================] - 65s 119us/step - loss: 9262.9687 - acc: 0.0000e+00 - root_mean_squared_error: 9262.9687\n",
      "Epoch 132/300\n",
      " 80420/550068 [===>..........................] - ETA: 56s - loss: 9257.5380 - acc: 0.0000e+00 - root_mean_squared_error: 9257.5380400870/550068 [====================>.........] - ETA: 17s - loss: 9269.9687 - acc: 0.0000e+00 - root_mean_squared_error: 9269.9687550068/550068 [==============================] - 66s 120us/step - loss: 9262.9687 - acc: 0.0000e+00 - root_mean_squared_error: 9262.9687\n",
      "Epoch 133/300\n",
      " 81330/550068 [===>..........................] - ETA: 55s - loss: 9278.2611 - acc: 0.0000e+00 - root_mean_squared_error: 9278.2611404150/550068 [=====================>........] - ETA: 17s - loss: 9269.5922 - acc: 0.0000e+00 - root_mean_squared_error: 9269.5922550068/550068 [==============================] - 66s 120us/step - loss: 9262.9687 - acc: 0.0000e+00 - root_mean_squared_error: 9262.9687\n",
      "Epoch 134/300\n",
      " 78540/550068 [===>..........................] - ETA: 56s - loss: 9262.2834 - acc: 0.0000e+00 - root_mean_squared_error: 9262.2834404580/550068 [=====================>........] - ETA: 17s - loss: 9261.1027 - acc: 0.0000e+00 - root_mean_squared_error: 9261.1027550068/550068 [==============================] - 65s 119us/step - loss: 9262.9687 - acc: 0.0000e+00 - root_mean_squared_error: 9262.9687\n",
      "Epoch 135/300\n",
      " 81170/550068 [===>..........................] - ETA: 56s - loss: 9291.4694 - acc: 0.0000e+00 - root_mean_squared_error: 9291.4694404780/550068 [=====================>........] - ETA: 17s - loss: 9266.1001 - acc: 0.0000e+00 - root_mean_squared_error: 9266.1001550068/550068 [==============================] - 65s 119us/step - loss: 9262.9687 - acc: 0.0000e+00 - root_mean_squared_error: 9262.9687\n",
      "Epoch 136/300\n",
      " 81740/550068 [===>..........................] - ETA: 55s - loss: 9249.7739 - acc: 0.0000e+00 - root_mean_squared_error: 9249.7739407920/550068 [=====================>........] - ETA: 16s - loss: 9257.6507 - acc: 0.0000e+00 - root_mean_squared_error: 9257.6507550068/550068 [==============================] - 65s 118us/step - loss: 9262.9687 - acc: 0.0000e+00 - root_mean_squared_error: 9262.9687\n",
      "Epoch 137/300\n",
      " 85680/550068 [===>..........................] - ETA: 55s - loss: 9302.7373 - acc: 0.0000e+00 - root_mean_squared_error: 9302.7373408850/550068 [=====================>........] - ETA: 16s - loss: 9262.4167 - acc: 0.0000e+00 - root_mean_squared_error: 9262.4167550068/550068 [==============================] - 66s 119us/step - loss: 9262.9687 - acc: 0.0000e+00 - root_mean_squared_error: 9262.9687\n",
      "Epoch 138/300\n",
      " 83300/550068 [===>..........................] - ETA: 56s - loss: 9253.4978 - acc: 0.0000e+00 - root_mean_squared_error: 9253.4978404550/550068 [=====================>........] - ETA: 17s - loss: 9264.7391 - acc: 0.0000e+00 - root_mean_squared_error: 9264.7391550068/550068 [==============================] - 66s 119us/step - loss: 9262.9687 - acc: 0.0000e+00 - root_mean_squared_error: 9262.9687\n",
      "Epoch 139/300\n",
      " 82160/550068 [===>..........................] - ETA: 55s - loss: 9262.1709 - acc: 0.0000e+00 - root_mean_squared_error: 9262.1709408180/550068 [=====================>........] - ETA: 16s - loss: 9262.2523 - acc: 0.0000e+00 - root_mean_squared_error: 9262.2523550068/550068 [==============================] - 66s 119us/step - loss: 9262.9687 - acc: 0.0000e+00 - root_mean_squared_error: 9262.9687\n",
      "Epoch 140/300\n",
      " 83470/550068 [===>..........................] - ETA: 55s - loss: 9283.0734 - acc: 0.0000e+00 - root_mean_squared_error: 9283.0734407610/550068 [=====================>........] - ETA: 16s - loss: 9268.3827 - acc: 0.0000e+00 - root_mean_squared_error: 9268.3827550068/550068 [==============================] - 65s 118us/step - loss: 9262.9687 - acc: 0.0000e+00 - root_mean_squared_error: 9262.9687\n",
      "Epoch 141/300\n"
     ]
    },
    {
     "name": "stdout",
     "output_type": "stream",
     "text": [
      " 83190/550068 [===>..........................] - ETA: 56s - loss: 9244.5911 - acc: 0.0000e+00 - root_mean_squared_error: 9244.5911408790/550068 [=====================>........] - ETA: 16s - loss: 9253.0903 - acc: 0.0000e+00 - root_mean_squared_error: 9253.0903550068/550068 [==============================] - 65s 119us/step - loss: 9262.9687 - acc: 0.0000e+00 - root_mean_squared_error: 9262.9687\n",
      "Epoch 142/300\n",
      " 83710/550068 [===>..........................] - ETA: 55s - loss: 9255.4305 - acc: 0.0000e+00 - root_mean_squared_error: 9255.4305400600/550068 [====================>.........] - ETA: 17s - loss: 9259.1228 - acc: 0.0000e+00 - root_mean_squared_error: 9259.1228550068/550068 [==============================] - 66s 120us/step - loss: 9262.9687 - acc: 0.0000e+00 - root_mean_squared_error: 9262.9687\n",
      "Epoch 143/300\n",
      " 79680/550068 [===>..........................] - ETA: 56s - loss: 9266.2779 - acc: 0.0000e+00 - root_mean_squared_error: 9266.2779404160/550068 [=====================>........] - ETA: 17s - loss: 9266.4726 - acc: 0.0000e+00 - root_mean_squared_error: 9266.4726550068/550068 [==============================] - 65s 119us/step - loss: 9262.9687 - acc: 0.0000e+00 - root_mean_squared_error: 9262.9687\n",
      "Epoch 144/300\n",
      " 79120/550068 [===>..........................] - ETA: 57s - loss: 9268.2876 - acc: 0.0000e+00 - root_mean_squared_error: 9268.2876402900/550068 [====================>.........] - ETA: 17s - loss: 9267.8045 - acc: 0.0000e+00 - root_mean_squared_error: 9267.8045550068/550068 [==============================] - 66s 120us/step - loss: 9262.9687 - acc: 0.0000e+00 - root_mean_squared_error: 9262.9687\n",
      "Epoch 145/300\n",
      " 79990/550068 [===>..........................] - ETA: 56s - loss: 9260.4508 - acc: 0.0000e+00 - root_mean_squared_error: 9260.4508404850/550068 [=====================>........] - ETA: 17s - loss: 9265.9117 - acc: 0.0000e+00 - root_mean_squared_error: 9265.9117550068/550068 [==============================] - 66s 120us/step - loss: 9262.9687 - acc: 0.0000e+00 - root_mean_squared_error: 9262.9687\n",
      "Epoch 146/300\n",
      " 80790/550068 [===>..........................] - ETA: 56s - loss: 9261.3200 - acc: 0.0000e+00 - root_mean_squared_error: 9261.3200404250/550068 [=====================>........] - ETA: 17s - loss: 9260.5101 - acc: 0.0000e+00 - root_mean_squared_error: 9260.5101550068/550068 [==============================] - 66s 120us/step - loss: 9262.9687 - acc: 0.0000e+00 - root_mean_squared_error: 9262.9687\n",
      "Epoch 147/300\n",
      " 79940/550068 [===>..........................] - ETA: 57s - loss: 9236.0384 - acc: 0.0000e+00 - root_mean_squared_error: 9236.0384403320/550068 [====================>.........] - ETA: 17s - loss: 9261.2915 - acc: 0.0000e+00 - root_mean_squared_error: 9261.2915550068/550068 [==============================] - 66s 120us/step - loss: 9262.9687 - acc: 0.0000e+00 - root_mean_squared_error: 9262.9687\n",
      "Epoch 148/300\n",
      " 77350/550068 [===>..........................] - ETA: 57s - loss: 9270.6053 - acc: 0.0000e+00 - root_mean_squared_error: 9270.6053400620/550068 [====================>.........] - ETA: 17s - loss: 9262.8168 - acc: 0.0000e+00 - root_mean_squared_error: 9262.8168550068/550068 [==============================] - 66s 120us/step - loss: 9262.9687 - acc: 0.0000e+00 - root_mean_squared_error: 9262.9687\n",
      "Epoch 149/300\n",
      " 79140/550068 [===>..........................] - ETA: 56s - loss: 9256.3364 - acc: 0.0000e+00 - root_mean_squared_error: 9256.3364407980/550068 [=====================>........] - ETA: 16s - loss: 9258.2473 - acc: 0.0000e+00 - root_mean_squared_error: 9258.2473550068/550068 [==============================] - 65s 118us/step - loss: 9262.9687 - acc: 0.0000e+00 - root_mean_squared_error: 9262.9687\n",
      "Epoch 150/300\n",
      " 82840/550068 [===>..........................] - ETA: 56s - loss: 9261.6726 - acc: 0.0000e+00 - root_mean_squared_error: 9261.6726402050/550068 [====================>.........] - ETA: 17s - loss: 9259.3452 - acc: 0.0000e+00 - root_mean_squared_error: 9259.3452550068/550068 [==============================] - 67s 121us/step - loss: 9262.9687 - acc: 0.0000e+00 - root_mean_squared_error: 9262.9687\n",
      "Epoch 151/300\n",
      " 78670/550068 [===>..........................] - ETA: 57s - loss: 9275.9441 - acc: 0.0000e+00 - root_mean_squared_error: 9275.9441405700/550068 [=====================>........] - ETA: 17s - loss: 9275.0505 - acc: 0.0000e+00 - root_mean_squared_error: 9275.0505550068/550068 [==============================] - 65s 119us/step - loss: 9262.9687 - acc: 0.0000e+00 - root_mean_squared_error: 9262.9687\n",
      "Epoch 152/300\n",
      " 82970/550068 [===>..........................] - ETA: 56s - loss: 9247.1853 - acc: 0.0000e+00 - root_mean_squared_error: 9247.1853407070/550068 [=====================>........] - ETA: 17s - loss: 9263.0878 - acc: 0.0000e+00 - root_mean_squared_error: 9263.0878550068/550068 [==============================] - 65s 119us/step - loss: 9262.9687 - acc: 0.0000e+00 - root_mean_squared_error: 9262.9687\n",
      "Epoch 153/300\n",
      " 84330/550068 [===>..........................] - ETA: 55s - loss: 9246.7068 - acc: 0.0000e+00 - root_mean_squared_error: 9246.7068410390/550068 [=====================>........] - ETA: 16s - loss: 9264.4543 - acc: 0.0000e+00 - root_mean_squared_error: 9264.4543550068/550068 [==============================] - 65s 119us/step - loss: 9262.9687 - acc: 0.0000e+00 - root_mean_squared_error: 9262.9687\n",
      "Epoch 154/300\n",
      " 84750/550068 [===>..........................] - ETA: 55s - loss: 9291.9234 - acc: 0.0000e+00 - root_mean_squared_error: 9291.9234403830/550068 [=====================>........] - ETA: 17s - loss: 9271.8445 - acc: 0.0000e+00 - root_mean_squared_error: 9271.8445550068/550068 [==============================] - 66s 121us/step - loss: 9262.9687 - acc: 0.0000e+00 - root_mean_squared_error: 9262.9687\n",
      "Epoch 155/300\n",
      " 78150/550068 [===>..........................] - ETA: 57s - loss: 9293.9071 - acc: 0.0000e+00 - root_mean_squared_error: 9293.9071403650/550068 [=====================>........] - ETA: 17s - loss: 9262.8658 - acc: 0.0000e+00 - root_mean_squared_error: 9262.8658550068/550068 [==============================] - 65s 119us/step - loss: 9262.9687 - acc: 0.0000e+00 - root_mean_squared_error: 9262.9687\n",
      "Epoch 156/300\n",
      " 83530/550068 [===>..........................] - ETA: 55s - loss: 9293.0483 - acc: 0.0000e+00 - root_mean_squared_error: 9293.0483407490/550068 [=====================>........] - ETA: 17s - loss: 9260.4395 - acc: 0.0000e+00 - root_mean_squared_error: 9260.4395550068/550068 [==============================] - 66s 120us/step - loss: 9262.9687 - acc: 0.0000e+00 - root_mean_squared_error: 9262.9687\n",
      "Epoch 157/300\n",
      " 81440/550068 [===>..........................] - ETA: 57s - loss: 9269.6935 - acc: 0.0000e+00 - root_mean_squared_error: 9269.6935398520/550068 [====================>.........] - ETA: 18s - loss: 9262.8495 - acc: 0.0000e+00 - root_mean_squared_error: 9262.8495550068/550068 [==============================] - 66s 120us/step - loss: 9262.9687 - acc: 0.0000e+00 - root_mean_squared_error: 9262.9687\n",
      "Epoch 158/300\n",
      " 76750/550068 [===>..........................] - ETA: 57s - loss: 9281.2294 - acc: 0.0000e+00 - root_mean_squared_error: 9281.2294402550/550068 [====================>.........] - ETA: 17s - loss: 9268.3925 - acc: 0.0000e+00 - root_mean_squared_error: 9268.3925550068/550068 [==============================] - 66s 119us/step - loss: 9262.9687 - acc: 0.0000e+00 - root_mean_squared_error: 9262.9687\n",
      "Epoch 159/300\n",
      " 82080/550068 [===>..........................] - ETA: 54s - loss: 9263.8231 - acc: 0.0000e+00 - root_mean_squared_error: 9263.8231411580/550068 [=====================>........] - ETA: 16s - loss: 9260.6480 - acc: 0.0000e+00 - root_mean_squared_error: 9260.6480550068/550068 [==============================] - 65s 117us/step - loss: 9262.9687 - acc: 0.0000e+00 - root_mean_squared_error: 9262.9687\n",
      "Epoch 160/300\n",
      " 86820/550068 [===>..........................] - ETA: 54s - loss: 9258.6324 - acc: 0.0000e+00 - root_mean_squared_error: 9258.6324414020/550068 [=====================>........] - ETA: 16s - loss: 9266.1678 - acc: 0.0000e+00 - root_mean_squared_error: 9266.1678550068/550068 [==============================] - 65s 118us/step - loss: 9262.9687 - acc: 0.0000e+00 - root_mean_squared_error: 9262.9687\n",
      "Epoch 161/300\n"
     ]
    },
    {
     "name": "stdout",
     "output_type": "stream",
     "text": [
      " 84860/550068 [===>..........................] - ETA: 56s - loss: 9248.7658 - acc: 0.0000e+00 - root_mean_squared_error: 9248.7658405620/550068 [=====================>........] - ETA: 17s - loss: 9265.2471 - acc: 0.0000e+00 - root_mean_squared_error: 9265.2471550068/550068 [==============================] - 66s 119us/step - loss: 9262.9687 - acc: 0.0000e+00 - root_mean_squared_error: 9262.9687\n",
      "Epoch 162/300\n",
      " 84310/550068 [===>..........................] - ETA: 55s - loss: 9251.0536 - acc: 0.0000e+00 - root_mean_squared_error: 9251.0536407200/550068 [=====================>........] - ETA: 16s - loss: 9262.7116 - acc: 0.0000e+00 - root_mean_squared_error: 9262.7116550068/550068 [==============================] - 65s 119us/step - loss: 9262.9687 - acc: 0.0000e+00 - root_mean_squared_error: 9262.9687\n",
      "Epoch 163/300\n",
      " 84050/550068 [===>..........................] - ETA: 56s - loss: 9277.7533 - acc: 0.0000e+00 - root_mean_squared_error: 9277.7533412740/550068 [=====================>........] - ETA: 16s - loss: 9264.4344 - acc: 0.0000e+00 - root_mean_squared_error: 9264.4344550068/550068 [==============================] - 65s 118us/step - loss: 9262.9687 - acc: 0.0000e+00 - root_mean_squared_error: 9262.9687\n",
      "Epoch 164/300\n",
      " 85380/550068 [===>..........................] - ETA: 55s - loss: 9295.6296 - acc: 0.0000e+00 - root_mean_squared_error: 9295.6296411830/550068 [=====================>........] - ETA: 16s - loss: 9271.7287 - acc: 0.0000e+00 - root_mean_squared_error: 9271.7287550068/550068 [==============================] - 65s 118us/step - loss: 9262.9687 - acc: 0.0000e+00 - root_mean_squared_error: 9262.9687\n",
      "Epoch 165/300\n",
      " 84670/550068 [===>..........................] - ETA: 56s - loss: 9245.7495 - acc: 0.0000e+00 - root_mean_squared_error: 9245.7495410890/550068 [=====================>........] - ETA: 16s - loss: 9265.4510 - acc: 0.0000e+00 - root_mean_squared_error: 9265.4510550068/550068 [==============================] - 65s 119us/step - loss: 9262.9687 - acc: 0.0000e+00 - root_mean_squared_error: 9262.9687\n",
      "Epoch 166/300\n",
      " 85770/550068 [===>..........................] - ETA: 55s - loss: 9271.2499 - acc: 0.0000e+00 - root_mean_squared_error: 9271.2499408760/550068 [=====================>........] - ETA: 16s - loss: 9259.1490 - acc: 0.0000e+00 - root_mean_squared_error: 9259.1490550068/550068 [==============================] - 65s 118us/step - loss: 9262.9687 - acc: 0.0000e+00 - root_mean_squared_error: 9262.9687\n",
      "Epoch 167/300\n",
      " 84460/550068 [===>..........................] - ETA: 56s - loss: 9278.7851 - acc: 0.0000e+00 - root_mean_squared_error: 9278.7851403170/550068 [====================>.........] - ETA: 17s - loss: 9256.9050 - acc: 0.0000e+00 - root_mean_squared_error: 9256.9050550068/550068 [==============================] - 66s 120us/step - loss: 9262.9687 - acc: 0.0000e+00 - root_mean_squared_error: 9262.9687\n",
      "Epoch 168/300\n",
      " 81610/550068 [===>..........................] - ETA: 55s - loss: 9277.7676 - acc: 0.0000e+00 - root_mean_squared_error: 9277.7676402900/550068 [====================>.........] - ETA: 17s - loss: 9255.6148 - acc: 0.0000e+00 - root_mean_squared_error: 9255.6148550068/550068 [==============================] - 66s 120us/step - loss: 9262.9687 - acc: 0.0000e+00 - root_mean_squared_error: 9262.9687\n",
      "Epoch 169/300\n",
      " 78790/550068 [===>..........................] - ETA: 57s - loss: 9239.6119 - acc: 0.0000e+00 - root_mean_squared_error: 9239.6119400370/550068 [====================>.........] - ETA: 18s - loss: 9258.6736 - acc: 0.0000e+00 - root_mean_squared_error: 9258.6736550068/550068 [==============================] - 66s 120us/step - loss: 9262.9687 - acc: 0.0000e+00 - root_mean_squared_error: 9262.9687\n",
      "Epoch 170/300\n",
      " 77680/550068 [===>..........................] - ETA: 56s - loss: 9261.3260 - acc: 0.0000e+00 - root_mean_squared_error: 9261.3260401740/550068 [====================>.........] - ETA: 17s - loss: 9261.4283 - acc: 0.0000e+00 - root_mean_squared_error: 9261.4283550068/550068 [==============================] - 66s 119us/step - loss: 9262.9687 - acc: 0.0000e+00 - root_mean_squared_error: 9262.9687\n",
      "Epoch 171/300\n",
      " 80850/550068 [===>..........................] - ETA: 55s - loss: 9244.0347 - acc: 0.0000e+00 - root_mean_squared_error: 9244.0347405140/550068 [=====================>........] - ETA: 17s - loss: 9260.7502 - acc: 0.0000e+00 - root_mean_squared_error: 9260.7502550068/550068 [==============================] - 65s 119us/step - loss: 9262.9687 - acc: 0.0000e+00 - root_mean_squared_error: 9262.9687\n",
      "Epoch 172/300\n",
      " 81650/550068 [===>..........................] - ETA: 56s - loss: 9272.7731 - acc: 0.0000e+00 - root_mean_squared_error: 9272.7731405070/550068 [=====================>........] - ETA: 17s - loss: 9271.2315 - acc: 0.0000e+00 - root_mean_squared_error: 9271.2315550068/550068 [==============================] - 66s 119us/step - loss: 9262.9687 - acc: 0.0000e+00 - root_mean_squared_error: 9262.9687\n",
      "Epoch 173/300\n",
      " 83120/550068 [===>..........................] - ETA: 56s - loss: 9288.3706 - acc: 0.0000e+00 - root_mean_squared_error: 9288.3706410720/550068 [=====================>........] - ETA: 16s - loss: 9271.7263 - acc: 0.0000e+00 - root_mean_squared_error: 9271.7263550068/550068 [==============================] - 65s 118us/step - loss: 9262.9687 - acc: 0.0000e+00 - root_mean_squared_error: 9262.9687\n",
      "Epoch 174/300\n",
      " 85650/550068 [===>..........................] - ETA: 55s - loss: 9274.7440 - acc: 0.0000e+00 - root_mean_squared_error: 9274.7440413320/550068 [=====================>........] - ETA: 16s - loss: 9259.6641 - acc: 0.0000e+00 - root_mean_squared_error: 9259.6641550068/550068 [==============================] - 65s 118us/step - loss: 9262.9687 - acc: 0.0000e+00 - root_mean_squared_error: 9262.9687\n",
      "Epoch 175/300\n",
      " 88990/550068 [===>..........................] - ETA: 54s - loss: 9266.5803 - acc: 0.0000e+00 - root_mean_squared_error: 9266.5803418450/550068 [=====================>........] - ETA: 15s - loss: 9269.7590 - acc: 0.0000e+00 - root_mean_squared_error: 9269.7590550068/550068 [==============================] - 65s 118us/step - loss: 9262.9687 - acc: 0.0000e+00 - root_mean_squared_error: 9262.9687\n",
      "Epoch 176/300\n",
      " 90030/550068 [===>..........................] - ETA: 54s - loss: 9269.1187 - acc: 0.0000e+00 - root_mean_squared_error: 9269.1187416350/550068 [=====================>........] - ETA: 15s - loss: 9256.0709 - acc: 0.0000e+00 - root_mean_squared_error: 9256.0709550068/550068 [==============================] - 65s 118us/step - loss: 9262.9687 - acc: 0.0000e+00 - root_mean_squared_error: 9262.9687\n",
      "Epoch 177/300\n",
      " 88250/550068 [===>..........................] - ETA: 54s - loss: 9266.1686 - acc: 0.0000e+00 - root_mean_squared_error: 9266.1686417390/550068 [=====================>........] - ETA: 15s - loss: 9263.0835 - acc: 0.0000e+00 - root_mean_squared_error: 9263.0835550068/550068 [==============================] - 65s 118us/step - loss: 9262.9687 - acc: 0.0000e+00 - root_mean_squared_error: 9262.9687\n",
      "Epoch 178/300\n",
      " 90290/550068 [===>..........................] - ETA: 54s - loss: 9246.0631 - acc: 0.0000e+00 - root_mean_squared_error: 9246.0631417390/550068 [=====================>........] - ETA: 15s - loss: 9266.1748 - acc: 0.0000e+00 - root_mean_squared_error: 9266.1748550068/550068 [==============================] - 65s 117us/step - loss: 9262.9687 - acc: 0.0000e+00 - root_mean_squared_error: 9262.9687\n",
      "Epoch 179/300\n",
      " 90040/550068 [===>..........................] - ETA: 54s - loss: 9280.7064 - acc: 0.0000e+00 - root_mean_squared_error: 9280.7064419380/550068 [=====================>........] - ETA: 15s - loss: 9259.7246 - acc: 0.0000e+00 - root_mean_squared_error: 9259.7246550068/550068 [==============================] - 65s 117us/step - loss: 9262.9687 - acc: 0.0000e+00 - root_mean_squared_error: 9262.9687\n",
      "Epoch 180/300\n",
      " 90680/550068 [===>..........................] - ETA: 54s - loss: 9264.3844 - acc: 0.0000e+00 - root_mean_squared_error: 9264.3844417110/550068 [=====================>........] - ETA: 15s - loss: 9256.7140 - acc: 0.0000e+00 - root_mean_squared_error: 9256.7140550068/550068 [==============================] - 65s 119us/step - loss: 9262.9687 - acc: 0.0000e+00 - root_mean_squared_error: 9262.9687\n",
      "Epoch 181/300\n"
     ]
    },
    {
     "name": "stdout",
     "output_type": "stream",
     "text": [
      " 86330/550068 [===>..........................] - ETA: 55s - loss: 9270.3023 - acc: 0.0000e+00 - root_mean_squared_error: 9270.3023411270/550068 [=====================>........] - ETA: 16s - loss: 9261.5447 - acc: 0.0000e+00 - root_mean_squared_error: 9261.5447550068/550068 [==============================] - 65s 119us/step - loss: 9262.9687 - acc: 0.0000e+00 - root_mean_squared_error: 9262.9687\n",
      "Epoch 182/300\n",
      " 85590/550068 [===>..........................] - ETA: 54s - loss: 9272.6305 - acc: 0.0000e+00 - root_mean_squared_error: 9272.6305412660/550068 [=====================>........] - ETA: 16s - loss: 9263.2977 - acc: 0.0000e+00 - root_mean_squared_error: 9263.2977550068/550068 [==============================] - 65s 118us/step - loss: 9262.9687 - acc: 0.0000e+00 - root_mean_squared_error: 9262.9687\n",
      "Epoch 183/300\n",
      " 87160/550068 [===>..........................] - ETA: 54s - loss: 9268.7330 - acc: 0.0000e+00 - root_mean_squared_error: 9268.7330415310/550068 [=====================>........] - ETA: 15s - loss: 9266.9869 - acc: 0.0000e+00 - root_mean_squared_error: 9266.9869550068/550068 [==============================] - 65s 118us/step - loss: 9262.9687 - acc: 0.0000e+00 - root_mean_squared_error: 9262.9687\n",
      "Epoch 184/300\n",
      " 88610/550068 [===>..........................] - ETA: 54s - loss: 9259.8446 - acc: 0.0000e+00 - root_mean_squared_error: 9259.8446413130/550068 [=====================>........] - ETA: 16s - loss: 9259.6558 - acc: 0.0000e+00 - root_mean_squared_error: 9259.6558550068/550068 [==============================] - 65s 118us/step - loss: 9262.9687 - acc: 0.0000e+00 - root_mean_squared_error: 9262.9687\n",
      "Epoch 185/300\n",
      " 86450/550068 [===>..........................] - ETA: 54s - loss: 9252.5154 - acc: 0.0000e+00 - root_mean_squared_error: 9252.51410680/550068 [=====================>........] - ETA: 16s - loss: 9263.4527 - acc: 0.0000e+00 - root_mean_squared_error: 9263.4527550068/550068 [==============================] - 66s 119us/step - loss: 9262.9687 - acc: 0.0000e+00 - root_mean_squared_error: 9262.9687\n",
      "Epoch 186/300\n",
      " 85160/550068 [===>..........................] - ETA: 55s - loss: 9254.0888 - acc: 0.0000e+00 - root_mean_squared_error: 9254.0888413300/550068 [=====================>........] - ETA: 16s - loss: 9263.6133 - acc: 0.0000e+00 - root_mean_squared_error: 9263.6133550068/550068 [==============================] - 65s 118us/step - loss: 9262.9687 - acc: 0.0000e+00 - root_mean_squared_error: 9262.9687\n",
      "Epoch 187/300\n",
      " 86540/550068 [===>..........................] - ETA: 55s - loss: 9275.6563 - acc: 0.0000e+00 - root_mean_squared_error: 9275.6563414740/550068 [=====================>........] - ETA: 15s - loss: 9271.1432 - acc: 0.0000e+00 - root_mean_squared_error: 9271.1432550068/550068 [==============================] - 65s 118us/step - loss: 9262.9687 - acc: 0.0000e+00 - root_mean_squared_error: 9262.9687\n",
      "Epoch 188/300\n",
      " 82840/550068 [===>..........................] - ETA: 58s - loss: 9267.4663 - acc: 0.0000e+00 - root_mean_squared_error: 9267.4663405120/550068 [=====================>........] - ETA: 17s - loss: 9260.4477 - acc: 0.0000e+00 - root_mean_squared_error: 9260.4477550068/550068 [==============================] - 66s 121us/step - loss: 9262.9687 - acc: 0.0000e+00 - root_mean_squared_error: 9262.9687\n",
      "Epoch 189/300\n",
      " 81390/550068 [===>..........................] - ETA: 56s - loss: 9258.8283 - acc: 0.0000e+00 - root_mean_squared_error: 9258.8283404270/550068 [=====================>........] - ETA: 17s - loss: 9261.3244 - acc: 0.0000e+00 - root_mean_squared_error: 9261.3244550068/550068 [==============================] - 66s 120us/step - loss: 9262.9687 - acc: 0.0000e+00 - root_mean_squared_error: 9262.9687\n",
      "Epoch 190/300\n",
      " 81980/550068 [===>..........................] - ETA: 55s - loss: 9245.1328 - acc: 0.0000e+00 - root_mean_squared_error: 9245.1328404070/550068 [=====================>........] - ETA: 17s - loss: 9252.8593 - acc: 0.0000e+00 - root_mean_squared_error: 9252.8593550068/550068 [==============================] - 66s 120us/step - loss: 9262.9687 - acc: 0.0000e+00 - root_mean_squared_error: 9262.9687\n",
      "Epoch 191/300\n",
      " 80330/550068 [===>..........................] - ETA: 57s - loss: 9247.5211 - acc: 0.0000e+00 - root_mean_squared_error: 9247.5211402250/550068 [====================>.........] - ETA: 17s - loss: 9261.1038 - acc: 0.0000e+00 - root_mean_squared_error: 9261.1038550068/550068 [==============================] - 66s 120us/step - loss: 9262.9687 - acc: 0.0000e+00 - root_mean_squared_error: 9262.9687\n",
      "Epoch 192/300\n",
      " 79920/550068 [===>..........................] - ETA: 57s - loss: 9286.7074 - acc: 0.0000e+00 - root_mean_squared_error: 9286.7074397930/550068 [====================>.........] - ETA: 18s - loss: 9268.8298 - acc: 0.0000e+00 - root_mean_squared_error: 9268.8298550068/550068 [==============================] - 66s 121us/step - loss: 9262.9687 - acc: 0.0000e+00 - root_mean_squared_error: 9262.9687\n",
      "Epoch 193/300\n",
      " 74810/550068 [===>..........................] - ETA: 58s - loss: 9280.2903 - acc: 0.0000e+00 - root_mean_squared_error: 9280.2903396410/550068 [====================>.........] - ETA: 18s - loss: 9262.1467 - acc: 0.0000e+00 - root_mean_squared_error: 9262.1467550068/550068 [==============================] - 66s 121us/step - loss: 9262.9687 - acc: 0.0000e+00 - root_mean_squared_error: 9262.9687\n",
      "Epoch 194/300\n",
      " 77180/550068 [===>..........................] - ETA: 56s - loss: 9266.3291 - acc: 0.0000e+00 - root_mean_squared_error: 9266.3291400040/550068 [====================>.........] - ETA: 17s - loss: 9265.1213 - acc: 0.0000e+00 - root_mean_squared_error: 9265.1213550068/550068 [==============================] - 66s 120us/step - loss: 9262.9687 - acc: 0.0000e+00 - root_mean_squared_error: 9262.9687\n",
      "Epoch 195/300\n",
      " 77380/550068 [===>..........................] - ETA: 57s - loss: 9260.1741 - acc: 0.0000e+00 - root_mean_squared_error: 9260.1741393560/550068 [====================>.........] - ETA: 18s - loss: 9263.3709 - acc: 0.0000e+00 - root_mean_squared_error: 9263.3709550068/550068 [==============================] - 67s 121us/step - loss: 9262.9687 - acc: 0.0000e+00 - root_mean_squared_error: 9262.9687\n",
      "Epoch 196/300\n",
      " 72230/550068 [==>...........................] - ETA: 58s - loss: 9258.7878 - acc: 0.0000e+00 - root_mean_squared_error: 9258.7878390250/550068 [====================>.........] - ETA: 19s - loss: 9262.4090 - acc: 0.0000e+00 - root_mean_squared_error: 9262.4090550068/550068 [==============================] - 66s 121us/step - loss: 9262.9687 - acc: 0.0000e+00 - root_mean_squared_error: 9262.9687\n",
      "Epoch 197/300\n",
      " 72040/550068 [==>...........................] - ETA: 58s - loss: 9270.1464 - acc: 0.0000e+00 - root_mean_squared_error: 9270.1464391750/550068 [====================>.........] - ETA: 19s - loss: 9259.7417 - acc: 0.0000e+00 - root_mean_squared_error: 9259.7417550068/550068 [==============================] - 67s 121us/step - loss: 9262.9687 - acc: 0.0000e+00 - root_mean_squared_error: 9262.9687\n",
      "Epoch 198/300\n",
      " 73230/550068 [==>...........................] - ETA: 57s - loss: 9244.0013 - acc: 0.0000e+00 - root_mean_squared_error: 9244.0013396930/550068 [====================>.........] - ETA: 18s - loss: 9258.3478 - acc: 0.0000e+00 - root_mean_squared_error: 9258.3478550068/550068 [==============================] - 66s 120us/step - loss: 9262.9687 - acc: 0.0000e+00 - root_mean_squared_error: 9262.9687\n",
      "Epoch 199/300\n",
      " 76620/550068 [===>..........................] - ETA: 56s - loss: 9255.4139 - acc: 0.0000e+00 - root_mean_squared_error: 9255.4139398860/550068 [====================>.........] - ETA: 18s - loss: 9263.5075 - acc: 0.0000e+00 - root_mean_squared_error: 9263.5075550068/550068 [==============================] - 66s 120us/step - loss: 9262.9687 - acc: 0.0000e+00 - root_mean_squared_error: 9262.9687\n",
      "Epoch 200/300\n",
      " 77840/550068 [===>..........................] - ETA: 56s - loss: 9257.7654 - acc: 0.0000e+00 - root_mean_squared_error: 9257.7654399900/550068 [====================>.........] - ETA: 18s - loss: 9262.3837 - acc: 0.0000e+00 - root_mean_squared_error: 9262.3837550068/550068 [==============================] - 66s 120us/step - loss: 9262.9687 - acc: 0.0000e+00 - root_mean_squared_error: 9262.9687\n",
      "Epoch 201/300\n"
     ]
    },
    {
     "name": "stdout",
     "output_type": "stream",
     "text": [
      " 78880/550068 [===>..........................] - ETA: 56s - loss: 9262.9149 - acc: 0.0000e+00 - root_mean_squared_error: 9262.9149393390/550068 [====================>.........] - ETA: 18s - loss: 9261.1989 - acc: 0.0000e+00 - root_mean_squared_error: 9261.1989550068/550068 [==============================] - 67s 121us/step - loss: 9262.9687 - acc: 0.0000e+00 - root_mean_squared_error: 9262.9687\n",
      "Epoch 202/300\n",
      " 74650/550068 [===>..........................] - ETA: 57s - loss: 9261.2252 - acc: 0.0000e+00 - root_mean_squared_error: 9261.2252396770/550068 [====================>.........] - ETA: 18s - loss: 9260.5265 - acc: 0.0000e+00 - root_mean_squared_error: 9260.5265550068/550068 [==============================] - 66s 120us/step - loss: 9262.9687 - acc: 0.0000e+00 - root_mean_squared_error: 9262.9687\n",
      "Epoch 203/300\n",
      " 78300/550068 [===>..........................] - ETA: 56s - loss: 9237.4321 - acc: 0.0000e+00 - root_mean_squared_error: 9237.4321395480/550068 [====================>.........] - ETA: 18s - loss: 9267.2568 - acc: 0.0000e+00 - root_mean_squared_error: 9267.2568550068/550068 [==============================] - 66s 120us/step - loss: 9262.9687 - acc: 0.0000e+00 - root_mean_squared_error: 9262.9687\n",
      "Epoch 204/300\n",
      " 76080/550068 [===>..........................] - ETA: 57s - loss: 9291.0652 - acc: 0.0000e+00 - root_mean_squared_error: 9291.0652393960/550068 [====================>.........] - ETA: 18s - loss: 9264.2284 - acc: 0.0000e+00 - root_mean_squared_error: 9264.2284550068/550068 [==============================] - 66s 120us/step - loss: 9262.9687 - acc: 0.0000e+00 - root_mean_squared_error: 9262.9687\n",
      "Epoch 205/300\n",
      " 75490/550068 [===>..........................] - ETA: 57s - loss: 9246.8847 - acc: 0.0000e+00 - root_mean_squared_error: 9246.8847391290/550068 [====================>.........] - ETA: 19s - loss: 9265.9324 - acc: 0.0000e+00 - root_mean_squared_error: 9265.9324550068/550068 [==============================] - 67s 121us/step - loss: 9262.9687 - acc: 0.0000e+00 - root_mean_squared_error: 9262.9687\n",
      "Epoch 206/300\n",
      " 74400/550068 [===>..........................] - ETA: 57s - loss: 9268.0606 - acc: 0.0000e+00 - root_mean_squared_error: 9268.0606395430/550068 [====================>.........] - ETA: 18s - loss: 9265.9467 - acc: 0.0000e+00 - root_mean_squared_error: 9265.9467550068/550068 [==============================] - 66s 120us/step - loss: 9262.9687 - acc: 0.0000e+00 - root_mean_squared_error: 9262.9687\n",
      "Epoch 207/300\n",
      " 77100/550068 [===>..........................] - ETA: 57s - loss: 9278.1146 - acc: 0.0000e+00 - root_mean_squared_error: 9278.1146394150/550068 [====================>.........] - ETA: 18s - loss: 9259.4037 - acc: 0.0000e+00 - root_mean_squared_error: 9259.4037550068/550068 [==============================] - 67s 122us/step - loss: 9262.9687 - acc: 0.0000e+00 - root_mean_squared_error: 9262.9687\n",
      "Epoch 208/300\n",
      " 73750/550068 [===>..........................] - ETA: 56s - loss: 9280.2102 - acc: 0.0000e+00 - root_mean_squared_error: 9280.2102395480/550068 [====================>.........] - ETA: 18s - loss: 9268.8800 - acc: 0.0000e+00 - root_mean_squared_error: 9268.8800550068/550068 [==============================] - 66s 120us/step - loss: 9262.9687 - acc: 0.0000e+00 - root_mean_squared_error: 9262.9687\n",
      "Epoch 209/300\n",
      " 77230/550068 [===>..........................] - ETA: 56s - loss: 9251.0224 - acc: 0.0000e+00 - root_mean_squared_error: 9251.0224400700/550068 [====================>.........] - ETA: 17s - loss: 9254.8712 - acc: 0.0000e+00 - root_mean_squared_error: 9254.8712550068/550068 [==============================] - 66s 120us/step - loss: 9262.9687 - acc: 0.0000e+00 - root_mean_squared_error: 9262.9687\n",
      "Epoch 210/300\n",
      " 80320/550068 [===>..........................] - ETA: 56s - loss: 9261.5326 - acc: 0.0000e+00 - root_mean_squared_error: 9261.5326399730/550068 [====================>.........] - ETA: 18s - loss: 9254.8092 - acc: 0.0000e+00 - root_mean_squared_error: 9254.8092550068/550068 [==============================] - 66s 120us/step - loss: 9262.9687 - acc: 0.0000e+00 - root_mean_squared_error: 9262.9687\n",
      "Epoch 211/300\n",
      " 77360/550068 [===>..........................] - ETA: 57s - loss: 9270.9940 - acc: 0.0000e+00 - root_mean_squared_error: 9270.9940397480/550068 [====================>.........] - ETA: 18s - loss: 9272.0737 - acc: 0.0000e+00 - root_mean_squared_error: 9272.0737550068/550068 [==============================] - 67s 121us/step - loss: 9262.9687 - acc: 0.0000e+00 - root_mean_squared_error: 9262.9687\n",
      "Epoch 212/300\n",
      " 75770/550068 [===>..........................] - ETA: 57s - loss: 9250.4638 - acc: 0.0000e+00 - root_mean_squared_error: 9250.4638394070/550068 [====================>.........] - ETA: 18s - loss: 9266.7514 - acc: 0.0000e+00 - root_mean_squared_error: 9266.7514550068/550068 [==============================] - 66s 121us/step - loss: 9262.9687 - acc: 0.0000e+00 - root_mean_squared_error: 9262.9687\n",
      "Epoch 213/300\n",
      " 77250/550068 [===>..........................] - ETA: 56s - loss: 9259.1119 - acc: 0.0000e+00 - root_mean_squared_error: 9259.1119399430/550068 [====================>.........] - ETA: 18s - loss: 9265.9281 - acc: 0.0000e+00 - root_mean_squared_error: 9265.9281550068/550068 [==============================] - 66s 120us/step - loss: 9262.9687 - acc: 0.0000e+00 - root_mean_squared_error: 9262.9687\n",
      "Epoch 214/300\n",
      " 78540/550068 [===>..........................] - ETA: 57s - loss: 9271.9243 - acc: 0.0000e+00 - root_mean_squared_error: 9271.9243395980/550068 [====================>.........] - ETA: 18s - loss: 9258.9023 - acc: 0.0000e+00 - root_mean_squared_error: 9258.9023550068/550068 [==============================] - 66s 120us/step - loss: 9262.9687 - acc: 0.0000e+00 - root_mean_squared_error: 9262.9687\n",
      "Epoch 215/300\n",
      " 74730/550068 [===>..........................] - ETA: 58s - loss: 9242.6693 - acc: 0.0000e+00 - root_mean_squared_error: 9242.6693392710/550068 [====================>.........] - ETA: 19s - loss: 9261.7698 - acc: 0.0000e+00 - root_mean_squared_error: 9261.7698550068/550068 [==============================] - 67s 122us/step - loss: 9262.9687 - acc: 0.0000e+00 - root_mean_squared_error: 9262.9687\n",
      "Epoch 216/300\n",
      " 71700/550068 [==>...........................] - ETA: 59s - loss: 9260.2865 - acc: 0.0000e+00 - root_mean_squared_error: 9260.2865389990/550068 [====================>.........] - ETA: 19s - loss: 9264.3105 - acc: 0.0000e+00 - root_mean_squared_error: 9264.3105550068/550068 [==============================] - 67s 122us/step - loss: 9262.9687 - acc: 0.0000e+00 - root_mean_squared_error: 9262.9687\n",
      "Epoch 217/300\n",
      " 73400/550068 [===>..........................] - ETA: 57s - loss: 9269.0070 - acc: 0.0000e+00 - root_mean_squared_error: 9269.0070394040/550068 [====================>.........] - ETA: 18s - loss: 9266.7870 - acc: 0.0000e+00 - root_mean_squared_error: 9266.7870550068/550068 [==============================] - 66s 120us/step - loss: 9262.9687 - acc: 0.0000e+00 - root_mean_squared_error: 9262.9687\n",
      "Epoch 218/300\n",
      " 74800/550068 [===>..........................] - ETA: 57s - loss: 9268.3017 - acc: 0.0000e+00 - root_mean_squared_error: 9268.3017391980/550068 [====================>.........] - ETA: 19s - loss: 9271.4219 - acc: 0.0000e+00 - root_mean_squared_error: 9271.4219550068/550068 [==============================] - 67s 122us/step - loss: 9262.9687 - acc: 0.0000e+00 - root_mean_squared_error: 9262.9687\n",
      "Epoch 219/300\n",
      " 73350/550068 [===>..........................] - ETA: 57s - loss: 9261.0136 - acc: 0.0000e+00 - root_mean_squared_error: 9261.0136395780/550068 [====================>.........] - ETA: 18s - loss: 9253.4018 - acc: 0.0000e+00 - root_mean_squared_error: 9253.4018550068/550068 [==============================] - 66s 120us/step - loss: 9262.9687 - acc: 0.0000e+00 - root_mean_squared_error: 9262.9687\n",
      "Epoch 220/300\n",
      " 77700/550068 [===>..........................] - ETA: 57s - loss: 9296.0532 - acc: 0.0000e+00 - root_mean_squared_error: 9296.0532399970/550068 [====================>.........] - ETA: 18s - loss: 9255.6229 - acc: 0.0000e+00 - root_mean_squared_error: 9255.6229550068/550068 [==============================] - 66s 120us/step - loss: 9262.9687 - acc: 0.0000e+00 - root_mean_squared_error: 9262.9687\n",
      "Epoch 221/300\n"
     ]
    },
    {
     "name": "stdout",
     "output_type": "stream",
     "text": [
      " 77720/550068 [===>..........................] - ETA: 57s - loss: 9265.2168 - acc: 0.0000e+00 - root_mean_squared_error: 9265.2168399320/550068 [====================>.........] - ETA: 18s - loss: 9262.3217 - acc: 0.0000e+00 - root_mean_squared_error: 9262.3217550068/550068 [==============================] - 66s 121us/step - loss: 9262.9687 - acc: 0.0000e+00 - root_mean_squared_error: 9262.9687\n",
      "Epoch 222/300\n",
      " 78630/550068 [===>..........................] - ETA: 56s - loss: 9245.2745 - acc: 0.0000e+00 - root_mean_squared_error: 9245.2745398450/550068 [====================>.........] - ETA: 18s - loss: 9263.8657 - acc: 0.0000e+00 - root_mean_squared_error: 9263.8657550068/550068 [==============================] - 66s 120us/step - loss: 9262.9687 - acc: 0.0000e+00 - root_mean_squared_error: 9262.9687\n",
      "Epoch 223/300\n",
      " 78330/550068 [===>..........................] - ETA: 56s - loss: 9236.7395 - acc: 0.0000e+00 - root_mean_squared_error: 9236.7395400770/550068 [====================>.........] - ETA: 17s - loss: 9264.2902 - acc: 0.0000e+00 - root_mean_squared_error: 9264.2902550068/550068 [==============================] - 66s 120us/step - loss: 9262.9687 - acc: 0.0000e+00 - root_mean_squared_error: 9262.9687\n",
      "Epoch 224/300\n",
      " 77860/550068 [===>..........................] - ETA: 57s - loss: 9276.4152 - acc: 0.0000e+00 - root_mean_squared_error: 9276.4152392800/550068 [====================>.........] - ETA: 19s - loss: 9265.2877 - acc: 0.0000e+00 - root_mean_squared_error: 9265.2877550068/550068 [==============================] - 67s 122us/step - loss: 9262.9687 - acc: 0.0000e+00 - root_mean_squared_error: 9262.9687\n",
      "Epoch 225/300\n",
      " 75150/550068 [===>..........................] - ETA: 57s - loss: 9261.0217 - acc: 0.0000e+00 - root_mean_squared_error: 9261.0217394150/550068 [====================>.........] - ETA: 18s - loss: 9254.0636 - acc: 0.0000e+00 - root_mean_squared_error: 9254.0636550068/550068 [==============================] - 66s 121us/step - loss: 9262.9687 - acc: 0.0000e+00 - root_mean_squared_error: 9262.9687\n",
      "Epoch 226/300\n",
      " 76180/550068 [===>..........................] - ETA: 56s - loss: 9255.0038 - acc: 0.0000e+00 - root_mean_squared_error: 9255.0038397230/550068 [====================>.........] - ETA: 18s - loss: 9258.0005 - acc: 0.0000e+00 - root_mean_squared_error: 9258.0005550068/550068 [==============================] - 66s 120us/step - loss: 9262.9687 - acc: 0.0000e+00 - root_mean_squared_error: 9262.9687\n",
      "Epoch 227/300\n",
      " 75490/550068 [===>..........................] - ETA: 57s - loss: 9246.5499 - acc: 0.0000e+00 - root_mean_squared_error: 9246.5499398750/550068 [====================>.........] - ETA: 18s - loss: 9261.3963 - acc: 0.0000e+00 - root_mean_squared_error: 9261.3963550068/550068 [==============================] - 66s 120us/step - loss: 9262.9687 - acc: 0.0000e+00 - root_mean_squared_error: 9262.9687\n",
      "Epoch 228/300\n",
      " 77930/550068 [===>..........................] - ETA: 57s - loss: 9243.2711 - acc: 0.0000e+00 - root_mean_squared_error: 9243.2711398300/550068 [====================>.........] - ETA: 18s - loss: 9264.3968 - acc: 0.0000e+00 - root_mean_squared_error: 9264.3968550068/550068 [==============================] - 67s 121us/step - loss: 9262.9687 - acc: 0.0000e+00 - root_mean_squared_error: 9262.9687\n",
      "Epoch 229/300\n",
      " 75490/550068 [===>..........................] - ETA: 57s - loss: 9250.8647 - acc: 0.0000e+00 - root_mean_squared_error: 9250.8647396940/550068 [====================>.........] - ETA: 18s - loss: 9263.3056 - acc: 0.0000e+00 - root_mean_squared_error: 9263.3056550068/550068 [==============================] - 66s 120us/step - loss: 9262.9687 - acc: 0.0000e+00 - root_mean_squared_error: 9262.9687\n",
      "Epoch 230/300\n",
      " 75660/550068 [===>..........................] - ETA: 57s - loss: 9283.9803 - acc: 0.0000e+00 - root_mean_squared_error: 9283.9803395240/550068 [====================>.........] - ETA: 18s - loss: 9261.9745 - acc: 0.0000e+00 - root_mean_squared_error: 9261.9745550068/550068 [==============================] - 66s 120us/step - loss: 9262.9687 - acc: 0.0000e+00 - root_mean_squared_error: 9262.9687\n",
      "Epoch 231/300\n",
      " 75900/550068 [===>..........................] - ETA: 57s - loss: 9260.9914 - acc: 0.0000e+00 - root_mean_squared_error: 9260.9914399790/550068 [====================>.........] - ETA: 18s - loss: 9263.0151 - acc: 0.0000e+00 - root_mean_squared_error: 9263.0151550068/550068 [==============================] - 66s 120us/step - loss: 9262.9687 - acc: 0.0000e+00 - root_mean_squared_error: 9262.9687\n",
      "Epoch 232/300\n",
      " 79360/550068 [===>..........................] - ETA: 56s - loss: 9267.3207 - acc: 0.0000e+00 - root_mean_squared_error: 9267.3207401260/550068 [====================>.........] - ETA: 17s - loss: 9264.9228 - acc: 0.0000e+00 - root_mean_squared_error: 9264.9228550068/550068 [==============================] - 66s 120us/step - loss: 9262.9687 - acc: 0.0000e+00 - root_mean_squared_error: 9262.9687\n",
      "Epoch 233/300\n",
      " 78130/550068 [===>..........................] - ETA: 57s - loss: 9271.1942 - acc: 0.0000e+00 - root_mean_squared_error: 9271.1942394820/550068 [====================>.........] - ETA: 18s - loss: 9256.3791 - acc: 0.0000e+00 - root_mean_squared_error: 9256.3791550068/550068 [==============================] - 66s 121us/step - loss: 9262.9687 - acc: 0.0000e+00 - root_mean_squared_error: 9262.9687\n",
      "Epoch 234/300\n",
      " 76050/550068 [===>..........................] - ETA: 57s - loss: 9256.4915 - acc: 0.0000e+00 - root_mean_squared_error: 9256.4915396930/550068 [====================>.........] - ETA: 18s - loss: 9261.4954 - acc: 0.0000e+00 - root_mean_squared_error: 9261.4954550068/550068 [==============================] - 66s 121us/step - loss: 9262.9687 - acc: 0.0000e+00 - root_mean_squared_error: 9262.9687\n",
      "Epoch 235/300\n",
      " 77380/550068 [===>..........................] - ETA: 57s - loss: 9258.9021 - acc: 0.0000e+00 - root_mean_squared_error: 9258.9021397830/550068 [====================>.........] - ETA: 18s - loss: 9263.6501 - acc: 0.0000e+00 - root_mean_squared_error: 9263.6501550068/550068 [==============================] - 66s 120us/step - loss: 9262.9687 - acc: 0.0000e+00 - root_mean_squared_error: 9262.9687\n",
      "Epoch 236/300\n",
      " 76480/550068 [===>..........................] - ETA: 56s - loss: 9290.1210 - acc: 0.0000e+00 - root_mean_squared_error: 9290.1210398030/550068 [====================>.........] - ETA: 18s - loss: 9269.7423 - acc: 0.0000e+00 - root_mean_squared_error: 9269.7423550068/550068 [==============================] - 66s 120us/step - loss: 9262.9687 - acc: 0.0000e+00 - root_mean_squared_error: 9262.9687\n",
      "Epoch 237/300\n",
      " 78350/550068 [===>..........................] - ETA: 56s - loss: 9243.2881 - acc: 0.0000e+00 - root_mean_squared_error: 9243.2881399470/550068 [====================>.........] - ETA: 17s - loss: 9263.6358 - acc: 0.0000e+00 - root_mean_squared_error: 9263.6358550068/550068 [==============================] - 66s 119us/step - loss: 9262.9687 - acc: 0.0000e+00 - root_mean_squared_error: 9262.9687\n",
      "Epoch 238/300\n",
      " 78880/550068 [===>..........................] - ETA: 56s - loss: 9256.3985 - acc: 0.0000e+00 - root_mean_squared_error: 9256.3985402710/550068 [====================>.........] - ETA: 17s - loss: 9258.6013 - acc: 0.0000e+00 - root_mean_squared_error: 9258.6013550068/550068 [==============================] - 66s 120us/step - loss: 9262.9687 - acc: 0.0000e+00 - root_mean_squared_error: 9262.9687\n",
      "Epoch 239/300\n",
      " 80710/550068 [===>..........................] - ETA: 56s - loss: 9277.4788 - acc: 0.0000e+00 - root_mean_squared_error: 9277.4788404990/550068 [=====================>........] - ETA: 17s - loss: 9268.2290 - acc: 0.0000e+00 - root_mean_squared_error: 9268.2290550068/550068 [==============================] - 66s 120us/step - loss: 9262.9687 - acc: 0.0000e+00 - root_mean_squared_error: 9262.9687\n",
      "Epoch 240/300\n",
      " 81340/550068 [===>..........................] - ETA: 56s - loss: 9247.2687 - acc: 0.0000e+00 - root_mean_squared_error: 9247.2687397200/550068 [====================>.........] - ETA: 18s - loss: 9261.3550 - acc: 0.0000e+00 - root_mean_squared_error: 9261.3550550068/550068 [==============================] - 67s 121us/step - loss: 9262.9687 - acc: 0.0000e+00 - root_mean_squared_error: 9262.9687\n",
      "Epoch 241/300\n"
     ]
    },
    {
     "name": "stdout",
     "output_type": "stream",
     "text": [
      " 75630/550068 [===>..........................] - ETA: 58s - loss: 9251.6215 - acc: 0.0000e+00 - root_mean_squared_error: 9251.6215398300/550068 [====================>.........] - ETA: 18s - loss: 9266.9686 - acc: 0.0000e+00 - root_mean_squared_error: 9266.9686550068/550068 [==============================] - 66s 120us/step - loss: 9262.9687 - acc: 0.0000e+00 - root_mean_squared_error: 9262.9687\n",
      "Epoch 242/300\n",
      " 78680/550068 [===>..........................] - ETA: 56s - loss: 9266.1644 - acc: 0.0000e+00 - root_mean_squared_error: 9266.1644399060/550068 [====================>.........] - ETA: 18s - loss: 9264.0891 - acc: 0.0000e+00 - root_mean_squared_error: 9264.0891550068/550068 [==============================] - 66s 120us/step - loss: 9262.9687 - acc: 0.0000e+00 - root_mean_squared_error: 9262.9687\n",
      "Epoch 243/300\n",
      " 76230/550068 [===>..........................] - ETA: 56s - loss: 9258.2821 - acc: 0.0000e+00 - root_mean_squared_error: 9258.2821398720/550068 [====================>.........] - ETA: 18s - loss: 9261.7057 - acc: 0.0000e+00 - root_mean_squared_error: 9261.7057550068/550068 [==============================] - 66s 120us/step - loss: 9262.9687 - acc: 0.0000e+00 - root_mean_squared_error: 9262.9687\n",
      "Epoch 244/300\n",
      " 77410/550068 [===>..........................] - ETA: 57s - loss: 9261.4607 - acc: 0.0000e+00 - root_mean_squared_error: 9261.4607397960/550068 [====================>.........] - ETA: 18s - loss: 9264.6277 - acc: 0.0000e+00 - root_mean_squared_error: 9264.6277550068/550068 [==============================] - 66s 120us/step - loss: 9262.9687 - acc: 0.0000e+00 - root_mean_squared_error: 9262.9687\n",
      "Epoch 245/300\n",
      " 76380/550068 [===>..........................] - ETA: 57s - loss: 9273.8475 - acc: 0.0000e+00 - root_mean_squared_error: 9273.8475399880/550068 [====================>.........] - ETA: 18s - loss: 9263.3320 - acc: 0.0000e+00 - root_mean_squared_error: 9263.3320550068/550068 [==============================] - 66s 120us/step - loss: 9262.9687 - acc: 0.0000e+00 - root_mean_squared_error: 9262.9687\n",
      "Epoch 246/300\n",
      " 78350/550068 [===>..........................] - ETA: 56s - loss: 9288.8781 - acc: 0.0000e+00 - root_mean_squared_error: 9288.8781399270/550068 [====================>.........] - ETA: 18s - loss: 9268.1428 - acc: 0.0000e+00 - root_mean_squared_error: 9268.1428550068/550068 [==============================] - 67s 121us/step - loss: 9262.9687 - acc: 0.0000e+00 - root_mean_squared_error: 9262.9687\n",
      "Epoch 247/300\n",
      " 77160/550068 [===>..........................] - ETA: 57s - loss: 9234.2777 - acc: 0.0000e+00 - root_mean_squared_error: 9234.2777397100/550068 [====================>.........] - ETA: 18s - loss: 9257.1679 - acc: 0.0000e+00 - root_mean_squared_error: 9257.1679550068/550068 [==============================] - 67s 121us/step - loss: 9262.9687 - acc: 0.0000e+00 - root_mean_squared_error: 9262.9687\n",
      "Epoch 248/300\n",
      " 75360/550068 [===>..........................] - ETA: 58s - loss: 9254.3987 - acc: 0.0000e+00 - root_mean_squared_error: 9254.3987391010/550068 [====================>.........] - ETA: 19s - loss: 9257.9674 - acc: 0.0000e+00 - root_mean_squared_error: 9257.9674550068/550068 [==============================] - 67s 121us/step - loss: 9262.9687 - acc: 0.0000e+00 - root_mean_squared_error: 9262.9687\n",
      "Epoch 249/300\n",
      " 74340/550068 [===>..........................] - ETA: 57s - loss: 9244.7444 - acc: 0.0000e+00 - root_mean_squared_error: 9244.7444390750/550068 [====================>.........] - ETA: 19s - loss: 9267.9604 - acc: 0.0000e+00 - root_mean_squared_error: 9267.9604550068/550068 [==============================] - 67s 121us/step - loss: 9262.9687 - acc: 0.0000e+00 - root_mean_squared_error: 9262.9687\n",
      "Epoch 250/300\n",
      " 73700/550068 [===>..........................] - ETA: 57s - loss: 9240.2822 - acc: 0.0000e+00 - root_mean_squared_error: 9240.2822390010/550068 [====================>.........] - ETA: 19s - loss: 9262.2912 - acc: 0.0000e+00 - root_mean_squared_error: 9262.2912550068/550068 [==============================] - 66s 120us/step - loss: 9262.9687 - acc: 0.0000e+00 - root_mean_squared_error: 9262.9687\n",
      "Epoch 251/300\n",
      " 73810/550068 [===>..........................] - ETA: 57s - loss: 9231.7129 - acc: 0.0000e+00 - root_mean_squared_error: 9231.7129393570/550068 [====================>.........] - ETA: 18s - loss: 9260.4532 - acc: 0.0000e+00 - root_mean_squared_error: 9260.4532550068/550068 [==============================] - 66s 120us/step - loss: 9262.9687 - acc: 0.0000e+00 - root_mean_squared_error: 9262.9687\n",
      "Epoch 252/300\n",
      " 76620/550068 [===>..........................] - ETA: 56s - loss: 9266.5135 - acc: 0.0000e+00 - root_mean_squared_error: 9266.5135394250/550068 [====================>.........] - ETA: 18s - loss: 9269.3646 - acc: 0.0000e+00 - root_mean_squared_error: 9269.3646550068/550068 [==============================] - 66s 120us/step - loss: 9262.9687 - acc: 0.0000e+00 - root_mean_squared_error: 9262.9687\n",
      "Epoch 253/300\n",
      " 74940/550068 [===>..........................] - ETA: 56s - loss: 9257.6811 - acc: 0.0000e+00 - root_mean_squared_error: 9257.6811395500/550068 [====================>.........] - ETA: 18s - loss: 9264.7490 - acc: 0.0000e+00 - root_mean_squared_error: 9264.7490550068/550068 [==============================] - 66s 120us/step - loss: 9262.9687 - acc: 0.0000e+00 - root_mean_squared_error: 9262.9687\n",
      "Epoch 254/300\n",
      " 74640/550068 [===>..........................] - ETA: 57s - loss: 9267.1555 - acc: 0.0000e+00 - root_mean_squared_error: 9267.1555396430/550068 [====================>.........] - ETA: 18s - loss: 9260.5977 - acc: 0.0000e+00 - root_mean_squared_error: 9260.5977550068/550068 [==============================] - 66s 120us/step - loss: 9262.9687 - acc: 0.0000e+00 - root_mean_squared_error: 9262.9687\n",
      "Epoch 255/300\n",
      " 76190/550068 [===>..........................] - ETA: 57s - loss: 9264.9656 - acc: 0.0000e+00 - root_mean_squared_error: 9264.9656393380/550068 [====================>.........] - ETA: 18s - loss: 9258.2848 - acc: 0.0000e+00 - root_mean_squared_error: 9258.2848550068/550068 [==============================] - 67s 121us/step - loss: 9262.9687 - acc: 0.0000e+00 - root_mean_squared_error: 9262.9687\n",
      "Epoch 256/300\n",
      " 72980/550068 [==>...........................] - ETA: 57s - loss: 9235.4211 - acc: 0.0000e+00 - root_mean_squared_error: 9235.4211395430/550068 [====================>.........] - ETA: 18s - loss: 9259.8454 - acc: 0.0000e+00 - root_mean_squared_error: 9259.8454550068/550068 [==============================] - 66s 120us/step - loss: 9262.9687 - acc: 0.0000e+00 - root_mean_squared_error: 9262.9687\n",
      "Epoch 257/300\n",
      " 77770/550068 [===>..........................] - ETA: 56s - loss: 9271.8428 - acc: 0.0000e+00 - root_mean_squared_error: 9271.8428399360/550068 [====================>.........] - ETA: 18s - loss: 9265.0165 - acc: 0.0000e+00 - root_mean_squared_error: 9265.0165550068/550068 [==============================] - 66s 120us/step - loss: 9262.9687 - acc: 0.0000e+00 - root_mean_squared_error: 9262.9687\n",
      "Epoch 258/300\n",
      " 79110/550068 [===>..........................] - ETA: 56s - loss: 9274.1120 - acc: 0.0000e+00 - root_mean_squared_error: 9274.1120400380/550068 [====================>.........] - ETA: 18s - loss: 9264.6710 - acc: 0.0000e+00 - root_mean_squared_error: 9264.6710550068/550068 [==============================] - 66s 120us/step - loss: 9262.9687 - acc: 0.0000e+00 - root_mean_squared_error: 9262.9687\n",
      "Epoch 259/300\n",
      " 76220/550068 [===>..........................] - ETA: 59s - loss: 9273.4827 - acc: 0.0000e+00 - root_mean_squared_error: 9273.4827393630/550068 [====================>.........] - ETA: 19s - loss: 9265.4796 - acc: 0.0000e+00 - root_mean_squared_error: 9265.4796550068/550068 [==============================] - 67s 122us/step - loss: 9262.9687 - acc: 0.0000e+00 - root_mean_squared_error: 9262.9687\n",
      "Epoch 260/300\n",
      " 76060/550068 [===>..........................] - ETA: 57s - loss: 9255.6925 - acc: 0.0000e+00 - root_mean_squared_error: 9255.6925396260/550068 [====================>.........] - ETA: 18s - loss: 9265.3307 - acc: 0.0000e+00 - root_mean_squared_error: 9265.3307550068/550068 [==============================] - 66s 120us/step - loss: 9262.9687 - acc: 0.0000e+00 - root_mean_squared_error: 9262.9687\n",
      "Epoch 261/300\n"
     ]
    },
    {
     "name": "stdout",
     "output_type": "stream",
     "text": [
      " 75170/550068 [===>..........................] - ETA: 58s - loss: 9264.9466 - acc: 0.0000e+00 - root_mean_squared_error: 9264.9466398360/550068 [====================>.........] - ETA: 18s - loss: 9261.6174 - acc: 0.0000e+00 - root_mean_squared_error: 9261.6174550068/550068 [==============================] - 66s 120us/step - loss: 9262.9687 - acc: 0.0000e+00 - root_mean_squared_error: 9262.9687\n",
      "Epoch 262/300\n",
      " 78310/550068 [===>..........................] - ETA: 56s - loss: 9271.4874 - acc: 0.0000e+00 - root_mean_squared_error: 9271.4874403970/550068 [=====================>........] - ETA: 17s - loss: 9264.4106 - acc: 0.0000e+00 - root_mean_squared_error: 9264.4106550068/550068 [==============================] - 66s 120us/step - loss: 9262.9687 - acc: 0.0000e+00 - root_mean_squared_error: 9262.9687\n",
      "Epoch 263/300\n",
      " 79660/550068 [===>..........................] - ETA: 56s - loss: 9263.5455 - acc: 0.0000e+00 - root_mean_squared_error: 9263.5455402650/550068 [====================>.........] - ETA: 17s - loss: 9265.4834 - acc: 0.0000e+00 - root_mean_squared_error: 9265.4834550068/550068 [==============================] - 66s 120us/step - loss: 9262.9687 - acc: 0.0000e+00 - root_mean_squared_error: 9262.9687\n",
      "Epoch 264/300\n",
      " 75440/550068 [===>..........................] - ETA: 58s - loss: 9290.5805 - acc: 0.0000e+00 - root_mean_squared_error: 9290.5805395500/550068 [====================>.........] - ETA: 18s - loss: 9263.1173 - acc: 0.0000e+00 - root_mean_squared_error: 9263.1173550068/550068 [==============================] - 67s 121us/step - loss: 9262.9687 - acc: 0.0000e+00 - root_mean_squared_error: 9262.9687\n",
      "Epoch 265/300\n",
      " 76260/550068 [===>..........................] - ETA: 57s - loss: 9260.5712 - acc: 0.0000e+00 - root_mean_squared_error: 9260.5712400620/550068 [====================>.........] - ETA: 17s - loss: 9266.2955 - acc: 0.0000e+00 - root_mean_squared_error: 9266.2955550068/550068 [==============================] - 66s 120us/step - loss: 9262.9687 - acc: 0.0000e+00 - root_mean_squared_error: 9262.9687\n",
      "Epoch 266/300\n",
      " 79670/550068 [===>..........................] - ETA: 56s - loss: 9254.1292 - acc: 0.0000e+00 - root_mean_squared_error: 9254.1292403810/550068 [=====================>........] - ETA: 17s - loss: 9261.0506 - acc: 0.0000e+00 - root_mean_squared_error: 9261.0506550068/550068 [==============================] - 66s 120us/step - loss: 9262.9687 - acc: 0.0000e+00 - root_mean_squared_error: 9262.9687\n",
      "Epoch 267/300\n",
      " 80800/550068 [===>..........................] - ETA: 55s - loss: 9264.1838 - acc: 0.0000e+00 - root_mean_squared_error: 9264.1838401660/550068 [====================>.........] - ETA: 17s - loss: 9258.5343 - acc: 0.0000e+00 - root_mean_squared_error: 9258.5343550068/550068 [==============================] - 66s 119us/step - loss: 9262.9687 - acc: 0.0000e+00 - root_mean_squared_error: 9262.9687\n",
      "Epoch 268/300\n",
      " 81160/550068 [===>..........................] - ETA: 56s - loss: 9262.9502 - acc: 0.0000e+00 - root_mean_squared_error: 9262.9502404890/550068 [=====================>........] - ETA: 17s - loss: 9266.2331 - acc: 0.0000e+00 - root_mean_squared_error: 9266.2331550068/550068 [==============================] - 66s 119us/step - loss: 9262.9687 - acc: 0.0000e+00 - root_mean_squared_error: 9262.9687\n",
      "Epoch 269/300\n",
      " 80780/550068 [===>..........................] - ETA: 56s - loss: 9244.2274 - acc: 0.0000e+00 - root_mean_squared_error: 9244.2274396970/550068 [====================>.........] - ETA: 18s - loss: 9258.8898 - acc: 0.0000e+00 - root_mean_squared_error: 9258.8898550068/550068 [==============================] - 66s 120us/step - loss: 9262.9687 - acc: 0.0000e+00 - root_mean_squared_error: 9262.9687\n",
      "Epoch 270/300\n",
      " 77610/550068 [===>..........................] - ETA: 57s - loss: 9277.0843 - acc: 0.0000e+00 - root_mean_squared_error: 9277.0843400090/550068 [====================>.........] - ETA: 17s - loss: 9262.5263 - acc: 0.0000e+00 - root_mean_squared_error: 9262.5263550068/550068 [==============================] - 66s 120us/step - loss: 9262.9687 - acc: 0.0000e+00 - root_mean_squared_error: 9262.9687\n",
      "Epoch 271/300\n",
      " 79200/550068 [===>..........................] - ETA: 56s - loss: 9264.9742 - acc: 0.0000e+00 - root_mean_squared_error: 9264.9742400560/550068 [====================>.........] - ETA: 17s - loss: 9254.6763 - acc: 0.0000e+00 - root_mean_squared_error: 9254.6763550068/550068 [==============================] - 66s 120us/step - loss: 9262.9687 - acc: 0.0000e+00 - root_mean_squared_error: 9262.9687\n",
      "Epoch 272/300\n",
      " 77490/550068 [===>..........................] - ETA: 56s - loss: 9277.2110 - acc: 0.0000e+00 - root_mean_squared_error: 9277.2110397190/550068 [====================>.........] - ETA: 18s - loss: 9258.4891 - acc: 0.0000e+00 - root_mean_squared_error: 9258.4891550068/550068 [==============================] - 66s 120us/step - loss: 9262.9687 - acc: 0.0000e+00 - root_mean_squared_error: 9262.9687\n",
      "Epoch 273/300\n",
      " 77110/550068 [===>..........................] - ETA: 57s - loss: 9273.0040 - acc: 0.0000e+00 - root_mean_squared_error: 9273.0040395300/550068 [====================>.........] - ETA: 18s - loss: 9265.5359 - acc: 0.0000e+00 - root_mean_squared_error: 9265.5359550068/550068 [==============================] - 66s 121us/step - loss: 9262.9687 - acc: 0.0000e+00 - root_mean_squared_error: 9262.9687\n",
      "Epoch 274/300\n",
      " 75790/550068 [===>..........................] - ETA: 58s - loss: 9256.4427 - acc: 0.0000e+00 - root_mean_squared_error: 9256.4427394510/550068 [====================>.........] - ETA: 18s - loss: 9265.8002 - acc: 0.0000e+00 - root_mean_squared_error: 9265.8002550068/550068 [==============================] - 66s 121us/step - loss: 9262.9687 - acc: 0.0000e+00 - root_mean_squared_error: 9262.9687\n",
      "Epoch 275/300\n",
      " 77000/550068 [===>..........................] - ETA: 57s - loss: 9254.0747 - acc: 0.0000e+00 - root_mean_squared_error: 9254.0747400060/550068 [====================>.........] - ETA: 17s - loss: 9260.8288 - acc: 0.0000e+00 - root_mean_squared_error: 9260.8288550068/550068 [==============================] - 66s 120us/step - loss: 9262.9687 - acc: 0.0000e+00 - root_mean_squared_error: 9262.9687\n",
      "Epoch 276/300\n",
      " 78330/550068 [===>..........................] - ETA: 57s - loss: 9265.7263 - acc: 0.0000e+00 - root_mean_squared_error: 9265.7263398680/550068 [====================>.........] - ETA: 18s - loss: 9263.5257 - acc: 0.0000e+00 - root_mean_squared_error: 9263.5257550068/550068 [==============================] - 66s 120us/step - loss: 9262.9687 - acc: 0.0000e+00 - root_mean_squared_error: 9262.9687\n",
      "Epoch 277/300\n",
      " 78770/550068 [===>..........................] - ETA: 56s - loss: 9250.4871 - acc: 0.0000e+00 - root_mean_squared_error: 9250.4871403060/550068 [====================>.........] - ETA: 17s - loss: 9267.4381 - acc: 0.0000e+00 - root_mean_squared_error: 9267.4381550068/550068 [==============================] - 66s 119us/step - loss: 9262.9687 - acc: 0.0000e+00 - root_mean_squared_error: 9262.9687\n",
      "Epoch 278/300\n",
      " 82730/550068 [===>..........................] - ETA: 55s - loss: 9276.9557 - acc: 0.0000e+00 - root_mean_squared_error: 9276.9557404930/550068 [=====================>........] - ETA: 17s - loss: 9264.1346 - acc: 0.0000e+00 - root_mean_squared_error: 9264.1346550068/550068 [==============================] - 65s 119us/step - loss: 9262.9687 - acc: 0.0000e+00 - root_mean_squared_error: 9262.9687\n",
      "Epoch 279/300\n",
      " 81740/550068 [===>..........................] - ETA: 56s - loss: 9246.8496 - acc: 0.0000e+00 - root_mean_squared_error: 9246.8496401140/550068 [====================>.........] - ETA: 17s - loss: 9259.9985 - acc: 0.0000e+00 - root_mean_squared_error: 9259.9985550068/550068 [==============================] - 66s 120us/step - loss: 9262.9687 - acc: 0.0000e+00 - root_mean_squared_error: 9262.9687\n",
      "Epoch 280/300\n",
      " 80640/550068 [===>..........................] - ETA: 56s - loss: 9234.3794 - acc: 0.0000e+00 - root_mean_squared_error: 9234.3794401640/550068 [====================>.........] - ETA: 17s - loss: 9268.7884 - acc: 0.0000e+00 - root_mean_squared_error: 9268.7884550068/550068 [==============================] - 66s 120us/step - loss: 9262.9687 - acc: 0.0000e+00 - root_mean_squared_error: 9262.9687\n",
      "Epoch 281/300\n"
     ]
    },
    {
     "name": "stdout",
     "output_type": "stream",
     "text": [
      " 78190/550068 [===>..........................] - ETA: 57s - loss: 9265.7318 - acc: 0.0000e+00 - root_mean_squared_error: 9265.7318401250/550068 [====================>.........] - ETA: 17s - loss: 9267.9171 - acc: 0.0000e+00 - root_mean_squared_error: 9267.9171550068/550068 [==============================] - 66s 121us/step - loss: 9262.9687 - acc: 0.0000e+00 - root_mean_squared_error: 9262.9687\n",
      "Epoch 282/300\n",
      " 79480/550068 [===>..........................] - ETA: 56s - loss: 9263.9604 - acc: 0.0000e+00 - root_mean_squared_error: 9263.9604398440/550068 [====================>.........] - ETA: 18s - loss: 9266.5489 - acc: 0.0000e+00 - root_mean_squared_error: 9266.5489550068/550068 [==============================] - 67s 121us/step - loss: 9262.9687 - acc: 0.0000e+00 - root_mean_squared_error: 9262.9687\n",
      "Epoch 283/300\n",
      " 76280/550068 [===>..........................] - ETA: 57s - loss: 9241.4973 - acc: 0.0000e+00 - root_mean_squared_error: 9241.4973394410/550068 [====================>.........] - ETA: 18s - loss: 9265.3299 - acc: 0.0000e+00 - root_mean_squared_error: 9265.3299550068/550068 [==============================] - 66s 120us/step - loss: 9262.9687 - acc: 0.0000e+00 - root_mean_squared_error: 9262.9687\n",
      "Epoch 284/300\n",
      " 76720/550068 [===>..........................] - ETA: 57s - loss: 9268.5050 - acc: 0.0000e+00 - root_mean_squared_error: 9268.5050396920/550068 [====================>.........] - ETA: 18s - loss: 9273.8955 - acc: 0.0000e+00 - root_mean_squared_error: 9273.8955550068/550068 [==============================] - 67s 121us/step - loss: 9262.9687 - acc: 0.0000e+00 - root_mean_squared_error: 9262.9687\n",
      "Epoch 285/300\n",
      " 74190/550068 [===>..........................] - ETA: 58s - loss: 9250.3101 - acc: 0.0000e+00 - root_mean_squared_error: 9250.3101394560/550068 [====================>.........] - ETA: 18s - loss: 9266.6373 - acc: 0.0000e+00 - root_mean_squared_error: 9266.6373550068/550068 [==============================] - 66s 120us/step - loss: 9262.9687 - acc: 0.0000e+00 - root_mean_squared_error: 9262.9687\n",
      "Epoch 286/300\n",
      " 75360/550068 [===>..........................] - ETA: 56s - loss: 9269.4480 - acc: 0.0000e+00 - root_mean_squared_error: 9269.4480397620/550068 [====================>.........] - ETA: 18s - loss: 9256.1951 - acc: 0.0000e+00 - root_mean_squared_error: 9256.1951550068/550068 [==============================] - 66s 119us/step - loss: 9262.9687 - acc: 0.0000e+00 - root_mean_squared_error: 9262.9687\n",
      "Epoch 287/300\n",
      " 79860/550068 [===>..........................] - ETA: 55s - loss: 9254.2167 - acc: 0.0000e+00 - root_mean_squared_error: 9254.2167402390/550068 [====================>.........] - ETA: 17s - loss: 9259.3375 - acc: 0.0000e+00 - root_mean_squared_error: 9259.3375550068/550068 [==============================] - 66s 120us/step - loss: 9262.9687 - acc: 0.0000e+00 - root_mean_squared_error: 9262.9687\n",
      "Epoch 288/300\n",
      " 77850/550068 [===>..........................] - ETA: 58s - loss: 9262.7246 - acc: 0.0000e+00 - root_mean_squared_error: 9262.7246394260/550068 [====================>.........] - ETA: 19s - loss: 9259.3790 - acc: 0.0000e+00 - root_mean_squared_error: 9259.3790550068/550068 [==============================] - 67s 121us/step - loss: 9262.9687 - acc: 0.0000e+00 - root_mean_squared_error: 9262.9687\n",
      "Epoch 289/300\n",
      " 76930/550068 [===>..........................] - ETA: 56s - loss: 9255.5249 - acc: 0.0000e+00 - root_mean_squared_error: 9255.5249401050/550068 [====================>.........] - ETA: 17s - loss: 9267.3373 - acc: 0.0000e+00 - root_mean_squared_error: 9267.3373550068/550068 [==============================] - 66s 119us/step - loss: 9262.9687 - acc: 0.0000e+00 - root_mean_squared_error: 9262.9687\n",
      "Epoch 290/300\n",
      " 79140/550068 [===>..........................] - ETA: 57s - loss: 9253.6190 - acc: 0.0000e+00 - root_mean_squared_error: 9253.6190404920/550068 [=====================>........] - ETA: 17s - loss: 9259.2077 - acc: 0.0000e+00 - root_mean_squared_error: 9259.2077550068/550068 [==============================] - 66s 119us/step - loss: 9262.9687 - acc: 0.0000e+00 - root_mean_squared_error: 9262.9687\n",
      "Epoch 291/300\n",
      " 82160/550068 [===>..........................] - ETA: 55s - loss: 9240.5667 - acc: 0.0000e+00 - root_mean_squared_error: 9240.5667407110/550068 [=====================>........] - ETA: 17s - loss: 9262.7915 - acc: 0.0000e+00 - root_mean_squared_error: 9262.7915550068/550068 [==============================] - 66s 119us/step - loss: 9262.9687 - acc: 0.0000e+00 - root_mean_squared_error: 9262.9687\n",
      "Epoch 292/300\n",
      " 83530/550068 [===>..........................] - ETA: 55s - loss: 9256.3147 - acc: 0.0000e+00 - root_mean_squared_error: 9256.3147408480/550068 [=====================>........] - ETA: 16s - loss: 9263.5170 - acc: 0.0000e+00 - root_mean_squared_error: 9263.5170550068/550068 [==============================] - 65s 119us/step - loss: 9262.9687 - acc: 0.0000e+00 - root_mean_squared_error: 9262.9687\n",
      "Epoch 293/300\n",
      " 82620/550068 [===>..........................] - ETA: 56s - loss: 9233.9250 - acc: 0.0000e+00 - root_mean_squared_error: 9233.9250404910/550068 [=====================>........] - ETA: 17s - loss: 9258.6136 - acc: 0.0000e+00 - root_mean_squared_error: 9258.6136550068/550068 [==============================] - 66s 120us/step - loss: 9262.9687 - acc: 0.0000e+00 - root_mean_squared_error: 9262.9687\n",
      "Epoch 294/300\n",
      " 80260/550068 [===>..........................] - ETA: 56s - loss: 9256.6102 - acc: 0.0000e+00 - root_mean_squared_error: 9256.61405400/550068 [=====================>........] - ETA: 17s - loss: 9269.0020 - acc: 0.0000e+00 - root_mean_squared_error: 9269.0020550068/550068 [==============================] - 66s 119us/step - loss: 9262.9687 - acc: 0.0000e+00 - root_mean_squared_error: 9262.9687\n",
      "Epoch 295/300\n",
      " 81760/550068 [===>..........................] - ETA: 56s - loss: 9264.7998 - acc: 0.0000e+00 - root_mean_squared_error: 9264.7998400870/550068 [====================>.........] - ETA: 17s - loss: 9263.1546 - acc: 0.0000e+00 - root_mean_squared_error: 9263.1546550068/550068 [==============================] - 66s 120us/step - loss: 9262.9687 - acc: 0.0000e+00 - root_mean_squared_error: 9262.9687\n",
      "Epoch 296/300\n",
      " 78310/550068 [===>..........................] - ETA: 57s - loss: 9275.3039 - acc: 0.0000e+00 - root_mean_squared_error: 9275.30401590/550068 [====================>.........] - ETA: 17s - loss: 9260.8900 - acc: 0.0000e+00 - root_mean_squared_error: 9260.8900550068/550068 [==============================] - 66s 120us/step - loss: 9262.9687 - acc: 0.0000e+00 - root_mean_squared_error: 9262.9687\n",
      "Epoch 297/300\n",
      " 78560/550068 [===>..........................] - ETA: 56s - loss: 9244.2240 - acc: 0.0000e+00 - root_mean_squared_error: 9244.2240398570/550068 [====================>.........] - ETA: 18s - loss: 9261.9650 - acc: 0.0000e+00 - root_mean_squared_error: 9261.9650550068/550068 [==============================] - 66s 121us/step - loss: 9262.9687 - acc: 0.0000e+00 - root_mean_squared_error: 9262.9687\n",
      "Epoch 298/300\n",
      " 77160/550068 [===>..........................] - ETA: 57s - loss: 9254.9113 - acc: 0.0000e+00 - root_mean_squared_error: 9254.9113396090/550068 [====================>.........] - ETA: 18s - loss: 9258.8565 - acc: 0.0000e+00 - root_mean_squared_error: 9258.8565550068/550068 [==============================] - 66s 120us/step - loss: 9262.9687 - acc: 0.0000e+00 - root_mean_squared_error: 9262.9687\n",
      "Epoch 299/300\n",
      " 76900/550068 [===>..........................] - ETA: 57s - loss: 9262.8381 - acc: 0.0000e+00 - root_mean_squared_error: 9262.8381400640/550068 [====================>.........] - ETA: 17s - loss: 9263.1233 - acc: 0.0000e+00 - root_mean_squared_error: 9263.1233550068/550068 [==============================] - 66s 120us/step - loss: 9262.9687 - acc: 0.0000e+00 - root_mean_squared_error: 9262.9687\n",
      "Epoch 300/300\n",
      " 79030/550068 [===>..........................] - ETA: 56s - loss: 9247.7543 - acc: 0.0000e+00 - root_mean_squared_error: 9247.7543407690/550068 [=====================>........] - ETA: 16s - loss: 9269.4624 - acc: 0.0000e+00 - root_mean_squared_error: 9269.4624550068/550068 [==============================] - 65s 119us/step - loss: 9262.9687 - acc: 0.0000e+00 - root_mean_squared_error: 9262.9687\n"
     ]
    },
    {
     "data": {
      "text/plain": [
       "<keras.callbacks.History at 0x7fa225304c88>"
      ]
     },
     "execution_count": 34,
     "metadata": {
      "tags": []
     },
     "output_type": "execute_result"
    }
   ],
   "source": [
    "classifier.fit(X_train, y_train, batch_size = 10, nb_epoch = 300)"
   ]
  },
  {
   "cell_type": "code",
   "execution_count": 2,
   "metadata": {
    "colab": {
     "autoexec": {
      "startup": false,
      "wait_interval": 0
     },
     "base_uri": "https://localhost:8080/",
     "height": 163,
     "output_extras": [
      {
       "item_id": 1
      }
     ]
    },
    "colab_type": "code",
    "executionInfo": {
     "elapsed": 838,
     "status": "error",
     "timestamp": 1515386263531,
     "user": {
      "displayName": "MalliKarjun Namagiri",
      "photoUrl": "//lh6.googleusercontent.com/-P9BYex3S098/AAAAAAAAAAI/AAAAAAAAAb8/1pQ09fHEnoo/s50-c-k-no/photo.jpg",
      "userId": "105053389068996960187"
     },
     "user_tz": -330
    },
    "id": "j_cHuNFUa6lw",
    "outputId": "fc289dd0-2e5e-48cc-f1c5-8aa808a6e79e"
   },
   "outputs": [
    {
     "ename": "NameError",
     "evalue": "ignored",
     "output_type": "error",
     "traceback": [
      "\u001b[0;31m---------------------------------------------------------------------------\u001b[0m",
      "\u001b[0;31mNameError\u001b[0m                                 Traceback (most recent call last)",
      "\u001b[0;32m<ipython-input-2-c6504130aec5>\u001b[0m in \u001b[0;36m<module>\u001b[0;34m()\u001b[0m\n\u001b[0;32m----> 1\u001b[0;31m \u001b[0mclassifier\u001b[0m\u001b[0;34m.\u001b[0m\u001b[0mscore\u001b[0m\u001b[0;34m(\u001b[0m\u001b[0mX_test\u001b[0m\u001b[0;34m,\u001b[0m \u001b[0my_train\u001b[0m\u001b[0;34m)\u001b[0m\u001b[0;34m\u001b[0m\u001b[0m\n\u001b[0m",
      "\u001b[0;31mNameError\u001b[0m: name 'classifier' is not defined"
     ]
    }
   ],
   "source": [
    "classifier.score(X_test, y_train)"
   ]
  },
  {
   "cell_type": "code",
   "execution_count": 0,
   "metadata": {
    "colab": {
     "autoexec": {
      "startup": false,
      "wait_interval": 0
     }
    },
    "colab_type": "code",
    "collapsed": true,
    "id": "NL1mZJPreWuu"
   },
   "outputs": [],
   "source": [
    "y_pred = classifier.predict(X_test)"
   ]
  }
 ],
 "metadata": {
  "colab": {
   "collapsed_sections": [],
   "default_view": {},
   "name": "Copy of DL_BlackFriday.ipynb",
   "provenance": [],
   "version": "0.3.2",
   "views": {}
  },
  "kernelspec": {
   "display_name": "Python 3",
   "language": "python",
   "name": "python3"
  },
  "language_info": {
   "codemirror_mode": {
    "name": "ipython",
    "version": 3
   },
   "file_extension": ".py",
   "mimetype": "text/x-python",
   "name": "python",
   "nbconvert_exporter": "python",
   "pygments_lexer": "ipython3",
   "version": "3.6.1"
  }
 },
 "nbformat": 4,
 "nbformat_minor": 1
}
