{
 "cells": [
  {
   "cell_type": "code",
   "execution_count": 0,
   "metadata": {
    "colab": {
     "autoexec": {
      "startup": false,
      "wait_interval": 0
     }
    },
    "colab_type": "code",
    "collapsed": true,
    "id": "KeFGl6TGk1ig"
   },
   "outputs": [],
   "source": [
    "import pandas as pd\n",
    "import numpy as np\n",
    "import matplotlib.pyplot as plt\n",
    "import seaborn as sns"
   ]
  },
  {
   "cell_type": "code",
   "execution_count": 0,
   "metadata": {
    "colab": {
     "autoexec": {
      "startup": false,
      "wait_interval": 0
     }
    },
    "colab_type": "code",
    "collapsed": true,
    "id": "59oy4iGHTlDi"
   },
   "outputs": [],
   "source": [
    "train_df = pd.read_csv('train.csv')\n",
    "test = pd.read_csv('test.csv')"
   ]
  },
  {
   "cell_type": "code",
   "execution_count": 0,
   "metadata": {
    "colab": {
     "autoexec": {
      "startup": false,
      "wait_interval": 0
     },
     "base_uri": "https://localhost:8080/",
     "height": 238,
     "output_extras": [
      {}
     ]
    },
    "colab_type": "code",
    "executionInfo": {
     "elapsed": 1073,
     "status": "ok",
     "timestamp": 1515009444225,
     "user": {
      "displayName": "MalliKarjun Namagiri",
      "photoUrl": "//lh6.googleusercontent.com/-P9BYex3S098/AAAAAAAAAAI/AAAAAAAAAb8/1pQ09fHEnoo/s50-c-k-no/photo.jpg",
      "userId": "105053389068996960187"
     },
     "user_tz": -330
    },
    "id": "PpK87PVNmHBB",
    "outputId": "0fdf33d0-f975-491f-8db8-a7621f80f612"
   },
   "outputs": [
    {
     "data": {
      "text/plain": [
       "User_ID                       False\n",
       "Product_ID                    False\n",
       "Gender                        False\n",
       "Age                           False\n",
       "Occupation                    False\n",
       "City_Category                 False\n",
       "Stay_In_Current_City_Years    False\n",
       "Marital_Status                False\n",
       "Product_Category_1            False\n",
       "Product_Category_2             True\n",
       "Product_Category_3             True\n",
       "Purchase                      False\n",
       "dtype: bool"
      ]
     },
     "execution_count": 18,
     "metadata": {
      "tags": []
     },
     "output_type": "execute_result"
    }
   ],
   "source": [
    "train_df.isnull().any()"
   ]
  },
  {
   "cell_type": "code",
   "execution_count": 0,
   "metadata": {
    "colab": {
     "autoexec": {
      "startup": false,
      "wait_interval": 0
     },
     "base_uri": "https://localhost:8080/",
     "height": 221,
     "output_extras": [
      {}
     ]
    },
    "colab_type": "code",
    "executionInfo": {
     "elapsed": 896,
     "status": "ok",
     "timestamp": 1515009457929,
     "user": {
      "displayName": "MalliKarjun Namagiri",
      "photoUrl": "//lh6.googleusercontent.com/-P9BYex3S098/AAAAAAAAAAI/AAAAAAAAAb8/1pQ09fHEnoo/s50-c-k-no/photo.jpg",
      "userId": "105053389068996960187"
     },
     "user_tz": -330
    },
    "id": "9MdgSFJYmZEY",
    "outputId": "6ceb8e33-2361-490d-d0dc-364501936752"
   },
   "outputs": [
    {
     "data": {
      "text/plain": [
       "User_ID                       False\n",
       "Product_ID                    False\n",
       "Gender                        False\n",
       "Age                           False\n",
       "Occupation                    False\n",
       "City_Category                 False\n",
       "Stay_In_Current_City_Years    False\n",
       "Marital_Status                False\n",
       "Product_Category_1            False\n",
       "Product_Category_2             True\n",
       "Product_Category_3             True\n",
       "dtype: bool"
      ]
     },
     "execution_count": 19,
     "metadata": {
      "tags": []
     },
     "output_type": "execute_result"
    }
   ],
   "source": [
    "test.isnull().any()"
   ]
  },
  {
   "cell_type": "code",
   "execution_count": 43,
   "metadata": {
    "colab": {
     "autoexec": {
      "startup": false,
      "wait_interval": 0
     },
     "base_uri": "https://localhost:8080/",
     "height": 34,
     "output_extras": [
      {
       "item_id": 1
      }
     ]
    },
    "colab_type": "code",
    "executionInfo": {
     "elapsed": 880,
     "status": "ok",
     "timestamp": 1515264453623,
     "user": {
      "displayName": "MalliKarjun Namagiri",
      "photoUrl": "//lh6.googleusercontent.com/-P9BYex3S098/AAAAAAAAAAI/AAAAAAAAAb8/1pQ09fHEnoo/s50-c-k-no/photo.jpg",
      "userId": "105053389068996960187"
     },
     "user_tz": -330
    },
    "id": "Q89mHh7xzF-d",
    "outputId": "1712f9f7-52b5-4e30-d6e2-8a65b9ea6a72"
   },
   "outputs": [
    {
     "name": "stdout",
     "output_type": "stream",
     "text": [
      "550068\n"
     ]
    }
   ],
   "source": [
    "print(len(train_df))"
   ]
  },
  {
   "cell_type": "code",
   "execution_count": 0,
   "metadata": {
    "colab": {
     "autoexec": {
      "startup": false,
      "wait_interval": 0
     }
    },
    "colab_type": "code",
    "collapsed": true,
    "id": "II_mPLcDnuWR"
   },
   "outputs": [],
   "source": [
    "#handling the missing values in Product_Category_2 &3 variables\n",
    "train_df['Product_Category_2'] = train_df['Product_Category_2'].fillna(train_df['Product_Category_2'].mean())\n",
    "train_df['Product_Category_3'] = train_df['Product_Category_3'].fillna(train_df['Product_Category_3'].mean())\n",
    "\n",
    "test['Product_Category_2'] = test['Product_Category_2'].fillna(test['Product_Category_2'].mean())\n",
    "test['Product_Category_3'] = test['Product_Category_3'].fillna(test['Product_Category_3'].mean())"
   ]
  },
  {
   "cell_type": "code",
   "execution_count": 37,
   "metadata": {
    "colab": {
     "autoexec": {
      "startup": false,
      "wait_interval": 0
     },
     "base_uri": "https://localhost:8080/",
     "height": 532,
     "output_extras": [
      {
       "item_id": 1
      }
     ]
    },
    "colab_type": "code",
    "executionInfo": {
     "elapsed": 1125,
     "status": "ok",
     "timestamp": 1515264019893,
     "user": {
      "displayName": "MalliKarjun Namagiri",
      "photoUrl": "//lh6.googleusercontent.com/-P9BYex3S098/AAAAAAAAAAI/AAAAAAAAAb8/1pQ09fHEnoo/s50-c-k-no/photo.jpg",
      "userId": "105053389068996960187"
     },
     "user_tz": -330
    },
    "id": "9bWxouMMoz0F",
    "outputId": "23a59fda-2e8e-4972-cf67-d6a2a088f3d8"
   },
   "outputs": [
    {
     "data": {
      "text/html": [
       "<div>\n",
       "<style>\n",
       "    .dataframe thead tr:only-child th {\n",
       "        text-align: right;\n",
       "    }\n",
       "\n",
       "    .dataframe thead th {\n",
       "        text-align: left;\n",
       "    }\n",
       "\n",
       "    .dataframe tbody tr th {\n",
       "        vertical-align: top;\n",
       "    }\n",
       "</style>\n",
       "<table border=\"1\" class=\"dataframe\">\n",
       "  <thead>\n",
       "    <tr style=\"text-align: right;\">\n",
       "      <th></th>\n",
       "      <th>User_ID</th>\n",
       "      <th>Product_ID</th>\n",
       "      <th>Gender</th>\n",
       "      <th>Age</th>\n",
       "      <th>Occupation</th>\n",
       "      <th>City_Category</th>\n",
       "      <th>Stay_In_Current_City_Years</th>\n",
       "      <th>Marital_Status</th>\n",
       "      <th>Product_Category_1</th>\n",
       "      <th>Product_Category_2</th>\n",
       "      <th>Product_Category_3</th>\n",
       "      <th>Purchase</th>\n",
       "    </tr>\n",
       "  </thead>\n",
       "  <tbody>\n",
       "    <tr>\n",
       "      <th>0</th>\n",
       "      <td>1000001</td>\n",
       "      <td>P00069042</td>\n",
       "      <td>F</td>\n",
       "      <td>0-17</td>\n",
       "      <td>10</td>\n",
       "      <td>A</td>\n",
       "      <td>2</td>\n",
       "      <td>0</td>\n",
       "      <td>3</td>\n",
       "      <td>9.842329</td>\n",
       "      <td>12.668243</td>\n",
       "      <td>8370</td>\n",
       "    </tr>\n",
       "    <tr>\n",
       "      <th>1</th>\n",
       "      <td>1000001</td>\n",
       "      <td>P00248942</td>\n",
       "      <td>F</td>\n",
       "      <td>0-17</td>\n",
       "      <td>10</td>\n",
       "      <td>A</td>\n",
       "      <td>2</td>\n",
       "      <td>0</td>\n",
       "      <td>1</td>\n",
       "      <td>6.000000</td>\n",
       "      <td>14.000000</td>\n",
       "      <td>15200</td>\n",
       "    </tr>\n",
       "    <tr>\n",
       "      <th>2</th>\n",
       "      <td>1000001</td>\n",
       "      <td>P00087842</td>\n",
       "      <td>F</td>\n",
       "      <td>0-17</td>\n",
       "      <td>10</td>\n",
       "      <td>A</td>\n",
       "      <td>2</td>\n",
       "      <td>0</td>\n",
       "      <td>12</td>\n",
       "      <td>9.842329</td>\n",
       "      <td>12.668243</td>\n",
       "      <td>1422</td>\n",
       "    </tr>\n",
       "    <tr>\n",
       "      <th>3</th>\n",
       "      <td>1000001</td>\n",
       "      <td>P00085442</td>\n",
       "      <td>F</td>\n",
       "      <td>0-17</td>\n",
       "      <td>10</td>\n",
       "      <td>A</td>\n",
       "      <td>2</td>\n",
       "      <td>0</td>\n",
       "      <td>12</td>\n",
       "      <td>14.000000</td>\n",
       "      <td>12.668243</td>\n",
       "      <td>1057</td>\n",
       "    </tr>\n",
       "    <tr>\n",
       "      <th>4</th>\n",
       "      <td>1000002</td>\n",
       "      <td>P00285442</td>\n",
       "      <td>M</td>\n",
       "      <td>55+</td>\n",
       "      <td>16</td>\n",
       "      <td>C</td>\n",
       "      <td>4+</td>\n",
       "      <td>0</td>\n",
       "      <td>8</td>\n",
       "      <td>9.842329</td>\n",
       "      <td>12.668243</td>\n",
       "      <td>7969</td>\n",
       "    </tr>\n",
       "    <tr>\n",
       "      <th>5</th>\n",
       "      <td>1000003</td>\n",
       "      <td>P00193542</td>\n",
       "      <td>M</td>\n",
       "      <td>26-35</td>\n",
       "      <td>15</td>\n",
       "      <td>A</td>\n",
       "      <td>3</td>\n",
       "      <td>0</td>\n",
       "      <td>1</td>\n",
       "      <td>2.000000</td>\n",
       "      <td>12.668243</td>\n",
       "      <td>15227</td>\n",
       "    </tr>\n",
       "    <tr>\n",
       "      <th>6</th>\n",
       "      <td>1000004</td>\n",
       "      <td>P00184942</td>\n",
       "      <td>M</td>\n",
       "      <td>46-50</td>\n",
       "      <td>7</td>\n",
       "      <td>B</td>\n",
       "      <td>2</td>\n",
       "      <td>1</td>\n",
       "      <td>1</td>\n",
       "      <td>8.000000</td>\n",
       "      <td>17.000000</td>\n",
       "      <td>19215</td>\n",
       "    </tr>\n",
       "    <tr>\n",
       "      <th>7</th>\n",
       "      <td>1000004</td>\n",
       "      <td>P00346142</td>\n",
       "      <td>M</td>\n",
       "      <td>46-50</td>\n",
       "      <td>7</td>\n",
       "      <td>B</td>\n",
       "      <td>2</td>\n",
       "      <td>1</td>\n",
       "      <td>1</td>\n",
       "      <td>15.000000</td>\n",
       "      <td>12.668243</td>\n",
       "      <td>15854</td>\n",
       "    </tr>\n",
       "    <tr>\n",
       "      <th>8</th>\n",
       "      <td>1000004</td>\n",
       "      <td>P0097242</td>\n",
       "      <td>M</td>\n",
       "      <td>46-50</td>\n",
       "      <td>7</td>\n",
       "      <td>B</td>\n",
       "      <td>2</td>\n",
       "      <td>1</td>\n",
       "      <td>1</td>\n",
       "      <td>16.000000</td>\n",
       "      <td>12.668243</td>\n",
       "      <td>15686</td>\n",
       "    </tr>\n",
       "    <tr>\n",
       "      <th>9</th>\n",
       "      <td>1000005</td>\n",
       "      <td>P00274942</td>\n",
       "      <td>M</td>\n",
       "      <td>26-35</td>\n",
       "      <td>20</td>\n",
       "      <td>A</td>\n",
       "      <td>1</td>\n",
       "      <td>1</td>\n",
       "      <td>8</td>\n",
       "      <td>9.842329</td>\n",
       "      <td>12.668243</td>\n",
       "      <td>7871</td>\n",
       "    </tr>\n",
       "  </tbody>\n",
       "</table>\n",
       "</div>"
      ],
      "text/plain": [
       "   User_ID Product_ID Gender    Age  Occupation City_Category  \\\n",
       "0  1000001  P00069042      F   0-17          10             A   \n",
       "1  1000001  P00248942      F   0-17          10             A   \n",
       "2  1000001  P00087842      F   0-17          10             A   \n",
       "3  1000001  P00085442      F   0-17          10             A   \n",
       "4  1000002  P00285442      M    55+          16             C   \n",
       "5  1000003  P00193542      M  26-35          15             A   \n",
       "6  1000004  P00184942      M  46-50           7             B   \n",
       "7  1000004  P00346142      M  46-50           7             B   \n",
       "8  1000004   P0097242      M  46-50           7             B   \n",
       "9  1000005  P00274942      M  26-35          20             A   \n",
       "\n",
       "  Stay_In_Current_City_Years  Marital_Status  Product_Category_1  \\\n",
       "0                          2               0                   3   \n",
       "1                          2               0                   1   \n",
       "2                          2               0                  12   \n",
       "3                          2               0                  12   \n",
       "4                         4+               0                   8   \n",
       "5                          3               0                   1   \n",
       "6                          2               1                   1   \n",
       "7                          2               1                   1   \n",
       "8                          2               1                   1   \n",
       "9                          1               1                   8   \n",
       "\n",
       "   Product_Category_2  Product_Category_3  Purchase  \n",
       "0            9.842329           12.668243      8370  \n",
       "1            6.000000           14.000000     15200  \n",
       "2            9.842329           12.668243      1422  \n",
       "3           14.000000           12.668243      1057  \n",
       "4            9.842329           12.668243      7969  \n",
       "5            2.000000           12.668243     15227  \n",
       "6            8.000000           17.000000     19215  \n",
       "7           15.000000           12.668243     15854  \n",
       "8           16.000000           12.668243     15686  \n",
       "9            9.842329           12.668243      7871  "
      ]
     },
     "execution_count": 37,
     "metadata": {
      "tags": []
     },
     "output_type": "execute_result"
    }
   ],
   "source": [
    "train_df.head(10)"
   ]
  },
  {
   "cell_type": "code",
   "execution_count": 19,
   "metadata": {
    "colab": {
     "autoexec": {
      "startup": false,
      "wait_interval": 0
     },
     "base_uri": "https://localhost:8080/",
     "height": 309,
     "output_extras": [
      {
       "item_id": 1
      }
     ]
    },
    "colab_type": "code",
    "executionInfo": {
     "elapsed": 717,
     "status": "ok",
     "timestamp": 1515262820162,
     "user": {
      "displayName": "MalliKarjun Namagiri",
      "photoUrl": "//lh6.googleusercontent.com/-P9BYex3S098/AAAAAAAAAAI/AAAAAAAAAb8/1pQ09fHEnoo/s50-c-k-no/photo.jpg",
      "userId": "105053389068996960187"
     },
     "user_tz": -330
    },
    "id": "pzJP-GOhs53r",
    "outputId": "bc486c3d-39c7-4d22-dda2-37aa253db4cc"
   },
   "outputs": [
    {
     "data": {
      "text/html": [
       "<div>\n",
       "<style>\n",
       "    .dataframe thead tr:only-child th {\n",
       "        text-align: right;\n",
       "    }\n",
       "\n",
       "    .dataframe thead th {\n",
       "        text-align: left;\n",
       "    }\n",
       "\n",
       "    .dataframe tbody tr th {\n",
       "        vertical-align: top;\n",
       "    }\n",
       "</style>\n",
       "<table border=\"1\" class=\"dataframe\">\n",
       "  <thead>\n",
       "    <tr style=\"text-align: right;\">\n",
       "      <th></th>\n",
       "      <th>User_ID</th>\n",
       "      <th>Product_ID</th>\n",
       "      <th>Gender</th>\n",
       "      <th>Age</th>\n",
       "      <th>Occupation</th>\n",
       "      <th>City_Category</th>\n",
       "      <th>Stay_In_Current_City_Years</th>\n",
       "      <th>Marital_Status</th>\n",
       "      <th>Product_Category_1</th>\n",
       "      <th>Product_Category_2</th>\n",
       "      <th>Product_Category_3</th>\n",
       "    </tr>\n",
       "  </thead>\n",
       "  <tbody>\n",
       "    <tr>\n",
       "      <th>0</th>\n",
       "      <td>1000004</td>\n",
       "      <td>P00128942</td>\n",
       "      <td>M</td>\n",
       "      <td>46-50</td>\n",
       "      <td>7</td>\n",
       "      <td>B</td>\n",
       "      <td>2</td>\n",
       "      <td>1</td>\n",
       "      <td>1</td>\n",
       "      <td>11.0</td>\n",
       "      <td>12.669454</td>\n",
       "    </tr>\n",
       "    <tr>\n",
       "      <th>1</th>\n",
       "      <td>1000009</td>\n",
       "      <td>P00113442</td>\n",
       "      <td>M</td>\n",
       "      <td>26-35</td>\n",
       "      <td>17</td>\n",
       "      <td>C</td>\n",
       "      <td>0</td>\n",
       "      <td>0</td>\n",
       "      <td>3</td>\n",
       "      <td>5.0</td>\n",
       "      <td>12.669454</td>\n",
       "    </tr>\n",
       "    <tr>\n",
       "      <th>2</th>\n",
       "      <td>1000010</td>\n",
       "      <td>P00288442</td>\n",
       "      <td>F</td>\n",
       "      <td>36-45</td>\n",
       "      <td>1</td>\n",
       "      <td>B</td>\n",
       "      <td>4+</td>\n",
       "      <td>1</td>\n",
       "      <td>5</td>\n",
       "      <td>14.0</td>\n",
       "      <td>12.669454</td>\n",
       "    </tr>\n",
       "    <tr>\n",
       "      <th>3</th>\n",
       "      <td>1000010</td>\n",
       "      <td>P00145342</td>\n",
       "      <td>F</td>\n",
       "      <td>36-45</td>\n",
       "      <td>1</td>\n",
       "      <td>B</td>\n",
       "      <td>4+</td>\n",
       "      <td>1</td>\n",
       "      <td>4</td>\n",
       "      <td>9.0</td>\n",
       "      <td>12.669454</td>\n",
       "    </tr>\n",
       "    <tr>\n",
       "      <th>4</th>\n",
       "      <td>1000011</td>\n",
       "      <td>P00053842</td>\n",
       "      <td>F</td>\n",
       "      <td>26-35</td>\n",
       "      <td>1</td>\n",
       "      <td>C</td>\n",
       "      <td>1</td>\n",
       "      <td>0</td>\n",
       "      <td>4</td>\n",
       "      <td>5.0</td>\n",
       "      <td>12.000000</td>\n",
       "    </tr>\n",
       "  </tbody>\n",
       "</table>\n",
       "</div>"
      ],
      "text/plain": [
       "   User_ID Product_ID Gender    Age  Occupation City_Category  \\\n",
       "0  1000004  P00128942      M  46-50           7             B   \n",
       "1  1000009  P00113442      M  26-35          17             C   \n",
       "2  1000010  P00288442      F  36-45           1             B   \n",
       "3  1000010  P00145342      F  36-45           1             B   \n",
       "4  1000011  P00053842      F  26-35           1             C   \n",
       "\n",
       "  Stay_In_Current_City_Years  Marital_Status  Product_Category_1  \\\n",
       "0                          2               1                   1   \n",
       "1                          0               0                   3   \n",
       "2                         4+               1                   5   \n",
       "3                         4+               1                   4   \n",
       "4                          1               0                   4   \n",
       "\n",
       "   Product_Category_2  Product_Category_3  \n",
       "0                11.0           12.669454  \n",
       "1                 5.0           12.669454  \n",
       "2                14.0           12.669454  \n",
       "3                 9.0           12.669454  \n",
       "4                 5.0           12.000000  "
      ]
     },
     "execution_count": 19,
     "metadata": {
      "tags": []
     },
     "output_type": "execute_result"
    }
   ],
   "source": [
    "test.head()"
   ]
  },
  {
   "cell_type": "code",
   "execution_count": 9,
   "metadata": {
    "colab": {
     "autoexec": {
      "startup": false,
      "wait_interval": 0
     },
     "base_uri": "https://localhost:8080/",
     "height": 102,
     "output_extras": [
      {
       "item_id": 1
      }
     ]
    },
    "colab_type": "code",
    "executionInfo": {
     "elapsed": 869,
     "status": "ok",
     "timestamp": 1515262182857,
     "user": {
      "displayName": "MalliKarjun Namagiri",
      "photoUrl": "//lh6.googleusercontent.com/-P9BYex3S098/AAAAAAAAAAI/AAAAAAAAAb8/1pQ09fHEnoo/s50-c-k-no/photo.jpg",
      "userId": "105053389068996960187"
     },
     "user_tz": -330
    },
    "id": "BL3SDSQhme3V",
    "outputId": "2d054919-f9de-4416-af26-9205b1a5fde7"
   },
   "outputs": [
    {
     "data": {
      "text/plain": [
       "Index([u'User_ID', u'Product_ID', u'Gender', u'Age', u'Occupation',\n",
       "       u'City_Category', u'Stay_In_Current_City_Years', u'Marital_Status',\n",
       "       u'Product_Category_1', u'Product_Category_2', u'Product_Category_3',\n",
       "       u'Purchase'],\n",
       "      dtype='object')"
      ]
     },
     "execution_count": 9,
     "metadata": {
      "tags": []
     },
     "output_type": "execute_result"
    }
   ],
   "source": [
    "train_df.columns"
   ]
  },
  {
   "cell_type": "code",
   "execution_count": 10,
   "metadata": {
    "colab": {
     "autoexec": {
      "startup": false,
      "wait_interval": 0
     },
     "base_uri": "https://localhost:8080/",
     "height": 153,
     "output_extras": [
      {
       "item_id": 1
      }
     ]
    },
    "colab_type": "code",
    "executionInfo": {
     "elapsed": 1010,
     "status": "ok",
     "timestamp": 1515262483391,
     "user": {
      "displayName": "MalliKarjun Namagiri",
      "photoUrl": "//lh6.googleusercontent.com/-P9BYex3S098/AAAAAAAAAAI/AAAAAAAAAb8/1pQ09fHEnoo/s50-c-k-no/photo.jpg",
      "userId": "105053389068996960187"
     },
     "user_tz": -330
    },
    "id": "mePRnVqcro4p",
    "outputId": "54b30944-f556-40ed-adb0-88693ce72e10"
   },
   "outputs": [
    {
     "data": {
      "text/plain": [
       "26-35    219587\n",
       "36-45    110013\n",
       "18-25     99660\n",
       "46-50     45701\n",
       "51-55     38501\n",
       "55+       21504\n",
       "0-17      15102\n",
       "Name: Age, dtype: int64"
      ]
     },
     "execution_count": 10,
     "metadata": {
      "tags": []
     },
     "output_type": "execute_result"
    }
   ],
   "source": [
    "train_df['Age'].value_counts()"
   ]
  },
  {
   "cell_type": "markdown",
   "metadata": {
    "colab_type": "text",
    "id": "GOKHQcvbzhCP"
   },
   "source": []
  },
  {
   "cell_type": "code",
   "execution_count": 44,
   "metadata": {
    "colab": {
     "autoexec": {
      "startup": false,
      "wait_interval": 0
     },
     "base_uri": "https://localhost:8080/",
     "height": 159,
     "output_extras": [
      {
       "item_id": 1
      }
     ]
    },
    "colab_type": "code",
    "executionInfo": {
     "elapsed": 877,
     "status": "ok",
     "timestamp": 1515264556119,
     "user": {
      "displayName": "MalliKarjun Namagiri",
      "photoUrl": "//lh6.googleusercontent.com/-P9BYex3S098/AAAAAAAAAAI/AAAAAAAAAb8/1pQ09fHEnoo/s50-c-k-no/photo.jpg",
      "userId": "105053389068996960187"
     },
     "user_tz": -330
    },
    "id": "8mqoLMn7zh8n",
    "outputId": "0f97fbe1-84a8-41b5-e747-d63c882501c2"
   },
   "outputs": [
    {
     "data": {
      "text/plain": [
       "26-35    93428\n",
       "36-45    46711\n",
       "18-25    42293\n",
       "46-50    19577\n",
       "51-55    16283\n",
       "55+       9075\n",
       "0-17      6232\n",
       "Name: Age, dtype: int64"
      ]
     },
     "execution_count": 44,
     "metadata": {
      "tags": []
     },
     "output_type": "execute_result"
    }
   ],
   "source": [
    "test['Age'].value_counts()"
   ]
  },
  {
   "cell_type": "code",
   "execution_count": 45,
   "metadata": {
    "colab": {
     "autoexec": {
      "startup": false,
      "wait_interval": 0
     },
     "base_uri": "https://localhost:8080/",
     "height": 88,
     "output_extras": [
      {
       "item_id": 1
      }
     ]
    },
    "colab_type": "code",
    "executionInfo": {
     "elapsed": 859,
     "status": "ok",
     "timestamp": 1515264588856,
     "user": {
      "displayName": "MalliKarjun Namagiri",
      "photoUrl": "//lh6.googleusercontent.com/-P9BYex3S098/AAAAAAAAAAI/AAAAAAAAAb8/1pQ09fHEnoo/s50-c-k-no/photo.jpg",
      "userId": "105053389068996960187"
     },
     "user_tz": -330
    },
    "id": "WKkqpNgyzoFz",
    "outputId": "e01bd9be-35a3-4786-8f93-fd0aca4bca97"
   },
   "outputs": [
    {
     "data": {
      "text/plain": [
       "B    231173\n",
       "C    171175\n",
       "A    147720\n",
       "Name: City_Category, dtype: int64"
      ]
     },
     "execution_count": 45,
     "metadata": {
      "tags": []
     },
     "output_type": "execute_result"
    }
   ],
   "source": [
    "train_df['City_Category'].value_counts()"
   ]
  },
  {
   "cell_type": "code",
   "execution_count": 46,
   "metadata": {
    "colab": {
     "autoexec": {
      "startup": false,
      "wait_interval": 0
     },
     "base_uri": "https://localhost:8080/",
     "height": 88,
     "output_extras": [
      {
       "item_id": 1
      }
     ]
    },
    "colab_type": "code",
    "executionInfo": {
     "elapsed": 1024,
     "status": "ok",
     "timestamp": 1515264607966,
     "user": {
      "displayName": "MalliKarjun Namagiri",
      "photoUrl": "//lh6.googleusercontent.com/-P9BYex3S098/AAAAAAAAAAI/AAAAAAAAAb8/1pQ09fHEnoo/s50-c-k-no/photo.jpg",
      "userId": "105053389068996960187"
     },
     "user_tz": -330
    },
    "id": "1wfkej3Szsmp",
    "outputId": "4e5186ac-dac5-4c04-deaa-a403ab41996b"
   },
   "outputs": [
    {
     "data": {
      "text/plain": [
       "B    98566\n",
       "C    72509\n",
       "A    62524\n",
       "Name: City_Category, dtype: int64"
      ]
     },
     "execution_count": 46,
     "metadata": {
      "tags": []
     },
     "output_type": "execute_result"
    }
   ],
   "source": [
    "test['City_Category'].value_counts()"
   ]
  },
  {
   "cell_type": "code",
   "execution_count": 0,
   "metadata": {
    "colab": {
     "autoexec": {
      "startup": false,
      "wait_interval": 0
     }
    },
    "colab_type": "code",
    "collapsed": true,
    "id": "zTuvbEUGr5Hx"
   },
   "outputs": [],
   "source": [
    "X_train = train_df.iloc[:, 2:11].values\n",
    "y_train = train_df.iloc[:, 11].values\n",
    "X_test = test.iloc[:, 2:11].values"
   ]
  },
  {
   "cell_type": "code",
   "execution_count": 0,
   "metadata": {
    "colab": {
     "autoexec": {
      "startup": false,
      "wait_interval": 0
     }
    },
    "colab_type": "code",
    "collapsed": true,
    "id": "3d2ZiKw-ty0d"
   },
   "outputs": [],
   "source": [
    "# Encoding categorical data\n",
    "from sklearn.preprocessing import LabelEncoder, OneHotEncoder\n",
    "labelencoder_X_train_1 = LabelEncoder()\n",
    "X_train[:, 0] = labelencoder_X_train_1.fit_transform(X_train[:, 0])\n",
    "labelencoder_X_train_2 = LabelEncoder()\n",
    "X_train[:, 1] = labelencoder_X_train_2.fit_transform(X_train[:, 2])\n",
    "labelencoder_X_train_3 = LabelEncoder()\n",
    "X_train[:, 3] = labelencoder_X_train_3.fit_transform(X_train[:, 3])\n",
    "labelencoder_X_train_4 = LabelEncoder()\n",
    "X_train[:, 4] = labelencoder_X_train_4.fit_transform(X_train[:, 4])\n",
    "onehotencoder = OneHotEncoder(categorical_features = [1])\n",
    "X_train = onehotencoder.fit_transform(X_train).toarray()"
   ]
  },
  {
   "cell_type": "code",
   "execution_count": 0,
   "metadata": {
    "colab": {
     "autoexec": {
      "startup": false,
      "wait_interval": 0
     }
    },
    "colab_type": "code",
    "collapsed": true,
    "id": "7xQohv9gvN8E"
   },
   "outputs": [],
   "source": [
    "# Encoding categorical data\n",
    "from sklearn.preprocessing import LabelEncoder, OneHotEncoder\n",
    "labelencoder_X_test_1 = LabelEncoder()\n",
    "X_test[:, 0] = labelencoder_X_test_1.fit_transform(X_test[:, 0])\n",
    "labelencoder_X_test_2 = LabelEncoder()\n",
    "X_test[:, 1] = labelencoder_X_test_2.fit_transform(X_test[:, 2])\n",
    "labelencoder_X_test_3 = LabelEncoder()\n",
    "X_test[:, 3] = labelencoder_X_test_3.fit_transform(X_test[:, 3])\n",
    "labelencoder_X_test_4 = LabelEncoder()\n",
    "X_test[:, 4] = labelencoder_X_test_4.fit_transform(X_test[:, 4])\n",
    "onehotencoder = OneHotEncoder(categorical_features = [1])\n",
    "X_test = onehotencoder.fit_transform(X_test).toarray()"
   ]
  },
  {
   "cell_type": "code",
   "execution_count": 0,
   "metadata": {
    "colab": {
     "autoexec": {
      "startup": false,
      "wait_interval": 0
     }
    },
    "colab_type": "code",
    "collapsed": true,
    "id": "sT2vsJsMwWRV"
   },
   "outputs": [],
   "source": [
    "X_train = X_train[:, 1:]\n",
    "X_test = X_test[:, 1:]"
   ]
  },
  {
   "cell_type": "code",
   "execution_count": 42,
   "metadata": {
    "colab": {
     "autoexec": {
      "startup": false,
      "wait_interval": 0
     },
     "base_uri": "https://localhost:8080/",
     "height": 34,
     "output_extras": [
      {
       "item_id": 1
      }
     ]
    },
    "colab_type": "code",
    "executionInfo": {
     "elapsed": 865,
     "status": "ok",
     "timestamp": 1515264378402,
     "user": {
      "displayName": "MalliKarjun Namagiri",
      "photoUrl": "//lh6.googleusercontent.com/-P9BYex3S098/AAAAAAAAAAI/AAAAAAAAAb8/1pQ09fHEnoo/s50-c-k-no/photo.jpg",
      "userId": "105053389068996960187"
     },
     "user_tz": -330
    },
    "id": "amK3buc2y3Cw",
    "outputId": "bc94608c-3f1a-4733-bc1d-db61b7047ecb"
   },
   "outputs": [
    {
     "data": {
      "text/plain": [
       "(550068, 28)"
      ]
     },
     "execution_count": 42,
     "metadata": {
      "tags": []
     },
     "output_type": "execute_result"
    }
   ],
   "source": [
    "X_train.shape"
   ]
  },
  {
   "cell_type": "code",
   "execution_count": 63,
   "metadata": {
    "colab": {
     "autoexec": {
      "startup": false,
      "wait_interval": 0
     },
     "base_uri": "https://localhost:8080/",
     "height": 34,
     "output_extras": [
      {
       "item_id": 1
      }
     ]
    },
    "colab_type": "code",
    "executionInfo": {
     "elapsed": 818,
     "status": "ok",
     "timestamp": 1515266593832,
     "user": {
      "displayName": "MalliKarjun Namagiri",
      "photoUrl": "//lh6.googleusercontent.com/-P9BYex3S098/AAAAAAAAAAI/AAAAAAAAAb8/1pQ09fHEnoo/s50-c-k-no/photo.jpg",
      "userId": "105053389068996960187"
     },
     "user_tz": -330
    },
    "id": "eBCJZTTayyfH",
    "outputId": "2651a41a-622a-4c9f-8b6e-04b95bded29c"
   },
   "outputs": [
    {
     "data": {
      "text/plain": [
       "(233599, 27)"
      ]
     },
     "execution_count": 63,
     "metadata": {
      "tags": []
     },
     "output_type": "execute_result"
    }
   ],
   "source": [
    "X_test.shape"
   ]
  },
  {
   "cell_type": "code",
   "execution_count": 0,
   "metadata": {
    "colab": {
     "autoexec": {
      "startup": false,
      "wait_interval": 0
     }
    },
    "colab_type": "code",
    "collapsed": true,
    "id": "iESKCnucwibY"
   },
   "outputs": [],
   "source": [
    "from sklearn.preprocessing import StandardScaler\n",
    "sc_X = StandardScaler()\n",
    "X_train = sc_X.fit_transform(X_train)\n",
    "X_test = sc_X.fit_transform(X_test)"
   ]
  },
  {
   "cell_type": "markdown",
   "metadata": {
    "colab_type": "text",
    "id": "G--P4s_L0mB7"
   },
   "source": [
    "      **Part 2:** Start with by using ANN to prepare Model"
   ]
  },
  {
   "cell_type": "code",
   "execution_count": 0,
   "metadata": {
    "colab": {
     "autoexec": {
      "startup": false,
      "wait_interval": 0
     }
    },
    "colab_type": "code",
    "collapsed": true,
    "id": "W4WajsqC0isV"
   },
   "outputs": [],
   "source": [
    "#importing Keras libraries and packages\n",
    "import keras\n",
    "from keras.models import Sequential\n",
    "from keras.layers import Dense"
   ]
  },
  {
   "cell_type": "code",
   "execution_count": 0,
   "metadata": {
    "colab": {
     "autoexec": {
      "startup": false,
      "wait_interval": 0
     }
    },
    "colab_type": "code",
    "collapsed": true,
    "id": "PlP2YqOx2oUE"
   },
   "outputs": [],
   "source": [
    "#initialising ANN\n",
    "classifier = Sequential()"
   ]
  },
  {
   "cell_type": "code",
   "execution_count": 68,
   "metadata": {
    "colab": {
     "autoexec": {
      "startup": false,
      "wait_interval": 0
     },
     "base_uri": "https://localhost:8080/",
     "height": 71,
     "output_extras": [
      {
       "item_id": 1
      }
     ]
    },
    "colab_type": "code",
    "executionInfo": {
     "elapsed": 830,
     "status": "ok",
     "timestamp": 1515266837317,
     "user": {
      "displayName": "MalliKarjun Namagiri",
      "photoUrl": "//lh6.googleusercontent.com/-P9BYex3S098/AAAAAAAAAAI/AAAAAAAAAb8/1pQ09fHEnoo/s50-c-k-no/photo.jpg",
      "userId": "105053389068996960187"
     },
     "user_tz": -330
    },
    "id": "jSOG5NlN28LE",
    "outputId": "5ed1092e-21e0-4bed-ca9b-aef9b1bf96cd"
   },
   "outputs": [
    {
     "name": "stderr",
     "output_type": "stream",
     "text": [
      "/usr/local/lib/python2.7/dist-packages/ipykernel_launcher.py:1: UserWarning: Update your `Dense` call to the Keras 2 API: `Dense(units=14, activation=\"relu\", kernel_initializer=\"uniform\", input_dim=28)`\n",
      "  \"\"\"Entry point for launching an IPython kernel.\n"
     ]
    }
   ],
   "source": [
    "#Adding the input layer and first hidden layer\n",
    "classifier.add(Dense(output_dim = 14, kernel_initializer = 'uniform', activation = 'relu', input_dim = 28))"
   ]
  },
  {
   "cell_type": "code",
   "execution_count": 69,
   "metadata": {
    "colab": {
     "autoexec": {
      "startup": false,
      "wait_interval": 0
     },
     "base_uri": "https://localhost:8080/",
     "height": 71,
     "output_extras": [
      {
       "item_id": 1
      }
     ]
    },
    "colab_type": "code",
    "executionInfo": {
     "elapsed": 829,
     "status": "ok",
     "timestamp": 1515266919072,
     "user": {
      "displayName": "MalliKarjun Namagiri",
      "photoUrl": "//lh6.googleusercontent.com/-P9BYex3S098/AAAAAAAAAAI/AAAAAAAAAb8/1pQ09fHEnoo/s50-c-k-no/photo.jpg",
      "userId": "105053389068996960187"
     },
     "user_tz": -330
    },
    "id": "P8Qy5DJy7ouD",
    "outputId": "5a19b223-05a6-41a0-8ec5-3b6ab7ae8573"
   },
   "outputs": [
    {
     "name": "stderr",
     "output_type": "stream",
     "text": [
      "/usr/local/lib/python2.7/dist-packages/ipykernel_launcher.py:1: UserWarning: Update your `Dense` call to the Keras 2 API: `Dense(units=14, activation=\"relu\", kernel_initializer=\"uniform\")`\n",
      "  \"\"\"Entry point for launching an IPython kernel.\n"
     ]
    }
   ],
   "source": [
    "#Adding the second hidden layer\n",
    "classifier.add(Dense(output_dim = 14, kernel_initializer = 'uniform', activation = 'relu'))"
   ]
  },
  {
   "cell_type": "code",
   "execution_count": 70,
   "metadata": {
    "colab": {
     "autoexec": {
      "startup": false,
      "wait_interval": 0
     },
     "base_uri": "https://localhost:8080/",
     "height": 71,
     "output_extras": [
      {
       "item_id": 1
      }
     ]
    },
    "colab_type": "code",
    "executionInfo": {
     "elapsed": 841,
     "status": "ok",
     "timestamp": 1515267072349,
     "user": {
      "displayName": "MalliKarjun Namagiri",
      "photoUrl": "//lh6.googleusercontent.com/-P9BYex3S098/AAAAAAAAAAI/AAAAAAAAAb8/1pQ09fHEnoo/s50-c-k-no/photo.jpg",
      "userId": "105053389068996960187"
     },
     "user_tz": -330
    },
    "id": "X_2qRdGA8z67",
    "outputId": "80cee2d9-bdf7-49a5-a396-6fedc4c7d031"
   },
   "outputs": [
    {
     "name": "stderr",
     "output_type": "stream",
     "text": [
      "/usr/local/lib/python2.7/dist-packages/ipykernel_launcher.py:1: UserWarning: Update your `Dense` call to the Keras 2 API: `Dense(units=1, activation=\"sigmoid\", kernel_initializer=\"uniform\")`\n",
      "  \"\"\"Entry point for launching an IPython kernel.\n"
     ]
    }
   ],
   "source": [
    "#Adding the outpu layer\n",
    "classifier.add(Dense(output_dim = 1, kernel_initializer = 'uniform', activation = 'sigmoid'))"
   ]
  },
  {
   "cell_type": "code",
   "execution_count": 80,
   "metadata": {
    "colab": {
     "autoexec": {
      "startup": false,
      "wait_interval": 0
     },
     "base_uri": "https://localhost:8080/",
     "height": 88,
     "output_extras": [
      {
       "item_id": 1
      }
     ]
    },
    "colab_type": "code",
    "executionInfo": {
     "elapsed": 837,
     "status": "ok",
     "timestamp": 1515268382076,
     "user": {
      "displayName": "MalliKarjun Namagiri",
      "photoUrl": "//lh6.googleusercontent.com/-P9BYex3S098/AAAAAAAAAAI/AAAAAAAAAb8/1pQ09fHEnoo/s50-c-k-no/photo.jpg",
      "userId": "105053389068996960187"
     },
     "user_tz": -330
    },
    "id": "fQZwMAP29Lwc",
    "outputId": "78116b26-ebaf-4c6e-c3ee-6c6464758b91"
   },
   "outputs": [
    {
     "name": "stdout",
     "output_type": "stream",
     "text": [
      "WARNING:tensorflow:From /usr/local/lib/python2.7/dist-packages/keras/backend/tensorflow_backend.py:1349: calling reduce_mean (from tensorflow.python.ops.math_ops) with keep_dims is deprecated and will be removed in a future version.\n",
      "Instructions for updating:\n",
      "keep_dims is deprecated, use keepdims instead\n"
     ]
    }
   ],
   "source": [
    "\n",
    "#Compiling the ANN\n",
    "from keras import backend as K\n",
    "def root_mean_squared_error(y_true, y_pred):\n",
    "        return K.sqrt(K.mean(K.square(y_pred - y_true), axis=-1)) \n",
    "\n",
    "classifier.compile(optimizer = \"rmsprop\", loss = root_mean_squared_error, metrics =[\"accuracy\"])\n"
   ]
  },
  {
   "cell_type": "code",
   "execution_count": 82,
   "metadata": {
    "colab": {
     "autoexec": {
      "startup": false,
      "wait_interval": 0
     },
     "base_uri": "https://localhost:8080/",
     "height": 3488,
     "output_extras": [
      {
       "item_id": 1
      },
      {
       "item_id": 146
      },
      {
       "item_id": 243
      },
      {
       "item_id": 387
      },
      {
       "item_id": 555
      },
      {
       "item_id": 701
      },
      {
       "item_id": 798
      },
      {
       "item_id": 944
      },
      {
       "item_id": 1114
      },
      {
       "item_id": 1260
      },
      {
       "item_id": 1364
      },
      {
       "item_id": 1516
      },
      {
       "item_id": 1689
      },
      {
       "item_id": 1840
      },
      {
       "item_id": 1941
      },
      {
       "item_id": 2093
      },
      {
       "item_id": 2271
      },
      {
       "item_id": 2419
      },
      {
       "item_id": 2521
      },
      {
       "item_id": 2673
      },
      {
       "item_id": 2849
      },
      {
       "item_id": 2999
      },
      {
       "item_id": 3102
      },
      {
       "item_id": 3255
      },
      {
       "item_id": 3429
      },
      {
       "item_id": 3511
      },
      {
       "item_id": 3656
      },
      {
       "item_id": 3821
      },
      {
       "item_id": 4007
      },
      {
       "item_id": 4153
      },
      {
       "item_id": 4250
      },
      {
       "item_id": 4396
      },
      {
       "item_id": 4537
      },
      {
       "item_id": 4680
      },
      {
       "item_id": 4777
      },
      {
       "item_id": 4925
      },
      {
       "item_id": 5091
      },
      {
       "item_id": 5235
      },
      {
       "item_id": 5333
      },
      {
       "item_id": 5480
      },
      {
       "item_id": 5641
      },
      {
       "item_id": 5690
      },
      {
       "item_id": 5781
      },
      {
       "item_id": 5926
      },
      {
       "item_id": 6095
      },
      {
       "item_id": 6240
      },
      {
       "item_id": 6336
      },
      {
       "item_id": 6482
      },
      {
       "item_id": 6650
      },
      {
       "item_id": 6794
      },
      {
       "item_id": 6882
      },
      {
       "item_id": 7027
      },
      {
       "item_id": 7198
      },
      {
       "item_id": 7351
      },
      {
       "item_id": 7452
      },
      {
       "item_id": 7596
      },
      {
       "item_id": 7766
      },
      {
       "item_id": 7846
      },
      {
       "item_id": 7988
      },
      {
       "item_id": 8159
      },
      {
       "item_id": 8346
      },
      {
       "item_id": 8490
      },
      {
       "item_id": 8588
      },
      {
       "item_id": 8735
      },
      {
       "item_id": 8909
      },
      {
       "item_id": 9056
      },
      {
       "item_id": 9156
      },
      {
       "item_id": 9307
      },
      {
       "item_id": 9482
      },
      {
       "item_id": 9626
      },
      {
       "item_id": 9726
      },
      {
       "item_id": 9875
      },
      {
       "item_id": 10048
      },
      {
       "item_id": 10194
      },
      {
       "item_id": 10293
      },
      {
       "item_id": 10439
      },
      {
       "item_id": 10612
      },
      {
       "item_id": 10756
      },
      {
       "item_id": 10854
      },
      {
       "item_id": 11000
      },
      {
       "item_id": 11172
      },
      {
       "item_id": 11315
      },
      {
       "item_id": 11412
      },
      {
       "item_id": 11555
      },
      {
       "item_id": 11724
      },
      {
       "item_id": 11863
      },
      {
       "item_id": 11960
      },
      {
       "item_id": 12102
      },
      {
       "item_id": 12267
      },
      {
       "item_id": 12407
      },
      {
       "item_id": 12501
      },
      {
       "item_id": 12641
      },
      {
       "item_id": 12803
      },
      {
       "item_id": 12941
      },
      {
       "item_id": 13032
      },
      {
       "item_id": 13168
      },
      {
       "item_id": 13330
      },
      {
       "item_id": 13466
      },
      {
       "item_id": 13557
      },
      {
       "item_id": 13695
      },
      {
       "item_id": 13857
      },
      {
       "item_id": 13992
      },
      {
       "item_id": 14082
      },
      {
       "item_id": 14217
      },
      {
       "item_id": 14373
      },
      {
       "item_id": 14506
      },
      {
       "item_id": 14596
      },
      {
       "item_id": 14729
      },
      {
       "item_id": 14884
      },
      {
       "item_id": 15016
      },
      {
       "item_id": 15100
      },
      {
       "item_id": 15226
      },
      {
       "item_id": 15380
      },
      {
       "item_id": 15511
      },
      {
       "item_id": 15597
      },
      {
       "item_id": 15728
      },
      {
       "item_id": 15879
      },
      {
       "item_id": 16008
      },
      {
       "item_id": 16094
      },
      {
       "item_id": 16223
      },
      {
       "item_id": 16374
      },
      {
       "item_id": 16501
      },
      {
       "item_id": 16587
      },
      {
       "item_id": 16714
      },
      {
       "item_id": 16861
      },
      {
       "item_id": 16982
      },
      {
       "item_id": 17066
      },
      {
       "item_id": 17193
      },
      {
       "item_id": 17342
      },
      {
       "item_id": 17466
      },
      {
       "item_id": 17550
      },
      {
       "item_id": 17676
      },
      {
       "item_id": 17821
      },
      {
       "item_id": 17942
      },
      {
       "item_id": 17980
      },
      {
       "item_id": 17981
      }
     ]
    },
    "colab_type": "code",
    "executionInfo": {
     "elapsed": 6099713,
     "status": "ok",
     "timestamp": 1515274842439,
     "user": {
      "displayName": "MalliKarjun Namagiri",
      "photoUrl": "//lh6.googleusercontent.com/-P9BYex3S098/AAAAAAAAAAI/AAAAAAAAAb8/1pQ09fHEnoo/s50-c-k-no/photo.jpg",
      "userId": "105053389068996960187"
     },
     "user_tz": -330
    },
    "id": "y1trftOAC0mp",
    "outputId": "a2f54f09-c73f-4e9c-ff65-1a7806f796ab"
   },
   "outputs": [
    {
     "name": "stderr",
     "output_type": "stream",
     "text": [
      "/usr/local/lib/python2.7/dist-packages/keras/models.py:939: UserWarning: The `nb_epoch` argument in `fit` has been renamed `epochs`.\n",
      "  warnings.warn('The `nb_epoch` argument in `fit` '\n"
     ]
    },
    {
     "name": "stdout",
     "output_type": "stream",
     "text": [
      "Epoch 1/100\n",
      "428540/550068 [======================>.......] - ETA: 13s - loss: 9267.7436 - acc: 0.0000e+00550068/550068 [==============================] - 61s 112us/step - loss: 9262.9694 - acc: 0.0000e+00\n",
      "Epoch 2/100\n",
      "157890/550068 [=======>......................] - ETA: 44s - loss: 9250.3534 - acc: 0.0000e+00550068/550068 [==============================] - 61s 111us/step - loss: 9262.9687 - acc: 0.0000e+00\n",
      "Epoch 3/100\n",
      " 44130/550068 [=>............................] - ETA: 56s - loss: 9254.1274 - acc: 0.0000e+00550068/550068 [==============================] - 61s 110us/step - loss: 9262.9687 - acc: 0.0000e+00\n",
      "Epoch 4/100\n",
      "428230/550068 [======================>.......] - ETA: 13s - loss: 9261.1581 - acc: 0.0000e+00550068/550068 [==============================] - 61s 112us/step - loss: 9262.9687 - acc: 0.0000e+00\n",
      "Epoch 5/100\n",
      "165870/550068 [========>.....................] - ETA: 42s - loss: 9270.7426 - acc: 0.0000e+00550068/550068 [==============================] - 61s 111us/step - loss: 9262.9687 - acc: 0.0000e+00\n",
      "Epoch 6/100\n",
      " 44800/550068 [=>............................] - ETA: 56s - loss: 9251.2525 - acc: 0.0000e+00550068/550068 [==============================] - 61s 111us/step - loss: 9262.9687 - acc: 0.0000e+00\n",
      "Epoch 7/100\n",
      "421360/550068 [=====================>........] - ETA: 14s - loss: 9256.8286 - acc: 0.0000e+00550068/550068 [==============================] - 62s 113us/step - loss: 9262.9687 - acc: 0.0000e+00\n",
      "Epoch 8/100\n",
      "163080/550068 [=======>......................] - ETA: 42s - loss: 9273.5481 - acc: 0.0000e+00550068/550068 [==============================] - 61s 110us/step - loss: 9262.9687 - acc: 0.0000e+00\n",
      "Epoch 9/100\n",
      " 46610/550068 [=>............................] - ETA: 56s - loss: 9233.5680 - acc: 0.0000e+00550068/550068 [==============================] - 61s 110us/step - loss: 9262.9687 - acc: 0.0000e+00\n",
      "Epoch 10/100\n",
      "427940/550068 [======================>.......] - ETA: 13s - loss: 9260.0883 - acc: 0.0000e+00550068/550068 [==============================] - 61s 110us/step - loss: 9262.9687 - acc: 0.0000e+00\n",
      "Epoch 11/100\n",
      "167080/550068 [========>.....................] - ETA: 42s - loss: 9248.8403 - acc: 0.0000e+00550068/550068 [==============================] - 61s 110us/step - loss: 9262.9687 - acc: 0.0000e+00\n",
      "Epoch 12/100\n",
      " 46560/550068 [=>............................] - ETA: 56s - loss: 9301.5356 - acc: 0.0000e+00550068/550068 [==============================] - 61s 110us/step - loss: 9262.9687 - acc: 0.0000e+00\n",
      "Epoch 13/100\n",
      "426580/550068 [======================>.......] - ETA: 13s - loss: 9259.1216 - acc: 0.0000e+00550068/550068 [==============================] - 61s 111us/step - loss: 9262.9687 - acc: 0.0000e+00\n",
      "Epoch 14/100\n",
      "164270/550068 [=======>......................] - ETA: 42s - loss: 9263.1033 - acc: 0.0000e+00550068/550068 [==============================] - 61s 110us/step - loss: 9262.9687 - acc: 0.0000e+00\n",
      "Epoch 15/100\n",
      " 47410/550068 [=>............................] - ETA: 55s - loss: 9301.8092 - acc: 0.0000e+00550068/550068 [==============================] - 60s 110us/step - loss: 9262.9687 - acc: 0.0000e+00\n",
      "Epoch 16/100\n",
      "423620/550068 [======================>.......] - ETA: 14s - loss: 9259.2591 - acc: 0.0000e+00550068/550068 [==============================] - 61s 111us/step - loss: 9262.9687 - acc: 0.0000e+00\n",
      "Epoch 17/100\n",
      "159870/550068 [=======>......................] - ETA: 44s - loss: 9277.8862 - acc: 0.0000e+00550068/550068 [==============================] - 62s 112us/step - loss: 9262.9687 - acc: 0.0000e+00\n",
      "Epoch 18/100\n",
      " 39710/550068 [=>............................] - ETA: 58s - loss: 9241.5351 - acc: 0.0000e+00528060/550068 [===========================>..] - ETA: 2s - loss: 9263.8424 - acc: 0.0000e+00550068/550068 [==============================] - 62s 112us/step - loss: 9262.9687 - acc: 0.0000e+00\n",
      "Epoch 19/100\n",
      "207830/550068 [==========>...................] - ETA: 38s - loss: 9241.2682 - acc: 0.0000e+00550068/550068 [==============================] - 61s 111us/step - loss: 9262.9687 - acc: 0.0000e+00\n",
      "Epoch 20/100\n",
      " 65880/550068 [==>...........................] - ETA: 53s - loss: 9265.0957 - acc: 0.0000e+00550068/550068 [==============================] - 61s 111us/step - loss: 9262.9687 - acc: 0.0000e+00\n",
      "Epoch 21/100\n",
      "    10/550068 [..............................] - ETA: 45:07 - loss: 11437.7002 - acc: 0.0000e+00550068/550068 [==============================] - 61s 110us/step - loss: 9262.9687 - acc: 0.0000e+00\n",
      "Epoch 22/100\n",
      "428710/550068 [======================>.......] - ETA: 13s - loss: 9262.0586 - acc: 0.0000e+00550068/550068 [==============================] - 61s 110us/step - loss: 9262.9687 - acc: 0.0000e+00\n",
      "Epoch 23/100\n",
      "165760/550068 [========>.....................] - ETA: 42s - loss: 9263.7836 - acc: 0.0000e+00550068/550068 [==============================] - 61s 110us/step - loss: 9262.9687 - acc: 0.0000e+00\n",
      "Epoch 24/100\n",
      " 48900/550068 [=>............................] - ETA: 55s - loss: 9261.3891 - acc: 0.0000e+00550068/550068 [==============================] - 60s 110us/step - loss: 9262.9687 - acc: 0.0000e+00\n",
      "Epoch 25/100\n",
      "425490/550068 [======================>.......] - ETA: 13s - loss: 9257.5270 - acc: 0.0000e+00550068/550068 [==============================] - 61s 111us/step - loss: 9262.9687 - acc: 0.0000e+00\n",
      "Epoch 26/100\n",
      "162800/550068 [=======>......................] - ETA: 42s - loss: 9258.0722 - acc: 0.0000e+00550068/550068 [==============================] - 61s 111us/step - loss: 9262.9687 - acc: 0.0000e+00\n",
      "Epoch 27/100\n",
      " 44240/550068 [=>............................] - ETA: 55s - loss: 9242.4613 - acc: 0.0000e+00550068/550068 [==============================] - 61s 111us/step - loss: 9262.9687 - acc: 0.0000e+00\n",
      "Epoch 28/100\n",
      "425120/550068 [======================>.......] - ETA: 13s - loss: 9263.5694 - acc: 0.0000e+00550068/550068 [==============================] - 61s 111us/step - loss: 9262.9687 - acc: 0.0000e+00\n",
      "Epoch 29/100\n",
      "163160/550068 [=======>......................] - ETA: 43s - loss: 9258.4940 - acc: 0.0000e+00550068/550068 [==============================] - 61s 111us/step - loss: 9262.9687 - acc: 0.0000e+00\n",
      "Epoch 30/100\n",
      " 44890/550068 [=>............................] - ETA: 56s - loss: 9260.6857 - acc: 0.0000e+00550068/550068 [==============================] - 61s 111us/step - loss: 9262.9687 - acc: 0.0000e+00\n",
      "Epoch 31/100\n",
      "428510/550068 [======================>.......] - ETA: 13s - loss: 9263.6301 - acc: 0.0000e+00550068/550068 [==============================] - 61s 111us/step - loss: 9262.9687 - acc: 0.0000e+00\n",
      "Epoch 32/100\n",
      "165380/550068 [========>.....................] - ETA: 42s - loss: 9258.6747 - acc: 0.0000e+00550068/550068 [==============================] - 61s 110us/step - loss: 9262.9687 - acc: 0.0000e+00\n",
      "Epoch 33/100\n",
      " 46400/550068 [=>............................] - ETA: 56s - loss: 9272.8747 - acc: 0.0000e+00550068/550068 [==============================] - 60s 110us/step - loss: 9262.9687 - acc: 0.0000e+00\n",
      "Epoch 34/100\n",
      "429540/550068 [======================>.......] - ETA: 13s - loss: 9257.8763 - acc: 0.0000e+00550068/550068 [==============================] - 61s 110us/step - loss: 9262.9687 - acc: 0.0000e+00\n",
      "Epoch 35/100\n",
      "167050/550068 [========>.....................]550068/550068 [==============================] - 61s 110us/step - loss: 9262.9687 - acc: 0.0000e+00\n",
      "Epoch 36/100\n",
      " 47520/550068 [=>............................] - ETA: 56s - loss: 9263.2012 - acc: 0.0000e+00550068/550068 [==============================] - 60s 110us/step - loss: 9262.9687 - acc: 0.0000e+00\n",
      "Epoch 37/100\n",
      "431900/550068 [======================>.......] - ETA: 12s - loss: 9267.3015 - acc: 0.0000e+00550068/550068 [==============================] - 61s 110us/step - loss: 9262.9687 - acc: 0.0000e+00\n",
      "Epoch 38/100\n",
      "169090/550068 [========>.....................] - ETA: 41s - loss: 9264.5111 - acc: 0.0000e+00550068/550068 [==============================] - 61s 110us/step - loss: 9262.9687 - acc: 0.0000e+00\n",
      "Epoch 39/100\n",
      " 48290/550068 [=>............................] - ETA: 56s - loss: 9224.9404 - acc: 0.0000e+00550068/550068 [==============================] - 61s 111us/step - loss: 9262.9687 - acc: 0.0000e+00\n",
      "Epoch 40/100\n",
      "430290/550068 [======================>.......] - ETA: 13s - loss: 9261.7471 - acc: 0.0000e+00550068/550068 [==============================] - 61s 110us/step - loss: 9262.9687 - acc: 0.0000e+00\n",
      "Epoch 41/100\n"
     ]
    },
    {
     "name": "stdout",
     "output_type": "stream",
     "text": [
      "166450/550068 [========>.....................] - ETA: 42s - loss: 9244.8435 - acc: 0.0000e+00550068/550068 [==============================] - 61s 110us/step - loss: 9262.9687 - acc: 0.0000e+00\n",
      "Epoch 42/100\n",
      " 46680/550068 [=>............................] - ETA: 55s - loss: 9251.1906 - acc: 0.0000e+00541970/550068 [============================>.] - ETA: 0s - loss: 9263.2309 - acc: 0.0000e+00550068/550068 [==============================] - 61s 110us/step - loss: 9262.9687 - acc: 0.0000e+00\n",
      "Epoch 43/100\n",
      "218230/550068 [==========>...................] - ETA: 36s - loss: 9270.0915 - acc: 0.0000e+00550068/550068 [==============================] - 61s 110us/step - loss: 9262.9687 - acc: 0.0000e+00\n",
      "Epoch 44/100\n",
      " 71660/550068 [==>...........................] - ETA: 52s - loss: 9277.2708 - acc: 0.0000e+00550068/550068 [==============================] - 61s 110us/step - loss: 9262.9687 - acc: 0.0000e+00\n",
      "Epoch 45/100\n",
      "  3600/550068 [..............................] - ETA: 1:09 - loss: 9345.8847 - acc: 0.0000e+00550068/550068 [==============================] - 61s 111us/step - loss: 9262.9687 - acc: 0.0000e+00\n",
      "Epoch 46/100\n",
      "429070/550068 [======================>.......] - ETA: 13s - loss: 9260.9712 - acc: 0.0000e+00550068/550068 [==============================] - 61s 111us/step - loss: 9262.9687 - acc: 0.0000e+00\n",
      "Epoch 47/100\n",
      "164330/550068 [=======>......................] - ETA: 42s - loss: 9269.8010 - acc: 0.0000e+00550068/550068 [==============================] - 61s 111us/step - loss: 9262.9687 - acc: 0.0000e+00\n",
      "Epoch 48/100\n",
      " 44020/550068 [=>............................] - ETA: 57s - loss: 9294.8895 - acc: 0.0000e+00550068/550068 [==============================] - 62s 113us/step - loss: 9262.9687 - acc: 0.0000e+00\n",
      "Epoch 49/100\n",
      "422660/550068 [======================>.......] - ETA: 14s - loss: 9269.4064 - acc: 0.0000e+00550068/550068 [==============================] - 62s 112us/step - loss: 9262.9687 - acc: 0.0000e+00\n",
      "Epoch 50/100\n",
      "157180/550068 [=======>......................] - ETA: 44s - loss: 9273.8553 - acc: 0.0000e+00550068/550068 [==============================] - 63s 114us/step - loss: 9262.9687 - acc: 0.0000e+00\n",
      "Epoch 51/100\n",
      " 35810/550068 [>.............................] - ETA: 58s - loss: 9263.3205 - acc: 0.0000e+00550068/550068 [==============================] - 62s 112us/step - loss: 9262.9687 - acc: 0.0000e+00\n",
      "Epoch 52/100\n",
      "422060/550068 [======================>.......] - ETA: 14s - loss: 9266.1800 - acc: 0.0000e+00550068/550068 [==============================] - 61s 111us/step - loss: 9262.9687 - acc: 0.0000e+00\n",
      "Epoch 53/100\n",
      "160660/550068 [=======>......................] - ETA: 43s - loss: 9284.7849 - acc: 0.0000e+00550068/550068 [==============================] - 61s 112us/step - loss: 9262.9687 - acc: 0.0000e+00\n",
      "Epoch 54/100\n",
      " 42390/550068 [=>............................] - ETA: 58s - loss: 9283.2127 - acc: 0.0000e+00550068/550068 [==============================] - 61s 111us/step - loss: 9262.9687 - acc: 0.0000e+00\n",
      "Epoch 55/100\n",
      "424360/550068 [======================>.......] - ETA: 14s - loss: 9260.4692 - acc: 0.0000e+00550068/550068 [==============================] - 61s 112us/step - loss: 9262.9687 - acc: 0.0000e+00\n",
      "Epoch 56/100\n",
      "159970/550068 [=======>......................] - ETA: 43s - loss: 9259.5312 - acc: 0.0000e+00550068/550068 [==============================] - 62s 112us/step - loss: 9262.9687 - acc: 0.0000e+00\n",
      "Epoch 57/100\n",
      " 41310/550068 [=>............................] - ETA: 58s - loss: 9255.7904 - acc: 0.0000e+00550068/550068 [==============================] - 61s 112us/step - loss: 9262.9687 - acc: 0.0000e+00\n",
      "Epoch 58/100\n",
      "420900/550068 [=====================>........] - ETA: 14s - loss: 9257.6951 - acc: 0.0000e+00550068/550068 [==============================] - 62s 112us/step - loss: 9262.9687 - acc: 0.0000e+00\n",
      "Epoch 59/100\n",
      "159390/550068 [=======>......................] - ETA: 43s - loss: 9257.1492 - acc: 0.0000e+00550068/550068 [==============================] - 61s 112us/step - loss: 9262.9687 - acc: 0.0000e+00\n",
      "Epoch 60/100\n",
      " 40310/550068 [=>............................] - ETA: 57s - loss: 9215.9956 - acc: 0.0000e+00550068/550068 [==============================] - 61s 111us/step - loss: 9262.9687 - acc: 0.0000e+00\n",
      "Epoch 61/100\n",
      "427130/550068 [======================>.......] - ETA: 13s - loss: 9263.5675 - acc: 0.0000e+00550068/550068 [==============================] - 61s 111us/step - loss: 9262.9687 - acc: 0.0000e+00\n",
      "Epoch 62/100\n",
      "159900/550068 [=======>......................] - ETA: 44s - loss: 9268.3278 - acc: 0.0000e+00550068/550068 [==============================] - 61s 112us/step - loss: 9262.9687 - acc: 0.0000e+00\n",
      "Epoch 63/100\n",
      " 43570/550068 [=>............................] - ETA: 55s - loss: 9240.3467 - acc: 0.0000e+00550068/550068 [==============================] - 61s 112us/step - loss: 9262.9687 - acc: 0.0000e+00\n",
      "Epoch 64/100\n",
      "418220/550068 [=====================>........] - ETA: 14s - loss: 9262.7514 - acc: 0.0000e+00550068/550068 [==============================] - 62s 112us/step - loss: 9262.9687 - acc: 0.0000e+00\n",
      "Epoch 65/100\n",
      "157780/550068 [=======>......................] - ETA: 44s - loss: 9259.5688 - acc: 0.0000e+00550068/550068 [==============================] - 61s 111us/step - loss: 9262.9687 - acc: 0.0000e+00\n",
      "Epoch 66/100\n",
      " 43890/550068 [=>............................] - ETA: 56s - loss: 9326.8145 - acc: 0.0000e+00550068/550068 [==============================] - 61s 110us/step - loss: 9262.9687 - acc: 0.0000e+00\n",
      "Epoch 67/100\n",
      "427370/550068 [======================>.......] - ETA: 13s - loss: 9259.8957 - acc: 0.0000e+00550068/550068 [==============================] - 61s 111us/step - loss: 9262.9687 - acc: 0.0000e+00\n",
      "Epoch 68/100\n",
      "163010/550068 [=======>......................] - ETA: 43s - loss: 9287.6000 - acc: 0.0000e+00550068/550068 [==============================] - 61s 110us/step - loss: 9262.9687 - acc: 0.0000e+00\n",
      "Epoch 69/100\n",
      " 47860/550068 [=>............................] - ETA: 55s - loss: 9287.7587 - acc: 0.0000e+00550068/550068 [==============================] - 61s 110us/step - loss: 9262.9687 - acc: 0.0000e+00\n",
      "Epoch 70/100\n",
      "429120/550068 [======================>.......] - ETA: 13s - loss: 9260.3780 - acc: 0.0000e+00550068/550068 [==============================] - 61s 111us/step - loss: 9262.9687 - acc: 0.0000e+00\n",
      "Epoch 71/100\n",
      "166660/550068 [========>.....................] - ETA: 42s - loss: 9259.5003 - acc: 0.0000e+00550068/550068 [==============================] - 61s 111us/step - loss: 9262.9687 - acc: 0.0000e+00\n",
      "Epoch 72/100\n",
      " 46150/550068 [=>............................] - ETA: 56s - loss: 9270.7979 - acc: 0.0000e+00550068/550068 [==============================] - 61s 111us/step - loss: 9262.9687 - acc: 0.0000e+00\n",
      "Epoch 73/100\n",
      "427430/550068 [======================>.......] - ETA: 13s - loss: 9264.7028 - acc: 0.0000e+00550068/550068 [==============================] - 61s 111us/step - loss: 9262.9687 - acc: 0.0000e+00\n",
      "Epoch 74/100\n",
      "161430/550068 [=======>......................] - ETA: 43s - loss: 9274.2314 - acc: 0.0000e+00550068/550068 [==============================] - 61s 111us/step - loss: 9262.9687 - acc: 0.0000e+00\n",
      "Epoch 75/100\n",
      " 43500/550068 [=>............................] - ETA: 56s - loss: 9280.3759 - acc: 0.0000e+00550068/550068 [==============================] - 61s 112us/step - loss: 9262.9687 - acc: 0.0000e+00\n",
      "Epoch 76/100\n",
      "428040/550068 [======================>.......] - ETA: 13s - loss: 9262.2637 - acc: 0.0000e+00550068/550068 [==============================] - 61s 111us/step - loss: 9262.9687 - acc: 0.0000e+00\n",
      "Epoch 77/100\n",
      "165050/550068 [========>.....................] - ETA: 42s - loss: 9261.0735 - acc: 0.0000e+00550068/550068 [==============================] - 61s 110us/step - loss: 9262.9687 - acc: 0.0000e+00\n",
      "Epoch 78/100\n",
      " 47320/550068 [=>............................] - ETA: 56s - loss: 9259.7965 - acc: 0.0000e+00550068/550068 [==============================] - 61s 110us/step - loss: 9262.9687 - acc: 0.0000e+00\n",
      "Epoch 79/100\n",
      "427860/550068 [======================>.......] - ETA: 13s - loss: 9260.0350 - acc: 0.0000e+00550068/550068 [==============================] - 60s 110us/step - loss: 9262.9687 - acc: 0.0000e+00\n",
      "Epoch 80/100\n"
     ]
    },
    {
     "name": "stdout",
     "output_type": "stream",
     "text": [
      "165260/550068 [========>.....................] - ETA: 42s - loss: 9273.2677 - acc: 0.0000e+00550068/550068 [==============================] - 61s 110us/step - loss: 9262.9687 - acc: 0.0000e+00\n",
      "Epoch 81/100\n",
      " 46950/550068 [=>............................] - ETA: 55s - loss: 9269.8243 - acc: 0.0000e+00550068/550068 [==============================] - 61s 111us/step - loss: 9262.9687 - acc: 0.0000e+00\n",
      "Epoch 82/100\n",
      "432010/550068 [======================>.......] - ETA: 12s - loss: 9263.1022 - acc: 0.0000e+00550068/550068 [==============================] - 61s 110us/step - loss: 9262.9687 - acc: 0.0000e+00\n",
      "Epoch 83/100\n",
      "165860/550068 [========>.....................] - ETA: 42s - loss: 9242.9428 - acc: 0.0000e+00550068/550068 [==============================] - 61s 110us/step - loss: 9262.9687 - acc: 0.0000e+00\n",
      "Epoch 84/100\n",
      " 45330/550068 [=>............................] - ETA: 55s - loss: 9237.5668 - acc: 0.0000e+00550068/550068 [==============================] - 60s 110us/step - loss: 9262.9687 - acc: 0.0000e+00\n",
      "Epoch 85/100\n",
      "430250/550068 [======================>.......] - ETA: 13s - loss: 9265.7479 - acc: 0.0000e+00550068/550068 [==============================] - 60s 110us/step - loss: 9262.9687 - acc: 0.0000e+00\n",
      "Epoch 86/100\n",
      "167610/550068 [========>.....................] - ETA: 42s - loss: 9266.7545 - acc: 0.0000e+00550068/550068 [==============================] - 61s 111us/step - loss: 9262.9687 - acc: 0.0000e+00\n",
      "Epoch 87/100\n",
      " 45270/550068 [=>............................] - ETA: 57s - loss: 9272.5210 - acc: 0.0000e+00550068/550068 [==============================] - 61s 111us/step - loss: 9262.9687 - acc: 0.0000e+00\n",
      "Epoch 88/100\n",
      "428430/550068 [======================>.......] - ETA: 13s - loss: 9265.1288 - acc: 0.0000e+00550068/550068 [==============================] - 61s 110us/step - loss: 9262.9687 - acc: 0.0000e+00\n",
      "Epoch 89/100\n",
      "162950/550068 [=======>......................] - ETA: 43s - loss: 9267.0021 - acc: 0.0000e+00550068/550068 [==============================] - 61s 111us/step - loss: 9262.9687 - acc: 0.0000e+00\n",
      "Epoch 90/100\n",
      " 45510/550068 [=>............................] - ETA: 55s - loss: 9258.2865 - acc: 0.0000e+00550068/550068 [==============================] - 61s 111us/step - loss: 9262.9687 - acc: 0.0000e+00\n",
      "Epoch 91/100\n",
      "426690/550068 [======================>.......] - ETA: 13s - loss: 9266.4164 - acc: 0.0000e+00550068/550068 [==============================] - 61s 110us/step - loss: 9262.9687 - acc: 0.0000e+00\n",
      "Epoch 92/100\n",
      "165990/550068 [========>.....................] - ETA: 42s - loss: 9263.8386 - acc: 0.0000e+00550068/550068 [==============================] - 61s 110us/step - loss: 9262.9687 - acc: 0.0000e+00\n",
      "Epoch 93/100\n",
      " 48610/550068 [=>............................] - ETA: 55s - loss: 9262.4832 - acc: 0.0000e+00550068/550068 [==============================] - 60s 110us/step - loss: 9262.9687 - acc: 0.0000e+00\n",
      "Epoch 94/100\n",
      "426130/550068 [======================>.......] - ETA: 13s - loss: 9263.2590 - acc: 0.0000e+00550068/550068 [==============================] - 61s 110us/step - loss: 9262.9687 - acc: 0.0000e+00\n",
      "Epoch 95/100\n",
      "164050/550068 [=======>......................] - ETA: 42s - loss: 9255.9357 - acc: 0.0000e+00550068/550068 [==============================] - 61s 111us/step - loss: 9262.9687 - acc: 0.0000e+00\n",
      "Epoch 96/100\n",
      " 44570/550068 [=>............................] - ETA: 56s - loss: 9258.2063 - acc: 0.0000e+00550068/550068 [==============================] - 61s 112us/step - loss: 9262.9687 - acc: 0.0000e+00\n",
      "Epoch 97/100\n",
      "427220/550068 [======================>.......] - ETA: 13s - loss: 9265.4906 - acc: 0.0000e+00550068/550068 [==============================] - 61s 110us/step - loss: 9262.9687 - acc: 0.0000e+00\n",
      "Epoch 98/100\n",
      "165170/550068 [========>.....................] - ETA: 42s - loss: 9250.6149 - acc: 0.0000e+00550068/550068 [==============================] - 61s 110us/step - loss: 9262.9687 - acc: 0.0000e+00\n",
      "Epoch 99/100\n",
      " 46840/550068 [=>............................] - ETA: 57s - loss: 9245.7813 - acc: 0.0000e+00550068/550068 [==============================] - 61s 111us/step - loss: 9262.9687 - acc: 0.0000e+00\n",
      "Epoch 100/100\n",
      "418770/550068 [=====================>........] - ETA: 14s - loss: 9260.8666 - acc: 0.0000e+00550068/550068 [==============================] - 61s 111us/step - loss: 9262.9687 - acc: 0.0000e+00\n"
     ]
    },
    {
     "data": {
      "text/plain": [
       "<keras.callbacks.History at 0x7f66d0307d90>"
      ]
     },
     "execution_count": 82,
     "metadata": {
      "tags": []
     },
     "output_type": "execute_result"
    }
   ],
   "source": [
    "classifier.fit(X_train, y_train, batch_size = 10, nb_epoch = 100)"
   ]
  },
  {
   "cell_type": "code",
   "execution_count": 90,
   "metadata": {
    "colab": {
     "autoexec": {
      "startup": false,
      "wait_interval": 0
     },
     "base_uri": "https://localhost:8080/",
     "height": 520,
     "output_extras": [
      {
       "item_id": 1
      }
     ]
    },
    "colab_type": "code",
    "executionInfo": {
     "elapsed": 868,
     "status": "error",
     "timestamp": 1515275828043,
     "user": {
      "displayName": "MalliKarjun Namagiri",
      "photoUrl": "//lh6.googleusercontent.com/-P9BYex3S098/AAAAAAAAAAI/AAAAAAAAAb8/1pQ09fHEnoo/s50-c-k-no/photo.jpg",
      "userId": "105053389068996960187"
     },
     "user_tz": -330
    },
    "id": "j_cHuNFUa6lw",
    "outputId": "6f970586-7c08-46ef-fc9d-2836f5f3680a"
   },
   "outputs": [
    {
     "ename": "ValueError",
     "evalue": "ignored",
     "output_type": "error",
     "traceback": [
      "\u001b[0;31m\u001b[0m",
      "\u001b[0;31mValueError\u001b[0mTraceback (most recent call last)",
      "\u001b[0;32m<ipython-input-90-8b148b5c30be>\u001b[0m in \u001b[0;36m<module>\u001b[0;34m()\u001b[0m\n\u001b[0;32m----> 1\u001b[0;31m \u001b[0mclassifier\u001b[0m\u001b[0;34m.\u001b[0m\u001b[0mpredict\u001b[0m\u001b[0;34m(\u001b[0m\u001b[0msc_X\u001b[0m\u001b[0;34m.\u001b[0m\u001b[0mfit_transform\u001b[0m\u001b[0;34m(\u001b[0m\u001b[0mX_test\u001b[0m\u001b[0;34m)\u001b[0m\u001b[0;34m)\u001b[0m\u001b[0;34m\u001b[0m\u001b[0m\n\u001b[0m",
      "\u001b[0;32m/usr/local/lib/python2.7/dist-packages/keras/models.pyc\u001b[0m in \u001b[0;36mpredict\u001b[0;34m(self, x, batch_size, verbose)\u001b[0m\n\u001b[1;32m   1004\u001b[0m         \u001b[0;32mif\u001b[0m \u001b[0;32mnot\u001b[0m \u001b[0mself\u001b[0m\u001b[0;34m.\u001b[0m\u001b[0mbuilt\u001b[0m\u001b[0;34m:\u001b[0m\u001b[0;34m\u001b[0m\u001b[0m\n\u001b[1;32m   1005\u001b[0m             \u001b[0mself\u001b[0m\u001b[0;34m.\u001b[0m\u001b[0mbuild\u001b[0m\u001b[0;34m(\u001b[0m\u001b[0;34m)\u001b[0m\u001b[0;34m\u001b[0m\u001b[0m\n\u001b[0;32m-> 1006\u001b[0;31m         \u001b[0;32mreturn\u001b[0m \u001b[0mself\u001b[0m\u001b[0;34m.\u001b[0m\u001b[0mmodel\u001b[0m\u001b[0;34m.\u001b[0m\u001b[0mpredict\u001b[0m\u001b[0;34m(\u001b[0m\u001b[0mx\u001b[0m\u001b[0;34m,\u001b[0m \u001b[0mbatch_size\u001b[0m\u001b[0;34m=\u001b[0m\u001b[0mbatch_size\u001b[0m\u001b[0;34m,\u001b[0m \u001b[0mverbose\u001b[0m\u001b[0;34m=\u001b[0m\u001b[0mverbose\u001b[0m\u001b[0;34m)\u001b[0m\u001b[0;34m\u001b[0m\u001b[0m\n\u001b[0m\u001b[1;32m   1007\u001b[0m \u001b[0;34m\u001b[0m\u001b[0m\n\u001b[1;32m   1008\u001b[0m     \u001b[0;32mdef\u001b[0m \u001b[0mpredict_on_batch\u001b[0m\u001b[0;34m(\u001b[0m\u001b[0mself\u001b[0m\u001b[0;34m,\u001b[0m \u001b[0mx\u001b[0m\u001b[0;34m)\u001b[0m\u001b[0;34m:\u001b[0m\u001b[0;34m\u001b[0m\u001b[0m\n",
      "\u001b[0;32m/usr/local/lib/python2.7/dist-packages/keras/engine/training.pyc\u001b[0m in \u001b[0;36mpredict\u001b[0;34m(self, x, batch_size, verbose, steps)\u001b[0m\n\u001b[1;32m   1770\u001b[0m         x = _standardize_input_data(x, self._feed_input_names,\n\u001b[1;32m   1771\u001b[0m                                     \u001b[0mself\u001b[0m\u001b[0;34m.\u001b[0m\u001b[0m_feed_input_shapes\u001b[0m\u001b[0;34m,\u001b[0m\u001b[0;34m\u001b[0m\u001b[0m\n\u001b[0;32m-> 1772\u001b[0;31m                                     check_batch_axis=False)\n\u001b[0m\u001b[1;32m   1773\u001b[0m         \u001b[0;32mif\u001b[0m \u001b[0mself\u001b[0m\u001b[0;34m.\u001b[0m\u001b[0mstateful\u001b[0m\u001b[0;34m:\u001b[0m\u001b[0;34m\u001b[0m\u001b[0m\n\u001b[1;32m   1774\u001b[0m             \u001b[0;32mif\u001b[0m \u001b[0mx\u001b[0m\u001b[0;34m[\u001b[0m\u001b[0;36m0\u001b[0m\u001b[0;34m]\u001b[0m\u001b[0;34m.\u001b[0m\u001b[0mshape\u001b[0m\u001b[0;34m[\u001b[0m\u001b[0;36m0\u001b[0m\u001b[0;34m]\u001b[0m \u001b[0;34m>\u001b[0m \u001b[0mbatch_size\u001b[0m \u001b[0;32mand\u001b[0m \u001b[0mx\u001b[0m\u001b[0;34m[\u001b[0m\u001b[0;36m0\u001b[0m\u001b[0;34m]\u001b[0m\u001b[0;34m.\u001b[0m\u001b[0mshape\u001b[0m\u001b[0;34m[\u001b[0m\u001b[0;36m0\u001b[0m\u001b[0;34m]\u001b[0m \u001b[0;34m%\u001b[0m \u001b[0mbatch_size\u001b[0m \u001b[0;34m!=\u001b[0m \u001b[0;36m0\u001b[0m\u001b[0;34m:\u001b[0m\u001b[0;34m\u001b[0m\u001b[0m\n",
      "\u001b[0;32m/usr/local/lib/python2.7/dist-packages/keras/engine/training.pyc\u001b[0m in \u001b[0;36m_standardize_input_data\u001b[0;34m(data, names, shapes, check_batch_axis, exception_prefix)\u001b[0m\n\u001b[1;32m    151\u001b[0m                             \u001b[0;34m' to have shape '\u001b[0m \u001b[0;34m+\u001b[0m \u001b[0mstr\u001b[0m\u001b[0;34m(\u001b[0m\u001b[0mshapes\u001b[0m\u001b[0;34m[\u001b[0m\u001b[0mi\u001b[0m\u001b[0;34m]\u001b[0m\u001b[0;34m)\u001b[0m \u001b[0;34m+\u001b[0m\u001b[0;34m\u001b[0m\u001b[0m\n\u001b[1;32m    152\u001b[0m                             \u001b[0;34m' but got array with shape '\u001b[0m \u001b[0;34m+\u001b[0m\u001b[0;34m\u001b[0m\u001b[0m\n\u001b[0;32m--> 153\u001b[0;31m                             str(array.shape))\n\u001b[0m\u001b[1;32m    154\u001b[0m     \u001b[0;32mreturn\u001b[0m \u001b[0marrays\u001b[0m\u001b[0;34m\u001b[0m\u001b[0m\n\u001b[1;32m    155\u001b[0m \u001b[0;34m\u001b[0m\u001b[0m\n",
      "\u001b[0;31mValueError\u001b[0m: Error when checking : expected dense_1_input to have shape (None, 28) but got array with shape (233599, 27)"
     ]
    }
   ],
   "source": [
    "classifier.predict(sc_X.fit_transform(X_test))"
   ]
  },
  {
   "cell_type": "code",
   "execution_count": 99,
   "metadata": {
    "colab": {
     "autoexec": {
      "startup": false,
      "wait_interval": 0
     },
     "base_uri": "https://localhost:8080/",
     "height": 520,
     "output_extras": [
      {
       "item_id": 1
      }
     ]
    },
    "colab_type": "code",
    "executionInfo": {
     "elapsed": 829,
     "status": "error",
     "timestamp": 1515276463595,
     "user": {
      "displayName": "MalliKarjun Namagiri",
      "photoUrl": "//lh6.googleusercontent.com/-P9BYex3S098/AAAAAAAAAAI/AAAAAAAAAb8/1pQ09fHEnoo/s50-c-k-no/photo.jpg",
      "userId": "105053389068996960187"
     },
     "user_tz": -330
    },
    "id": "NL1mZJPreWuu",
    "outputId": "3ba18757-8b6a-4382-98b0-61363ade4071"
   },
   "outputs": [
    {
     "ename": "ValueError",
     "evalue": "ignored",
     "output_type": "error",
     "traceback": [
      "\u001b[0;31m\u001b[0m",
      "\u001b[0;31mValueError\u001b[0mTraceback (most recent call last)",
      "\u001b[0;32m<ipython-input-99-20469ee708c2>\u001b[0m in \u001b[0;36m<module>\u001b[0;34m()\u001b[0m\n\u001b[0;32m----> 1\u001b[0;31m \u001b[0my_pred\u001b[0m \u001b[0;34m=\u001b[0m \u001b[0mclassifier\u001b[0m\u001b[0;34m.\u001b[0m\u001b[0mpredict\u001b[0m\u001b[0;34m(\u001b[0m\u001b[0mX_test\u001b[0m\u001b[0;34m)\u001b[0m\u001b[0;34m\u001b[0m\u001b[0m\n\u001b[0m",
      "\u001b[0;32m/usr/local/lib/python2.7/dist-packages/keras/models.pyc\u001b[0m in \u001b[0;36mpredict\u001b[0;34m(self, x, batch_size, verbose)\u001b[0m\n\u001b[1;32m   1004\u001b[0m         \u001b[0;32mif\u001b[0m \u001b[0;32mnot\u001b[0m \u001b[0mself\u001b[0m\u001b[0;34m.\u001b[0m\u001b[0mbuilt\u001b[0m\u001b[0;34m:\u001b[0m\u001b[0;34m\u001b[0m\u001b[0m\n\u001b[1;32m   1005\u001b[0m             \u001b[0mself\u001b[0m\u001b[0;34m.\u001b[0m\u001b[0mbuild\u001b[0m\u001b[0;34m(\u001b[0m\u001b[0;34m)\u001b[0m\u001b[0;34m\u001b[0m\u001b[0m\n\u001b[0;32m-> 1006\u001b[0;31m         \u001b[0;32mreturn\u001b[0m \u001b[0mself\u001b[0m\u001b[0;34m.\u001b[0m\u001b[0mmodel\u001b[0m\u001b[0;34m.\u001b[0m\u001b[0mpredict\u001b[0m\u001b[0;34m(\u001b[0m\u001b[0mx\u001b[0m\u001b[0;34m,\u001b[0m \u001b[0mbatch_size\u001b[0m\u001b[0;34m=\u001b[0m\u001b[0mbatch_size\u001b[0m\u001b[0;34m,\u001b[0m \u001b[0mverbose\u001b[0m\u001b[0;34m=\u001b[0m\u001b[0mverbose\u001b[0m\u001b[0;34m)\u001b[0m\u001b[0;34m\u001b[0m\u001b[0m\n\u001b[0m\u001b[1;32m   1007\u001b[0m \u001b[0;34m\u001b[0m\u001b[0m\n\u001b[1;32m   1008\u001b[0m     \u001b[0;32mdef\u001b[0m \u001b[0mpredict_on_batch\u001b[0m\u001b[0;34m(\u001b[0m\u001b[0mself\u001b[0m\u001b[0;34m,\u001b[0m \u001b[0mx\u001b[0m\u001b[0;34m)\u001b[0m\u001b[0;34m:\u001b[0m\u001b[0;34m\u001b[0m\u001b[0m\n",
      "\u001b[0;32m/usr/local/lib/python2.7/dist-packages/keras/engine/training.pyc\u001b[0m in \u001b[0;36mpredict\u001b[0;34m(self, x, batch_size, verbose, steps)\u001b[0m\n\u001b[1;32m   1770\u001b[0m         x = _standardize_input_data(x, self._feed_input_names,\n\u001b[1;32m   1771\u001b[0m                                     \u001b[0mself\u001b[0m\u001b[0;34m.\u001b[0m\u001b[0m_feed_input_shapes\u001b[0m\u001b[0;34m,\u001b[0m\u001b[0;34m\u001b[0m\u001b[0m\n\u001b[0;32m-> 1772\u001b[0;31m                                     check_batch_axis=False)\n\u001b[0m\u001b[1;32m   1773\u001b[0m         \u001b[0;32mif\u001b[0m \u001b[0mself\u001b[0m\u001b[0;34m.\u001b[0m\u001b[0mstateful\u001b[0m\u001b[0;34m:\u001b[0m\u001b[0;34m\u001b[0m\u001b[0m\n\u001b[1;32m   1774\u001b[0m             \u001b[0;32mif\u001b[0m \u001b[0mx\u001b[0m\u001b[0;34m[\u001b[0m\u001b[0;36m0\u001b[0m\u001b[0;34m]\u001b[0m\u001b[0;34m.\u001b[0m\u001b[0mshape\u001b[0m\u001b[0;34m[\u001b[0m\u001b[0;36m0\u001b[0m\u001b[0;34m]\u001b[0m \u001b[0;34m>\u001b[0m \u001b[0mbatch_size\u001b[0m \u001b[0;32mand\u001b[0m \u001b[0mx\u001b[0m\u001b[0;34m[\u001b[0m\u001b[0;36m0\u001b[0m\u001b[0;34m]\u001b[0m\u001b[0;34m.\u001b[0m\u001b[0mshape\u001b[0m\u001b[0;34m[\u001b[0m\u001b[0;36m0\u001b[0m\u001b[0;34m]\u001b[0m \u001b[0;34m%\u001b[0m \u001b[0mbatch_size\u001b[0m \u001b[0;34m!=\u001b[0m \u001b[0;36m0\u001b[0m\u001b[0;34m:\u001b[0m\u001b[0;34m\u001b[0m\u001b[0m\n",
      "\u001b[0;32m/usr/local/lib/python2.7/dist-packages/keras/engine/training.pyc\u001b[0m in \u001b[0;36m_standardize_input_data\u001b[0;34m(data, names, shapes, check_batch_axis, exception_prefix)\u001b[0m\n\u001b[1;32m    151\u001b[0m                             \u001b[0;34m' to have shape '\u001b[0m \u001b[0;34m+\u001b[0m \u001b[0mstr\u001b[0m\u001b[0;34m(\u001b[0m\u001b[0mshapes\u001b[0m\u001b[0;34m[\u001b[0m\u001b[0mi\u001b[0m\u001b[0;34m]\u001b[0m\u001b[0;34m)\u001b[0m \u001b[0;34m+\u001b[0m\u001b[0;34m\u001b[0m\u001b[0m\n\u001b[1;32m    152\u001b[0m                             \u001b[0;34m' but got array with shape '\u001b[0m \u001b[0;34m+\u001b[0m\u001b[0;34m\u001b[0m\u001b[0m\n\u001b[0;32m--> 153\u001b[0;31m                             str(array.shape))\n\u001b[0m\u001b[1;32m    154\u001b[0m     \u001b[0;32mreturn\u001b[0m \u001b[0marrays\u001b[0m\u001b[0;34m\u001b[0m\u001b[0m\n\u001b[1;32m    155\u001b[0m \u001b[0;34m\u001b[0m\u001b[0m\n",
      "\u001b[0;31mValueError\u001b[0m: Error when checking : expected dense_1_input to have shape (None, 28) but got array with shape (233599, 27)"
     ]
    }
   ],
   "source": [
    "y_pred = classifier.predict(X_test)"
   ]
  }
 ],
 "metadata": {
  "colab": {
   "collapsed_sections": [],
   "default_view": {},
   "name": "DL_BlackFriday.ipynb",
   "provenance": [],
   "version": "0.3.2",
   "views": {}
  },
  "kernelspec": {
   "display_name": "Python 2",
   "name": "python2"
  }
 },
 "nbformat": 4,
 "nbformat_minor": 1
}
