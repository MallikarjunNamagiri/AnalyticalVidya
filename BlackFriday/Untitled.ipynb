{
 "cells": [
  {
   "cell_type": "code",
   "execution_count": 1,
   "metadata": {
    "collapsed": true
   },
   "outputs": [],
   "source": [
    "# Importing the libraries\n",
    "import numpy as np\n",
    "import matplotlib.pyplot as plt\n",
    "import pandas as pd"
   ]
  },
  {
   "cell_type": "code",
   "execution_count": 15,
   "metadata": {
    "collapsed": true
   },
   "outputs": [],
   "source": [
    "# Importing the dataset\n",
    "train_df = pd.read_csv('train.csv')\n",
    "test = pd.read_csv('test.csv')"
   ]
  },
  {
   "cell_type": "code",
   "execution_count": 16,
   "metadata": {},
   "outputs": [
    {
     "data": {
      "text/plain": [
       "\"\\nfulldata['Product_Category_2'] = fulldata['Product_Category_2'].fillna(fulldata['Product_Category_2'].mean())\\nfulldata['Product_Category_3'] = fulldata['Product_Category_3'].fillna(fulldata['Product_Category_3'].mean())\""
      ]
     },
     "execution_count": 16,
     "metadata": {},
     "output_type": "execute_result"
    }
   ],
   "source": [
    "#handling the missing values in Product_Category_2 &3 variables\n",
    "train_df['Product_Category_2'] = train_df['Product_Category_2'].fillna(train_df['Product_Category_2'].mean())\n",
    "train_df['Product_Category_3'] = train_df['Product_Category_3'].fillna(train_df['Product_Category_3'].mean())\n",
    "\n",
    "test['Product_Category_2'] = test['Product_Category_2'].fillna(test['Product_Category_2'].mean())\n",
    "test['Product_Category_3'] = test['Product_Category_3'].fillna(test['Product_Category_3'].mean())\n",
    "'''\n",
    "fulldata['Product_Category_2'] = fulldata['Product_Category_2'].fillna(fulldata['Product_Category_2'].mean())\n",
    "fulldata['Product_Category_3'] = fulldata['Product_Category_3'].fillna(fulldata['Product_Category_3'].mean())'''"
   ]
  },
  {
   "cell_type": "code",
   "execution_count": 17,
   "metadata": {},
   "outputs": [
    {
     "data": {
      "text/plain": [
       "User_ID                       False\n",
       "Product_ID                    False\n",
       "Gender                        False\n",
       "Age                           False\n",
       "Occupation                    False\n",
       "City_Category                 False\n",
       "Stay_In_Current_City_Years    False\n",
       "Marital_Status                False\n",
       "Product_Category_1            False\n",
       "Product_Category_2            False\n",
       "Product_Category_3            False\n",
       "Purchase                      False\n",
       "dtype: bool"
      ]
     },
     "execution_count": 17,
     "metadata": {},
     "output_type": "execute_result"
    }
   ],
   "source": [
    "train_df.isnull().any()"
   ]
  },
  {
   "cell_type": "code",
   "execution_count": 18,
   "metadata": {},
   "outputs": [],
   "source": [
    "X = train_df.drop(['Purchase'], axis=1).values\n",
    "y = train_df.iloc[:, 11].values"
   ]
  },
  {
   "cell_type": "code",
   "execution_count": 19,
   "metadata": {},
   "outputs": [
    {
     "name": "stdout",
     "output_type": "stream",
     "text": [
      "[[1000001 'P00069042' 'F' ..., 3 9.842329251122386 12.668243206790512]\n",
      " [1000001 'P00248942' 'F' ..., 1 6.0 14.0]\n",
      " [1000001 'P00087842' 'F' ..., 12 9.842329251122386 12.668243206790512]\n",
      " ..., \n",
      " [1006036 'P00375436' 'F' ..., 20 9.842329251122386 12.668243206790512]\n",
      " [1006038 'P00375436' 'F' ..., 20 9.842329251122386 12.668243206790512]\n",
      " [1006039 'P00371644' 'F' ..., 20 9.842329251122386 12.668243206790512]]\n"
     ]
    }
   ],
   "source": [
    "print(X)"
   ]
  },
  {
   "cell_type": "code",
   "execution_count": null,
   "metadata": {
    "collapsed": true
   },
   "outputs": [],
   "source": []
  }
 ],
 "metadata": {
  "kernelspec": {
   "display_name": "Python 3",
   "language": "python",
   "name": "python3"
  },
  "language_info": {
   "codemirror_mode": {
    "name": "ipython",
    "version": 3
   },
   "file_extension": ".py",
   "mimetype": "text/x-python",
   "name": "python",
   "nbconvert_exporter": "python",
   "pygments_lexer": "ipython3",
   "version": "3.6.1"
  }
 },
 "nbformat": 4,
 "nbformat_minor": 2
}
