{
 "cells": [
  {
   "cell_type": "markdown",
   "metadata": {},
   "source": [
    "**File Object**"
   ]
  },
  {
   "cell_type": "code",
   "execution_count": 1,
   "metadata": {},
   "outputs": [],
   "source": [
    "# r  = read\n",
    "# w  = write\n",
    "# a  = \n",
    "# r+ = "
   ]
  },
  {
   "cell_type": "markdown",
   "metadata": {},
   "source": [
    "**Method-1**"
   ]
  },
  {
   "cell_type": "code",
   "execution_count": 5,
   "metadata": {},
   "outputs": [
    {
     "name": "stdout",
     "output_type": "stream",
     "text": [
      "Name of the file : test.txt\n",
      "Mode of the file : r\n"
     ]
    }
   ],
   "source": [
    "f = open('test.txt', 'r')\n",
    "\n",
    "# print name of the file\n",
    "print(\"Name of the file :\", f.name)\n",
    "print(\"Mode of the file :\", f.mode)\n",
    "f.close() # always close the file"
   ]
  },
  {
   "cell_type": "markdown",
   "metadata": {},
   "source": [
    "**Method-2**"
   ]
  },
  {
   "cell_type": "code",
   "execution_count": 7,
   "metadata": {},
   "outputs": [
    {
     "name": "stdout",
     "output_type": "stream",
     "text": [
      "True\n"
     ]
    }
   ],
   "source": [
    "with open('test.txt', 'r') as f:\n",
    "    pass\n",
    "\n",
    "print(f.closed)"
   ]
  },
  {
   "cell_type": "code",
   "execution_count": 8,
   "metadata": {},
   "outputs": [
    {
     "ename": "ValueError",
     "evalue": "I/O operation on closed file.",
     "output_type": "error",
     "traceback": [
      "\u001b[1;31m---------------------------------------------------------------------------\u001b[0m",
      "\u001b[1;31mValueError\u001b[0m                                Traceback (most recent call last)",
      "\u001b[1;32m<ipython-input-8-315c20b774c2>\u001b[0m in \u001b[0;36m<module>\u001b[1;34m()\u001b[0m\n\u001b[1;32m----> 1\u001b[1;33m \u001b[0mprint\u001b[0m\u001b[1;33m(\u001b[0m\u001b[0mf\u001b[0m\u001b[1;33m.\u001b[0m\u001b[0mread\u001b[0m\u001b[1;33m(\u001b[0m\u001b[1;33m)\u001b[0m\u001b[1;33m)\u001b[0m\u001b[1;33m\u001b[0m\u001b[0m\n\u001b[0m",
      "\u001b[1;31mValueError\u001b[0m: I/O operation on closed file."
     ]
    }
   ],
   "source": [
    "print(f.read())"
   ]
  },
  {
   "cell_type": "code",
   "execution_count": 9,
   "metadata": {},
   "outputs": [
    {
     "name": "stdout",
     "output_type": "stream",
     "text": [
      "1) This is a test file\n",
      "2) With multiple lines of data..\n",
      "3) Third line\n",
      "4) Fourth line\n",
      "5) Fifth line\n",
      "6) Sixth line\n",
      "7) Seventh line\n",
      "8) Eighth line\n",
      "9) Ninth line\n",
      "10) Tenth line\n"
     ]
    }
   ],
   "source": [
    "with open('test.txt', 'r') as f:\n",
    "    f_content = f.read()\n",
    "    print(f_content)"
   ]
  },
  {
   "cell_type": "markdown",
   "metadata": {},
   "source": [
    "**Method-3**"
   ]
  },
  {
   "cell_type": "code",
   "execution_count": 11,
   "metadata": {},
   "outputs": [
    {
     "name": "stdout",
     "output_type": "stream",
     "text": [
      "1) This is a test file\n",
      "\n"
     ]
    }
   ],
   "source": [
    "with open('test.txt', 'r') as f:\n",
    "    f_content = f.readline() # readline grab the first line of the file\n",
    "    print(f_content)"
   ]
  },
  {
   "cell_type": "code",
   "execution_count": 12,
   "metadata": {},
   "outputs": [
    {
     "name": "stdout",
     "output_type": "stream",
     "text": [
      "['1) This is a test file\\n', '2) With multiple lines of data..\\n', '3) Third line\\n', '4) Fourth line\\n', '5) Fifth line\\n', '6) Sixth line\\n', '7) Seventh line\\n', '8) Eighth line\\n', '9) Ninth line\\n', '10) Tenth line']\n"
     ]
    }
   ],
   "source": [
    "with open('test.txt', 'r') as f:\n",
    "    f_content = f.readlines() # readlines grab the all line of the file\n",
    "    print(f_content)"
   ]
  },
  {
   "cell_type": "code",
   "execution_count": 13,
   "metadata": {},
   "outputs": [
    {
     "name": "stdout",
     "output_type": "stream",
     "text": [
      "1) This is a test file\n",
      "2) With multiple lines of data..\n"
     ]
    }
   ],
   "source": [
    "with open('test.txt', 'r') as f:\n",
    "    f_content = f.readline() # first line\n",
    "    print(f_content, end='')\n",
    "    \n",
    "    f_content = f.readline() # Second line\n",
    "    print(f_content, end='')"
   ]
  },
  {
   "cell_type": "code",
   "execution_count": 14,
   "metadata": {},
   "outputs": [
    {
     "name": "stdout",
     "output_type": "stream",
     "text": [
      "1) This is a test file\n",
      "2) With multiple lines of data..\n",
      "3) Third line\n",
      "4) Fourth line\n",
      "5) Fifth line\n",
      "6) Sixth line\n",
      "7) Seventh line\n",
      "8) Eighth line\n",
      "9) Ninth line\n",
      "10) Tenth line"
     ]
    }
   ],
   "source": [
    "with open('test.txt', 'r') as f:\n",
    "    for line in f:\n",
    "        print(line, end='')"
   ]
  },
  {
   "cell_type": "code",
   "execution_count": 15,
   "metadata": {},
   "outputs": [
    {
     "name": "stdout",
     "output_type": "stream",
     "text": [
      "1) This is a test file\n",
      "2) With multiple lines of data..\n",
      "3) Third line\n",
      "4) Fourth line\n",
      "5) Fifth line\n",
      "6) Sixth line\n",
      "7) Seventh line\n",
      "8) Eighth line\n",
      "9) Ninth line\n",
      "10) Tenth line"
     ]
    }
   ],
   "source": [
    "with open('test.txt', 'r') as f:\n",
    "    f_content = f.read()\n",
    "    print(f_content, end='')"
   ]
  },
  {
   "cell_type": "code",
   "execution_count": 16,
   "metadata": {},
   "outputs": [
    {
     "name": "stdout",
     "output_type": "stream",
     "text": [
      "1) This is a test file\n",
      "2) With multiple lines of data..\n",
      "3) Third line\n",
      "4) Fourth line\n",
      "5) Fifth line\n",
      "6\n"
     ]
    }
   ],
   "source": [
    "with open('test.txt', 'r') as f:\n",
    "    f_content = f.read(100) # read first 100 characters\n",
    "    print(f_content)"
   ]
  },
  {
   "cell_type": "code",
   "execution_count": 17,
   "metadata": {},
   "outputs": [
    {
     "name": "stdout",
     "output_type": "stream",
     "text": [
      "1) This is a test file\n",
      "2) With multiple lines of data..\n",
      "3) Third line\n",
      "4) Fourth line\n",
      "5) Fifth line\n",
      "6\n",
      ") Sixth line\n",
      "7) Seventh line\n",
      "8) Eighth line\n",
      "9) Ninth line\n",
      "10) Tenth line\n"
     ]
    }
   ],
   "source": [
    "with open('test.txt', 'r') as f:\n",
    "    f_content = f.read(100) # read first 100 characters\n",
    "    print(f_content)\n",
    "    \n",
    "    f_content = f.read(100) # next first 100 characters\n",
    "    print(f_content)"
   ]
  },
  {
   "cell_type": "markdown",
   "metadata": {},
   "source": [
    "**Read Large Files**"
   ]
  },
  {
   "cell_type": "code",
   "execution_count": 20,
   "metadata": {},
   "outputs": [
    {
     "name": "stdout",
     "output_type": "stream",
     "text": [
      "1) This is a test file\n",
      "2) With multiple lines of data..\n",
      "3) Third line\n",
      "4) Fourth line\n",
      "5) Fifth line\n",
      "6) Sixth line\n",
      "7) Seventh line\n",
      "8) Eighth line\n",
      "9) Ninth line\n",
      "10) Tenth line"
     ]
    }
   ],
   "source": [
    "with open('test.txt', 'r') as f:\n",
    "    \n",
    "    Size_to_read = 100\n",
    "    \n",
    "    f_content = f.read(Size_to_read)\n",
    "    \n",
    "    while len(f_content) > 0:\n",
    "        print(f_content, end='')\n",
    "        f_content = f.read(Size_to_read)"
   ]
  },
  {
   "cell_type": "code",
   "execution_count": 21,
   "metadata": {},
   "outputs": [
    {
     "name": "stdout",
     "output_type": "stream",
     "text": [
      "1) This is* a test fi*le\n",
      "2) With* multiple *lines of d*ata..\n",
      "3) T*hird line\n",
      "*4) Fourth *line\n",
      "5) Fi*fth line\n",
      "6*) Sixth li*ne\n",
      "7) Seve*nth line\n",
      "8*) Eighth l*ine\n",
      "9) Nin*th line\n",
      "10*) Tenth li*ne*"
     ]
    }
   ],
   "source": [
    "with open('test.txt', 'r') as f:\n",
    "    \n",
    "    Size_to_read = 10\n",
    "    \n",
    "    f_content = f.read(Size_to_read)\n",
    "    \n",
    "    while len(f_content) > 0:\n",
    "        print(f_content, end='*')\n",
    "        f_content = f.read(Size_to_read)"
   ]
  },
  {
   "cell_type": "code",
   "execution_count": 24,
   "metadata": {},
   "outputs": [
    {
     "name": "stdout",
     "output_type": "stream",
     "text": [
      "10\n"
     ]
    }
   ],
   "source": [
    "with open('test.txt', 'r') as f:\n",
    "    \n",
    "    Size_to_read = 10\n",
    "    \n",
    "    f_content = f.read(Size_to_read)\n",
    "    print(f.tell())\n",
    "    \n",
    "    #while len(f_content) > 0:\n",
    "    #    print(f_content, end='*')\n",
    "    #    f_content = f.read(Size_to_read)"
   ]
  },
  {
   "cell_type": "code",
   "execution_count": 25,
   "metadata": {},
   "outputs": [
    {
     "name": "stdout",
     "output_type": "stream",
     "text": [
      "1) This is a test fi\n"
     ]
    }
   ],
   "source": [
    "with open('test.txt', 'r') as f:\n",
    "    \n",
    "    Size_to_read = 10\n",
    "    \n",
    "    f_content = f.read(Size_to_read)\n",
    "    print(f_content, end='')\n",
    "    \n",
    "    f_content = f.read(Size_to_read)\n",
    "    print(f_content)\n",
    "    \n",
    "   # print(f.tell())\n",
    "    \n",
    "    #while len(f_content) > 0:\n",
    "    #    print(f_content, end='*')\n",
    "    #    f_content = f.read(Size_to_read)"
   ]
  },
  {
   "cell_type": "code",
   "execution_count": 26,
   "metadata": {},
   "outputs": [
    {
     "name": "stdout",
     "output_type": "stream",
     "text": [
      "1) This is1) This is\n"
     ]
    }
   ],
   "source": [
    "with open('test.txt', 'r') as f:\n",
    "    \n",
    "    Size_to_read = 10\n",
    "    \n",
    "    f_content = f.read(Size_to_read)\n",
    "    print(f_content, end='')\n",
    "    \n",
    "    f.seek(0)\n",
    "    \n",
    "    f_content = f.read(Size_to_read)\n",
    "    print(f_content)\n",
    "    \n",
    "   # print(f.tell())\n",
    "    \n",
    "    #while len(f_content) > 0:\n",
    "    #    print(f_content, end='*')\n",
    "    #    f_content = f.read(Size_to_read)"
   ]
  },
  {
   "cell_type": "code",
   "execution_count": 27,
   "metadata": {},
   "outputs": [
    {
     "ename": "UnsupportedOperation",
     "evalue": "not writable",
     "output_type": "error",
     "traceback": [
      "\u001b[1;31m---------------------------------------------------------------------------\u001b[0m",
      "\u001b[1;31mUnsupportedOperation\u001b[0m                      Traceback (most recent call last)",
      "\u001b[1;32m<ipython-input-27-be4e29f9b526>\u001b[0m in \u001b[0;36m<module>\u001b[1;34m()\u001b[0m\n\u001b[0;32m      1\u001b[0m \u001b[1;32mwith\u001b[0m \u001b[0mopen\u001b[0m\u001b[1;33m(\u001b[0m\u001b[1;34m'test.txt'\u001b[0m\u001b[1;33m,\u001b[0m \u001b[1;34m'r'\u001b[0m\u001b[1;33m)\u001b[0m \u001b[1;32mas\u001b[0m \u001b[0mf\u001b[0m\u001b[1;33m:\u001b[0m\u001b[1;33m\u001b[0m\u001b[0m\n\u001b[1;32m----> 2\u001b[1;33m     \u001b[0mf\u001b[0m\u001b[1;33m.\u001b[0m\u001b[0mwrite\u001b[0m\u001b[1;33m(\u001b[0m\u001b[1;34m'Test'\u001b[0m\u001b[1;33m)\u001b[0m\u001b[1;33m\u001b[0m\u001b[0m\n\u001b[0m",
      "\u001b[1;31mUnsupportedOperation\u001b[0m: not writable"
     ]
    }
   ],
   "source": [
    "with open('test.txt', 'r') as f:\n",
    "    f.write('Test')"
   ]
  },
  {
   "cell_type": "code",
   "execution_count": 30,
   "metadata": {},
   "outputs": [
    {
     "name": "stdout",
     "output_type": "stream",
     "text": [
      "Test\n"
     ]
    }
   ],
   "source": [
    "with open('test1.txt', 'w') as f:\n",
    "    f.write('Test')\n",
    "\n",
    "with open('test1.txt', 'r') as f:\n",
    "    print(f.read())"
   ]
  },
  {
   "cell_type": "code",
   "execution_count": 31,
   "metadata": {},
   "outputs": [
    {
     "name": "stdout",
     "output_type": "stream",
     "text": [
      "TestTest\n"
     ]
    }
   ],
   "source": [
    "with open('test1.txt', 'w') as f:\n",
    "    f.write('Test')\n",
    "    f.write('Test')\n",
    "\n",
    "\n",
    "with open('test1.txt', 'r') as f:\n",
    "    print(f.read())"
   ]
  },
  {
   "cell_type": "code",
   "execution_count": 34,
   "metadata": {},
   "outputs": [
    {
     "name": "stdout",
     "output_type": "stream",
     "text": [
      "Test\n"
     ]
    }
   ],
   "source": [
    "with open('test1.txt', 'w') as f:\n",
    "    f.write('Test')\n",
    "    f.seek(0) # seek() will overwrite the second text\n",
    "    f.write('Test')\n",
    "\n",
    "\n",
    "with open('test1.txt', 'r') as f:\n",
    "    print(f.read())"
   ]
  },
  {
   "cell_type": "code",
   "execution_count": 35,
   "metadata": {},
   "outputs": [
    {
     "name": "stdout",
     "output_type": "stream",
     "text": [
      "Rest\n"
     ]
    }
   ],
   "source": [
    "with open('test1.txt', 'w') as f:\n",
    "    f.write('Test')\n",
    "    f.seek(0) # seek() will overwrite the second text\n",
    "    f.write('R')\n",
    "\n",
    "\n",
    "with open('test1.txt', 'r') as f:\n",
    "    print(f.read())"
   ]
  },
  {
   "cell_type": "code",
   "execution_count": 40,
   "metadata": {},
   "outputs": [
    {
     "name": "stdout",
     "output_type": "stream",
     "text": [
      "1) This is a test file\n",
      "2) With multiple lines of data..\n",
      "3) Third line\n",
      "4) Fourth line\n",
      "5) Fifth line\n",
      "6) Sixth line\n",
      "7) Seventh line\n",
      "8) Eighth line\n",
      "9) Ninth line\n",
      "10) Tenth line\n"
     ]
    }
   ],
   "source": [
    "with open('test.txt', 'r') as rf: # rf: Read File\n",
    "    with open('test_copy.txt', 'w') as wf: # Wrting a copy\n",
    "        for line in rf:\n",
    "            wf.write(line)\n",
    "\n",
    "with open('test_copy.txt', 'r') as f:\n",
    "    print(f.read())"
   ]
  },
  {
   "cell_type": "markdown",
   "metadata": {},
   "source": [
    "**Wroking with Pictures**"
   ]
  },
  {
   "cell_type": "code",
   "execution_count": 43,
   "metadata": {},
   "outputs": [],
   "source": [
    "with open('covid19-cdc-unsplash.jpg', 'rb') as rf: # rf: Read File\n",
    "    with open('corona.jpg', 'wb') as wf: # Wrting a copy\n",
    "        for line in rf:\n",
    "            wf.write(line)"
   ]
  },
  {
   "cell_type": "code",
   "execution_count": 44,
   "metadata": {},
   "outputs": [],
   "source": [
    "with open('covid19-cdc-unsplash.jpg', 'rb') as rf: # rf: Read File\n",
    "    with open('corona.jpg', 'wb') as wf: # Wrting a copy\n",
    "        chunk_size = 4096\n",
    "        rf_chunk = rf.read(chunk_size)\n",
    "        while len(rf_chunk) > 0:\n",
    "            wf.write(rf_chunk)\n",
    "            rf_chunk = rf.read(chunk_size)"
   ]
  }
 ],
 "metadata": {
  "kernelspec": {
   "display_name": "Python 3",
   "language": "python",
   "name": "python3"
  },
  "language_info": {
   "codemirror_mode": {
    "name": "ipython",
    "version": 3
   },
   "file_extension": ".py",
   "mimetype": "text/x-python",
   "name": "python",
   "nbconvert_exporter": "python",
   "pygments_lexer": "ipython3",
   "version": "3.6.4"
  }
 },
 "nbformat": 4,
 "nbformat_minor": 2
}
