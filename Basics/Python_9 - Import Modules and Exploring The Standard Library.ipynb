{
 "cells": [
  {
   "cell_type": "markdown",
   "metadata": {},
   "source": [
    "**Method - 1**"
   ]
  },
  {
   "cell_type": "code",
   "execution_count": 4,
   "metadata": {},
   "outputs": [
    {
     "name": "stdout",
     "output_type": "stream",
     "text": [
      "3\n"
     ]
    }
   ],
   "source": [
    "# Find index in a list\n",
    "import findIndex\n",
    "\n",
    "employee = ['Id', 'Name', 'Exp', 'Location', 'Grade']\n",
    "\n",
    "index = findIndex.find_index(employee, 'Location')\n",
    "\n",
    "print(index)"
   ]
  },
  {
   "cell_type": "markdown",
   "metadata": {},
   "source": [
    "**Method - 2**"
   ]
  },
  {
   "cell_type": "code",
   "execution_count": 5,
   "metadata": {},
   "outputs": [
    {
     "name": "stdout",
     "output_type": "stream",
     "text": [
      "2\n"
     ]
    }
   ],
   "source": [
    "import findIndex as fi\n",
    "\n",
    "employee = ['Id', 'Name', 'Exp', 'Location', 'Grade']\n",
    "\n",
    "index = fi.find_index(employee, 'Exp')\n",
    "\n",
    "print(index)"
   ]
  },
  {
   "cell_type": "markdown",
   "metadata": {},
   "source": [
    "**Method - 3**"
   ]
  },
  {
   "cell_type": "code",
   "execution_count": 6,
   "metadata": {},
   "outputs": [
    {
     "name": "stdout",
     "output_type": "stream",
     "text": [
      "2\n"
     ]
    }
   ],
   "source": [
    "from findIndex import find_index\n",
    "\n",
    "employee = ['Id', 'Name', 'Exp', 'Location', 'Grade']\n",
    "\n",
    "index = find_index(employee, 'Exp')\n",
    "\n",
    "print(index)"
   ]
  },
  {
   "cell_type": "markdown",
   "metadata": {},
   "source": [
    "**Method - 3**"
   ]
  },
  {
   "cell_type": "code",
   "execution_count": 7,
   "metadata": {},
   "outputs": [
    {
     "name": "stdout",
     "output_type": "stream",
     "text": [
      "2\n",
      "Test String\n"
     ]
    }
   ],
   "source": [
    "from findIndex import find_index, test\n",
    "\n",
    "employee = ['Id', 'Name', 'Exp', 'Location', 'Grade']\n",
    "\n",
    "index = find_index(employee, 'Exp')\n",
    "\n",
    "print(index)\n",
    "print(test)"
   ]
  },
  {
   "cell_type": "markdown",
   "metadata": {},
   "source": [
    "**Method - 4**"
   ]
  },
  {
   "cell_type": "code",
   "execution_count": 8,
   "metadata": {},
   "outputs": [
    {
     "name": "stdout",
     "output_type": "stream",
     "text": [
      "2\n",
      "Test String\n"
     ]
    }
   ],
   "source": [
    "from findIndex import find_index as fi, test\n",
    "\n",
    "employee = ['Id', 'Name', 'Exp', 'Location', 'Grade']\n",
    "\n",
    "index = fi(employee, 'Exp')\n",
    "\n",
    "print(index)\n",
    "print(test)"
   ]
  },
  {
   "cell_type": "markdown",
   "metadata": {},
   "source": [
    "**Method - 5**\n",
    "This mothod is not a good idea to use.\n",
    "Because, unable to track the errors in this module"
   ]
  },
  {
   "cell_type": "code",
   "execution_count": 9,
   "metadata": {},
   "outputs": [
    {
     "name": "stdout",
     "output_type": "stream",
     "text": [
      "2\n",
      "Test String\n"
     ]
    }
   ],
   "source": [
    "from findIndex import *\n",
    "\n",
    "employee = ['Id', 'Name', 'Exp', 'Location', 'Grade']\n",
    "\n",
    "index = fi(employee, 'Exp')\n",
    "\n",
    "print(index)\n",
    "print(test)"
   ]
  },
  {
   "cell_type": "markdown",
   "metadata": {},
   "source": [
    "**Method - 1**"
   ]
  },
  {
   "cell_type": "code",
   "execution_count": 10,
   "metadata": {},
   "outputs": [
    {
     "name": "stdout",
     "output_type": "stream",
     "text": [
      "['', 'C:\\\\Users\\\\Maanvitha\\\\Anaconda3\\\\python36.zip', 'C:\\\\Users\\\\Maanvitha\\\\Anaconda3\\\\DLLs', 'C:\\\\Users\\\\Maanvitha\\\\Anaconda3\\\\lib', 'C:\\\\Users\\\\Maanvitha\\\\Anaconda3', 'C:\\\\Users\\\\Maanvitha\\\\Anaconda3\\\\lib\\\\site-packages', 'C:\\\\Users\\\\Maanvitha\\\\Anaconda3\\\\lib\\\\site-packages\\\\win32', 'C:\\\\Users\\\\Maanvitha\\\\Anaconda3\\\\lib\\\\site-packages\\\\win32\\\\lib', 'C:\\\\Users\\\\Maanvitha\\\\Anaconda3\\\\lib\\\\site-packages\\\\Pythonwin', 'C:\\\\Users\\\\Maanvitha\\\\Anaconda3\\\\lib\\\\site-packages\\\\IPython\\\\extensions', 'C:\\\\Users\\\\Maanvitha\\\\.ipython']\n"
     ]
    }
   ],
   "source": [
    "from findIndex import find_index, test\n",
    "import sys\n",
    "\n",
    "employee = ['Id', 'Name', 'Exp', 'Location', 'Grade']\n",
    "\n",
    "index = find_index(employee, 'Exp')\n",
    "\n",
    "#print(index)\n",
    "#print(test)\n",
    "\n",
    "print(sys.path)"
   ]
  },
  {
   "cell_type": "code",
   "execution_count": 1,
   "metadata": {},
   "outputs": [
    {
     "ename": "ModuleNotFoundError",
     "evalue": "No module named 'findIndex'",
     "output_type": "error",
     "traceback": [
      "\u001b[1;31m---------------------------------------------------------------------------\u001b[0m",
      "\u001b[1;31mModuleNotFoundError\u001b[0m                       Traceback (most recent call last)",
      "\u001b[1;32m<ipython-input-1-d4cbbff230aa>\u001b[0m in \u001b[0;36m<module>\u001b[1;34m()\u001b[0m\n\u001b[1;32m----> 1\u001b[1;33m \u001b[1;32mfrom\u001b[0m \u001b[0mfindIndex\u001b[0m \u001b[1;32mimport\u001b[0m \u001b[0mfind_index\u001b[0m\u001b[1;33m,\u001b[0m \u001b[0mtest\u001b[0m\u001b[1;33m\u001b[0m\u001b[0m\n\u001b[0m\u001b[0;32m      2\u001b[0m \u001b[1;32mimport\u001b[0m \u001b[0msys\u001b[0m\u001b[1;33m\u001b[0m\u001b[0m\n\u001b[0;32m      3\u001b[0m \u001b[1;33m\u001b[0m\u001b[0m\n\u001b[0;32m      4\u001b[0m \u001b[0memployee\u001b[0m \u001b[1;33m=\u001b[0m \u001b[1;33m[\u001b[0m\u001b[1;34m'Id'\u001b[0m\u001b[1;33m,\u001b[0m \u001b[1;34m'Name'\u001b[0m\u001b[1;33m,\u001b[0m \u001b[1;34m'Exp'\u001b[0m\u001b[1;33m,\u001b[0m \u001b[1;34m'Location'\u001b[0m\u001b[1;33m,\u001b[0m \u001b[1;34m'Grade'\u001b[0m\u001b[1;33m]\u001b[0m\u001b[1;33m\u001b[0m\u001b[0m\n\u001b[0;32m      5\u001b[0m \u001b[1;33m\u001b[0m\u001b[0m\n",
      "\u001b[1;31mModuleNotFoundError\u001b[0m: No module named 'findIndex'"
     ]
    }
   ],
   "source": [
    "from findIndex import find_index, test\n",
    "import sys\n",
    "\n",
    "employee = ['Id', 'Name', 'Exp', 'Location', 'Grade']\n",
    "\n",
    "index = find_index(employee, 'Exp')\n",
    "\n",
    "#print(index)\n",
    "#print(test)\n",
    "\n",
    "print(sys.path)"
   ]
  },
  {
   "cell_type": "markdown",
   "metadata": {},
   "source": [
    "**Method - 2**"
   ]
  },
  {
   "cell_type": "code",
   "execution_count": 4,
   "metadata": {},
   "outputs": [
    {
     "name": "stdout",
     "output_type": "stream",
     "text": [
      "Imported my_module\n",
      "['', 'C:\\\\Users\\\\Maanvitha\\\\Anaconda3\\\\python36.zip', 'C:\\\\Users\\\\Maanvitha\\\\Anaconda3\\\\DLLs', 'C:\\\\Users\\\\Maanvitha\\\\Anaconda3\\\\lib', 'C:\\\\Users\\\\Maanvitha\\\\Anaconda3', 'C:\\\\Users\\\\Maanvitha\\\\Anaconda3\\\\lib\\\\site-packages', 'C:\\\\Users\\\\Maanvitha\\\\Anaconda3\\\\lib\\\\site-packages\\\\win32', 'C:\\\\Users\\\\Maanvitha\\\\Anaconda3\\\\lib\\\\site-packages\\\\win32\\\\lib', 'C:\\\\Users\\\\Maanvitha\\\\Anaconda3\\\\lib\\\\site-packages\\\\Pythonwin', 'C:\\\\Users\\\\Maanvitha\\\\Anaconda3\\\\lib\\\\site-packages\\\\IPython\\\\extensions', 'C:\\\\Users\\\\Maanvitha\\\\.ipython', 'Users/Maanvitha/Documents/My-Modules', '../Users/Maanvitha/Documents/My-Modules', 'C:/Users/Maanvitha/Documents/My-Modules/']\n"
     ]
    }
   ],
   "source": [
    "import sys\n",
    "sys.path.append('C:/Users/Maanvitha/Documents/My-Modules/')\n",
    "\n",
    "from findIndex import find_index, test\n",
    "import sys\n",
    "\n",
    "employee = ['Id', 'Name', 'Exp', 'Location', 'Grade']\n",
    "\n",
    "index = find_index(employee, 'Exp')\n",
    "\n",
    "#print(index)\n",
    "#print(test)\n",
    "\n",
    "print(sys.path)"
   ]
  },
  {
   "cell_type": "code",
   "execution_count": 2,
   "metadata": {},
   "outputs": [
    {
     "name": "stdout",
     "output_type": "stream",
     "text": [
      "Name\n"
     ]
    }
   ],
   "source": [
    "import random\n",
    "\n",
    "employee = ['Id', 'Name', 'Exp', 'Location', 'Grade']\n",
    "\n",
    "random_eomployee = random.choice(employee)\n",
    "\n",
    "print(random_eomployee)"
   ]
  },
  {
   "cell_type": "code",
   "execution_count": 4,
   "metadata": {},
   "outputs": [
    {
     "name": "stdout",
     "output_type": "stream",
     "text": [
      "Id\n"
     ]
    }
   ],
   "source": [
    "import random\n",
    "\n",
    "employee = ['Id', 'Name', 'Exp', 'Location', 'Grade']\n",
    "\n",
    "random_eomployee = random.choice(employee)\n",
    "\n",
    "print(random_eomployee)"
   ]
  },
  {
   "cell_type": "code",
   "execution_count": 5,
   "metadata": {},
   "outputs": [
    {
     "name": "stdout",
     "output_type": "stream",
     "text": [
      "Grade\n"
     ]
    }
   ],
   "source": [
    "import random\n",
    "\n",
    "employee = ['Id', 'Name', 'Exp', 'Location', 'Grade']\n",
    "\n",
    "random_eomployee = random.choice(employee)\n",
    "\n",
    "print(random_eomployee)"
   ]
  },
  {
   "cell_type": "markdown",
   "metadata": {},
   "source": [
    "common Mathematical operations use standard library **'math'**"
   ]
  },
  {
   "cell_type": "code",
   "execution_count": 8,
   "metadata": {},
   "outputs": [
    {
     "name": "stdout",
     "output_type": "stream",
     "text": [
      "1.0\n"
     ]
    }
   ],
   "source": [
    "import math\n",
    "\n",
    "rad = math.radians(90)\n",
    "\n",
    "print(math.sin(rad))"
   ]
  },
  {
   "cell_type": "markdown",
   "metadata": {},
   "source": [
    "**datetime module**\n",
    "**calender module**"
   ]
  },
  {
   "cell_type": "code",
   "execution_count": 12,
   "metadata": {},
   "outputs": [
    {
     "name": "stdout",
     "output_type": "stream",
     "text": [
      "2020-04-06\n",
      "False\n"
     ]
    }
   ],
   "source": [
    "import datetime\n",
    "import calendar\n",
    "\n",
    "today = datetime.date.today()\n",
    "\n",
    "print(today)\n",
    "print(calendar.isleap(2017))"
   ]
  },
  {
   "cell_type": "code",
   "execution_count": 13,
   "metadata": {},
   "outputs": [
    {
     "name": "stdout",
     "output_type": "stream",
     "text": [
      "True\n"
     ]
    }
   ],
   "source": [
    "print(calendar.isleap(2020))"
   ]
  },
  {
   "cell_type": "markdown",
   "metadata": {},
   "source": [
    "**OS module**"
   ]
  },
  {
   "cell_type": "code",
   "execution_count": 14,
   "metadata": {},
   "outputs": [
    {
     "name": "stdout",
     "output_type": "stream",
     "text": [
      "C:\\Users\\Maanvitha\\Documents\\Python Scripts\n"
     ]
    }
   ],
   "source": [
    "import os\n",
    "print(os.getcwd())"
   ]
  },
  {
   "cell_type": "code",
   "execution_count": 15,
   "metadata": {},
   "outputs": [
    {
     "name": "stdout",
     "output_type": "stream",
     "text": [
      "C:\\Users\\Maanvitha\\Anaconda3\\lib\\os.py\n"
     ]
    }
   ],
   "source": [
    "print(os.__file__)"
   ]
  },
  {
   "cell_type": "code",
   "execution_count": 16,
   "metadata": {},
   "outputs": [],
   "source": [
    "import antigravity"
   ]
  }
 ],
 "metadata": {
  "kernelspec": {
   "display_name": "Python 3",
   "language": "python",
   "name": "python3"
  },
  "language_info": {
   "codemirror_mode": {
    "name": "ipython",
    "version": 3
   },
   "file_extension": ".py",
   "mimetype": "text/x-python",
   "name": "python",
   "nbconvert_exporter": "python",
   "pygments_lexer": "ipython3",
   "version": "3.6.4"
  }
 },
 "nbformat": 4,
 "nbformat_minor": 2
}
