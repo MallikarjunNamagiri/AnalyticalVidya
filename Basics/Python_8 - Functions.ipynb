{
 "cells": [
  {
   "cell_type": "code",
   "execution_count": 1,
   "metadata": {},
   "outputs": [],
   "source": [
    "def hello_fun():\n",
    "    pass"
   ]
  },
  {
   "cell_type": "code",
   "execution_count": 3,
   "metadata": {},
   "outputs": [
    {
     "name": "stdout",
     "output_type": "stream",
     "text": [
      "<function hello_fun at 0x0000000005CC9378>\n"
     ]
    }
   ],
   "source": [
    "print(hello_fun)"
   ]
  },
  {
   "cell_type": "code",
   "execution_count": 4,
   "metadata": {},
   "outputs": [
    {
     "name": "stdout",
     "output_type": "stream",
     "text": [
      "None\n"
     ]
    }
   ],
   "source": [
    "print(hello_fun())"
   ]
  },
  {
   "cell_type": "code",
   "execution_count": 5,
   "metadata": {},
   "outputs": [],
   "source": [
    "def hello_fun():\n",
    "    print(\"Hello World Function...!\")"
   ]
  },
  {
   "cell_type": "code",
   "execution_count": 6,
   "metadata": {},
   "outputs": [
    {
     "name": "stdout",
     "output_type": "stream",
     "text": [
      "Hello World Function...!\n"
     ]
    }
   ],
   "source": [
    "hello_fun()"
   ]
  },
  {
   "cell_type": "code",
   "execution_count": 8,
   "metadata": {},
   "outputs": [
    {
     "name": "stdout",
     "output_type": "stream",
     "text": [
      "Hello World Function!\n",
      "Hello World Function!\n",
      "Hello World Function!\n",
      "Hello World Function!\n"
     ]
    }
   ],
   "source": [
    "print(\"Hello World Function!\")\n",
    "print(\"Hello World Function!\")\n",
    "print(\"Hello World Function!\")\n",
    "print(\"Hello World Function!\")"
   ]
  },
  {
   "cell_type": "code",
   "execution_count": 10,
   "metadata": {},
   "outputs": [
    {
     "name": "stdout",
     "output_type": "stream",
     "text": [
      "Hello World Function!\n",
      "Hello World Function!\n",
      "Hello World Function!\n"
     ]
    }
   ],
   "source": [
    "def hello_fun():\n",
    "    print(\"Hello World Function!\")\n",
    "    \n",
    "hello_fun()\n",
    "hello_fun()\n",
    "hello_fun()"
   ]
  },
  {
   "cell_type": "code",
   "execution_count": 11,
   "metadata": {},
   "outputs": [
    {
     "name": "stdout",
     "output_type": "stream",
     "text": [
      "Hello World Function.\n",
      "Hello World Function.\n",
      "Hello World Function.\n"
     ]
    }
   ],
   "source": [
    "def hello_fun():\n",
    "    print(\"Hello World Function.\")\n",
    "\n",
    "hello_fun()\n",
    "hello_fun()\n",
    "hello_fun()"
   ]
  },
  {
   "cell_type": "code",
   "execution_count": 14,
   "metadata": {},
   "outputs": [
    {
     "data": {
      "text/plain": [
       "'Hello World Function!'"
      ]
     },
     "execution_count": 14,
     "metadata": {},
     "output_type": "execute_result"
    }
   ],
   "source": [
    "# return\n",
    "def hello_fun():\n",
    "    return \"Hello World Function!\"\n",
    "\n",
    "hello_fun()"
   ]
  },
  {
   "cell_type": "code",
   "execution_count": 15,
   "metadata": {},
   "outputs": [
    {
     "name": "stdout",
     "output_type": "stream",
     "text": [
      "4\n"
     ]
    }
   ],
   "source": [
    "# return\n",
    "def hello_fun():\n",
    "    return \"Hello World Function!\"\n",
    "\n",
    "#hello_fun()\n",
    "\n",
    "print(len('TEST'))"
   ]
  },
  {
   "cell_type": "code",
   "execution_count": 16,
   "metadata": {},
   "outputs": [
    {
     "name": "stdout",
     "output_type": "stream",
     "text": [
      "HELLO WORLD FUNCTION!\n"
     ]
    }
   ],
   "source": [
    "# Upper Method\n",
    "def hello_fun():\n",
    "    return \"Hello World Function!\"\n",
    "\n",
    "print(hello_fun().upper())"
   ]
  },
  {
   "cell_type": "code",
   "execution_count": 17,
   "metadata": {},
   "outputs": [
    {
     "name": "stdout",
     "output_type": "stream",
     "text": [
      "Hi Function.\n"
     ]
    }
   ],
   "source": [
    "# greeting is the python scope variable\n",
    "def hello_fun(greeting):\n",
    "    \n",
    "    return '{} Function.'.format(greeting)\n",
    "\n",
    "print(hello_fun('Hi'))"
   ]
  },
  {
   "cell_type": "code",
   "execution_count": 18,
   "metadata": {},
   "outputs": [
    {
     "name": "stdout",
     "output_type": "stream",
     "text": [
      "Hi, You\n"
     ]
    }
   ],
   "source": [
    "def hello_fun(greeting, name='You'):\n",
    "    \n",
    "    return '{}, {}'.format(greeting, name)\n",
    "\n",
    "print(hello_fun('Hi'))"
   ]
  },
  {
   "cell_type": "code",
   "execution_count": 19,
   "metadata": {},
   "outputs": [
    {
     "name": "stdout",
     "output_type": "stream",
     "text": [
      "Hi, Quorey\n"
     ]
    }
   ],
   "source": [
    "def hello_fun(greeting, name='You'):\n",
    "    \n",
    "    return '{}, {}'.format(greeting, name)\n",
    "\n",
    "print(hello_fun('Hi', name='Quorey'))"
   ]
  },
  {
   "cell_type": "code",
   "execution_count": 21,
   "metadata": {},
   "outputs": [
    {
     "name": "stdout",
     "output_type": "stream",
     "text": [
      "('Id', 'Location')\n",
      "{'name': 'Mallikharjun', 'Age': 34}\n"
     ]
    }
   ],
   "source": [
    "# stock with convensions\n",
    "def employee_info(*args, **kwargs):\n",
    "    print(args)\n",
    "    print(kwargs)\n",
    "\n",
    "employee_info('Id', 'Location', name='Mallikharjun', Age=34)"
   ]
  },
  {
   "cell_type": "code",
   "execution_count": 22,
   "metadata": {},
   "outputs": [
    {
     "name": "stdout",
     "output_type": "stream",
     "text": [
      "(['Id', 'Location'], {'name': 'Mallikharjun', 'Age': 34})\n",
      "{}\n"
     ]
    }
   ],
   "source": [
    "company = ['Id', 'Location']\n",
    "info = {'name': 'Mallikharjun', 'Age': 34}\n",
    "\n",
    "employee_info(company, info)"
   ]
  },
  {
   "cell_type": "code",
   "execution_count": 23,
   "metadata": {},
   "outputs": [
    {
     "name": "stdout",
     "output_type": "stream",
     "text": [
      "('Id', 'Location')\n",
      "{'name': 'Mallikharjun', 'Age': 34}\n"
     ]
    }
   ],
   "source": [
    "employee_info(*company, **info)"
   ]
  }
 ],
 "metadata": {
  "kernelspec": {
   "display_name": "Python 3",
   "language": "python",
   "name": "python3"
  },
  "language_info": {
   "codemirror_mode": {
    "name": "ipython",
    "version": 3
   },
   "file_extension": ".py",
   "mimetype": "text/x-python",
   "name": "python",
   "nbconvert_exporter": "python",
   "pygments_lexer": "ipython3",
   "version": "3.6.4"
  }
 },
 "nbformat": 4,
 "nbformat_minor": 2
}
