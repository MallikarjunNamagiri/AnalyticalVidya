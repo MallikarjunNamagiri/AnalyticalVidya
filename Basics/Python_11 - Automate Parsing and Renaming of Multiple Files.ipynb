{
 "cells": [
  {
   "cell_type": "markdown",
   "metadata": {},
   "source": [
    "**Automate the file system**"
   ]
  },
  {
   "cell_type": "code",
   "execution_count": 3,
   "metadata": {},
   "outputs": [],
   "source": [
    "import os\n",
    "\n",
    "os.chdir('/Users/Maanvitha/Videos/playlist')"
   ]
  },
  {
   "cell_type": "code",
   "execution_count": 4,
   "metadata": {},
   "outputs": [
    {
     "name": "stdout",
     "output_type": "stream",
     "text": [
      "C:\\Users\\Maanvitha\\Videos\\playlist\n"
     ]
    }
   ],
   "source": [
    "print(os.getcwd())"
   ]
  },
  {
   "cell_type": "code",
   "execution_count": 5,
   "metadata": {},
   "outputs": [
    {
     "name": "stdout",
     "output_type": "stream",
     "text": [
      "Gradient Descent - 1151632 - 009.mp4\n",
      "How do Neural Networks learn - 1151632 - 008.mp4\n",
      "How do Neural Networks work - 1151632 - 007.mp4\n",
      "How to get the dataset - 1151632 - 003.mp4\n",
      "Installing Python - 1151632 - 002.mp4\n",
      "Plan of Attack - 1151632 - 004.mp4\n",
      "Stochastic Gradient Descent - 1151632 - 010.mp4\n",
      "The Activation Function - 1151632 - 006.mp4\n",
      "The Neuron - 1151632 - 005.mp4\n",
      "What is Deep Learning - 1151632 - 001 .mp4\n"
     ]
    }
   ],
   "source": [
    "for f in os.listdir():\n",
    "    print(f)"
   ]
  },
  {
   "cell_type": "code",
   "execution_count": 9,
   "metadata": {},
   "outputs": [
    {
     "name": "stdout",
     "output_type": "stream",
     "text": [
      "('Gradient Descent - 1151632 - 009', '.mp4')\n",
      "('How do Neural Networks learn - 1151632 - 008', '.mp4')\n",
      "('How do Neural Networks work - 1151632 - 007', '.mp4')\n",
      "('How to get the dataset - 1151632 - 003', '.mp4')\n",
      "('Installing Python - 1151632 - 002', '.mp4')\n",
      "('Plan of Attack - 1151632 - 004', '.mp4')\n",
      "('Stochastic Gradient Descent - 1151632 - 010', '.mp4')\n",
      "('The Activation Function - 1151632 - 006', '.mp4')\n",
      "('The Neuron - 1151632 - 005', '.mp4')\n",
      "('What is Deep Learning - 1151632 - 001 ', '.mp4')\n"
     ]
    }
   ],
   "source": [
    "for f in os.listdir():\n",
    "    print(os.path.splitext(f))"
   ]
  },
  {
   "cell_type": "code",
   "execution_count": 10,
   "metadata": {},
   "outputs": [
    {
     "name": "stdout",
     "output_type": "stream",
     "text": [
      "Gradient Descent - 1151632 - 009\n",
      "How do Neural Networks learn - 1151632 - 008\n",
      "How do Neural Networks work - 1151632 - 007\n",
      "How to get the dataset - 1151632 - 003\n",
      "Installing Python - 1151632 - 002\n",
      "Plan of Attack - 1151632 - 004\n",
      "Stochastic Gradient Descent - 1151632 - 010\n",
      "The Activation Function - 1151632 - 006\n",
      "The Neuron - 1151632 - 005\n",
      "What is Deep Learning - 1151632 - 001 \n"
     ]
    }
   ],
   "source": [
    "for f in os.listdir():\n",
    "    filename, file_ext = os.path.splitext(f)\n",
    "    print(filename)"
   ]
  },
  {
   "cell_type": "code",
   "execution_count": 11,
   "metadata": {},
   "outputs": [
    {
     "name": "stdout",
     "output_type": "stream",
     "text": [
      "['Gradient Descent', '1151632', '009']\n",
      "['How do Neural Networks learn', '1151632', '008']\n",
      "['How do Neural Networks work', '1151632', '007']\n",
      "['How to get the dataset', '1151632', '003']\n",
      "['Installing Python', '1151632', '002']\n",
      "['Plan of Attack', '1151632', '004']\n",
      "['Stochastic Gradient Descent', '1151632', '010']\n",
      "['The Activation Function', '1151632', '006']\n",
      "['The Neuron', '1151632', '005']\n",
      "['What is Deep Learning', '1151632', '001 ']\n"
     ]
    }
   ],
   "source": [
    "for f in os.listdir():\n",
    "    filename, file_ext = os.path.splitext(f)\n",
    "    print(filename.split(' - '))"
   ]
  },
  {
   "cell_type": "code",
   "execution_count": 12,
   "metadata": {},
   "outputs": [
    {
     "name": "stdout",
     "output_type": "stream",
     "text": [
      " 009\n",
      " 008\n",
      " 007\n",
      " 003\n",
      " 002\n",
      " 004\n",
      " 010\n",
      " 006\n",
      " 005\n",
      " 001 \n"
     ]
    }
   ],
   "source": [
    "for f in os.listdir():\n",
    "    filename, file_ext = os.path.splitext(f)\n",
    "    f_title, f_course, f_num = filename.split('-')\n",
    "    print(f_num)"
   ]
  },
  {
   "cell_type": "code",
   "execution_count": 13,
   "metadata": {},
   "outputs": [
    {
     "name": "stdout",
     "output_type": "stream",
     "text": [
      " 1151632 - 009-Gradient Descent .mp4\n",
      " 1151632 - 008-How do Neural Networks learn .mp4\n",
      " 1151632 - 007-How do Neural Networks work .mp4\n",
      " 1151632 - 003-How to get the dataset .mp4\n",
      " 1151632 - 002-Installing Python .mp4\n",
      " 1151632 - 004-Plan of Attack .mp4\n",
      " 1151632 - 010-Stochastic Gradient Descent .mp4\n",
      " 1151632 - 006-The Activation Function .mp4\n",
      " 1151632 - 005-The Neuron .mp4\n",
      " 1151632 - 001 -What is Deep Learning .mp4\n"
     ]
    }
   ],
   "source": [
    "for f in os.listdir():\n",
    "    f_name, f_ext = os.path.splitext(f)\n",
    "    f_title, f_course, f_num = f_name.split('-')\n",
    "    # formatted string\n",
    "    #print('{}-{}-{}{}'.format(f_num, f_course, f_title, f_ext)) \n",
    "    print('{}-{}-{}{}'.format(f_course, f_num, f_title, f_ext)) "
   ]
  },
  {
   "cell_type": "code",
   "execution_count": 14,
   "metadata": {},
   "outputs": [
    {
     "name": "stdout",
     "output_type": "stream",
     "text": [
      "1151632-009-Gradient Descent.mp4\n",
      "1151632-008-How do Neural Networks learn.mp4\n",
      "1151632-007-How do Neural Networks work.mp4\n",
      "1151632-003-How to get the dataset.mp4\n",
      "1151632-002-Installing Python.mp4\n",
      "1151632-004-Plan of Attack.mp4\n",
      "1151632-010-Stochastic Gradient Descent.mp4\n",
      "1151632-006-The Activation Function.mp4\n",
      "1151632-005-The Neuron.mp4\n",
      "1151632-001-What is Deep Learning.mp4\n"
     ]
    }
   ],
   "source": [
    "for f in os.listdir():\n",
    "    f_name, f_ext = os.path.splitext(f)\n",
    "    f_title, f_course, f_num = f_name.split('-')\n",
    "    # Strip away the white spaces between the text\n",
    "    f_title = f_title.strip()\n",
    "    f_course = f_course.strip()\n",
    "    f_num = f_num.strip()\n",
    "    # formatted string\n",
    "    #print('{}-{}-{}{}'.format(f_num, f_course, f_title, f_ext)) \n",
    "    print('{}-{}-{}{}'.format(f_course, f_num, f_title, f_ext)) "
   ]
  },
  {
   "cell_type": "code",
   "execution_count": 15,
   "metadata": {},
   "outputs": [
    {
     "name": "stdout",
     "output_type": "stream",
     "text": [
      "1151632-09-Gradient Descent.mp4\n",
      "1151632-08-How do Neural Networks learn.mp4\n",
      "1151632-07-How do Neural Networks work.mp4\n",
      "1151632-03-How to get the dataset.mp4\n",
      "1151632-02-Installing Python.mp4\n",
      "1151632-04-Plan of Attack.mp4\n",
      "1151632-10-Stochastic Gradient Descent.mp4\n",
      "1151632-06-The Activation Function.mp4\n",
      "1151632-05-The Neuron.mp4\n",
      "1151632-01-What is Deep Learning.mp4\n"
     ]
    }
   ],
   "source": [
    "for f in os.listdir():\n",
    "    f_name, f_ext = os.path.splitext(f)\n",
    "    f_title, f_course, f_num = f_name.split('-')\n",
    "    # Strip away the white spaces between the text\n",
    "    f_title = f_title.strip()\n",
    "    f_course = f_course.strip()\n",
    "    f_num = f_num.strip()[1:] # removed first two digits\n",
    "    # formatted string\n",
    "    #print('{}-{}-{}{}'.format(f_num, f_course, f_title, f_ext)) \n",
    "    print('{}-{}-{}{}'.format(f_course, f_num, f_title, f_ext))"
   ]
  },
  {
   "cell_type": "code",
   "execution_count": 16,
   "metadata": {},
   "outputs": [
    {
     "name": "stdout",
     "output_type": "stream",
     "text": [
      "09-Gradient Descent.mp4\n",
      "08-How do Neural Networks learn.mp4\n",
      "07-How do Neural Networks work.mp4\n",
      "03-How to get the dataset.mp4\n",
      "02-Installing Python.mp4\n",
      "04-Plan of Attack.mp4\n",
      "10-Stochastic Gradient Descent.mp4\n",
      "06-The Activation Function.mp4\n",
      "05-The Neuron.mp4\n",
      "01-What is Deep Learning.mp4\n"
     ]
    }
   ],
   "source": [
    "for f in os.listdir():\n",
    "    f_name, f_ext = os.path.splitext(f)\n",
    "    f_title, f_course, f_num = f_name.split('-')\n",
    "    # Strip away the white spaces between the text\n",
    "    f_title = f_title.strip()\n",
    "    f_course = f_course.strip()\n",
    "    # removed first two digits\n",
    "    # Zero padding using zfill\n",
    "    f_num = f_num.strip()[1:].zfill(2)\n",
    "    # formatted string\n",
    "    #print('{}-{}-{}{}'.format(f_num, f_course, f_title, f_ext)) \n",
    "    print('{}-{}{}'.format(f_num, f_title, f_ext)) # take off the course name"
   ]
  },
  {
   "cell_type": "markdown",
   "metadata": {},
   "source": [
    "rename these files as output"
   ]
  },
  {
   "cell_type": "code",
   "execution_count": 17,
   "metadata": {},
   "outputs": [],
   "source": [
    "for f in os.listdir():\n",
    "    f_name, f_ext = os.path.splitext(f)\n",
    "    f_title, f_course, f_num = f_name.split('-')\n",
    "    # Strip away the white spaces between the text\n",
    "    f_title = f_title.strip()\n",
    "    f_course = f_course.strip()\n",
    "    # removed first two digits\n",
    "    # Zero padding using zfill\n",
    "    f_num = f_num.strip()[1:].zfill(2)\n",
    "    # formatted string\n",
    "    #print('{}-{}-{}{}'.format(f_num, f_course, f_title, f_ext)) \n",
    "    new_name = '{}-{}{}'.format(f_num, f_title, f_ext) # take off the course name\n",
    "    os.rename(f, new_name)"
   ]
  },
  {
   "cell_type": "code",
   "execution_count": 19,
   "metadata": {},
   "outputs": [
    {
     "name": "stdout",
     "output_type": "stream",
     "text": [
      "01-What is Deep Learning.mp4\n",
      "02-Installing Python.mp4\n",
      "03-How to get the dataset.mp4\n",
      "04-Plan of Attack.mp4\n",
      "05-The Neuron.mp4\n",
      "06-The Activation Function.mp4\n",
      "07-How do Neural Networks work.mp4\n",
      "08-How do Neural Networks learn.mp4\n",
      "09-Gradient Descent.mp4\n",
      "10-Stochastic Gradient Descent.mp4\n"
     ]
    }
   ],
   "source": [
    "for new in os.listdir():\n",
    "    print(new)"
   ]
  }
 ],
 "metadata": {
  "kernelspec": {
   "display_name": "Python 3",
   "language": "python",
   "name": "python3"
  },
  "language_info": {
   "codemirror_mode": {
    "name": "ipython",
    "version": 3
   },
   "file_extension": ".py",
   "mimetype": "text/x-python",
   "name": "python",
   "nbconvert_exporter": "python",
   "pygments_lexer": "ipython3",
   "version": "3.6.4"
  }
 },
 "nbformat": 4,
 "nbformat_minor": 2
}
