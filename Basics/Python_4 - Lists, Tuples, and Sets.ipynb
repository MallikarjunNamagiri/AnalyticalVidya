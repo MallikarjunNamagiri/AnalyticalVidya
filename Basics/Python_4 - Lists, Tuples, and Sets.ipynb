{
 "cells": [
  {
   "cell_type": "markdown",
   "metadata": {},
   "source": [
    "**Lists**"
   ]
  },
  {
   "cell_type": "code",
   "execution_count": 15,
   "metadata": {},
   "outputs": [
    {
     "name": "stdout",
     "output_type": "stream",
     "text": [
      "['Id', 'Name', 'Exp']\n"
     ]
    }
   ],
   "source": [
    "Employee = [\"Id\", \"Name\", \"Exp\"]\n",
    "print(Employee)"
   ]
  },
  {
   "cell_type": "code",
   "execution_count": 2,
   "metadata": {},
   "outputs": [
    {
     "name": "stdout",
     "output_type": "stream",
     "text": [
      "['Id', 'Name', 'Exp', 'Salary']\n"
     ]
    }
   ],
   "source": [
    "# Add new item to Employee list\n",
    "Employee.append(\"Salary\")\n",
    "print(Employee)"
   ]
  },
  {
   "cell_type": "code",
   "execution_count": 2,
   "metadata": {},
   "outputs": [
    {
     "name": "stdout",
     "output_type": "stream",
     "text": [
      "['Salary', 'Id', 'Name', 'Exp']\n"
     ]
    }
   ],
   "source": [
    "# add new item in perticular index \n",
    "Employee.insert(0, \"Salary\")\n",
    "print(Employee)"
   ]
  },
  {
   "cell_type": "code",
   "execution_count": 3,
   "metadata": {},
   "outputs": [
    {
     "name": "stdout",
     "output_type": "stream",
     "text": [
      "[['Location', 'Grade'], 'Id', 'Name', 'Exp']\n"
     ]
    }
   ],
   "source": [
    "# Insert the values from the list\n",
    "# list in a list\n",
    "Employee_2 =[\"Location\", \"Grade\"]\n",
    "Employee.insert(0, Employee_2)\n",
    "print(Employee)"
   ]
  },
  {
   "cell_type": "code",
   "execution_count": 4,
   "metadata": {},
   "outputs": [
    {
     "name": "stdout",
     "output_type": "stream",
     "text": [
      "['Location', 'Grade']\n"
     ]
    }
   ],
   "source": [
    "print(Employee[0])"
   ]
  },
  {
   "cell_type": "code",
   "execution_count": 2,
   "metadata": {},
   "outputs": [
    {
     "name": "stdout",
     "output_type": "stream",
     "text": [
      "['Id', 'Name', 'Exp', ['Location', 'Grade']]\n"
     ]
    }
   ],
   "source": [
    "# append the values from the list\n",
    "Employee_2 =[\"Location\", \"Grade\"]\n",
    "Employee.append(Employee_2)\n",
    "print(Employee)"
   ]
  },
  {
   "cell_type": "code",
   "execution_count": 16,
   "metadata": {},
   "outputs": [
    {
     "name": "stdout",
     "output_type": "stream",
     "text": [
      "['Id', 'Name', 'Exp', 'Location', 'Grade']\n"
     ]
    }
   ],
   "source": [
    "# alternative for append to avoid list in the list use extend\n",
    "# Extend the values from the list\n",
    "Employee_2 =[\"Location\", \"Grade\"]\n",
    "Employee.extend(Employee_2)\n",
    "print(Employee)"
   ]
  },
  {
   "cell_type": "code",
   "execution_count": 3,
   "metadata": {},
   "outputs": [
    {
     "name": "stdout",
     "output_type": "stream",
     "text": [
      "['Id', 'Name', 'Location', 'Grade']\n"
     ]
    }
   ],
   "source": [
    "# Remove value from the list\n",
    "Employee.remove(\"Exp\")\n",
    "print(Employee)"
   ]
  },
  {
   "cell_type": "code",
   "execution_count": 3,
   "metadata": {},
   "outputs": [
    {
     "name": "stdout",
     "output_type": "stream",
     "text": [
      "Grade\n",
      "['Id', 'Name', 'Exp', 'Location']\n"
     ]
    }
   ],
   "source": [
    "# pop is the way to remove the value from the list\n",
    "# it will remove the last value of the list\n",
    "popped = Employee.pop()\n",
    "print(popped)\n",
    "print(Employee)"
   ]
  },
  {
   "cell_type": "code",
   "execution_count": 4,
   "metadata": {},
   "outputs": [
    {
     "data": {
      "text/plain": [
       "['Id', 'Name']"
      ]
     },
     "execution_count": 4,
     "metadata": {},
     "output_type": "execute_result"
    }
   ],
   "source": [
    "# select first two values from the list\n",
    "Employee[:2]"
   ]
  },
  {
   "cell_type": "code",
   "execution_count": 5,
   "metadata": {},
   "outputs": [
    {
     "data": {
      "text/plain": [
       "['Exp', 'Location']"
      ]
     },
     "execution_count": 5,
     "metadata": {},
     "output_type": "execute_result"
    }
   ],
   "source": [
    "# select last two values from the list\n",
    "Employee[2:]"
   ]
  },
  {
   "cell_type": "markdown",
   "metadata": {},
   "source": [
    "**Sorting**"
   ]
  },
  {
   "cell_type": "code",
   "execution_count": 4,
   "metadata": {},
   "outputs": [
    {
     "name": "stdout",
     "output_type": "stream",
     "text": [
      "['Name', 'Location', 'Id', 'Grade', 'Exp']\n"
     ]
    }
   ],
   "source": [
    "Employee.sort(reverse=True)\n",
    "print(Employee)"
   ]
  },
  {
   "cell_type": "code",
   "execution_count": 5,
   "metadata": {},
   "outputs": [
    {
     "name": "stdout",
     "output_type": "stream",
     "text": [
      "[5, 4, 3, 2, 1]\n"
     ]
    }
   ],
   "source": [
    "num = [5, 3, 4, 1, 2]\n",
    "num.sort(reverse=True)\n",
    "print(num)"
   ]
  },
  {
   "cell_type": "code",
   "execution_count": 6,
   "metadata": {},
   "outputs": [
    {
     "name": "stdout",
     "output_type": "stream",
     "text": [
      "[1, 2, 3, 4, 5]\n"
     ]
    }
   ],
   "source": [
    "num.sort(reverse=False)\n",
    "print(num)"
   ]
  },
  {
   "cell_type": "code",
   "execution_count": 10,
   "metadata": {},
   "outputs": [
    {
     "name": "stdout",
     "output_type": "stream",
     "text": [
      "['Id', 'Name', 'Exp', 'Location', 'Grade']\n"
     ]
    }
   ],
   "source": [
    "sorted(Employee)\n",
    "print(Employee)"
   ]
  },
  {
   "cell_type": "code",
   "execution_count": 11,
   "metadata": {},
   "outputs": [
    {
     "name": "stdout",
     "output_type": "stream",
     "text": [
      "['Exp', 'Grade', 'Id', 'Location', 'Name']\n"
     ]
    }
   ],
   "source": [
    "sorted_Employee = sorted(Employee)\n",
    "print(sorted_Employee)"
   ]
  },
  {
   "cell_type": "code",
   "execution_count": 12,
   "metadata": {},
   "outputs": [
    {
     "name": "stdout",
     "output_type": "stream",
     "text": [
      "1\n"
     ]
    }
   ],
   "source": [
    "print(min(num))"
   ]
  },
  {
   "cell_type": "code",
   "execution_count": 13,
   "metadata": {},
   "outputs": [
    {
     "name": "stdout",
     "output_type": "stream",
     "text": [
      "5\n"
     ]
    }
   ],
   "source": [
    "print(max(num))"
   ]
  },
  {
   "cell_type": "code",
   "execution_count": 14,
   "metadata": {},
   "outputs": [
    {
     "name": "stdout",
     "output_type": "stream",
     "text": [
      "15\n"
     ]
    }
   ],
   "source": [
    "print(sum(num))"
   ]
  },
  {
   "cell_type": "code",
   "execution_count": 17,
   "metadata": {},
   "outputs": [
    {
     "name": "stdout",
     "output_type": "stream",
     "text": [
      "3\n"
     ]
    }
   ],
   "source": [
    "# Find the index of the certain value\n",
    "print(Employee.index('Location'))"
   ]
  },
  {
   "cell_type": "code",
   "execution_count": 18,
   "metadata": {},
   "outputs": [
    {
     "name": "stdout",
     "output_type": "stream",
     "text": [
      "False\n"
     ]
    }
   ],
   "source": [
    "print('Salary' in Employee)"
   ]
  },
  {
   "cell_type": "code",
   "execution_count": 20,
   "metadata": {},
   "outputs": [
    {
     "name": "stdout",
     "output_type": "stream",
     "text": [
      "True\n"
     ]
    }
   ],
   "source": [
    "print('Id' in Employee)"
   ]
  },
  {
   "cell_type": "code",
   "execution_count": 21,
   "metadata": {},
   "outputs": [
    {
     "name": "stdout",
     "output_type": "stream",
     "text": [
      "Id\n",
      "Name\n",
      "Exp\n",
      "Location\n",
      "Grade\n"
     ]
    }
   ],
   "source": [
    "for item in Employee:\n",
    "    print(item) # item is here namelsee, we can use any name"
   ]
  },
  {
   "cell_type": "code",
   "execution_count": 22,
   "metadata": {},
   "outputs": [
    {
     "name": "stdout",
     "output_type": "stream",
     "text": [
      "0 Id\n",
      "1 Name\n",
      "2 Exp\n",
      "3 Location\n",
      "4 Grade\n"
     ]
    }
   ],
   "source": [
    "# enumerate function : \n",
    "for index, item in enumerate(Employee):\n",
    "    print(index, item)"
   ]
  },
  {
   "cell_type": "code",
   "execution_count": 23,
   "metadata": {},
   "outputs": [
    {
     "name": "stdout",
     "output_type": "stream",
     "text": [
      "1 Id\n",
      "2 Name\n",
      "3 Exp\n",
      "4 Location\n",
      "5 Grade\n"
     ]
    }
   ],
   "source": [
    "# Start argument : \n",
    "for index, item in enumerate(Employee, start=1):\n",
    "    print(index, item)"
   ]
  },
  {
   "cell_type": "markdown",
   "metadata": {},
   "source": [
    "**Convert list into String**"
   ]
  },
  {
   "cell_type": "code",
   "execution_count": 24,
   "metadata": {},
   "outputs": [
    {
     "name": "stdout",
     "output_type": "stream",
     "text": [
      "Id, Name, Exp, Location, Grade\n"
     ]
    }
   ],
   "source": [
    "employee_str = ', '.join(Employee)\n",
    "print(employee_str)"
   ]
  },
  {
   "cell_type": "code",
   "execution_count": 26,
   "metadata": {},
   "outputs": [
    {
     "name": "stdout",
     "output_type": "stream",
     "text": [
      "Id - Name - Exp - Location - Grade\n"
     ]
    }
   ],
   "source": [
    "employee_str = ' - '.join(Employee)\n",
    "print(employee_str)"
   ]
  },
  {
   "cell_type": "code",
   "execution_count": 27,
   "metadata": {},
   "outputs": [
    {
     "name": "stdout",
     "output_type": "stream",
     "text": [
      "Id - Name - Exp - Location - Grade\n",
      "['Id', 'Name', 'Exp', 'Location', 'Grade']\n"
     ]
    }
   ],
   "source": [
    "employee_str = ' - '.join(Employee)\n",
    "employee_list = employee_str.split(' - ')\n",
    "print(employee_str)\n",
    "print(employee_list)"
   ]
  },
  {
   "cell_type": "markdown",
   "metadata": {},
   "source": [
    "**TUPLES**\n",
    "    - Lists are mutable\n",
    "    - Tuples are Immutable"
   ]
  },
  {
   "cell_type": "code",
   "execution_count": 28,
   "metadata": {},
   "outputs": [
    {
     "name": "stdout",
     "output_type": "stream",
     "text": [
      "['Id', 'Name', 'Exp', 'Location', 'Grade']\n",
      "['Id', 'Name', 'Exp', 'Location', 'Grade']\n"
     ]
    }
   ],
   "source": [
    "list_1 = ['Id', 'Name', 'Exp', 'Location', 'Grade']\n",
    "list_2 = list_1\n",
    "\n",
    "print(list_1)\n",
    "print(list_2)"
   ]
  },
  {
   "cell_type": "code",
   "execution_count": 31,
   "metadata": {},
   "outputs": [
    {
     "name": "stdout",
     "output_type": "stream",
     "text": [
      "['Id', 'Name', 'Exp', 'Location', 'Salary']\n",
      "['Id', 'Name', 'Exp', 'Location', 'Salary']\n"
     ]
    }
   ],
   "source": [
    "list_1[4] = 'Salary'\n",
    "print(list_1)\n",
    "print(list_2)"
   ]
  },
  {
   "cell_type": "markdown",
   "metadata": {},
   "source": [
    "4th index value is changed to \"Salary\" because list is **mutable**"
   ]
  },
  {
   "cell_type": "markdown",
   "metadata": {},
   "source": [
    "**Immutable**"
   ]
  },
  {
   "cell_type": "code",
   "execution_count": 2,
   "metadata": {},
   "outputs": [
    {
     "name": "stdout",
     "output_type": "stream",
     "text": [
      "('Id', 'Name', 'Exp', 'Location', 'Grade')\n",
      "('Id', 'Name', 'Exp', 'Location', 'Grade')\n"
     ]
    }
   ],
   "source": [
    "tuple1 = ('Id', 'Name', 'Exp', 'Location', 'Grade')\n",
    "tuple2 = tuple1\n",
    "\n",
    "print(tuple1)\n",
    "print(tuple2)"
   ]
  },
  {
   "cell_type": "code",
   "execution_count": 3,
   "metadata": {},
   "outputs": [
    {
     "ename": "TypeError",
     "evalue": "'tuple' object does not support item assignment",
     "output_type": "error",
     "traceback": [
      "\u001b[1;31m---------------------------------------------------------------------------\u001b[0m",
      "\u001b[1;31mTypeError\u001b[0m                                 Traceback (most recent call last)",
      "\u001b[1;32m<ipython-input-3-5f27edeb347e>\u001b[0m in \u001b[0;36m<module>\u001b[1;34m()\u001b[0m\n\u001b[1;32m----> 1\u001b[1;33m \u001b[0mtuple1\u001b[0m\u001b[1;33m[\u001b[0m\u001b[1;36m4\u001b[0m\u001b[1;33m]\u001b[0m \u001b[1;33m=\u001b[0m \u001b[1;34m'Salary'\u001b[0m\u001b[1;33m\u001b[0m\u001b[0m\n\u001b[0m\u001b[0;32m      2\u001b[0m \u001b[1;33m\u001b[0m\u001b[0m\n\u001b[0;32m      3\u001b[0m \u001b[0mprint\u001b[0m\u001b[1;33m(\u001b[0m\u001b[0mtuple1\u001b[0m\u001b[1;33m)\u001b[0m\u001b[1;33m\u001b[0m\u001b[0m\n\u001b[0;32m      4\u001b[0m \u001b[0mprint\u001b[0m\u001b[1;33m(\u001b[0m\u001b[0mtuple2\u001b[0m\u001b[1;33m)\u001b[0m\u001b[1;33m\u001b[0m\u001b[0m\n",
      "\u001b[1;31mTypeError\u001b[0m: 'tuple' object does not support item assignment"
     ]
    }
   ],
   "source": [
    "tuple1[4] = 'Salary'\n",
    "\n",
    "print(tuple1)\n",
    "print(tuple2)"
   ]
  },
  {
   "cell_type": "markdown",
   "metadata": {},
   "source": [
    "**Sets**"
   ]
  },
  {
   "cell_type": "code",
   "execution_count": 17,
   "metadata": {},
   "outputs": [
    {
     "name": "stdout",
     "output_type": "stream",
     "text": [
      "{'Grade', 'Name', 'Location', 'Id', 'Exp'}\n"
     ]
    }
   ],
   "source": [
    "employee = {'Id', 'Name', 'Exp', 'Location', 'Grade'}\n",
    "print(employee)"
   ]
  },
  {
   "cell_type": "code",
   "execution_count": 15,
   "metadata": {},
   "outputs": [
    {
     "name": "stdout",
     "output_type": "stream",
     "text": [
      "{'Grade', 'Name', 'Location', 'Id', 'Exp'}\n"
     ]
    }
   ],
   "source": [
    "print(employee)"
   ]
  },
  {
   "cell_type": "code",
   "execution_count": 18,
   "metadata": {},
   "outputs": [
    {
     "name": "stdout",
     "output_type": "stream",
     "text": [
      "{'Grade', 'Name', 'Location', 'Salary', 'Id', 'Exp'}\n"
     ]
    }
   ],
   "source": [
    "employee = {'Id', 'Name', 'Exp', 'Location', 'Grade', 'Salary'}\n",
    "print(employee)"
   ]
  },
  {
   "cell_type": "code",
   "execution_count": 19,
   "metadata": {},
   "outputs": [
    {
     "name": "stdout",
     "output_type": "stream",
     "text": [
      "{'Id', 'Exp', 'Name'}\n"
     ]
    }
   ],
   "source": [
    "per_employee = {'Id', 'Name', 'Exp', 'Location', 'Grade'}\n",
    "con_employee = {'Id', 'Name', 'Exp', 'Promoted', 'Salary'}\n",
    "print(per_employee.intersection(con_employee)) # intersection"
   ]
  },
  {
   "cell_type": "code",
   "execution_count": 20,
   "metadata": {},
   "outputs": [
    {
     "name": "stdout",
     "output_type": "stream",
     "text": [
      "{'Grade', 'Location'}\n"
     ]
    }
   ],
   "source": [
    "per_employee = {'Id', 'Name', 'Exp', 'Location', 'Grade'}\n",
    "con_employee = {'Id', 'Name', 'Exp', 'Promoted', 'Salary'}\n",
    "print(per_employee.difference(con_employee)) # difference"
   ]
  },
  {
   "cell_type": "code",
   "execution_count": 21,
   "metadata": {},
   "outputs": [
    {
     "name": "stdout",
     "output_type": "stream",
     "text": [
      "{'Grade', 'Name', 'Location', 'Salary', 'Id', 'Promoted', 'Exp'}\n"
     ]
    }
   ],
   "source": [
    "per_employee = {'Id', 'Name', 'Exp', 'Location', 'Grade'}\n",
    "con_employee = {'Id', 'Name', 'Exp', 'Promoted', 'Salary'}\n",
    "print(per_employee.union(con_employee)) # union"
   ]
  },
  {
   "cell_type": "code",
   "execution_count": 22,
   "metadata": {},
   "outputs": [],
   "source": [
    "# Emplty Lists\n",
    "empty_list = []\n",
    "empty_list = list()\n",
    "\n",
    "# Empty Tuples\n",
    "empty_tuple = ()\n",
    "empty_tuple = tuple()\n",
    "\n",
    "# Empty Sets\n",
    "empty_sets = {}\n",
    "empty_sets = set()"
   ]
  }
 ],
 "metadata": {
  "kernelspec": {
   "display_name": "Python 3",
   "language": "python",
   "name": "python3"
  },
  "language_info": {
   "codemirror_mode": {
    "name": "ipython",
    "version": 3
   },
   "file_extension": ".py",
   "mimetype": "text/x-python",
   "name": "python",
   "nbconvert_exporter": "python",
   "pygments_lexer": "ipython3",
   "version": "3.6.4"
  }
 },
 "nbformat": 4,
 "nbformat_minor": 2
}
