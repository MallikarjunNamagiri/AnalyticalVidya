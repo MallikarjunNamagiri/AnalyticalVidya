{
 "cells": [
  {
   "cell_type": "code",
   "execution_count": 1,
   "metadata": {},
   "outputs": [
    {
     "name": "stdout",
     "output_type": "stream",
     "text": [
      "['DirEntry', 'F_OK', 'MutableMapping', 'O_APPEND', 'O_BINARY', 'O_CREAT', 'O_EXCL', 'O_NOINHERIT', 'O_RANDOM', 'O_RDONLY', 'O_RDWR', 'O_SEQUENTIAL', 'O_SHORT_LIVED', 'O_TEMPORARY', 'O_TEXT', 'O_TRUNC', 'O_WRONLY', 'P_DETACH', 'P_NOWAIT', 'P_NOWAITO', 'P_OVERLAY', 'P_WAIT', 'PathLike', 'R_OK', 'SEEK_CUR', 'SEEK_END', 'SEEK_SET', 'TMP_MAX', 'W_OK', 'X_OK', '_Environ', '__all__', '__builtins__', '__cached__', '__doc__', '__file__', '__loader__', '__name__', '__package__', '__spec__', '_execvpe', '_exists', '_exit', '_fspath', '_get_exports_list', '_putenv', '_unsetenv', '_wrap_close', 'abc', 'abort', 'access', 'altsep', 'chdir', 'chmod', 'close', 'closerange', 'cpu_count', 'curdir', 'defpath', 'device_encoding', 'devnull', 'dup', 'dup2', 'environ', 'errno', 'error', 'execl', 'execle', 'execlp', 'execlpe', 'execv', 'execve', 'execvp', 'execvpe', 'extsep', 'fdopen', 'fsdecode', 'fsencode', 'fspath', 'fstat', 'fsync', 'ftruncate', 'get_exec_path', 'get_handle_inheritable', 'get_inheritable', 'get_terminal_size', 'getcwd', 'getcwdb', 'getenv', 'getlogin', 'getpid', 'getppid', 'isatty', 'kill', 'linesep', 'link', 'listdir', 'lseek', 'lstat', 'makedirs', 'mkdir', 'name', 'open', 'pardir', 'path', 'pathsep', 'pipe', 'popen', 'putenv', 'read', 'readlink', 'remove', 'removedirs', 'rename', 'renames', 'replace', 'rmdir', 'scandir', 'sep', 'set_handle_inheritable', 'set_inheritable', 'spawnl', 'spawnle', 'spawnv', 'spawnve', 'st', 'startfile', 'stat', 'stat_float_times', 'stat_result', 'statvfs_result', 'strerror', 'supports_bytes_environ', 'supports_dir_fd', 'supports_effective_ids', 'supports_fd', 'supports_follow_symlinks', 'symlink', 'sys', 'system', 'terminal_size', 'times', 'times_result', 'truncate', 'umask', 'uname_result', 'unlink', 'urandom', 'utime', 'waitpid', 'walk', 'write']\n"
     ]
    }
   ],
   "source": [
    "import os\n",
    "\n",
    "print(dir(os))"
   ]
  },
  {
   "cell_type": "code",
   "execution_count": 2,
   "metadata": {},
   "outputs": [
    {
     "name": "stdout",
     "output_type": "stream",
     "text": [
      "C:\\Users\\Maanvitha\\Documents\\Python Scripts\n"
     ]
    }
   ],
   "source": [
    "print(os.getcwd()) # Get Current Working Directory"
   ]
  },
  {
   "cell_type": "code",
   "execution_count": 5,
   "metadata": {},
   "outputs": [
    {
     "name": "stdout",
     "output_type": "stream",
     "text": [
      "C:\\Users\\Maanvitha\\Documents\n"
     ]
    }
   ],
   "source": [
    "os.chdir('/Users/Maanvitha/Documents/') # Change Directory\n",
    "print(os.getcwd())"
   ]
  },
  {
   "cell_type": "code",
   "execution_count": 6,
   "metadata": {},
   "outputs": [
    {
     "name": "stdout",
     "output_type": "stream",
     "text": [
      "['.hello.txt.un~', 'desktop.ini', 'hello.txt', 'My Music', 'My Pictures', 'My Videos', 'My-Modules', 'mysql', 'Python Scripts']\n"
     ]
    }
   ],
   "source": [
    "print(os.listdir()) # List Directory"
   ]
  },
  {
   "cell_type": "markdown",
   "metadata": {},
   "source": [
    "**Create a Folder/Sub Folder**"
   ]
  },
  {
   "cell_type": "code",
   "execution_count": 7,
   "metadata": {},
   "outputs": [
    {
     "name": "stdout",
     "output_type": "stream",
     "text": [
      "['.hello.txt.un~', 'Demo-Folder-1', 'desktop.ini', 'hello.txt', 'My Music', 'My Pictures', 'My Videos', 'My-Modules', 'mysql', 'Python Scripts']\n"
     ]
    }
   ],
   "source": [
    "os.mkdir('Demo-Folder-1') # Create a folder\n",
    "print(os.listdir())"
   ]
  },
  {
   "cell_type": "code",
   "execution_count": 9,
   "metadata": {},
   "outputs": [
    {
     "name": "stdout",
     "output_type": "stream",
     "text": [
      "['.hello.txt.un~', 'Demo-Folder-1', 'desktop.ini', 'hello.txt', 'My Music', 'My Pictures', 'My Videos', 'My-Modules', 'mysql', 'Python Scripts']\n"
     ]
    }
   ],
   "source": [
    "os.makedirs('Demo-Folder-1/Sub-Folder-1') # Create a folder & Sub Folder\n",
    "print(os.listdir())"
   ]
  },
  {
   "cell_type": "markdown",
   "metadata": {},
   "source": [
    "**Delete/Remove a Folder/Sub Folder**"
   ]
  },
  {
   "cell_type": "code",
   "execution_count": 10,
   "metadata": {},
   "outputs": [
    {
     "name": "stdout",
     "output_type": "stream",
     "text": [
      "['.hello.txt.un~', 'desktop.ini', 'hello.txt', 'My Music', 'My Pictures', 'My Videos', 'My-Modules', 'mysql', 'Python Scripts']\n"
     ]
    }
   ],
   "source": [
    "#os.rmdir('Demo-Folder-1') # Remove/Delete a folder\n",
    "os.removedirs('Demo-Folder-1/Sub-Folder-1') # Remove/Delete a folder & Sub Folder\n",
    "print(os.listdir())"
   ]
  },
  {
   "cell_type": "markdown",
   "metadata": {},
   "source": [
    "**Rename a Folder/Sub Folder**"
   ]
  },
  {
   "cell_type": "code",
   "execution_count": 11,
   "metadata": {},
   "outputs": [
    {
     "name": "stdout",
     "output_type": "stream",
     "text": [
      "['.hello.txt.un~', 'Bluetooth Exchange Folder', 'demo.txt', 'desktop.ini', 'My Music', 'My Pictures', 'My Videos', 'My-Modules', 'mysql', 'Python Scripts']\n"
     ]
    }
   ],
   "source": [
    "os.rename('hello.txt', 'demo.txt')\n",
    "print(os.listdir())"
   ]
  },
  {
   "cell_type": "markdown",
   "metadata": {},
   "source": [
    "**Information about the file**"
   ]
  },
  {
   "cell_type": "code",
   "execution_count": 13,
   "metadata": {},
   "outputs": [
    {
     "name": "stdout",
     "output_type": "stream",
     "text": [
      "os.stat_result(st_mode=33206, st_ino=1407374883772360, st_dev=2865977866, st_nlink=1, st_uid=0, st_gid=0, st_size=58, st_atime=1585448301, st_mtime=1585448301, st_ctime=1585448301)\n"
     ]
    }
   ],
   "source": [
    "print(os.stat('demo.txt')) # Info about the file"
   ]
  },
  {
   "cell_type": "code",
   "execution_count": 17,
   "metadata": {},
   "outputs": [
    {
     "name": "stdout",
     "output_type": "stream",
     "text": [
      "Size of the file :  58\n",
      "Last Modificaiton with time-stamps :  1585448301.2927375\n"
     ]
    }
   ],
   "source": [
    "print('Size of the file : ', os.stat('demo.txt').st_size)\n",
    "print('Last Modificaiton with time-stamps : ', os.stat('demo.txt').st_mtime)"
   ]
  },
  {
   "cell_type": "markdown",
   "metadata": {},
   "source": [
    "**Display time-stamps in date time format**"
   ]
  },
  {
   "cell_type": "code",
   "execution_count": 19,
   "metadata": {},
   "outputs": [
    {
     "name": "stdout",
     "output_type": "stream",
     "text": [
      "2020-03-29 07:48:21.292737\n"
     ]
    }
   ],
   "source": [
    "import os\n",
    "from datetime import datetime\n",
    "\n",
    "mode_time = os.stat('demo.txt').st_mtime\n",
    "print(datetime.fromtimestamp(mode_time))"
   ]
  },
  {
   "cell_type": "markdown",
   "metadata": {},
   "source": [
    "**Directry Tree**"
   ]
  },
  {
   "cell_type": "code",
   "execution_count": 22,
   "metadata": {},
   "outputs": [
    {
     "name": "stdout",
     "output_type": "stream",
     "text": [
      "Current Path: /Users/Maanvitha/Documents/\n",
      "Directories: ['Bluetooth Exchange Folder', 'My Music', 'My Pictures', 'My Videos', 'My-Modules', 'mysql', 'Python Scripts']\n",
      "Files: ['.hello.txt.un~', 'demo.txt', 'desktop.ini']\n",
      "\n",
      "Current Path: /Users/Maanvitha/Documents/Bluetooth Exchange Folder\n",
      "Directories: []\n",
      "Files: []\n",
      "\n",
      "Current Path: /Users/Maanvitha/Documents/My-Modules\n",
      "Directories: ['__pycache__']\n",
      "Files: ['findIndex.py']\n",
      "\n",
      "Current Path: /Users/Maanvitha/Documents/My-Modules\\__pycache__\n",
      "Directories: []\n",
      "Files: ['findIndex.cpython-36.pyc']\n",
      "\n",
      "Current Path: /Users/Maanvitha/Documents/mysql\n",
      "Directories: ['.ipynb_checkpoints']\n",
      "Files: ['helloworld.py', 'mydb.py', 'Primary Key.ipynb', 'Untitled.ipynb']\n",
      "\n",
      "Current Path: /Users/Maanvitha/Documents/mysql\\.ipynb_checkpoints\n",
      "Directories: []\n",
      "Files: ['Primary Key-checkpoint.ipynb', 'Untitled-checkpoint.ipynb']\n",
      "\n",
      "Current Path: /Users/Maanvitha/Documents/Python Scripts\n",
      "Directories: ['.ipynb_checkpoints', '__pycache__']\n",
      "Files: ['Employee.py', 'Python_4 - Lists, Tuples, and Sets.ipynb', 'Python_5 - Dictionaries - Working with Key-Value Pairs.ipynb', 'Python_6 - Conditionals and Booleans - If, Else, and Elif Statements.ipynb', 'Python_7 - Loops and Iterations - For_While Loops.ipynb', 'Python_8 - Functions.ipynb', 'Python_8.1-Functions.ipynb', 'Python_8.1-Functions.py', 'Python_9 - Import Modules and Exploring The Standard Library.ipynb', 'Python_9.1- OS Module - Use Underlying Operating System Functionality.ipynb']\n",
      "\n",
      "Current Path: /Users/Maanvitha/Documents/Python Scripts\\.ipynb_checkpoints\n",
      "Directories: []\n",
      "Files: ['Python_4 - Lists, Tuples, and Sets-checkpoint.ipynb', 'Python_5 - Dictionaries - Working with Key-Value Pairs-checkpoint.ipynb', 'Python_6 - Conditionals and Booleans - If, Else, and Elif Statements-checkpoint.ipynb', 'Python_7 - Loops and Iterations - For_While Loops-checkpoint.ipynb', 'Python_8 - Functions-checkpoint.ipynb', 'Python_8.1-Functions-checkpoint.ipynb', 'Python_9 - Import Modules and Exploring The Standard Library-checkpoint.ipynb', 'Python_9.1- OS Module - Use Underlying Operating System Functionality-checkpoint.ipynb']\n",
      "\n",
      "Current Path: /Users/Maanvitha/Documents/Python Scripts\\__pycache__\n",
      "Directories: []\n",
      "Files: ['findIndex.cpython-36.pyc']\n",
      "\n"
     ]
    }
   ],
   "source": [
    "for dirpath, dirnames, filenames in os.walk('/Users/Maanvitha/Documents/'):\n",
    "    print('Current Path:', dirpath)\n",
    "    print('Directories:', dirnames)\n",
    "    print('Files:', filenames)\n",
    "    print()"
   ]
  },
  {
   "cell_type": "markdown",
   "metadata": {},
   "source": [
    "**HOME** is for MAC users\n",
    "\n",
    "**USERPROFILE** for Windows users"
   ]
  },
  {
   "cell_type": "code",
   "execution_count": 7,
   "metadata": {},
   "outputs": [
    {
     "name": "stdout",
     "output_type": "stream",
     "text": [
      "C:\\Users\\Maanvitha\n"
     ]
    }
   ],
   "source": [
    "import os\n",
    "\n",
    "print(os.environ.get('USERPROFILE'))"
   ]
  },
  {
   "cell_type": "code",
   "execution_count": 8,
   "metadata": {},
   "outputs": [
    {
     "name": "stdout",
     "output_type": "stream",
     "text": [
      "C:\\Users\\Maanvitha\\test.txt\n"
     ]
    }
   ],
   "source": [
    "file_path = os.path.join(os.environ.get('USERPROFILE'), 'test.txt')\n",
    "print(file_path)"
   ]
  },
  {
   "cell_type": "code",
   "execution_count": 9,
   "metadata": {},
   "outputs": [
    {
     "name": "stdout",
     "output_type": "stream",
     "text": [
      "test.txt\n"
     ]
    }
   ],
   "source": [
    "print(os.path.basename('/tmp/test.txt'))"
   ]
  },
  {
   "cell_type": "code",
   "execution_count": 10,
   "metadata": {},
   "outputs": [
    {
     "name": "stdout",
     "output_type": "stream",
     "text": [
      "/tmp\n"
     ]
    }
   ],
   "source": [
    "print(os.path.dirname('/tmp/test.txt'))"
   ]
  },
  {
   "cell_type": "code",
   "execution_count": 11,
   "metadata": {},
   "outputs": [
    {
     "name": "stdout",
     "output_type": "stream",
     "text": [
      "('/tmp', 'test.txt')\n"
     ]
    }
   ],
   "source": [
    "print(os.path.split('/tmp/test.txt'))"
   ]
  },
  {
   "cell_type": "code",
   "execution_count": 12,
   "metadata": {},
   "outputs": [
    {
     "name": "stdout",
     "output_type": "stream",
     "text": [
      "False\n"
     ]
    }
   ],
   "source": [
    "print(os.path.exists('/tmp/test.txt'))"
   ]
  },
  {
   "cell_type": "code",
   "execution_count": 14,
   "metadata": {},
   "outputs": [
    {
     "ename": "SyntaxError",
     "evalue": "unexpected EOF while parsing (<ipython-input-14-899d1fb9c34e>, line 1)",
     "output_type": "error",
     "traceback": [
      "\u001b[1;36m  File \u001b[1;32m\"<ipython-input-14-899d1fb9c34e>\"\u001b[1;36m, line \u001b[1;32m1\u001b[0m\n\u001b[1;33m    print(os.path.isdir('/tmp/asdf')\u001b[0m\n\u001b[1;37m                                    ^\u001b[0m\n\u001b[1;31mSyntaxError\u001b[0m\u001b[1;31m:\u001b[0m unexpected EOF while parsing\n"
     ]
    }
   ],
   "source": [
    "print(os.path.isdir('/tmp/asdf')"
   ]
  },
  {
   "cell_type": "code",
   "execution_count": 15,
   "metadata": {},
   "outputs": [
    {
     "ename": "SyntaxError",
     "evalue": "unexpected EOF while parsing (<ipython-input-15-300f239d2b2c>, line 1)",
     "output_type": "error",
     "traceback": [
      "\u001b[1;36m  File \u001b[1;32m\"<ipython-input-15-300f239d2b2c>\"\u001b[1;36m, line \u001b[1;32m1\u001b[0m\n\u001b[1;33m    print(os.path.isfile('/tmp/asdf')\u001b[0m\n\u001b[1;37m                                     ^\u001b[0m\n\u001b[1;31mSyntaxError\u001b[0m\u001b[1;31m:\u001b[0m unexpected EOF while parsing\n"
     ]
    }
   ],
   "source": [
    "print(os.path.isfile('/tmp/asdf')"
   ]
  },
  {
   "cell_type": "code",
   "execution_count": 16,
   "metadata": {},
   "outputs": [
    {
     "name": "stdout",
     "output_type": "stream",
     "text": [
      "('/tmp/test', '.txt')\n"
     ]
    }
   ],
   "source": [
    "print(os.path.splitext('/tmp/test.txt')) # split the file without extension"
   ]
  }
 ],
 "metadata": {
  "kernelspec": {
   "display_name": "Python 3",
   "language": "python",
   "name": "python3"
  },
  "language_info": {
   "codemirror_mode": {
    "name": "ipython",
    "version": 3
   },
   "file_extension": ".py",
   "mimetype": "text/x-python",
   "name": "python",
   "nbconvert_exporter": "python",
   "pygments_lexer": "ipython3",
   "version": "3.6.4"
  }
 },
 "nbformat": 4,
 "nbformat_minor": 2
}
