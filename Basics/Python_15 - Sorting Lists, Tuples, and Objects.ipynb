{
 "cells": [
  {
   "cell_type": "code",
   "execution_count": 1,
   "metadata": {},
   "outputs": [
    {
     "name": "stdout",
     "output_type": "stream",
     "text": [
      "Sorted Variable:\t [1, 2, 3, 4, 5, 6, 7, 8, 9]\n",
      "Original Variable:\t [9, 1, 8, 2, 7, 3, 6, 4, 5]\n"
     ]
    }
   ],
   "source": [
    "li = [9, 1, 8, 2, 7, 3, 6, 4, 5]\n",
    "\n",
    "s_li = sorted(li)\n",
    "\n",
    "print('Sorted Variable:\\t', s_li)\n",
    "print('Original Variable:\\t', li)"
   ]
  },
  {
   "cell_type": "code",
   "execution_count": 2,
   "metadata": {},
   "outputs": [
    {
     "name": "stdout",
     "output_type": "stream",
     "text": [
      "Sorted Variable:\t [1, 2, 3, 4, 5, 6, 7, 8, 9]\n",
      "Original Variable:\t [1, 2, 3, 4, 5, 6, 7, 8, 9]\n"
     ]
    }
   ],
   "source": [
    "li = [9, 1, 8, 2, 7, 3, 6, 4, 5]\n",
    "\n",
    "s_li = sorted(li)\n",
    "\n",
    "print('Sorted Variable:\\t', s_li)\n",
    "\n",
    "li.sort()\n",
    "\n",
    "print('Original Variable:\\t', li)"
   ]
  },
  {
   "cell_type": "code",
   "execution_count": 4,
   "metadata": {},
   "outputs": [
    {
     "name": "stdout",
     "output_type": "stream",
     "text": [
      "Sorted Variable:\t [9, 8, 7, 6, 5, 4, 3, 2, 1]\n",
      "Original Variable:\t [9, 8, 7, 6, 5, 4, 3, 2, 1]\n"
     ]
    }
   ],
   "source": [
    "li = [9, 1, 8, 2, 7, 3, 6, 4, 5]\n",
    "\n",
    "s_li = sorted(li, reverse=True)\n",
    "\n",
    "print('Sorted Variable:\\t', s_li)\n",
    "\n",
    "li.sort(reverse=True)\n",
    "\n",
    "print('Original Variable:\\t', li)"
   ]
  },
  {
   "cell_type": "code",
   "execution_count": 6,
   "metadata": {},
   "outputs": [
    {
     "name": "stdout",
     "output_type": "stream",
     "text": [
      "Tuple\t [1, 2, 3, 4, 5, 6, 7, 8, 9]\n"
     ]
    }
   ],
   "source": [
    "tup = (9, 1, 8, 2, 7, 3, 6, 4, 5)\n",
    "s_tup = sorted(tup)\n",
    "print('Tuple\\t', s_tup)"
   ]
  },
  {
   "cell_type": "code",
   "execution_count": 7,
   "metadata": {},
   "outputs": [
    {
     "name": "stdout",
     "output_type": "stream",
     "text": [
      "Dict\t ['age', 'job', 'name', 'os']\n"
     ]
    }
   ],
   "source": [
    "di = {'name': 'Mallikarjun', 'job': 'Programmer', 'age': 35, 'os': 'Ubuntu'}\n",
    "s_di = sorted(di)\n",
    "print('Dict\\t', s_di)"
   ]
  },
  {
   "cell_type": "code",
   "execution_count": 8,
   "metadata": {},
   "outputs": [
    {
     "name": "stdout",
     "output_type": "stream",
     "text": [
      "[-6, -5, -4, 1, 2, 3]\n"
     ]
    }
   ],
   "source": [
    "li = [-6, -5, -4, 1, 2 ,3]\n",
    "s_li = sorted(li)\n",
    "print(s_li)"
   ]
  },
  {
   "cell_type": "code",
   "execution_count": 9,
   "metadata": {},
   "outputs": [
    {
     "name": "stdout",
     "output_type": "stream",
     "text": [
      "[1, 2, 3, -4, -5, -6]\n"
     ]
    }
   ],
   "source": [
    "li = [-6, -5, -4, 1, 2 ,3]\n",
    "s_li = sorted(li, key=abs) # absolute\n",
    "print(s_li)"
   ]
  },
  {
   "cell_type": "code",
   "execution_count": 10,
   "metadata": {},
   "outputs": [
    {
     "ename": "TypeError",
     "evalue": "'<' not supported between instances of 'Employee' and 'Employee'",
     "output_type": "error",
     "traceback": [
      "\u001b[0;31m---------------------------------------------------------------------------\u001b[0m",
      "\u001b[0;31mTypeError\u001b[0m                                 Traceback (most recent call last)",
      "\u001b[0;32m<ipython-input-10-146bde76f4eb>\u001b[0m in \u001b[0;36m<module>\u001b[0;34m\u001b[0m\n\u001b[1;32m     14\u001b[0m \u001b[0memployees\u001b[0m \u001b[0;34m=\u001b[0m \u001b[0;34m[\u001b[0m\u001b[0me1\u001b[0m\u001b[0;34m,\u001b[0m \u001b[0me2\u001b[0m\u001b[0;34m,\u001b[0m \u001b[0me3\u001b[0m\u001b[0;34m]\u001b[0m\u001b[0;34m\u001b[0m\u001b[0;34m\u001b[0m\u001b[0m\n\u001b[1;32m     15\u001b[0m \u001b[0;34m\u001b[0m\u001b[0m\n\u001b[0;32m---> 16\u001b[0;31m \u001b[0ms_employees\u001b[0m \u001b[0;34m=\u001b[0m \u001b[0msorted\u001b[0m\u001b[0;34m(\u001b[0m\u001b[0memployees\u001b[0m\u001b[0;34m)\u001b[0m\u001b[0;34m\u001b[0m\u001b[0;34m\u001b[0m\u001b[0m\n\u001b[0m",
      "\u001b[0;31mTypeError\u001b[0m: '<' not supported between instances of 'Employee' and 'Employee'"
     ]
    }
   ],
   "source": [
    "class Employee():\n",
    "    def __init__(self, name, age, salary):\n",
    "        self.name = name\n",
    "        self.age = age\n",
    "        self.salary = salary\n",
    "    \n",
    "    def __repr__(self):\n",
    "        return '({},{},${})'.format(self.name, self.age, self.salary)\n",
    "\n",
    "e1 = Employee('Malli', 35, 20000)\n",
    "e2 = Employee('Peter', 39, 70000)\n",
    "e3 = Employee('Srini', 37, 50000)\n",
    "\n",
    "employees = [e1, e2, e3]\n",
    "\n",
    "s_employees = sorted(employees)\n"
   ]
  },
  {
   "cell_type": "code",
   "execution_count": 12,
   "metadata": {},
   "outputs": [
    {
     "name": "stdout",
     "output_type": "stream",
     "text": [
      "[(Malli,35,$20000), (Peter,39,$70000), (Srini,37,$50000)]\n"
     ]
    }
   ],
   "source": [
    "class Employee():\n",
    "    def __init__(self, name, age, salary):\n",
    "        self.name = name\n",
    "        self.age = age\n",
    "        self.salary = salary\n",
    "    \n",
    "    def __repr__(self):\n",
    "        return '({},{},${})'.format(self.name, self.age, self.salary)\n",
    "\n",
    "e1 = Employee('Malli', 35, 20000)\n",
    "e2 = Employee('Peter', 39, 70000)\n",
    "e3 = Employee('Srini', 37, 50000)\n",
    "\n",
    "employees = [e1, e2, e3]\n",
    "\n",
    "def e_sort(emp):\n",
    "    return emp.name\n",
    "\n",
    "s_employees = sorted(employees, key=e_sort)\n",
    "\n",
    "print(s_employees)\n"
   ]
  },
  {
   "cell_type": "code",
   "execution_count": 13,
   "metadata": {},
   "outputs": [
    {
     "name": "stdout",
     "output_type": "stream",
     "text": [
      "[(Malli,35,$20000), (Srini,37,$50000), (Peter,39,$70000)]\n"
     ]
    }
   ],
   "source": [
    "class Employee():\n",
    "    def __init__(self, name, age, salary):\n",
    "        self.name = name\n",
    "        self.age = age\n",
    "        self.salary = salary\n",
    "    \n",
    "    def __repr__(self):\n",
    "        return '({},{},${})'.format(self.name, self.age, self.salary)\n",
    "\n",
    "e1 = Employee('Malli', 35, 20000)\n",
    "e2 = Employee('Peter', 39, 70000)\n",
    "e3 = Employee('Srini', 37, 50000)\n",
    "\n",
    "employees = [e1, e2, e3]\n",
    "\n",
    "def e_sort(emp):\n",
    "    return emp.salary\n",
    "\n",
    "s_employees = sorted(employees, key=e_sort, reverse=True) # Descending order \n",
    "\n",
    "print(s_employees)\n"
   ]
  },
  {
   "cell_type": "code",
   "execution_count": 14,
   "metadata": {},
   "outputs": [
    {
     "name": "stdout",
     "output_type": "stream",
     "text": [
      "[(Srini,37,$50000), (Peter,39,$70000), (Malli,35,$20000)]\n"
     ]
    }
   ],
   "source": [
    "class Employee():\n",
    "    def __init__(self, name, age, salary):\n",
    "        self.name = name\n",
    "        self.age = age\n",
    "        self.salary = salary\n",
    "    \n",
    "    def __repr__(self):\n",
    "        return '({},{},${})'.format(self.name, self.age, self.salary)\n",
    "\n",
    "e1 = Employee('Malli', 35, 20000)\n",
    "e2 = Employee('Peter', 39, 70000)\n",
    "e3 = Employee('Srini', 37, 50000)\n",
    "\n",
    "employees = [e1, e2, e3]\n",
    "\n",
    "#def e_sort(emp):\n",
    "#    return emp.salary\n",
    "\n",
    "s_employees = sorted(employees, key=lambda e: e.name, reverse=True) # using lambda function\n",
    "\n",
    "print(s_employees)\n"
   ]
  },
  {
   "cell_type": "code",
   "execution_count": 17,
   "metadata": {},
   "outputs": [
    {
     "name": "stdout",
     "output_type": "stream",
     "text": [
      "[(Malli,35,$20000), (Srini,37,$50000), (Peter,39,$70000)]\n"
     ]
    }
   ],
   "source": [
    "class Employee():\n",
    "    def __init__(self, name, age, salary):\n",
    "        self.name = name\n",
    "        self.age = age\n",
    "        self.salary = salary\n",
    "    \n",
    "    def __repr__(self):\n",
    "        return '({},{},${})'.format(self.name, self.age, self.salary)\n",
    "\n",
    "from operator import attrgetter\n",
    "\n",
    "e1 = Employee('Malli', 35, 20000)\n",
    "e2 = Employee('Peter', 39, 70000)\n",
    "e3 = Employee('Srini', 37, 50000)\n",
    "\n",
    "employees = [e1, e2, e3]\n",
    "\n",
    "#def e_sort(emp):\n",
    "#    return emp.salary\n",
    "\n",
    "s_employees = sorted(employees, key=attrgetter('age')) # using lambda function\n",
    "\n",
    "print(s_employees)\n"
   ]
  }
 ],
 "metadata": {
  "kernelspec": {
   "display_name": "datascience_devenv",
   "language": "python",
   "name": "datascience_devenv"
  },
  "language_info": {
   "codemirror_mode": {
    "name": "ipython",
    "version": 3
   },
   "file_extension": ".py",
   "mimetype": "text/x-python",
   "name": "python",
   "nbconvert_exporter": "python",
   "pygments_lexer": "ipython3",
   "version": "3.7.7"
  }
 },
 "nbformat": 4,
 "nbformat_minor": 4
}
